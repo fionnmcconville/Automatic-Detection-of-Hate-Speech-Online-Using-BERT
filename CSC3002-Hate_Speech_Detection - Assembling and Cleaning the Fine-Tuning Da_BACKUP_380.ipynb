<<<<<<< HEAD
{"nbformat":4,"nbformat_minor":0,"metadata":{"kernelspec":{"name":"python3","display_name":"Python 3"},"language_info":{"codemirror_mode":{"name":"ipython","version":3},"file_extension":".py","mimetype":"text/x-python","name":"python","nbconvert_exporter":"python","pygments_lexer":"ipython3","version":"3.6.5"},"colab":{"name":"CSC3002-Hate_Speech_Detection - Assembling and Cleaning the Fine-Tuning Da.ipynb","provenance":[],"collapsed_sections":["EBG60vQdVYd8","6oLEoTvKVYeT","7l7cPt46VYeW","Z5nZV--fVYed","Mw49lB2ZVYef","xexknIQhsgbj","SSD7yEDSVYep","MOef3TgNVYey","4b5zsVOTVYe2","5K3m1UzSVYe7","Qn-4ujf7VYfN","uS0e3H-qVYfU","fG8yOZYJVYfZ","vnKkVumQVYfe"]},"accelerator":"GPU"},"cells":[{"cell_type":"markdown","metadata":{"id":"1xli8JKieayQ","colab_type":"text"},"source":["<a href=\"https://colab.research.google.com/github/kpe/bert-for-tf2/blob/master/examples/tpu_movie_reviews.ipynb\" target=\"_parent\"><img src=\"https://colab.research.google.com/assets/colab-badge.svg\" alt=\"Open In Colab\"/></a>"]},{"cell_type":"markdown","metadata":{"id":"aAVCDrFrYnIo","colab_type":"text"},"source":["# Assembling, Inspecting and Cleaning the Data for my Hate Speech Detection Model\n","This is the initial stage of my project where I will assemble as much hate speech data as possible to fine-tune the pre-trained BERT model so that it can accurately classify hate speech on twitter.\n","\n","I hope below I have demonstrated that I've taken great care in choosing what data I decide to train my model, as I've manually inspected the data sources online and decided for myself, (as well as having the informal help of my friends), whether a dataset has accurately annotated for hate speech or not. \n","\n","I've been careful to do this because I didn't want to confuse my model by providing it with vastly differing interpretations of what constitutes hate speech - also I'm aware that while the need for accurate hate speech detection online is very important, many online have lamentated the over-zealous nature of social media companies curtailing free speech and punishing users for speech that is offensive - but not hate speech under common law. therefore I've been cautious to try and limit false positive annotation in my data."]},{"cell_type":"code","metadata":{"id":"rAprOhDQVYdi","colab_type":"code","outputId":"bcbb19b9-3d62-4a7f-c05b-5ac24a34d417","executionInfo":{"status":"ok","timestamp":1578418272594,"user_tz":0,"elapsed":5818,"user":{"displayName":"Fionn McConville","photoUrl":"https://lh3.googleusercontent.com/a-/AAuE7mDQ4Te6RRh1B7ENukR6-4xoNAaV2ajfGgNpCD6y=s64","userId":"01326935138765014160"}},"colab":{"base_uri":"https://localhost:8080/","height":401}},"source":["import pandas as pd\n","import json\n","import csv\n","import tweepy\n","import os\n","import numpy as np\n","from google.colab import auth\n","%pip install gcsfs\n","pd.set_option('display.max_colwidth', -1)\n"],"execution_count":0,"outputs":[{"output_type":"stream","text":["Collecting gcsfs\n","  Downloading https://files.pythonhosted.org/packages/3e/9f/864a9ff497ed4ba12502c4037db8c66fde0049d9dd0388bd55b67e5c4249/gcsfs-0.6.0-py2.py3-none-any.whl\n","Requirement already satisfied: google-auth>=1.2 in /usr/local/lib/python3.6/dist-packages (from gcsfs) (1.4.2)\n","Requirement already satisfied: google-auth-oauthlib in /usr/local/lib/python3.6/dist-packages (from gcsfs) (0.4.1)\n","Requirement already satisfied: decorator in /usr/local/lib/python3.6/dist-packages (from gcsfs) (4.4.1)\n","Requirement already satisfied: fsspec>=0.6.0 in /usr/local/lib/python3.6/dist-packages (from gcsfs) (0.6.2)\n","Requirement already satisfied: requests in /usr/local/lib/python3.6/dist-packages (from gcsfs) (2.21.0)\n","Requirement already satisfied: pyasn1-modules>=0.2.1 in /usr/local/lib/python3.6/dist-packages (from google-auth>=1.2->gcsfs) (0.2.7)\n","Requirement already satisfied: cachetools>=2.0.0 in /usr/local/lib/python3.6/dist-packages (from google-auth>=1.2->gcsfs) (4.0.0)\n","Requirement already satisfied: rsa>=3.1.4 in /usr/local/lib/python3.6/dist-packages (from google-auth>=1.2->gcsfs) (4.0)\n","Requirement already satisfied: six>=1.9.0 in /usr/local/lib/python3.6/dist-packages (from google-auth>=1.2->gcsfs) (1.12.0)\n","Requirement already satisfied: requests-oauthlib>=0.7.0 in /usr/local/lib/python3.6/dist-packages (from google-auth-oauthlib->gcsfs) (1.3.0)\n","Requirement already satisfied: chardet<3.1.0,>=3.0.2 in /usr/local/lib/python3.6/dist-packages (from requests->gcsfs) (3.0.4)\n","Requirement already satisfied: urllib3<1.25,>=1.21.1 in /usr/local/lib/python3.6/dist-packages (from requests->gcsfs) (1.24.3)\n","Requirement already satisfied: idna<2.9,>=2.5 in /usr/local/lib/python3.6/dist-packages (from requests->gcsfs) (2.8)\n","Requirement already satisfied: certifi>=2017.4.17 in /usr/local/lib/python3.6/dist-packages (from requests->gcsfs) (2019.11.28)\n","Requirement already satisfied: pyasn1<0.5.0,>=0.4.6 in /usr/local/lib/python3.6/dist-packages (from pyasn1-modules>=0.2.1->google-auth>=1.2->gcsfs) (0.4.8)\n","Requirement already satisfied: oauthlib>=3.0.0 in /usr/local/lib/python3.6/dist-packages (from requests-oauthlib>=0.7.0->google-auth-oauthlib->gcsfs) (3.1.0)\n","Installing collected packages: gcsfs\n","Successfully installed gcsfs-0.6.0\n"],"name":"stdout"}]},{"cell_type":"markdown","metadata":{"id":"0MtvDI8rbEWh","colab_type":"text"},"source":["I have stored all of my separate data sources in my google bucket for accessibiliity purposes - although I will provide the data in the github upload. All of this data is supervised</b>"]},{"cell_type":"code","metadata":{"id":"0d3Gb2FhcpKU","colab_type":"code","outputId":"40e8f188-5666-41ab-eda6-985dc25c15d3","executionInfo":{"status":"ok","timestamp":1578418315328,"user_tz":0,"elapsed":40930,"user":{"displayName":"Fionn McConville","photoUrl":"https://lh3.googleusercontent.com/a-/AAuE7mDQ4Te6RRh1B7ENukR6-4xoNAaV2ajfGgNpCD6y=s64","userId":"01326935138765014160"}},"colab":{"base_uri":"https://localhost:8080/","height":126}},"source":["DATA_DIR = 'gs://csc3002/Raw_Data'\n","!gcloud config set project 'my-project-csc3002'\n","auth.authenticate_user()"],"execution_count":0,"outputs":[{"output_type":"stream","text":["Updated property [core/project].\n","\n","\n","To take a quick anonymous survey, run:\n","  $ gcloud survey\n","\n"],"name":"stdout"}]},{"cell_type":"markdown","metadata":{"id":"lxhr2-DfVYdl","colab_type":"text"},"source":["# Loading in hatEval 2019 Data\n","\n","Below is a description of the initial SemEval training data this project will use. The targets of abuse in this dataset are immigrants and women.\n","\n","## HS - Hate Speech\n","\n","This column indicates whether the content of the tweet is hate speech or not.\n","\n","<b>If the value is 1 then it is hate speech, if it is 0 then it is not hate speech.</b>\n","\n","This is the only column we're interested in for this task as the other columns denote aggression and who the target was (group or individual). These columns will be removed as they're irrelevant to my task"]},{"cell_type":"code","metadata":{"id":"d9uBJSrUVYdm","colab_type":"code","outputId":"52ddbc4b-4a9a-4c15-bffb-4c7cacb632da","executionInfo":{"status":"ok","timestamp":1578324909853,"user_tz":0,"elapsed":1596,"user":{"displayName":"Fionn McConville","photoUrl":"https://lh3.googleusercontent.com/a-/AAuE7mDQ4Te6RRh1B7ENukR6-4xoNAaV2ajfGgNpCD6y=s64","userId":"01326935138765014160"}},"colab":{"base_uri":"https://localhost:8080/","height":181}},"source":["path = os.path.join(DATA_DIR, 'semeval_2018_task5_hateval\\public_development_en\\dev_en.tsv')\n","dev = pd.read_csv(path , sep='\\t');\n","dev.drop('id', inplace = True, axis = 1)\n","dev.reset_index(drop = True, inplace = True)\n","dev.info()"],"execution_count":0,"outputs":[{"output_type":"stream","text":["<class 'pandas.core.frame.DataFrame'>\n","RangeIndex: 1000 entries, 0 to 999\n","Data columns (total 4 columns):\n","text    1000 non-null object\n","HS      1000 non-null int64\n","TR      1000 non-null int64\n","AG      1000 non-null int64\n","dtypes: int64(3), object(1)\n","memory usage: 31.4+ KB\n"],"name":"stdout"}]},{"cell_type":"code","metadata":{"id":"23jug4r2VYdp","colab_type":"code","outputId":"6a9527b6-dc76-4d21-d16c-d64e5669a6a1","executionInfo":{"status":"ok","timestamp":1578325151585,"user_tz":0,"elapsed":1423,"user":{"displayName":"Fionn McConville","photoUrl":"https://lh3.googleusercontent.com/a-/AAuE7mDQ4Te6RRh1B7ENukR6-4xoNAaV2ajfGgNpCD6y=s64","userId":"01326935138765014160"}},"colab":{"base_uri":"https://localhost:8080/","height":181}},"source":["path = os.path.join( DATA_DIR, 'semeval_2018_task5_hateval/public_development_en/train_en.tsv')\n","train = pd.read_csv(path, sep='\\t');\n","train.drop('id', inplace = True, axis = 1)\n","train.reset_index(drop = True, inplace = True)\n","train.info()"],"execution_count":0,"outputs":[{"output_type":"stream","text":["<class 'pandas.core.frame.DataFrame'>\n","RangeIndex: 9000 entries, 0 to 8999\n","Data columns (total 4 columns):\n","text    9000 non-null object\n","HS      9000 non-null int64\n","TR      9000 non-null int64\n","AG      9000 non-null int64\n","dtypes: int64(3), object(1)\n","memory usage: 281.4+ KB\n"],"name":"stdout"}]},{"cell_type":"code","metadata":{"id":"I2HkHpf5VYdr","colab_type":"code","outputId":"86690104-1b58-4c70-9ab8-d6747d6c25d1","executionInfo":{"status":"ok","timestamp":1578325267453,"user_tz":0,"elapsed":762,"user":{"displayName":"Fionn McConville","photoUrl":"https://lh3.googleusercontent.com/a-/AAuE7mDQ4Te6RRh1B7ENukR6-4xoNAaV2ajfGgNpCD6y=s64","userId":"01326935138765014160"}},"colab":{"base_uri":"https://localhost:8080/","height":72}},"source":["dfs = [train, dev]\n","alldf = pd.concat(dfs)\n","alldf.drop(columns = {'TR', 'AG'}, axis = 1, inplace = True)\n","alldf.HS.value_counts()"],"execution_count":0,"outputs":[{"output_type":"execute_result","data":{"text/plain":["0    5790\n","1    4210\n","Name: HS, dtype: int64"]},"metadata":{"tags":[]},"execution_count":25}]},{"cell_type":"code","metadata":{"id":"uvRh8pfHVYds","colab_type":"code","outputId":"f6a74f7c-76dc-4c54-9e1a-ff82a3951712","executionInfo":{"status":"ok","timestamp":1578325269756,"user_tz":0,"elapsed":510,"user":{"displayName":"Fionn McConville","photoUrl":"https://lh3.googleusercontent.com/a-/AAuE7mDQ4Te6RRh1B7ENukR6-4xoNAaV2ajfGgNpCD6y=s64","userId":"01326935138765014160"}},"colab":{"base_uri":"https://localhost:8080/","height":504}},"source":["alldf.head(10)"],"execution_count":0,"outputs":[{"output_type":"execute_result","data":{"text/html":["<div>\n","<style scoped>\n","    .dataframe tbody tr th:only-of-type {\n","        vertical-align: middle;\n","    }\n","\n","    .dataframe tbody tr th {\n","        vertical-align: top;\n","    }\n","\n","    .dataframe thead th {\n","        text-align: right;\n","    }\n","</style>\n","<table border=\"1\" class=\"dataframe\">\n","  <thead>\n","    <tr style=\"text-align: right;\">\n","      <th></th>\n","      <th>text</th>\n","      <th>HS</th>\n","    </tr>\n","  </thead>\n","  <tbody>\n","    <tr>\n","      <th>0</th>\n","      <td>Hurray, saving us $$$ in so many ways @potus @realDonaldTrump #LockThemUp #BuildTheWall #EndDACA #BoycottNFL #BoycottNike</td>\n","      <td>1</td>\n","    </tr>\n","    <tr>\n","      <th>1</th>\n","      <td>Why would young fighting age men be the vast majority of the ones escaping a war &amp;amp; not those who cannot fight like women, children, and the elderly?It's because the majority of the refugees are not actually refugees they are economic migrants trying to get into Europe.... https://t.co/Ks0SHbtYqn</td>\n","      <td>1</td>\n","    </tr>\n","    <tr>\n","      <th>2</th>\n","      <td>@KamalaHarris Illegals Dump their Kids at the border like Road Kill and Refuse to Unite! They Hope they get Amnesty, Free Education and Welfare Illegal #FamilesBelongTogether in their Country not on the Taxpayer Dime Its a SCAM #NoDACA #NoAmnesty #SendThe</td>\n","      <td>1</td>\n","    </tr>\n","    <tr>\n","      <th>3</th>\n","      <td>NY Times: 'Nearly All White' States Pose 'an Array of Problems' for Immigrants https://t.co/ACZKLhdMV9 https://t.co/CJAlSXCzR6</td>\n","      <td>0</td>\n","    </tr>\n","    <tr>\n","      <th>4</th>\n","      <td>Orban in Brussels: European leaders are ignoring the will of the people, they do not want migrants https://t.co/NeYFyqvYlX</td>\n","      <td>0</td>\n","    </tr>\n","    <tr>\n","      <th>5</th>\n","      <td>@KurtSchlichter LEGAL is. Not illegal. #BuildThatWall</td>\n","      <td>1</td>\n","    </tr>\n","    <tr>\n","      <th>6</th>\n","      <td>@RitaPanahi @826Maureen @RealCandaceO Antifa are just a pack of druggie misfits that no one loves, being the violent thugs they are is their cry for attention and their hit of self importance.#JuvenileDelinquents</td>\n","      <td>0</td>\n","    </tr>\n","    <tr>\n","      <th>7</th>\n","      <td>Ex-Teacher Pleads Not guilty To Rape Charges https://t.co/D2mGu3VT5G</td>\n","      <td>0</td>\n","    </tr>\n","    <tr>\n","      <th>8</th>\n","      <td>still places on our Bengali (Sylheti) class! it's London's 2nd language! know anyone interested @SBSisters @refugeecouncil @DocsNotCops https://t.co/sOx6shjvMx</td>\n","      <td>0</td>\n","    </tr>\n","    <tr>\n","      <th>9</th>\n","      <td>DFID Africa Regional Profile: July 2018 https://t.co/npfZCriW0w</td>\n","      <td>0</td>\n","    </tr>\n","  </tbody>\n","</table>\n","</div>"],"text/plain":["                                                                                                                                                                                                                                                                                                           text  HS\n","0  Hurray, saving us $$$ in so many ways @potus @realDonaldTrump #LockThemUp #BuildTheWall #EndDACA #BoycottNFL #BoycottNike                                                                                                                                                                                     1 \n","1  Why would young fighting age men be the vast majority of the ones escaping a war &amp; not those who cannot fight like women, children, and the elderly?It's because the majority of the refugees are not actually refugees they are economic migrants trying to get into Europe.... https://t.co/Ks0SHbtYqn  1 \n","2  @KamalaHarris Illegals Dump their Kids at the border like Road Kill and Refuse to Unite! They Hope they get Amnesty, Free Education and Welfare Illegal #FamilesBelongTogether in their Country not on the Taxpayer Dime Its a SCAM #NoDACA #NoAmnesty #SendThe                                               1 \n","3  NY Times: 'Nearly All White' States Pose 'an Array of Problems' for Immigrants https://t.co/ACZKLhdMV9 https://t.co/CJAlSXCzR6                                                                                                                                                                                0 \n","4  Orban in Brussels: European leaders are ignoring the will of the people, they do not want migrants https://t.co/NeYFyqvYlX                                                                                                                                                                                    0 \n","5  @KurtSchlichter LEGAL is. Not illegal. #BuildThatWall                                                                                                                                                                                                                                                         1 \n","6  @RitaPanahi @826Maureen @RealCandaceO Antifa are just a pack of druggie misfits that no one loves, being the violent thugs they are is their cry for attention and their hit of self importance.#JuvenileDelinquents                                                                                          0 \n","7  Ex-Teacher Pleads Not guilty To Rape Charges https://t.co/D2mGu3VT5G                                                                                                                                                                                                                                          0 \n","8  still places on our Bengali (Sylheti) class! it's London's 2nd language! know anyone interested @SBSisters @refugeecouncil @DocsNotCops https://t.co/sOx6shjvMx                                                                                                                                               0 \n","9  DFID Africa Regional Profile: July 2018 https://t.co/npfZCriW0w                                                                                                                                                                                                                                               0 "]},"metadata":{"tags":[]},"execution_count":26}]},{"cell_type":"markdown","metadata":{"id":"GTwjSoIxhSKX","colab_type":"text"},"source":["Above seems quite reliably annotated, I'm particularly happy that the authors of this data deemed to include terms that might trigger a false positive like 'Rape' and 'Immigrants' yet are included in a non hate speech context. Also some of the data is quite aggressive, such as against a group like antifa (see 6th entry) and aren't hate speech."]},{"cell_type":"markdown","metadata":{"id":"GtrWUOWjVYdu","colab_type":"text"},"source":["# Loading in OffensEval Data\n","\n","This data is a bit more tricky but it'll be useful to try out and inspect if the data can be reliably used to fine tune our model. We must ask ourselves if the offensive language in this data equates to hate speech.\n","\n","The column names in the file are the following:\n","\n","<b> id\t tweet\t subtask_a\t subtask_b\t subtask_c </b>\n","\n","The labels used in the annotation are listed below.\n","\n","(A) Level A: Offensive language identification\n","\n","- (NOT) Not Offensive - This post does not contain offense or profanity.\n","- (OFF) Offensive - This post contains offensive language or a targeted (veiled or direct) offense\n","\n","In our annotation, we label a post as offensive (OFF) if it contains any form of non-acceptable language (profanity) or a targeted offense, which can be veiled or direct. \n","\n","(B) Level B: Automatic categorization of offense types\n","\n","- (TIN) Targeted Insult and Threats - A post containing an insult or threat to an individual, a group, or others (see categories in sub-task C).\n","- (UNT) Untargeted - A post containing non-targeted profanity and swearing.\n","\n","Posts containing general profanity are not targeted, but they contain non-acceptable language.\n","\n","(C) Level C: Offense target identification\n","\n","- (IND) Individual - The target of the offensive post is an individual: a famous person, a named individual or an unnamed person interacting in the conversation.\n","- (GRP) Group - The target of the offensive post is a group of people considered as a unity due to the same ethnicity, gender or sexual orientation, political affiliation, religious belief, or something else.\n","- (OTH) Other – The target of the offensive post does not belong to any of the previous two categories (e.g., an organization, a situation, an event, or an issue)\n","\n","<i> So bearing all this in mind I believe that if we only get data from this set that has the OFF flag for level A, a TIN flag for level B and a GRP flag for level 3, we can extract data that is offensive and is targetting a specific group which may be the \"same ethnicity, gender or sexual orientation, political affiliation, religious belief, or something else.\"</i>\n","    \n","We may lose some tweets that could be useful for training our model in that they possibly target an individual in a hate speech way, but our overall dataset would be contaminated with too many tweets that are irrelevant to our investigation in that they are offensive but not in a hate speech manner</i>\n","\n","<b> A problem lies here though in that not all offensive targetting of groups may be considered hate speech. Someone could tweet something like <i> \"All Democrats are repulsive idiots\" </i> and this may not be considered hate speech by the masses. \n","    \n","Likewise can we say that someone tweeting, <i>\"These evangelical christians are uneducated and fucking barbaric!\" #MyBodyMyChoice </i> may not be considered hate speech by the of majority people.</b>\n","\n","<i>(Although some might, but I'm mainly interested in hate speech agreed upon by a majority of people) </i>\n","\n","Reference for this data:\n","\n","<i>Predicting the Type and Target of Offensive Posts in Social Media, Zampieri, Marcos and Malmasi, Shervin and Nakov, Preslav and Rosenthal, Sara and Farra, Noura and Kumar, Ritesh, Proceedings of NAACL, 2019</i>\n","\n","    \n"]},{"cell_type":"code","metadata":{"id":"bPLTBqR8VYdu","colab_type":"code","outputId":"81a32e48-4d1f-4dab-c693-caa07561c967","executionInfo":{"status":"ok","timestamp":1578325941831,"user_tz":0,"elapsed":1388,"user":{"displayName":"Fionn McConville","photoUrl":"https://lh3.googleusercontent.com/a-/AAuE7mDQ4Te6RRh1B7ENukR6-4xoNAaV2ajfGgNpCD6y=s64","userId":"01326935138765014160"}},"colab":{"base_uri":"https://localhost:8080/","height":199}},"source":["path = os.path.join(DATA_DIR, 'OLIDv1.0/olid-training-v1.0.tsv')\n","offens = pd.read_csv(path, sep='\\t');\n","offens.info()"],"execution_count":0,"outputs":[{"output_type":"stream","text":["<class 'pandas.core.frame.DataFrame'>\n","RangeIndex: 13240 entries, 0 to 13239\n","Data columns (total 5 columns):\n","id           13240 non-null int64\n","tweet        13240 non-null object\n","subtask_a    13240 non-null object\n","subtask_b    4400 non-null object\n","subtask_c    3876 non-null object\n","dtypes: int64(1), object(4)\n","memory usage: 517.3+ KB\n"],"name":"stdout"}]},{"cell_type":"code","metadata":{"id":"30Yx32cJVYdw","colab_type":"code","colab":{}},"source":["offens = offens.dropna()\n","offens.reset_index(drop = True, inplace = True)"],"execution_count":0,"outputs":[]},{"cell_type":"markdown","metadata":{"id":"FqS6DY9uVYdx","colab_type":"text"},"source":["<b> We may later want to use id for an index, but until we can be sure we've removed all redundant data lets not for now"]},{"cell_type":"code","metadata":{"id":"5jcA7vbfVYdy","colab_type":"code","outputId":"af12127c-1aae-412f-fd2f-acd770c0c758","executionInfo":{"status":"ok","timestamp":1578325973477,"user_tz":0,"elapsed":527,"user":{"displayName":"Fionn McConville","photoUrl":"https://lh3.googleusercontent.com/a-/AAuE7mDQ4Te6RRh1B7ENukR6-4xoNAaV2ajfGgNpCD6y=s64","userId":"01326935138765014160"}},"colab":{"base_uri":"https://localhost:8080/","height":199}},"source":["offens = offens[offens[\"subtask_a\"] == 'OFF']\n","offens = offens[offens[\"subtask_b\"] == 'TIN']\n","offens = offens[offens[\"subtask_c\"] == 'GRP']\n","offens.info()"],"execution_count":0,"outputs":[{"output_type":"stream","text":["<class 'pandas.core.frame.DataFrame'>\n","Int64Index: 1074 entries, 2 to 3873\n","Data columns (total 5 columns):\n","id           1074 non-null int64\n","tweet        1074 non-null object\n","subtask_a    1074 non-null object\n","subtask_b    1074 non-null object\n","subtask_c    1074 non-null object\n","dtypes: int64(1), object(4)\n","memory usage: 50.3+ KB\n"],"name":"stdout"}]},{"cell_type":"code","metadata":{"id":"Kx_Srs-NVYdz","colab_type":"code","outputId":"5a4ff47a-01e5-41b6-dfc0-021992e6c88c","executionInfo":{"status":"ok","timestamp":1578325998182,"user_tz":0,"elapsed":522,"user":{"displayName":"Fionn McConville","photoUrl":"https://lh3.googleusercontent.com/a-/AAuE7mDQ4Te6RRh1B7ENukR6-4xoNAaV2ajfGgNpCD6y=s64","userId":"01326935138765014160"}},"colab":{"base_uri":"https://localhost:8080/","height":336}},"source":["offens.head()"],"execution_count":0,"outputs":[{"output_type":"execute_result","data":{"text/html":["<div>\n","<style scoped>\n","    .dataframe tbody tr th:only-of-type {\n","        vertical-align: middle;\n","    }\n","\n","    .dataframe tbody tr th {\n","        vertical-align: top;\n","    }\n","\n","    .dataframe thead th {\n","        text-align: right;\n","    }\n","</style>\n","<table border=\"1\" class=\"dataframe\">\n","  <thead>\n","    <tr style=\"text-align: right;\">\n","      <th></th>\n","      <th>id</th>\n","      <th>tweet</th>\n","      <th>subtask_a</th>\n","      <th>subtask_b</th>\n","      <th>subtask_c</th>\n","    </tr>\n","  </thead>\n","  <tbody>\n","    <tr>\n","      <th>2</th>\n","      <td>52415</td>\n","      <td>@USER was literally just talking about this lol all mass shootings like that have been set ups. it’s propaganda used to divide us on major issues like gun control and terrorism</td>\n","      <td>OFF</td>\n","      <td>TIN</td>\n","      <td>GRP</td>\n","    </tr>\n","    <tr>\n","      <th>7</th>\n","      <td>12681</td>\n","      <td>@USER @USER Kind of like when conservatives wanna associate everyone to their left as communist antifa members?</td>\n","      <td>OFF</td>\n","      <td>TIN</td>\n","      <td>GRP</td>\n","    </tr>\n","    <tr>\n","      <th>8</th>\n","      <td>82904</td>\n","      <td>@USER @USER Da fuck is going on people?   There's the men's room and the women's room  Pick one and stick w it 🤔</td>\n","      <td>OFF</td>\n","      <td>TIN</td>\n","      <td>GRP</td>\n","    </tr>\n","    <tr>\n","      <th>10</th>\n","      <td>12609</td>\n","      <td>The only thing the Democrats have is lying and stalling to stop Trump from being #President.  What have they done for you lately. #Trump #Kavanaugh #MAGA #DEMSUCK</td>\n","      <td>OFF</td>\n","      <td>TIN</td>\n","      <td>GRP</td>\n","    </tr>\n","    <tr>\n","      <th>12</th>\n","      <td>14726</td>\n","      <td>@USER @USER @USER That's expected if you placate the violent leftists/terrorists. #KavanaughConfirmation #woke</td>\n","      <td>OFF</td>\n","      <td>TIN</td>\n","      <td>GRP</td>\n","    </tr>\n","  </tbody>\n","</table>\n","</div>"],"text/plain":["       id  ... subtask_c\n","2   52415  ...  GRP     \n","7   12681  ...  GRP     \n","8   82904  ...  GRP     \n","10  12609  ...  GRP     \n","12  14726  ...  GRP     \n","\n","[5 rows x 5 columns]"]},"metadata":{"tags":[]},"execution_count":32}]},{"cell_type":"code","metadata":{"id":"DnncFc9wVYd1","colab_type":"code","outputId":"2f0bbe86-bdc4-4d41-aa5a-858f461bda9a","executionInfo":{"status":"ok","timestamp":1578326030147,"user_tz":0,"elapsed":536,"user":{"displayName":"Fionn McConville","photoUrl":"https://lh3.googleusercontent.com/a-/AAuE7mDQ4Te6RRh1B7ENukR6-4xoNAaV2ajfGgNpCD6y=s64","userId":"01326935138765014160"}},"colab":{"base_uri":"https://localhost:8080/","height":419}},"source":["tweets = offens[\"tweet\"]\n","pd.set_option('display.max_colwidth', -1)\n","tweets.head(20)\n"],"execution_count":0,"outputs":[{"output_type":"execute_result","data":{"text/plain":["2     @USER was literally just talking about this lol all mass shootings like that have been set ups. it’s propaganda used to divide us on major issues like gun control and terrorism                                                                                                   \n","7     @USER @USER Kind of like when conservatives wanna associate everyone to their left as communist antifa members?                                                                                                                                                                    \n","8     @USER @USER Da fuck is going on people?   There's the men's room and the women's room  Pick one and stick w it 🤔                                                                                                                                                                   \n","10    The only thing the Democrats have is lying and stalling to stop Trump from being #President.  What have they done for you lately. #Trump #Kavanaugh #MAGA #DEMSUCK                                                                                                                 \n","12    @USER @USER @USER That's expected if you placate the violent leftists/terrorists. #KavanaughConfirmation #woke                                                                                                                                                                     \n","13    4 out of 10 British people are basically full-on racists. 4 out of 10 voters vote for the Conservatives. Coincidence!???!???                                                                                                                                                       \n","23    @USER I mean it worked for gun control right? URL                                                                                                                                                                                                                                  \n","28    @USER Fuck em                                                                                                                                                                                                                                                                      \n","35    @USER This all I get 😢 damn these haters deleting you IG for no reason... URL                                                                                                                                                                                                      \n","38    @USER if the reason for Farakans illegal values are because he is black or Muslim, that would be a reason to detest him. I believe his illegal values are simply a result of bad character, like his supporters!\"                                                                  \n","41    @USER So has the Law changed...you just make an allegation now days and your guilty until proven innocent. Liberals are mentally ill!                                                                                                                                              \n","42    @USER This game sucks donkey balls                                                                                                                                                                                                                                                 \n","45    @USER @USER @USER @USER @USER @USER @USER @USER @USER @USER @USER ...and #LeviStrauss wanting gun control How many of us wonder why the heck do they want our freedoms taken away ~ or is it just selective freedoms? URL                                                          \n","50    @USER And the brainless #DEMS wants us to believe that he doesn't have the majority. Liberals is just like their leaders\" the corrupts #Obama and #CrookedHillary both are real bad losers #MAGA #TRUMP\"                                                                           \n","51    @USER @USER California gun control is direct result of white people scared of Black Panthers using their right to bear arms. NRA had no problem with that gun control!                                                                                                             \n","52    @USER @USER And yet millions of permit holding people carried legally concealed firearms that same day and didn’t hurt themselves or anyone else.   But yet they want to have stronger gun control.   Idiots!  🤨  Our wonderful media has to hype incidents that fits their agenda.\n","53    @USER Yes do hurt your selves gun control freaks.                                                                                                                                                                                                                                  \n","54    @USER @USER @USER Bullshit! Regulations are good because it keeps conservatives from striping our land into the Abyss                                                                                                                                                              \n","58    Confirm the MAN! THE LEFT WING ACTIVIST IS A LIAR WHO'S STORY CHANGES! NO HARD EVIDENCE! #ChristineBlaseyFord Innocent until proven guilty! #ConfirmKavanaugh  #MAGA  @USER  #WeakRinos #Republicans                                                                               \n","60    @USER @USER Leftists showing yet again how vile they can be                                                                                                                                                                                                                        \n","Name: tweet, dtype: object"]},"metadata":{"tags":[]},"execution_count":35}]},{"cell_type":"markdown","metadata":{"id":"4JBstIb5VYd2","colab_type":"text"},"source":["<b> These tweets - however tasteless some may be, would not be considered by most people to be hate speech. The other tweets in the previous hatEval dataset are clear and, in my opinion, inarguable instances of hate speech. Thus all of the data from this set will be labelled as not hate speech</b>\n","    \n","However, for our final data corpus used for fine-tuning, we shall exclude all tweets that satisfy all three subtasks (the tweets above), when adding data from this dataset, just to err on the side of caution when training our model. This is so we don't contaminate the set with instances of hate speech that are contradictory by being labelled as not hate speech"]},{"cell_type":"markdown","metadata":{"id":"zyDp677KVYd2","colab_type":"text"},"source":["# ICVSM 2017 Hate Speech Dataset\n","\n","<b> A dataset that usefully has benign tweets, offensive language and hate speech. Having offensive language tweets that is not hate speech will be very useful to my model because I can imagine confusion with some models can arise when trying to distinguish between offensive language, laced with profanity and hate speech. </b>\n","\n","In my research, I have become aware of an NLP strategy where one fine tunes a model on a related task and uses transfer learning to then fine tune on the target task downstream. This method is called multi-task fine tuning.\n","\n","With this in mind I've sought out data with annotated offensive tweets so that I can have the option to fine tune on offensive data before I fine tune on hate speech.\n","\n","## What the columns mean:\n","\n","### Count \n","Number of CrowdFlower users who coded each tweet (min is 3, sometimes more users coded a tweet when judgments were determined to be unreliable by CF).\n","\n","### Hate_speech:\n","Number of CF users who judged the tweet to be hate speech.\n","\n","### Offensive_language\n","Number of CF users who judged the tweet to be offensive.\n","\n","### Neither\n","Number of CF users who judged the tweet to be neither offensive nor non-offensive.\n","\n","### Class\n","Class label for majority of CF users:\n","\n"," 0 - Hate Speech\n","\n"," 1 - Offensive Language\n"," \n"," 2 - Neither"]},{"cell_type":"code","metadata":{"id":"R6C8ARpCVYd3","colab_type":"code","outputId":"c50d9312-ac90-4b58-b2a5-b038cb1977e2","executionInfo":{"status":"ok","timestamp":1578413057458,"user_tz":0,"elapsed":1515,"user":{"displayName":"Fionn McConville","photoUrl":"https://lh3.googleusercontent.com/a-/AAuE7mDQ4Te6RRh1B7ENukR6-4xoNAaV2ajfGgNpCD6y=s64","userId":"01326935138765014160"}},"colab":{"base_uri":"https://localhost:8080/","height":235}},"source":["sometweets = os.path.join(DATA_DIR, 'ICVSM_2017.csv')\n","sometweets = pd.read_csv(sometweets, sep=',', encoding='utf-8');\n","sometweets.info()"],"execution_count":0,"outputs":[{"output_type":"stream","text":["<class 'pandas.core.frame.DataFrame'>\n","RangeIndex: 24783 entries, 0 to 24782\n","Data columns (total 7 columns):\n","Unnamed: 0            24783 non-null int64\n","count                 24783 non-null int64\n","hate_speech           24783 non-null int64\n","offensive_language    24783 non-null int64\n","neither               24783 non-null int64\n","class                 24783 non-null int64\n","tweet                 24783 non-null object\n","dtypes: int64(6), object(1)\n","memory usage: 1.3+ MB\n"],"name":"stdout"}]},{"cell_type":"markdown","metadata":{"id":"zT6FMyOjVYd4","colab_type":"text"},"source":["Further refining tweet database into hate speech and inspecting to see if the tweets qualify as hate speech"]},{"cell_type":"code","metadata":{"id":"1xWlPTIOVYd5","colab_type":"code","outputId":"60996307-ccd1-4f51-e0fe-8fb364bd14d5","executionInfo":{"status":"ok","timestamp":1578413058484,"user_tz":0,"elapsed":518,"user":{"displayName":"Fionn McConville","photoUrl":"https://lh3.googleusercontent.com/a-/AAuE7mDQ4Te6RRh1B7ENukR6-4xoNAaV2ajfGgNpCD6y=s64","userId":"01326935138765014160"}},"colab":{"base_uri":"https://localhost:8080/","height":1000}},"source":["hatetweets = sometweets[sometweets[\"class\"] == 0]\n","hatetweets.drop(columns = {'Unnamed: 0','neither', 'class' }, axis = 1, inplace = True)\n","hatetweets.reset_index(drop = True, inplace = True)\n","pd.set_option('display.max_colwidth', -1)\n","#hatetweets = hatetweets['tweet']\n","hatetweets.head(20)"],"execution_count":0,"outputs":[{"output_type":"stream","text":["/usr/local/lib/python3.6/dist-packages/pandas/core/frame.py:4117: SettingWithCopyWarning: \n","A value is trying to be set on a copy of a slice from a DataFrame\n","\n","See the caveats in the documentation: http://pandas.pydata.org/pandas-docs/stable/user_guide/indexing.html#returning-a-view-versus-a-copy\n","  errors=errors,\n"],"name":"stderr"},{"output_type":"execute_result","data":{"text/html":["<div>\n","<style scoped>\n","    .dataframe tbody tr th:only-of-type {\n","        vertical-align: middle;\n","    }\n","\n","    .dataframe tbody tr th {\n","        vertical-align: top;\n","    }\n","\n","    .dataframe thead th {\n","        text-align: right;\n","    }\n","</style>\n","<table border=\"1\" class=\"dataframe\">\n","  <thead>\n","    <tr style=\"text-align: right;\">\n","      <th></th>\n","      <th>count</th>\n","      <th>hate_speech</th>\n","      <th>offensive_language</th>\n","      <th>tweet</th>\n","    </tr>\n","  </thead>\n","  <tbody>\n","    <tr>\n","      <th>0</th>\n","      <td>3</td>\n","      <td>2</td>\n","      <td>1</td>\n","      <td>\"@Blackman38Tide: @WhaleLookyHere @HowdyDowdy11 queer\" gaywad</td>\n","    </tr>\n","    <tr>\n","      <th>1</th>\n","      <td>3</td>\n","      <td>3</td>\n","      <td>0</td>\n","      <td>\"@CB_Baby24: @white_thunduh alsarabsss\" hes a beaner smh you can tell hes a mexican</td>\n","    </tr>\n","    <tr>\n","      <th>2</th>\n","      <td>3</td>\n","      <td>3</td>\n","      <td>0</td>\n","      <td>\"@DevilGrimz: @VigxRArts you're fucking gay, blacklisted hoe\" Holding out for #TehGodClan anyway http://t.co/xUCcwoetmn</td>\n","    </tr>\n","    <tr>\n","      <th>3</th>\n","      <td>3</td>\n","      <td>3</td>\n","      <td>0</td>\n","      <td>\"@MarkRoundtreeJr: LMFAOOOO I HATE BLACK PEOPLE https://t.co/RNvD2nLCDR\" This is why there's black people and niggers</td>\n","    </tr>\n","    <tr>\n","      <th>4</th>\n","      <td>3</td>\n","      <td>2</td>\n","      <td>1</td>\n","      <td>\"@NoChillPaz: \"At least I'm not a nigger\" http://t.co/RGJa7CfoiT\"\\n\\nLmfao</td>\n","    </tr>\n","    <tr>\n","      <th>5</th>\n","      <td>3</td>\n","      <td>2</td>\n","      <td>1</td>\n","      <td>\"@NotoriousBM95: @_WhitePonyJr_ Ariza is a snake and a coward\" but at least he isn't a cripple like your hero Roach lmaoo</td>\n","    </tr>\n","    <tr>\n","      <th>6</th>\n","      <td>6</td>\n","      <td>3</td>\n","      <td>2</td>\n","      <td>\"@RTNBA: Drakes new shoes that will be released by Nike/Jordan.... Yes, there's glitter on the shoes http://t.co/QCtPLxHEXM\" ....dudes a fag</td>\n","    </tr>\n","    <tr>\n","      <th>7</th>\n","      <td>3</td>\n","      <td>2</td>\n","      <td>1</td>\n","      <td>\"@TheoMaxximus: #GerrysHalloweenParty http://t.co/3ycrSrnjHc\" Halloween was yesterday stupid nigger</td>\n","    </tr>\n","    <tr>\n","      <th>8</th>\n","      <td>3</td>\n","      <td>2</td>\n","      <td>1</td>\n","      <td>\"@ashlingwilde: @ItsNotAdam is bored supposed to be cute, you faggot?\" Sometimes</td>\n","    </tr>\n","    <tr>\n","      <th>9</th>\n","      <td>3</td>\n","      <td>2</td>\n","      <td>1</td>\n","      <td>\"@bigbootybishopp: @white_thunduh lassen cc , the coach wants me\" i feel it youll get more my nig no doubt</td>\n","    </tr>\n","    <tr>\n","      <th>10</th>\n","      <td>3</td>\n","      <td>2</td>\n","      <td>1</td>\n","      <td>\"@jayswaggkillah: Jackies a retard #blondeproblems\" At least I can make a grilled cheese!</td>\n","    </tr>\n","    <tr>\n","      <th>11</th>\n","      <td>3</td>\n","      <td>2</td>\n","      <td>1</td>\n","      <td>\"@jgabsss: Stacey Dash won &amp;#128166; http://t.co/PDLG46rjOL\" baddest bitch evaaaa</td>\n","    </tr>\n","    <tr>\n","      <th>12</th>\n","      <td>3</td>\n","      <td>2</td>\n","      <td>1</td>\n","      <td>\"Don't worry about the nigga you see, worry about the nigga you DON'T see... Dat's da nigga fuckin yo bitch.\"</td>\n","    </tr>\n","    <tr>\n","      <th>13</th>\n","      <td>3</td>\n","      <td>3</td>\n","      <td>0</td>\n","      <td>\"Hey go look at that video of the man that found the kidnapped girls in Ohio........what a nigger\" - #shitmybosssays</td>\n","    </tr>\n","    <tr>\n","      <th>14</th>\n","      <td>3</td>\n","      <td>2</td>\n","      <td>1</td>\n","      <td>\"Let's kill cracker babies!\". WTF did I just hear???????? WOW.</td>\n","    </tr>\n","    <tr>\n","      <th>15</th>\n","      <td>3</td>\n","      <td>2</td>\n","      <td>1</td>\n","      <td>\"My grandma used to call me a porch monkey all the time... Come to think of it she did refer to a broken bottle as a nigger knife\" &amp;#128563;</td>\n","    </tr>\n","    <tr>\n","      <th>16</th>\n","      <td>3</td>\n","      <td>2</td>\n","      <td>1</td>\n","      <td>\"Nah its You @NoMeek_JustMilz: &amp;#128514;&amp;#128514;&amp;#128514;&amp;#128514; yo i thought some1 photoshopped my face on that faggot smmfh...i hate yall\" http://t.co/5e2fkQ3Q2T</td>\n","    </tr>\n","    <tr>\n","      <th>17</th>\n","      <td>3</td>\n","      <td>3</td>\n","      <td>0</td>\n","      <td>\"Our people\". Now is the time for the Aryan race 2 stand up and say \"no more\". Before the mongerls turn the world into a ghetto slum. 1488</td>\n","    </tr>\n","    <tr>\n","      <th>18</th>\n","      <td>3</td>\n","      <td>2</td>\n","      <td>1</td>\n","      <td>\"These sour apple bitter bitches, I'm not fuckin wit em\"</td>\n","    </tr>\n","    <tr>\n","      <th>19</th>\n","      <td>3</td>\n","      <td>3</td>\n","      <td>0</td>\n","      <td>\"We hate niggers, we hate faggots and we hate spics\"-kkk rally</td>\n","    </tr>\n","  </tbody>\n","</table>\n","</div>"],"text/plain":["    count  ...                                                                                                                                                                   tweet\n","0   3      ...  \"@Blackman38Tide: @WhaleLookyHere @HowdyDowdy11 queer\" gaywad                                                                                                         \n","1   3      ...  \"@CB_Baby24: @white_thunduh alsarabsss\" hes a beaner smh you can tell hes a mexican                                                                                   \n","2   3      ...  \"@DevilGrimz: @VigxRArts you're fucking gay, blacklisted hoe\" Holding out for #TehGodClan anyway http://t.co/xUCcwoetmn                                               \n","3   3      ...  \"@MarkRoundtreeJr: LMFAOOOO I HATE BLACK PEOPLE https://t.co/RNvD2nLCDR\" This is why there's black people and niggers                                                 \n","4   3      ...  \"@NoChillPaz: \"At least I'm not a nigger\" http://t.co/RGJa7CfoiT\"\\n\\nLmfao                                                                                            \n","5   3      ...  \"@NotoriousBM95: @_WhitePonyJr_ Ariza is a snake and a coward\" but at least he isn't a cripple like your hero Roach lmaoo                                             \n","6   6      ...  \"@RTNBA: Drakes new shoes that will be released by Nike/Jordan.... Yes, there's glitter on the shoes http://t.co/QCtPLxHEXM\" ....dudes a fag                          \n","7   3      ...  \"@TheoMaxximus: #GerrysHalloweenParty http://t.co/3ycrSrnjHc\" Halloween was yesterday stupid nigger                                                                   \n","8   3      ...  \"@ashlingwilde: @ItsNotAdam is bored supposed to be cute, you faggot?\" Sometimes                                                                                      \n","9   3      ...  \"@bigbootybishopp: @white_thunduh lassen cc , the coach wants me\" i feel it youll get more my nig no doubt                                                            \n","10  3      ...  \"@jayswaggkillah: Jackies a retard #blondeproblems\" At least I can make a grilled cheese!                                                                             \n","11  3      ...  \"@jgabsss: Stacey Dash won &#128166; http://t.co/PDLG46rjOL\" baddest bitch evaaaa                                                                                     \n","12  3      ...  \"Don't worry about the nigga you see, worry about the nigga you DON'T see... Dat's da nigga fuckin yo bitch.\"                                                         \n","13  3      ...  \"Hey go look at that video of the man that found the kidnapped girls in Ohio........what a nigger\" - #shitmybosssays                                                  \n","14  3      ...  \"Let's kill cracker babies!\". WTF did I just hear???????? WOW.                                                                                                        \n","15  3      ...  \"My grandma used to call me a porch monkey all the time... Come to think of it she did refer to a broken bottle as a nigger knife\" &#128563;                          \n","16  3      ...  \"Nah its You @NoMeek_JustMilz: &#128514;&#128514;&#128514;&#128514; yo i thought some1 photoshopped my face on that faggot smmfh...i hate yall\" http://t.co/5e2fkQ3Q2T\n","17  3      ...  \"Our people\". Now is the time for the Aryan race 2 stand up and say \"no more\". Before the mongerls turn the world into a ghetto slum. 1488                            \n","18  3      ...  \"These sour apple bitter bitches, I'm not fuckin wit em\"                                                                                                              \n","19  3      ...  \"We hate niggers, we hate faggots and we hate spics\"-kkk rally                                                                                                        \n","\n","[20 rows x 4 columns]"]},"metadata":{"tags":[]},"execution_count":85}]},{"cell_type":"markdown","metadata":{"id":"g6IVXiEHpF2S","colab_type":"text"},"source":["For the most part these tweets could be classified as hate speech, although I've noticed some again have offensive language and may contain hate speech terms but aren't clear cut hate speeeh.\n","\n","As I've said earlier, my goal of defining clear cut hate speech is paramount. So, at the expense of the volume of hate speech data, but with the benefit of clearer, more accurately defined dataset, I'll only annotate tweets from this set as hate speech if 3 or more Crowflower users deem it hate speech."]},{"cell_type":"code","metadata":{"id":"5QZVCH9lVYd6","colab_type":"code","outputId":"664b572e-a02d-4147-cccf-6101f14bb0b1","executionInfo":{"status":"ok","timestamp":1578413079395,"user_tz":0,"elapsed":510,"user":{"displayName":"Fionn McConville","photoUrl":"https://lh3.googleusercontent.com/a-/AAuE7mDQ4Te6RRh1B7ENukR6-4xoNAaV2ajfGgNpCD6y=s64","userId":"01326935138765014160"}},"colab":{"base_uri":"https://localhost:8080/","height":455}},"source":["hatetweets1 = hatetweets[hatetweets['hate_speech'] > 2]\n","print(\"There are\", len(hatetweets1.index), \"tweets in this database where 3 more mor users agree it's hate speech\\n\")\n","hatetweets1.tweet.head(20)"],"execution_count":0,"outputs":[{"output_type":"stream","text":["There are 308 tweets in this database where 3 more mor users agree it's hate speech\n","\n"],"name":"stdout"},{"output_type":"execute_result","data":{"text/plain":["1     \"@CB_Baby24: @white_thunduh alsarabsss\" hes a beaner smh you can tell hes a mexican                                                             \n","2     \"@DevilGrimz: @VigxRArts you're fucking gay, blacklisted hoe\" Holding out for #TehGodClan anyway http://t.co/xUCcwoetmn                         \n","3     \"@MarkRoundtreeJr: LMFAOOOO I HATE BLACK PEOPLE https://t.co/RNvD2nLCDR\" This is why there's black people and niggers                           \n","6     \"@RTNBA: Drakes new shoes that will be released by Nike/Jordan.... Yes, there's glitter on the shoes http://t.co/QCtPLxHEXM\" ....dudes a fag    \n","13    \"Hey go look at that video of the man that found the kidnapped girls in Ohio........what a nigger\" - #shitmybosssays                            \n","17    \"Our people\". Now is the time for the Aryan race 2 stand up and say \"no more\". Before the mongerls turn the world into a ghetto slum. 1488      \n","19    \"We hate niggers, we hate faggots and we hate spics\"-kkk rally                                                                                  \n","22    \"Why people think gay marriage is okay is beyond me. Sorry I don't want my future son seeing 2 fags walking down the street holding hands an    \n","30    #California is full of white trash                                                                                                              \n","34    #Dutch people who live outside of #NewYorkCity are all white trash.                                                                             \n","37    #Minnesota is full of white trash                                                                                                               \n","42    #SouthCarolina is full of white trash                                                                                                           \n","46    #VinitaHegwood can get a job at the naacp. Or as The AG. I hear they like \"diversity and tolerance\". As long as you ain't a cracker #tcot       \n","50    #firefighter is a job for white trash                                                                                                           \n","59    &#8220;@AlexaDelsanter: This is awkward u fag @corleyhuff @vitchhhh http://t.co/HUDOhA6YQe&#8221; wonder who's awesome tank that is &#128522;   \n","67    &#8220;@Maxwell_Larsen: When you live this gay, you can't be afraid of two black dicks in your butt\" you fucking queer                          \n","73    &#8220;@NoChillPaz: White kids favorite activities\\n1. Calling people \"niggers\" on Xbox\\n2.fucking their pet\\n3. Shooting up their school&#8221;\n","81    &#8220;@iamkrause: No need to thank me, killing niggers is it's own reward.&#8221; \\n\\nDis my pal from our graduation when we was 26            \n","85    &#8220;@rocafella123 \"@waymoflydenu: If fleek in yo vocabulary you a faggot\"&#8221;                                                             \n","89    &#8220;@waymoflydenu Why yall think its ok to be faggots?&#8221; and want us to be cool with them                                               \n","Name: tweet, dtype: object"]},"metadata":{"tags":[]},"execution_count":87}]},{"cell_type":"markdown","metadata":{"id":"20X_orQVVYd8","colab_type":"text"},"source":["For the most part, this database seems to reliably have hate speech tweets annotated correctly so these tweets will be used to fine tune the model."]},{"cell_type":"markdown","metadata":{"id":"EBG60vQdVYd8","colab_type":"text"},"source":["## A New Database - ICVSM_2018 Abusive Behaviour Database\n","\n","In all, about 100,000 tweets. Labelled one of four categories: Normal, abusive, hateful and spam.  A detailed explanation as to how the tweets in this datbase were categorised can be found here: https://arxiv.org/pdf/1802.00393.pdf "]},{"cell_type":"code","metadata":{"id":"T8DGZl8QVYd8","colab_type":"code","outputId":"c8699d55-1f88-4897-e447-ae4c85ae0830","executionInfo":{"status":"ok","timestamp":1578406884740,"user_tz":0,"elapsed":3228,"user":{"displayName":"Fionn McConville","photoUrl":"https://lh3.googleusercontent.com/a-/AAuE7mDQ4Te6RRh1B7ENukR6-4xoNAaV2ajfGgNpCD6y=s64","userId":"01326935138765014160"}},"colab":{"base_uri":"https://localhost:8080/","height":163}},"source":["icvsm = os.path.join(DATA_DIR, 'ICVSM_2018_dataset/hatespeech_text_label_vote.csv')\n","icvsm = pd.read_csv(icvsm, sep='\\t', names = \\\n","                    [\"tweets\", \"majority label\", \"votes on majority label\"  ], encoding ='utf-8');\n","icvsm.info()"],"execution_count":0,"outputs":[{"output_type":"stream","text":["<class 'pandas.core.frame.DataFrame'>\n","RangeIndex: 99996 entries, 0 to 99995\n","Data columns (total 3 columns):\n","tweets                     99996 non-null object\n","majority label             99996 non-null object\n","votes on majority label    99996 non-null int64\n","dtypes: int64(1), object(2)\n","memory usage: 2.3+ MB\n"],"name":"stdout"}]},{"cell_type":"code","metadata":{"id":"t9DAsJxDVYd-","colab_type":"code","outputId":"ff0d95a5-227b-41af-ef8f-12d2d0092bb5","executionInfo":{"status":"ok","timestamp":1578406900237,"user_tz":0,"elapsed":807,"user":{"displayName":"Fionn McConville","photoUrl":"https://lh3.googleusercontent.com/a-/AAuE7mDQ4Te6RRh1B7ENukR6-4xoNAaV2ajfGgNpCD6y=s64","userId":"01326935138765014160"}},"colab":{"base_uri":"https://localhost:8080/","height":555}},"source":["icvsm.head(10)"],"execution_count":0,"outputs":[{"output_type":"execute_result","data":{"text/html":["<div>\n","<style scoped>\n","    .dataframe tbody tr th:only-of-type {\n","        vertical-align: middle;\n","    }\n","\n","    .dataframe tbody tr th {\n","        vertical-align: top;\n","    }\n","\n","    .dataframe thead th {\n","        text-align: right;\n","    }\n","</style>\n","<table border=\"1\" class=\"dataframe\">\n","  <thead>\n","    <tr style=\"text-align: right;\">\n","      <th></th>\n","      <th>tweets</th>\n","      <th>majority label</th>\n","      <th>votes on majority label</th>\n","    </tr>\n","  </thead>\n","  <tbody>\n","    <tr>\n","      <th>0</th>\n","      <td>Beats by Dr. Dre urBeats Wired In-Ear Headphones - White https://t.co/9tREpqfyW4 https://t.co/FCaWyWRbpE</td>\n","      <td>spam</td>\n","      <td>4</td>\n","    </tr>\n","    <tr>\n","      <th>1</th>\n","      <td>RT @Papapishu: Man it would fucking rule if we had a party that was against perpetual warfare.</td>\n","      <td>abusive</td>\n","      <td>4</td>\n","    </tr>\n","    <tr>\n","      <th>2</th>\n","      <td>It is time to draw close to Him &amp;#128591;&amp;#127995; Father, I draw near to you now and always ❤️ https://t.co/MVRBBX2aqJ</td>\n","      <td>normal</td>\n","      <td>4</td>\n","    </tr>\n","    <tr>\n","      <th>3</th>\n","      <td>if you notice me start to act different or distant.. it's bc i peeped something you did or i notice a difference in how you act &amp;amp; ian fw it.</td>\n","      <td>normal</td>\n","      <td>5</td>\n","    </tr>\n","    <tr>\n","      <th>4</th>\n","      <td>Forget unfollowers, I believe in growing. 7 new followers in the last day! Stats via https://t.co/bunPHQNXhj</td>\n","      <td>normal</td>\n","      <td>3</td>\n","    </tr>\n","    <tr>\n","      <th>5</th>\n","      <td>RT @Vitiligoprince: Hate Being sexually Frustrated Like I wanna Fuck But ion wanna Just fuck anybody</td>\n","      <td>abusive</td>\n","      <td>4</td>\n","    </tr>\n","    <tr>\n","      <th>6</th>\n","      <td>Topped the group in TGP Disc Jam Season 2! Onto the Semi-Finals! @HighHorseGames https://t.co/N7LE8lX7Rm</td>\n","      <td>normal</td>\n","      <td>3</td>\n","    </tr>\n","    <tr>\n","      <th>7</th>\n","      <td>That daily baby aspirin for your #heart just might be preventing colon #cancer too. https://t.co/2TLawmHhEe</td>\n","      <td>normal</td>\n","      <td>5</td>\n","    </tr>\n","    <tr>\n","      <th>8</th>\n","      <td>I liked a @YouTube video from @mattshea https://t.co/niSeJrLKHq THE BLUE ARMY IS COMING! - Ancient Warfare 2</td>\n","      <td>normal</td>\n","      <td>2</td>\n","    </tr>\n","    <tr>\n","      <th>9</th>\n","      <td>RT @LestuhGang_: If your fucking up &amp;amp; your homies dont tell you that your fucking up, those ain't your homies</td>\n","      <td>abusive</td>\n","      <td>4</td>\n","    </tr>\n","  </tbody>\n","</table>\n","</div>"],"text/plain":["                                                                                                                                             tweets  ... votes on majority label\n","0  Beats by Dr. Dre urBeats Wired In-Ear Headphones - White https://t.co/9tREpqfyW4 https://t.co/FCaWyWRbpE                                          ...  4                     \n","1  RT @Papapishu: Man it would fucking rule if we had a party that was against perpetual warfare.                                                    ...  4                     \n","2  It is time to draw close to Him &#128591;&#127995; Father, I draw near to you now and always ❤️ https://t.co/MVRBBX2aqJ                           ...  4                     \n","3  if you notice me start to act different or distant.. it's bc i peeped something you did or i notice a difference in how you act &amp; ian fw it.  ...  5                     \n","4  Forget unfollowers, I believe in growing. 7 new followers in the last day! Stats via https://t.co/bunPHQNXhj                                      ...  3                     \n","5  RT @Vitiligoprince: Hate Being sexually Frustrated Like I wanna Fuck But ion wanna Just fuck anybody                                              ...  4                     \n","6  Topped the group in TGP Disc Jam Season 2! Onto the Semi-Finals! @HighHorseGames https://t.co/N7LE8lX7Rm                                          ...  3                     \n","7  That daily baby aspirin for your #heart just might be preventing colon #cancer too. https://t.co/2TLawmHhEe                                       ...  5                     \n","8  I liked a @YouTube video from @mattshea https://t.co/niSeJrLKHq THE BLUE ARMY IS COMING! - Ancient Warfare 2                                      ...  2                     \n","9  RT @LestuhGang_: If your fucking up &amp; your homies dont tell you that your fucking up, those ain't your homies                                 ...  4                     \n","\n","[10 rows x 3 columns]"]},"metadata":{"tags":[]},"execution_count":5}]},{"cell_type":"code","metadata":{"id":"Hz5YTmV6VYd_","colab_type":"code","outputId":"88d4fe2e-99e4-4e54-bcfd-b2c64b9274b6","executionInfo":{"status":"ok","timestamp":1578406908442,"user_tz":0,"elapsed":492,"user":{"displayName":"Fionn McConville","photoUrl":"https://lh3.googleusercontent.com/a-/AAuE7mDQ4Te6RRh1B7ENukR6-4xoNAaV2ajfGgNpCD6y=s64","userId":"01326935138765014160"}},"colab":{"base_uri":"https://localhost:8080/","height":976}},"source":["hatefultweets = icvsm[icvsm[\"majority label\"] == \"hateful\" ]\n","hatefultweets.head(20)"],"execution_count":0,"outputs":[{"output_type":"execute_result","data":{"text/html":["<div>\n","<style scoped>\n","    .dataframe tbody tr th:only-of-type {\n","        vertical-align: middle;\n","    }\n","\n","    .dataframe tbody tr th {\n","        vertical-align: top;\n","    }\n","\n","    .dataframe thead th {\n","        text-align: right;\n","    }\n","</style>\n","<table border=\"1\" class=\"dataframe\">\n","  <thead>\n","    <tr style=\"text-align: right;\">\n","      <th></th>\n","      <th>tweets</th>\n","      <th>majority label</th>\n","      <th>votes on majority label</th>\n","    </tr>\n","  </thead>\n","  <tbody>\n","    <tr>\n","      <th>21</th>\n","      <td>Bad day for #Kyrgyzstan. Suspect in St. Petersburg metro bombing identified as #Kyrgyz, opposition politician Japarov reportedly kills self.</td>\n","      <td>hateful</td>\n","      <td>2</td>\n","    </tr>\n","    <tr>\n","      <th>34</th>\n","      <td>I'm over the fucking moon we've cleared up the definition of an act of war. Now, about that slap on the wrist we just gave Syria.</td>\n","      <td>hateful</td>\n","      <td>3</td>\n","    </tr>\n","    <tr>\n","      <th>37</th>\n","      <td>RT @ynaoivw: nah bitch i hate u https://t.co/fHX8y7esMH</td>\n","      <td>hateful</td>\n","      <td>3</td>\n","    </tr>\n","    <tr>\n","      <th>71</th>\n","      <td>RT @WaysThingsWork: I fucking hate people &amp;#128514;&amp;#128514; https://t.co/Qz5gihmcQF</td>\n","      <td>hateful</td>\n","      <td>3</td>\n","    </tr>\n","    <tr>\n","      <th>106</th>\n","      <td>@VanJones68 You looked like a complete pathetic idiot tonight. How could you be so stupid Mr. Ghetto. My God you… https://t.co/eEpAih1GAj</td>\n","      <td>hateful</td>\n","      <td>3</td>\n","    </tr>\n","    <tr>\n","      <th>147</th>\n","      <td>RT @___DestinyJadai: Never argue with a bitch you can kill by just stepping out on your WORST day &amp;#128514; we both know why that bitch mad sis &amp;#129335;&amp;#127998;‍…</td>\n","      <td>hateful</td>\n","      <td>4</td>\n","    </tr>\n","    <tr>\n","      <th>152</th>\n","      <td>RT @Woodparkweirdo: hell yeah I VAPE V: hate A: women P E</td>\n","      <td>hateful</td>\n","      <td>3</td>\n","    </tr>\n","    <tr>\n","      <th>194</th>\n","      <td>I talked well to you all along. I do not feel like I'm answering you bad. Damn it!!</td>\n","      <td>hateful</td>\n","      <td>2</td>\n","    </tr>\n","    <tr>\n","      <th>221</th>\n","      <td>RT @Jedi_Pite_Bre: Which state allowed 800K illegal aliens to get a license? You guessed it right-the retarded state of California https://…</td>\n","      <td>hateful</td>\n","      <td>3</td>\n","    </tr>\n","    <tr>\n","      <th>234</th>\n","      <td>@domy1337 @MainGame6 this is polish hooker look man, come here and you'll meet them next to some forests on the road lmao</td>\n","      <td>hateful</td>\n","      <td>2</td>\n","    </tr>\n","    <tr>\n","      <th>245</th>\n","      <td>ADULT SIBLING ABUSE SURVIVORS are often gossiped about for being the family idiot, misfit, or crazy relative. https://t.co/F6SvXWrTFm</td>\n","      <td>hateful</td>\n","      <td>3</td>\n","    </tr>\n","    <tr>\n","      <th>287</th>\n","      <td>@TLDRJones @sahluwal @IvankaTrump Learn to spell before you comment...Ivanka is a major nusinesz woman with a world… https://t.co/BKWgAgFzsr</td>\n","      <td>hateful</td>\n","      <td>4</td>\n","    </tr>\n","    <tr>\n","      <th>313</th>\n","      <td>Just bought a bunch of Tupperware and grown up colt thinks it's great but little colt hates how much he's turning into his parents</td>\n","      <td>hateful</td>\n","      <td>2</td>\n","    </tr>\n","    <tr>\n","      <th>318</th>\n","      <td>@JayFoee_ just another dumbass bronco fan swear I hate this fanbase dawg &amp;#128557;</td>\n","      <td>hateful</td>\n","      <td>4</td>\n","    </tr>\n","    <tr>\n","      <th>337</th>\n","      <td>RT @iamwilliewill: This what happens when you separate yo self from niggas who don't eat they food cold. You FLOURISH... https://t.co/FzTIA…</td>\n","      <td>hateful</td>\n","      <td>3</td>\n","    </tr>\n","    <tr>\n","      <th>350</th>\n","      <td>@IronofMercy “Unlike you, I'm not a weakling and have a high Insanity resistance. No I'm lying, but I don't fight it.”</td>\n","      <td>hateful</td>\n","      <td>2</td>\n","    </tr>\n","    <tr>\n","      <th>352</th>\n","      <td>I don't give a fuck about NONE of y'all UGLY bitches at Riverdale lmfao get mad hoe</td>\n","      <td>hateful</td>\n","      <td>3</td>\n","    </tr>\n","    <tr>\n","      <th>364</th>\n","      <td>RT @ItsMeGrizz: Bad bitches don't take days off https://t.co/eazGi8KnNh</td>\n","      <td>hateful</td>\n","      <td>3</td>\n","    </tr>\n","    <tr>\n","      <th>394</th>\n","      <td>A kiosk woman tried to scam me to buy $200 skin cream. Lady, I worked at Lush...I know all the tricks.</td>\n","      <td>hateful</td>\n","      <td>2</td>\n","    </tr>\n","    <tr>\n","      <th>400</th>\n","      <td>@JuneGrayy @_BriaPlease @SchoolEm_Jonesy Stupid as fuck and mad cuz she couldn't read &amp;#128514;&amp;#128514;&amp;#128514;</td>\n","      <td>hateful</td>\n","      <td>5</td>\n","    </tr>\n","  </tbody>\n","</table>\n","</div>"],"text/plain":["                                                                                                                                                                   tweets  ... votes on majority label\n","21   Bad day for #Kyrgyzstan. Suspect in St. Petersburg metro bombing identified as #Kyrgyz, opposition politician Japarov reportedly kills self.                          ...  2                     \n","34   I'm over the fucking moon we've cleared up the definition of an act of war. Now, about that slap on the wrist we just gave Syria.                                     ...  3                     \n","37   RT @ynaoivw: nah bitch i hate u https://t.co/fHX8y7esMH                                                                                                               ...  3                     \n","71   RT @WaysThingsWork: I fucking hate people &#128514;&#128514; https://t.co/Qz5gihmcQF                                                                                  ...  3                     \n","106  @VanJones68 You looked like a complete pathetic idiot tonight. How could you be so stupid Mr. Ghetto. My God you… https://t.co/eEpAih1GAj                             ...  3                     \n","147  RT @___DestinyJadai: Never argue with a bitch you can kill by just stepping out on your WORST day &#128514; we both know why that bitch mad sis &#129335;&#127998;‍…  ...  4                     \n","152  RT @Woodparkweirdo: hell yeah I VAPE V: hate A: women P E                                                                                                             ...  3                     \n","194  I talked well to you all along. I do not feel like I'm answering you bad. Damn it!!                                                                                   ...  2                     \n","221  RT @Jedi_Pite_Bre: Which state allowed 800K illegal aliens to get a license? You guessed it right-the retarded state of California https://…                          ...  3                     \n","234  @domy1337 @MainGame6 this is polish hooker look man, come here and you'll meet them next to some forests on the road lmao                                             ...  2                     \n","245  ADULT SIBLING ABUSE SURVIVORS are often gossiped about for being the family idiot, misfit, or crazy relative. https://t.co/F6SvXWrTFm                                 ...  3                     \n","287  @TLDRJones @sahluwal @IvankaTrump Learn to spell before you comment...Ivanka is a major nusinesz woman with a world… https://t.co/BKWgAgFzsr                          ...  4                     \n","313  Just bought a bunch of Tupperware and grown up colt thinks it's great but little colt hates how much he's turning into his parents                                    ...  2                     \n","318  @JayFoee_ just another dumbass bronco fan swear I hate this fanbase dawg &#128557;                                                                                    ...  4                     \n","337  RT @iamwilliewill: This what happens when you separate yo self from niggas who don't eat they food cold. You FLOURISH... https://t.co/FzTIA…                          ...  3                     \n","350  @IronofMercy “Unlike you, I'm not a weakling and have a high Insanity resistance. No I'm lying, but I don't fight it.”                                                ...  2                     \n","352  I don't give a fuck about NONE of y'all UGLY bitches at Riverdale lmfao get mad hoe                                                                                   ...  3                     \n","364  RT @ItsMeGrizz: Bad bitches don't take days off https://t.co/eazGi8KnNh                                                                                               ...  3                     \n","394  A kiosk woman tried to scam me to buy $200 skin cream. Lady, I worked at Lush...I know all the tricks.                                                                ...  2                     \n","400  @JuneGrayy @_BriaPlease @SchoolEm_Jonesy Stupid as fuck and mad cuz she couldn't read &#128514;&#128514;&#128514;                                                     ...  5                     \n","\n","[20 rows x 3 columns]"]},"metadata":{"tags":[]},"execution_count":6}]},{"cell_type":"markdown","metadata":{"id":"iKZW5-pKVYeB","colab_type":"text"},"source":["In the paper the authors explicitly state that the term hateful is supposed to describe hate speech. In fact, they use a near identical description as I used in my report to define hate speech.\n","\n","<i>Language used to express hatred towards a targeted individual or group, or is intended to be derogatory, to humiliate, or to insult the members of the group, on the basis of attributes such as race, religion, ethnic origin, sexual orientation, disability, or gender.<i/>\n","\n","The authors told annotators to define hateful as such. The annotators are amateur users on CrowdFlower and so the innaccuracy here is understandable\n","    \n","Most of the above tweets in my opinon, and among the opinions of an informal sampling I took (friends and family), do not definitively qualify as hate speech. Possibly a few of the annotators got confused and thought that the content had hateful intent rather than hate speech and thought they had to annotate to that definition.\n","\n","The only \"hateful\" defined tweets agreed by a majority of the simple sampling I took from the tweets above were tweet 106: <i>@VanJones68 You looked like a complete pathetic idiot tonight. How could you be so stupid Mr. Ghetto. My God you… https://t.co/eEpAih1GAj</i> and 221:<i>RT @Jedi_Pite_Bre: Which state allowed 800K illegal aliens to get a license? You guessed it right-the retarded state of California https://...</i>\n","\n","To mitigate this, I'll further explore and see if the tweets, with high agreement among annotators that it contains hateful content, is a better suit to the hate speech definition."]},{"cell_type":"code","metadata":{"id":"uDCyWYp8VYeB","colab_type":"code","outputId":"f573c24e-a158-4194-8ae7-7664c801dcc4","executionInfo":{"status":"ok","timestamp":1578406943161,"user_tz":0,"elapsed":703,"user":{"displayName":"Fionn McConville","photoUrl":"https://lh3.googleusercontent.com/a-/AAuE7mDQ4Te6RRh1B7ENukR6-4xoNAaV2ajfGgNpCD6y=s64","userId":"01326935138765014160"}},"colab":{"base_uri":"https://localhost:8080/","height":573}},"source":["morehatefultweets =\\\n","hatefultweets[hatefultweets[\"votes on majority label\"] > 7 ]\n","morehatefultweets.head(10)"],"execution_count":0,"outputs":[{"output_type":"execute_result","data":{"text/html":["<div>\n","<style scoped>\n","    .dataframe tbody tr th:only-of-type {\n","        vertical-align: middle;\n","    }\n","\n","    .dataframe tbody tr th {\n","        vertical-align: top;\n","    }\n","\n","    .dataframe thead th {\n","        text-align: right;\n","    }\n","</style>\n","<table border=\"1\" class=\"dataframe\">\n","  <thead>\n","    <tr style=\"text-align: right;\">\n","      <th></th>\n","      <th>tweets</th>\n","      <th>majority label</th>\n","      <th>votes on majority label</th>\n","    </tr>\n","  </thead>\n","  <tbody>\n","    <tr>\n","      <th>10333</th>\n","      <td>Hanging at UB on Friday, Unsacred headlines the metal showcase at Macrock on Saturday, then heading to Damaged City for Marked Men on Sunday</td>\n","      <td>hateful</td>\n","      <td>16</td>\n","    </tr>\n","    <tr>\n","      <th>13919</th>\n","      <td>This was a proportionate response by the United States. It is not designed to overthrow the Assad regime...… https://t.co/PqdEWMQrhy</td>\n","      <td>hateful</td>\n","      <td>18</td>\n","    </tr>\n","    <tr>\n","      <th>15481</th>\n","      <td>I had two exams and had to choose 1 or the other to study for and the 1 I didn't study for I passed with an 81 &amp;#127881;</td>\n","      <td>hateful</td>\n","      <td>8</td>\n","    </tr>\n","    <tr>\n","      <th>22478</th>\n","      <td>South Korean OF Kim makes Orioles opening day roster #BaltimoreOrioles #OriolesOpeningDay #Orioles #Orioles https://t.co/erAcYNSsUb</td>\n","      <td>hateful</td>\n","      <td>10</td>\n","    </tr>\n","    <tr>\n","      <th>29915</th>\n","      <td>Black people low budget cookouts have quarter legs for the old heads and bullshit hotdogs for the \"kids\" &amp;#128557;&amp;#128557;&amp;#128557;&amp;#128557;&amp;#128557;</td>\n","      <td>hateful</td>\n","      <td>14</td>\n","    </tr>\n","    <tr>\n","      <th>33403</th>\n","      <td>&amp;#128196; #WinterEvent2017 On the attraction of two perfectly conducting plat on-the-attraction-of-two-perfectly-conducting-plates.pdf</td>\n","      <td>hateful</td>\n","      <td>22</td>\n","    </tr>\n","    <tr>\n","      <th>37228</th>\n","      <td>#DickCavett asks Art Garfunkel who broke up Simon &amp;amp; Garfunkel. AG doesn't remember. I'm guessing suppression @decadesnetwork.</td>\n","      <td>hateful</td>\n","      <td>20</td>\n","    </tr>\n","    <tr>\n","      <th>38192</th>\n","      <td>Damn niggas was comparing this season to the farm which is really bad https://t.co/OVCBErCZDC</td>\n","      <td>hateful</td>\n","      <td>10</td>\n","    </tr>\n","    <tr>\n","      <th>39529</th>\n","      <td>RT @isabelaseraffim: insomnia ain't a joke bruh I'm really a fucking zombie at this point</td>\n","      <td>hateful</td>\n","      <td>20</td>\n","    </tr>\n","    <tr>\n","      <th>43602</th>\n","      <td>RT @iamwilliewill: This what happens when you separate yo self from niggas who don't eat they food cold. You FLOURISH... https://t.co/FzTIA…</td>\n","      <td>hateful</td>\n","      <td>15</td>\n","    </tr>\n","  </tbody>\n","</table>\n","</div>"],"text/plain":["                                                                                                                                                       tweets  ... votes on majority label\n","10333  Hanging at UB on Friday, Unsacred headlines the metal showcase at Macrock on Saturday, then heading to Damaged City for Marked Men on Sunday            ...  16                    \n","13919  This was a proportionate response by the United States. It is not designed to overthrow the Assad regime...… https://t.co/PqdEWMQrhy                    ...  18                    \n","15481  I had two exams and had to choose 1 or the other to study for and the 1 I didn't study for I passed with an 81 &#127881;                                ...  8                     \n","22478  South Korean OF Kim makes Orioles opening day roster #BaltimoreOrioles #OriolesOpeningDay #Orioles #Orioles https://t.co/erAcYNSsUb                     ...  10                    \n","29915  Black people low budget cookouts have quarter legs for the old heads and bullshit hotdogs for the \"kids\" &#128557;&#128557;&#128557;&#128557;&#128557;  ...  14                    \n","33403  &#128196; #WinterEvent2017 On the attraction of two perfectly conducting plat on-the-attraction-of-two-perfectly-conducting-plates.pdf                  ...  22                    \n","37228  #DickCavett asks Art Garfunkel who broke up Simon &amp; Garfunkel. AG doesn't remember. I'm guessing suppression @decadesnetwork.                       ...  20                    \n","38192  Damn niggas was comparing this season to the farm which is really bad https://t.co/OVCBErCZDC                                                           ...  10                    \n","39529  RT @isabelaseraffim: insomnia ain't a joke bruh I'm really a fucking zombie at this point                                                               ...  20                    \n","43602  RT @iamwilliewill: This what happens when you separate yo self from niggas who don't eat they food cold. You FLOURISH... https://t.co/FzTIA…            ...  15                    \n","\n","[10 rows x 3 columns]"]},"metadata":{"tags":[]},"execution_count":7}]},{"cell_type":"markdown","metadata":{"id":"sG5Qw0N7VYeE","colab_type":"text"},"source":["This does not seem to be much better. The tweets marked as hateful should be discarded because of the unreliability of annotators. Some of the tweets marked as 'hateful' may actually be hateful too so it's safer to remove them from the fine tuning stage of my project as I can't risk contamination.\n","\n","However the tweets annotated as offensive may be used in the multi-task fine tuning stage as that's a category that's hard to annotate wrong and isn't nuanced like hate speech.\n","\n","Also, due to the sheer number of tweets and the fact that many of the users here speak in slang and a more informal parlance than what would be found on wikipedia where correct grammar is used, (wikipedia is the text corpus that the original BERT model was pretrained on), the tweets here will be extremely useful for my further pretraining stage of my project and so they, along with the rest of the tweets in this notebook will be cleaned and used for further pre-training"]},{"cell_type":"code","metadata":{"id":"QmkBeC47VYeE","colab_type":"code","outputId":"b63876fd-e3b8-4104-be8b-47393470a612","executionInfo":{"status":"ok","timestamp":1578407416975,"user_tz":0,"elapsed":561,"user":{"displayName":"Fionn McConville","photoUrl":"https://lh3.googleusercontent.com/a-/AAuE7mDQ4Te6RRh1B7ENukR6-4xoNAaV2ajfGgNpCD6y=s64","userId":"01326935138765014160"}},"colab":{"base_uri":"https://localhost:8080/","height":108}},"source":["icvsm['majority label'].value_counts()"],"execution_count":0,"outputs":[{"output_type":"execute_result","data":{"text/plain":["normal     53851\n","abusive    27150\n","spam       14030\n","hateful    4965 \n","Name: majority label, dtype: int64"]},"metadata":{"tags":[]},"execution_count":8}]},{"cell_type":"markdown","metadata":{"id":"GLJ0rkcnVYeH","colab_type":"text"},"source":["# Using Twitter API to mine tweets via ID (Waseem and Hovy 2016)"]},{"cell_type":"code","metadata":{"id":"lTPlx0m1VYeH","colab_type":"code","outputId":"69ea8124-c6d9-462c-d662-1445d0d94ff5","executionInfo":{"status":"ok","timestamp":1578419260455,"user_tz":0,"elapsed":812,"user":{"displayName":"Fionn McConville","photoUrl":"https://lh3.googleusercontent.com/a-/AAuE7mDQ4Te6RRh1B7ENukR6-4xoNAaV2ajfGgNpCD6y=s64","userId":"01326935138765014160"}},"colab":{"base_uri":"https://localhost:8080/","height":198}},"source":["path = r'https://raw.githubusercontent.com/ZeerakW/hatespeech/master/NAACL_SRW_2016.csv'\n","\n","ids = pd.read_csv(path, sep=',', names = ['id', 'label']);\n","\n","ids.head()"],"execution_count":0,"outputs":[{"output_type":"execute_result","data":{"text/html":["<div>\n","<style scoped>\n","    .dataframe tbody tr th:only-of-type {\n","        vertical-align: middle;\n","    }\n","\n","    .dataframe tbody tr th {\n","        vertical-align: top;\n","    }\n","\n","    .dataframe thead th {\n","        text-align: right;\n","    }\n","</style>\n","<table border=\"1\" class=\"dataframe\">\n","  <thead>\n","    <tr style=\"text-align: right;\">\n","      <th></th>\n","      <th>id</th>\n","      <th>label</th>\n","    </tr>\n","  </thead>\n","  <tbody>\n","    <tr>\n","      <th>0</th>\n","      <td>572342978255048705</td>\n","      <td>racism</td>\n","    </tr>\n","    <tr>\n","      <th>1</th>\n","      <td>572341498827522049</td>\n","      <td>racism</td>\n","    </tr>\n","    <tr>\n","      <th>2</th>\n","      <td>572340476503724032</td>\n","      <td>racism</td>\n","    </tr>\n","    <tr>\n","      <th>3</th>\n","      <td>572334712804384768</td>\n","      <td>racism</td>\n","    </tr>\n","    <tr>\n","      <th>4</th>\n","      <td>572332655397629952</td>\n","      <td>racism</td>\n","    </tr>\n","  </tbody>\n","</table>\n","</div>"],"text/plain":["                   id   label\n","0  572342978255048705  racism\n","1  572341498827522049  racism\n","2  572340476503724032  racism\n","3  572334712804384768  racism\n","4  572332655397629952  racism"]},"metadata":{"tags":[]},"execution_count":35}]},{"cell_type":"markdown","metadata":{"id":"q3jAg55IblWk","colab_type":"text"},"source":["If using anaconda notebook:"]},{"cell_type":"code","metadata":{"id":"hfLydSihVYeJ","colab_type":"code","colab":{}},"source":["#conda install -c conda-forge tweepy"],"execution_count":0,"outputs":[]},{"cell_type":"markdown","metadata":{"id":"FBuePdITVYeL","colab_type":"text"},"source":["Below is a tweepy method to obtain tweets via ID. Twitter API only allows us to extract tweets 100 at a time, as there are rate limits - therfore, we must set the wait_on_rate_limit parameter to True."]},{"cell_type":"code","metadata":{"id":"GIUPR1lXVYeL","colab_type":"code","colab":{}},"source":["def lookup_tweets(tweet_IDs, api):\n","    full_tweets = []\n","    tweet_count = len(tweet_IDs)\n","    \n","    try:\n","        for i in range((tweet_count // 100) + 1):\n","            # Catch the last group if it is less than 100 tweets\n","            end_loc = min((i + 1) * 100, tweet_count)\n","            full_tweets.extend(\n","                api.statuses_lookup(id_=tweet_IDs[i * 100:end_loc])\n","            )\n","        return full_tweets\n","    except tweepy.TweepError:\n","        print('Something went wrong, quitting...')"],"execution_count":0,"outputs":[]},{"cell_type":"markdown","metadata":{"id":"9hs29YrNVYeM","colab_type":"text"},"source":["Open a previously created json file with twitter api credentials and also set wait_on_rate_limit so as not to exceed wait limits"]},{"cell_type":"code","metadata":{"id":"Ip9CjWqbVYeN","colab_type":"code","outputId":"b61a57ea-9a71-44a9-a807-3fe8e15918a8","executionInfo":{"status":"ok","timestamp":1578419286583,"user_tz":0,"elapsed":18118,"user":{"displayName":"Fionn McConville","photoUrl":"https://lh3.googleusercontent.com/a-/AAuE7mDQ4Te6RRh1B7ENukR6-4xoNAaV2ajfGgNpCD6y=s64","userId":"01326935138765014160"}},"colab":{"base_uri":"https://localhost:8080/","height":128}},"source":["# Load twitter API credentials from json file from google drive\n","from google.colab import drive\n","drive.mount('/content/drive')\n","with open('/content/drive/My Drive/twitter_credentials.json', \"r\") as f:\n","  creds = json.load(f)\n","\n","\n","auth = tweepy.OAuthHandler(creds['CONSUMER_KEY'], creds['CONSUMER_SECRET'])\n","auth.set_access_token(creds['ACCESS_TOKEN'], creds['ACCESS_SECRET'])\n","\n","api = tweepy.API(auth, wait_on_rate_limit=True, wait_on_rate_limit_notify=True)"],"execution_count":0,"outputs":[{"output_type":"stream","text":["Go to this URL in a browser: https://accounts.google.com/o/oauth2/auth?client_id=947318989803-6bn6qk8qdgf4n4g3pfee6491hc0brc4i.apps.googleusercontent.com&redirect_uri=urn%3aietf%3awg%3aoauth%3a2.0%3aoob&response_type=code&scope=email%20https%3a%2f%2fwww.googleapis.com%2fauth%2fdocs.test%20https%3a%2f%2fwww.googleapis.com%2fauth%2fdrive%20https%3a%2f%2fwww.googleapis.com%2fauth%2fdrive.photos.readonly%20https%3a%2f%2fwww.googleapis.com%2fauth%2fpeopleapi.readonly\n","\n","Enter your authorization code:\n","··········\n","Mounted at /content/drive\n"],"name":"stdout"}]},{"cell_type":"markdown","metadata":{"id":"t1_o1WtVVYeO","colab_type":"text"},"source":["Run below kernel to load tweets via ID - May take a while"]},{"cell_type":"code","metadata":{"id":"pM9Y44YAVYeP","colab_type":"code","colab":{}},"source":["good_tweet_ids = list(ids['id']) #Create a list of tweet ids to look up \n","results = lookup_tweets(good_tweet_ids, api) #apply function"],"execution_count":0,"outputs":[]},{"cell_type":"markdown","metadata":{"id":"2pjpQ0VMVYeQ","colab_type":"text"},"source":["Then wrangle the data into one dataframe"]},{"cell_type":"code","metadata":{"id":"InhA77dIVYeQ","colab_type":"code","outputId":"3bb1fa7f-df61-4a3f-a636-48fea4e3cfd2","executionInfo":{"status":"ok","timestamp":1578419406787,"user_tz":0,"elapsed":5958,"user":{"displayName":"Fionn McConville","photoUrl":"https://lh3.googleusercontent.com/a-/AAuE7mDQ4Te6RRh1B7ENukR6-4xoNAaV2ajfGgNpCD6y=s64","userId":"01326935138765014160"}},"colab":{"base_uri":"https://localhost:8080/","height":400}},"source":["temp = json.dumps([status._json for status in results]) #create JSON\n","newdf = pd.read_json(temp, orient='records')\n","full = ids.merge(newdf,  how='left', on = 'id')\n","tweetSet = full[['id', 'label', 'text']]\n","tweetSet = tweetSet.drop_duplicates(subset = 'id')\n","pd.set_option('display.max_colwidth', -1)\n","tweetSet.head(10)"],"execution_count":0,"outputs":[{"output_type":"execute_result","data":{"text/html":["<div>\n","<style scoped>\n","    .dataframe tbody tr th:only-of-type {\n","        vertical-align: middle;\n","    }\n","\n","    .dataframe tbody tr th {\n","        vertical-align: top;\n","    }\n","\n","    .dataframe thead th {\n","        text-align: right;\n","    }\n","</style>\n","<table border=\"1\" class=\"dataframe\">\n","  <thead>\n","    <tr style=\"text-align: right;\">\n","      <th></th>\n","      <th>id</th>\n","      <th>label</th>\n","      <th>text</th>\n","    </tr>\n","  </thead>\n","  <tbody>\n","    <tr>\n","      <th>0</th>\n","      <td>572342978255048705</td>\n","      <td>racism</td>\n","      <td>So Drasko just said he was impressed the girls cooked half a chicken.. They cooked a whole one  #MKR</td>\n","    </tr>\n","    <tr>\n","      <th>2</th>\n","      <td>572341498827522049</td>\n","      <td>racism</td>\n","      <td>Drasko they didn't cook half a bird you idiot #mkr</td>\n","    </tr>\n","    <tr>\n","      <th>4</th>\n","      <td>572340476503724032</td>\n","      <td>racism</td>\n","      <td>Hopefully someone cooks Drasko in the next ep of #MKR</td>\n","    </tr>\n","    <tr>\n","      <th>6</th>\n","      <td>572334712804384768</td>\n","      <td>racism</td>\n","      <td>of course you were born in serbia...you're as fucked as A Serbian Film #MKR</td>\n","    </tr>\n","    <tr>\n","      <th>7</th>\n","      <td>572332655397629952</td>\n","      <td>racism</td>\n","      <td>These girls are the equivalent of the irritating Asian girls a couple years ago. Well done, 7. #MKR</td>\n","    </tr>\n","    <tr>\n","      <th>8</th>\n","      <td>575949086055997440</td>\n","      <td>racism</td>\n","      <td>#MKR  Lost the plot - where's the big Texan with the elephant sized steaks that they all have for brekkie ?</td>\n","    </tr>\n","    <tr>\n","      <th>10</th>\n","      <td>551659627872415744</td>\n","      <td>racism</td>\n","      <td>NaN</td>\n","    </tr>\n","    <tr>\n","      <th>11</th>\n","      <td>551763146877452288</td>\n","      <td>racism</td>\n","      <td>NaN</td>\n","    </tr>\n","    <tr>\n","      <th>12</th>\n","      <td>551768543277355009</td>\n","      <td>racism</td>\n","      <td>NaN</td>\n","    </tr>\n","    <tr>\n","      <th>13</th>\n","      <td>551769061055811584</td>\n","      <td>racism</td>\n","      <td>NaN</td>\n","    </tr>\n","  </tbody>\n","</table>\n","</div>"],"text/plain":["                    id  ...                                                                                                         text\n","0   572342978255048705  ...  So Drasko just said he was impressed the girls cooked half a chicken.. They cooked a whole one  #MKR       \n","2   572341498827522049  ...  Drasko they didn't cook half a bird you idiot #mkr                                                         \n","4   572340476503724032  ...  Hopefully someone cooks Drasko in the next ep of #MKR                                                      \n","6   572334712804384768  ...  of course you were born in serbia...you're as fucked as A Serbian Film #MKR                                \n","7   572332655397629952  ...  These girls are the equivalent of the irritating Asian girls a couple years ago. Well done, 7. #MKR        \n","8   575949086055997440  ...  #MKR  Lost the plot - where's the big Texan with the elephant sized steaks that they all have for brekkie ?\n","10  551659627872415744  ...  NaN                                                                                                        \n","11  551763146877452288  ...  NaN                                                                                                        \n","12  551768543277355009  ...  NaN                                                                                                        \n","13  551769061055811584  ...  NaN                                                                                                        \n","\n","[10 rows x 3 columns]"]},"metadata":{"tags":[]},"execution_count":39}]},{"cell_type":"code","metadata":{"id":"VSYpG3_YVYeS","colab_type":"code","outputId":"98d5c54c-62d4-4748-eb90-99e81ba36d09","executionInfo":{"status":"ok","timestamp":1578419437775,"user_tz":0,"elapsed":530,"user":{"displayName":"Fionn McConville","photoUrl":"https://lh3.googleusercontent.com/a-/AAuE7mDQ4Te6RRh1B7ENukR6-4xoNAaV2ajfGgNpCD6y=s64","userId":"01326935138765014160"}},"colab":{"base_uri":"https://localhost:8080/","height":217}},"source":["print(tweetSet.info())\n","dups = len(tweetSet) - tweetSet['text'].count()\n","print(\" \\nAmount of tweet IDs not returning tweets - \", dups)\n","#print(tweetSet['text'].unique().sum())"],"execution_count":0,"outputs":[{"output_type":"stream","text":["<class 'pandas.core.frame.DataFrame'>\n","Int64Index: 16849 entries, 0 to 16994\n","Data columns (total 3 columns):\n","id       16849 non-null int64\n","label    16849 non-null object\n","text     10821 non-null object\n","dtypes: int64(1), object(2)\n","memory usage: 526.5+ KB\n","None\n"," \n","Amount of tweet IDs not returning tweets -  6028\n"],"name":"stdout"}]},{"cell_type":"markdown","metadata":{"id":"6oLEoTvKVYeT","colab_type":"text"},"source":["### Suspended Accounts:\n","\n","Although from our original dataset with tweet IDs we have 16,907 tweets total, we only retrieve 10920 tweets with our function as of writing. This is because in many cases the twitter accounts associated with these tweets have been suspended from twitter.\n","    \n","As we can see above, some tweet IDs have retrieved NaN for the tweet text because of this\n","\n","Demonstrated below is an attempt to retrieve one of these tweets."]},{"cell_type":"code","metadata":{"id":"R-G2nEkDVYeU","colab_type":"code","outputId":"6f8939cf-b76c-4991-b711-74831475ae93","executionInfo":{"status":"ok","timestamp":1578419443829,"user_tz":0,"elapsed":546,"user":{"displayName":"Fionn McConville","photoUrl":"https://lh3.googleusercontent.com/a-/AAuE7mDQ4Te6RRh1B7ENukR6-4xoNAaV2ajfGgNpCD6y=s64","userId":"01326935138765014160"}},"colab":{"base_uri":"https://localhost:8080/","height":35}},"source":["try:\n","    tweet = api.get_status(551763146877452288) # Index 11 in above tweetSet dataset\n","except tweepy.TweepError as err:\n","    if err.api_code == 63:\n","        print(err.reason)\n","    else:\n","        print(tweet.text)"],"execution_count":0,"outputs":[{"output_type":"stream","text":["[{'code': 63, 'message': 'User has been suspended.'}]\n"],"name":"stdout"}]},{"cell_type":"code","metadata":{"id":"MPosIYx9VYeV","colab_type":"code","outputId":"95367771-a8cd-4d74-d68d-4e82d29000b1","executionInfo":{"status":"ok","timestamp":1578419447746,"user_tz":0,"elapsed":499,"user":{"displayName":"Fionn McConville","photoUrl":"https://lh3.googleusercontent.com/a-/AAuE7mDQ4Te6RRh1B7ENukR6-4xoNAaV2ajfGgNpCD6y=s64","userId":"01326935138765014160"}},"colab":{"base_uri":"https://localhost:8080/","height":976}},"source":["#Dropping rows where tweet I'd failed to obtain associated tweet text\n","tweetSet.dropna(inplace=True) \n","\n","#Manually inspecting tweets\n","tweetSet.head(20)"],"execution_count":0,"outputs":[{"output_type":"execute_result","data":{"text/html":["<div>\n","<style scoped>\n","    .dataframe tbody tr th:only-of-type {\n","        vertical-align: middle;\n","    }\n","\n","    .dataframe tbody tr th {\n","        vertical-align: top;\n","    }\n","\n","    .dataframe thead th {\n","        text-align: right;\n","    }\n","</style>\n","<table border=\"1\" class=\"dataframe\">\n","  <thead>\n","    <tr style=\"text-align: right;\">\n","      <th></th>\n","      <th>id</th>\n","      <th>label</th>\n","      <th>text</th>\n","    </tr>\n","  </thead>\n","  <tbody>\n","    <tr>\n","      <th>0</th>\n","      <td>572342978255048705</td>\n","      <td>racism</td>\n","      <td>So Drasko just said he was impressed the girls cooked half a chicken.. They cooked a whole one  #MKR</td>\n","    </tr>\n","    <tr>\n","      <th>2</th>\n","      <td>572341498827522049</td>\n","      <td>racism</td>\n","      <td>Drasko they didn't cook half a bird you idiot #mkr</td>\n","    </tr>\n","    <tr>\n","      <th>4</th>\n","      <td>572340476503724032</td>\n","      <td>racism</td>\n","      <td>Hopefully someone cooks Drasko in the next ep of #MKR</td>\n","    </tr>\n","    <tr>\n","      <th>6</th>\n","      <td>572334712804384768</td>\n","      <td>racism</td>\n","      <td>of course you were born in serbia...you're as fucked as A Serbian Film #MKR</td>\n","    </tr>\n","    <tr>\n","      <th>7</th>\n","      <td>572332655397629952</td>\n","      <td>racism</td>\n","      <td>These girls are the equivalent of the irritating Asian girls a couple years ago. Well done, 7. #MKR</td>\n","    </tr>\n","    <tr>\n","      <th>8</th>\n","      <td>575949086055997440</td>\n","      <td>racism</td>\n","      <td>#MKR  Lost the plot - where's the big Texan with the elephant sized steaks that they all have for brekkie ?</td>\n","    </tr>\n","    <tr>\n","      <th>491</th>\n","      <td>575174115667017728</td>\n","      <td>racism</td>\n","      <td>RT @PhxKen: SIR WINSTON CHURCHHILL: \"ISLAM IS A DANGEROUS IN A MAN AS RABIES IN A DOG\" http://t.co/kCXgKD70SK</td>\n","    </tr>\n","    <tr>\n","      <th>1266</th>\n","      <td>569294066984202240</td>\n","      <td>racism</td>\n","      <td>RT @TheRightWingM: Giuliani watched his city attacked &amp;amp; people jump to their deaths. He's entitled to say WTF he wants about the guy shield…</td>\n","    </tr>\n","    <tr>\n","      <th>1942</th>\n","      <td>446460991396917248</td>\n","      <td>racism</td>\n","      <td>RT @YesYoureRacist: At least you're only a tiny bit racist RT @AnMo95: I'm not racist, but my dick is!</td>\n","    </tr>\n","    <tr>\n","      <th>1943</th>\n","      <td>489938636956135424</td>\n","      <td>racism</td>\n","      <td>@MisfitInChains @oldgfatherclock @venereveritas13 SANTA JUST *IS* WHITE</td>\n","    </tr>\n","    <tr>\n","      <th>1944</th>\n","      <td>502315096052596736</td>\n","      <td>racism</td>\n","      <td>RT @Dreamdefenders: Eric Holder from #ferguson: \"I understand that mistrust. I am the Attorney General, but I am also a Black Man\" http://t…</td>\n","    </tr>\n","    <tr>\n","      <th>1945</th>\n","      <td>502508643204755456</td>\n","      <td>racism</td>\n","      <td>RT @AntonioFrench: I spent the morning at the Board of Elections getting maps/data to start registering every black person in #Ferguson. ht…</td>\n","    </tr>\n","    <tr>\n","      <th>1946</th>\n","      <td>537442614534864896</td>\n","      <td>racism</td>\n","      <td>RT @harikondabolu: In his #Ferguson testimony, Darren Wilson said he thought \"it looks like a demon\" before he shot Mike Brown. Ironic word…</td>\n","    </tr>\n","    <tr>\n","      <th>1947</th>\n","      <td>538130705382129664</td>\n","      <td>racism</td>\n","      <td>\"He can't be a server at our restaurant, that beard makes him look like a terrorist.\" Everyone laughs. #fuckthanksgiving</td>\n","    </tr>\n","    <tr>\n","      <th>1948</th>\n","      <td>574589943982379008</td>\n","      <td>racism</td>\n","      <td>@GarrettaBrown85 @5Candrew Why do people even talk about white privilege when the majority of food stamp recipients are white people!!</td>\n","    </tr>\n","    <tr>\n","      <th>1973</th>\n","      <td>576395841440641024</td>\n","      <td>racism</td>\n","      <td>RT @ThePatriot143: Bet👉3 'Race Pimps' enjoyed watching #Ferguson protesters being interviewed on @seanhannity show as much as I did. http:/…</td>\n","    </tr>\n","    <tr>\n","      <th>1974</th>\n","      <td>572346080911736832</td>\n","      <td>sexism</td>\n","      <td>These two are revolting #MKR #MKR2015</td>\n","    </tr>\n","    <tr>\n","      <th>1976</th>\n","      <td>572348198062170112</td>\n","      <td>sexism</td>\n","      <td>#katieandnikki stop calling yourselves pretty and hot..you're not and saying it a million times doesn't make you either...STFU #MKR</td>\n","    </tr>\n","    <tr>\n","      <th>1978</th>\n","      <td>572319306387599360</td>\n","      <td>sexism</td>\n","      <td>The menus look like they were made by a 5 year old little girl...in this case just the mental age of a 5 year old girl I guess #MKR</td>\n","    </tr>\n","    <tr>\n","      <th>1979</th>\n","      <td>572347842456522752</td>\n","      <td>sexism</td>\n","      <td>Wish these blondes were in that How To Get Away With Murder show....#MKR</td>\n","    </tr>\n","  </tbody>\n","</table>\n","</div>"],"text/plain":["                      id  ...                                                                                                                                              text\n","0     572342978255048705  ...  So Drasko just said he was impressed the girls cooked half a chicken.. They cooked a whole one  #MKR                                            \n","2     572341498827522049  ...  Drasko they didn't cook half a bird you idiot #mkr                                                                                              \n","4     572340476503724032  ...  Hopefully someone cooks Drasko in the next ep of #MKR                                                                                           \n","6     572334712804384768  ...  of course you were born in serbia...you're as fucked as A Serbian Film #MKR                                                                     \n","7     572332655397629952  ...  These girls are the equivalent of the irritating Asian girls a couple years ago. Well done, 7. #MKR                                             \n","8     575949086055997440  ...  #MKR  Lost the plot - where's the big Texan with the elephant sized steaks that they all have for brekkie ?                                     \n","491   575174115667017728  ...  RT @PhxKen: SIR WINSTON CHURCHHILL: \"ISLAM IS A DANGEROUS IN A MAN AS RABIES IN A DOG\" http://t.co/kCXgKD70SK                                   \n","1266  569294066984202240  ...  RT @TheRightWingM: Giuliani watched his city attacked &amp; people jump to their deaths. He's entitled to say WTF he wants about the guy shield…\n","1942  446460991396917248  ...  RT @YesYoureRacist: At least you're only a tiny bit racist RT @AnMo95: I'm not racist, but my dick is!                                          \n","1943  489938636956135424  ...  @MisfitInChains @oldgfatherclock @venereveritas13 SANTA JUST *IS* WHITE                                                                         \n","1944  502315096052596736  ...  RT @Dreamdefenders: Eric Holder from #ferguson: \"I understand that mistrust. I am the Attorney General, but I am also a Black Man\" http://t…    \n","1945  502508643204755456  ...  RT @AntonioFrench: I spent the morning at the Board of Elections getting maps/data to start registering every black person in #Ferguson. ht…    \n","1946  537442614534864896  ...  RT @harikondabolu: In his #Ferguson testimony, Darren Wilson said he thought \"it looks like a demon\" before he shot Mike Brown. Ironic word…    \n","1947  538130705382129664  ...  \"He can't be a server at our restaurant, that beard makes him look like a terrorist.\" Everyone laughs. #fuckthanksgiving                        \n","1948  574589943982379008  ...  @GarrettaBrown85 @5Candrew Why do people even talk about white privilege when the majority of food stamp recipients are white people!!          \n","1973  576395841440641024  ...  RT @ThePatriot143: Bet👉3 'Race Pimps' enjoyed watching #Ferguson protesters being interviewed on @seanhannity show as much as I did. http:/…    \n","1974  572346080911736832  ...  These two are revolting #MKR #MKR2015                                                                                                           \n","1976  572348198062170112  ...  #katieandnikki stop calling yourselves pretty and hot..you're not and saying it a million times doesn't make you either...STFU #MKR             \n","1978  572319306387599360  ...  The menus look like they were made by a 5 year old little girl...in this case just the mental age of a 5 year old girl I guess #MKR             \n","1979  572347842456522752  ...  Wish these blondes were in that How To Get Away With Murder show....#MKR                                                                        \n","\n","[20 rows x 3 columns]"]},"metadata":{"tags":[]},"execution_count":43}]},{"cell_type":"markdown","metadata":{"id":"cxhvOQ2cVYeW","colab_type":"text"},"source":["Undoubtedly there are some hate speech tweets in this dataset <i>\"RT @PhxKen: SIR WINSTON CHURCHHILL: \"ISLAM IS A DANGEROUS IN A MAN AS RABIES IN A DOG\" http://t.co/kCXgKD70SK\".</i>\n","\n","However a lot of the other tweets depend on the context of the individual they are targeting at the time - the tweets talking about #mkr - ( a show called my kitchen rules in australia) is deemed sexist or racist at times only because of the subject they are talking about. <i>\"Wish these blondes were in that How To Get Away With Murder show...\"</i> - even then is this truly sexist?\n","\n","It's difficult to ascertain this without researching the context and perhaps the text alone isn't a good enough inidicator of hate speech.\n","\n","Some tweets are just mentioning racism or talking about it without being actually racist content-wise <i>\"RT @Dreamdefenders: Eric Holder from #ferguson: \"I understand that mistrust. I am the Attorney General, but I am also a Black Man\"</i>\n","\n","Likewise there is deep politcal complexities in some of the tweets above such as other tweets about ferguson and  also 9/11. Ultimately it's difficult to say at this point whether or not these tweets will be used to fine tune my model.\n","\n","I'll try and see if the addition of these tweets in training improves the performance of my model or not down the line "]},{"cell_type":"markdown","metadata":{"id":"7l7cPt46VYeW","colab_type":"text"},"source":["## Data from annotater reliability study - uses much of the Waseem & Hovy dataset directly above but has some extra data\n","\n","<b> The below data is from a study where the partcipants aimed to examine how reliable amateur annotaters were compared to experts in annotating hate speech. They used a lot of data from the above Waseem and Hovy 2016 dataset, (there is an overlap of 2,876 tweets).</b> \n","    \n","I only retrieved the opinions of the <b>expert annotaters</b>, as in the paper of the study itself they claim that the amateur annotaters are unreliable. Maybe this data retrieval gets some useful data, if anything at least it may give me some benign tweets which again is useful to the further-pretraining of BERT i'll be implementing later"]},{"cell_type":"code","metadata":{"id":"g8wMKA10VYeX","colab_type":"code","outputId":"0492257c-37b9-45b7-9a07-af72e4a62938","executionInfo":{"status":"ok","timestamp":1578419493540,"user_tz":0,"elapsed":695,"user":{"displayName":"Fionn McConville","photoUrl":"https://lh3.googleusercontent.com/a-/AAuE7mDQ4Te6RRh1B7ENukR6-4xoNAaV2ajfGgNpCD6y=s64","userId":"01326935138765014160"}},"colab":{"base_uri":"https://localhost:8080/","height":198}},"source":["path = r'https://raw.githubusercontent.com/ZeerakW/hatespeech/master/NLP%2BCSS_2016.csv'\n","\n","ids = pd.read_csv(path, sep='\\t', usecols = [\"TweetID\", \"Expert\"], index_col=False);\n","\n","ids.head()"],"execution_count":0,"outputs":[{"output_type":"execute_result","data":{"text/html":["<div>\n","<style scoped>\n","    .dataframe tbody tr th:only-of-type {\n","        vertical-align: middle;\n","    }\n","\n","    .dataframe tbody tr th {\n","        vertical-align: top;\n","    }\n","\n","    .dataframe thead th {\n","        text-align: right;\n","    }\n","</style>\n","<table border=\"1\" class=\"dataframe\">\n","  <thead>\n","    <tr style=\"text-align: right;\">\n","      <th></th>\n","      <th>TweetID</th>\n","      <th>Expert</th>\n","    </tr>\n","  </thead>\n","  <tbody>\n","    <tr>\n","      <th>0</th>\n","      <td>597576902212063232</td>\n","      <td>neither</td>\n","    </tr>\n","    <tr>\n","      <th>1</th>\n","      <td>565586175864610817</td>\n","      <td>neither</td>\n","    </tr>\n","    <tr>\n","      <th>2</th>\n","      <td>563881580209246209</td>\n","      <td>neither</td>\n","    </tr>\n","    <tr>\n","      <th>3</th>\n","      <td>595380689534656512</td>\n","      <td>neither</td>\n","    </tr>\n","    <tr>\n","      <th>4</th>\n","      <td>563757610327748608</td>\n","      <td>neither</td>\n","    </tr>\n","  </tbody>\n","</table>\n","</div>"],"text/plain":["              TweetID   Expert\n","0  597576902212063232  neither\n","1  565586175864610817  neither\n","2  563881580209246209  neither\n","3  595380689534656512  neither\n","4  563757610327748608  neither"]},"metadata":{"tags":[]},"execution_count":45}]},{"cell_type":"code","metadata":{"id":"Pdym7NsbVYeY","colab_type":"code","outputId":"b231b45a-4d9f-4bc5-d342-9248942cf134","executionInfo":{"status":"ok","timestamp":1578419499317,"user_tz":0,"elapsed":454,"user":{"displayName":"Fionn McConville","photoUrl":"https://lh3.googleusercontent.com/a-/AAuE7mDQ4Te6RRh1B7ENukR6-4xoNAaV2ajfGgNpCD6y=s64","userId":"01326935138765014160"}},"colab":{"base_uri":"https://localhost:8080/","height":145}},"source":["ids.rename(columns = {'TweetID':'id'}, inplace = True)\n","ids.rename(columns = {'Expert': 'label'}, inplace = True)\n","ids.info()"],"execution_count":0,"outputs":[{"output_type":"stream","text":["<class 'pandas.core.frame.DataFrame'>\n","RangeIndex: 6909 entries, 0 to 6908\n","Data columns (total 2 columns):\n","id       6909 non-null int64\n","label    6909 non-null object\n","dtypes: int64(1), object(1)\n","memory usage: 108.1+ KB\n"],"name":"stdout"}]},{"cell_type":"code","metadata":{"id":"dVorzODjVYeZ","colab_type":"code","colab":{}},"source":["good_tweet_ids = list(ids['id']) #Create a list of tweet ids to look up \n","results = lookup_tweets(good_tweet_ids, api) #apply function"],"execution_count":0,"outputs":[]},{"cell_type":"code","metadata":{"id":"zMGw8Ox3VYea","colab_type":"code","colab":{}},"source":["temp = json.dumps([status._json for status in results]) #create JSON\n","newdf = pd.read_json(temp, orient='records')\n","full = ids.merge(newdf,  how='left', on = 'id')"],"execution_count":0,"outputs":[]},{"cell_type":"code","metadata":{"id":"APWPoQbrVYec","colab_type":"code","outputId":"f61be84c-5c62-4d69-e10e-5478487adac2","executionInfo":{"status":"ok","timestamp":1578419566106,"user_tz":0,"elapsed":505,"user":{"displayName":"Fionn McConville","photoUrl":"https://lh3.googleusercontent.com/a-/AAuE7mDQ4Te6RRh1B7ENukR6-4xoNAaV2ajfGgNpCD6y=s64","userId":"01326935138765014160"}},"colab":{"base_uri":"https://localhost:8080/","height":417}},"source":["tweetSet1 = full[['id', 'label', 'text']]\n","tweetSet1 = tweetSet1.drop_duplicates(subset = 'id')\n","pd.set_option('display.max_colwidth', -1)\n","dups1 = len(tweetSet1) - tweetSet1['text'].count()\n","tweetSet1.dropna(inplace=True)\n","tweetSet1.head(10)"],"execution_count":0,"outputs":[{"output_type":"execute_result","data":{"text/html":["<div>\n","<style scoped>\n","    .dataframe tbody tr th:only-of-type {\n","        vertical-align: middle;\n","    }\n","\n","    .dataframe tbody tr th {\n","        vertical-align: top;\n","    }\n","\n","    .dataframe thead th {\n","        text-align: right;\n","    }\n","</style>\n","<table border=\"1\" class=\"dataframe\">\n","  <thead>\n","    <tr style=\"text-align: right;\">\n","      <th></th>\n","      <th>id</th>\n","      <th>label</th>\n","      <th>text</th>\n","    </tr>\n","  </thead>\n","  <tbody>\n","    <tr>\n","      <th>0</th>\n","      <td>597576902212063232</td>\n","      <td>neither</td>\n","      <td>Cisco had to deal with a fat cash payout to the FSF *and* allow an external party to do constant reviews of their FOSS license compliancy.</td>\n","    </tr>\n","    <tr>\n","      <th>1</th>\n","      <td>565586175864610817</td>\n","      <td>neither</td>\n","      <td>@MadamPlumpette I'm decent at editing, no worries ^.^</td>\n","    </tr>\n","    <tr>\n","      <th>2</th>\n","      <td>563881580209246209</td>\n","      <td>neither</td>\n","      <td>@girlziplocked will read. gotta go afk for a bit - still bringing stuff in from car after week long road trip.</td>\n","    </tr>\n","    <tr>\n","      <th>3</th>\n","      <td>595380689534656512</td>\n","      <td>neither</td>\n","      <td>guys. show me the data. show me your github. tell me your story. show me something that makes me think you're not a bag of useless opinions.</td>\n","    </tr>\n","    <tr>\n","      <th>4</th>\n","      <td>563757610327748608</td>\n","      <td>neither</td>\n","      <td>@tpw_rules nothings broken. I was just driving througg a lot of water.</td>\n","    </tr>\n","    <tr>\n","      <th>5</th>\n","      <td>563082741370339330</td>\n","      <td>neither</td>\n","      <td>ur face is classified as a utility by the FCC.</td>\n","    </tr>\n","    <tr>\n","      <th>6</th>\n","      <td>596962098845851648</td>\n","      <td>neither</td>\n","      <td>@lysandraws yay! Absolutely. I'm not gone until November :)</td>\n","    </tr>\n","    <tr>\n","      <th>7</th>\n","      <td>563874350038675457</td>\n","      <td>neither</td>\n","      <td>RT @kashiichan: \"It really feels like the @twitter DM can be the hand-on-the-knee of social communication.\" http://t.co/7mFseL5zfE #stopwad…</td>\n","    </tr>\n","    <tr>\n","      <th>8</th>\n","      <td>597240424873394176</td>\n","      <td>neither</td>\n","      <td>@SirenSailor rtfm. http://t.co/jaMXHikl3u</td>\n","    </tr>\n","    <tr>\n","      <th>10</th>\n","      <td>595306172833353728</td>\n","      <td>neither</td>\n","      <td>@Popehat who wouldn't?</td>\n","    </tr>\n","  </tbody>\n","</table>\n","</div>"],"text/plain":["                    id  ...                                                                                                                                          text\n","0   597576902212063232  ...  Cisco had to deal with a fat cash payout to the FSF *and* allow an external party to do constant reviews of their FOSS license compliancy.  \n","1   565586175864610817  ...  @MadamPlumpette I'm decent at editing, no worries ^.^                                                                                       \n","2   563881580209246209  ...  @girlziplocked will read. gotta go afk for a bit - still bringing stuff in from car after week long road trip.                              \n","3   595380689534656512  ...  guys. show me the data. show me your github. tell me your story. show me something that makes me think you're not a bag of useless opinions.\n","4   563757610327748608  ...  @tpw_rules nothings broken. I was just driving througg a lot of water.                                                                      \n","5   563082741370339330  ...  ur face is classified as a utility by the FCC.                                                                                              \n","6   596962098845851648  ...  @lysandraws yay! Absolutely. I'm not gone until November :)                                                                                 \n","7   563874350038675457  ...  RT @kashiichan: \"It really feels like the @twitter DM can be the hand-on-the-knee of social communication.\" http://t.co/7mFseL5zfE #stopwad…\n","8   597240424873394176  ...  @SirenSailor rtfm. http://t.co/jaMXHikl3u                                                                                                   \n","10  595306172833353728  ...  @Popehat who wouldn't?                                                                                                                      \n","\n","[10 rows x 3 columns]"]},"metadata":{"tags":[]},"execution_count":49}]},{"cell_type":"markdown","metadata":{"id":"Z5nZV--fVYed","colab_type":"text"},"source":["### Data content of both datasets after dropping null rows:"]},{"cell_type":"code","metadata":{"id":"zjCmxQ0aVYed","colab_type":"code","outputId":"62825bd7-1bd2-430f-9c0a-30b104c1014f","executionInfo":{"status":"ok","timestamp":1578419595325,"user_tz":0,"elapsed":529,"user":{"displayName":"Fionn McConville","photoUrl":"https://lh3.googleusercontent.com/a-/AAuE7mDQ4Te6RRh1B7ENukR6-4xoNAaV2ajfGgNpCD6y=s64","userId":"01326935138765014160"}},"colab":{"base_uri":"https://localhost:8080/","height":54}},"source":["\n","print(\"There are\", len(tweetSet.index), \"tweets in the first dataframe with\",\\\n","      dups, \"duplicates\")\n","\n","print(\"And\", len(tweetSet1.index), \"tweets in the second dataframe with\",\\\n","     dups1, \"duplicates\")\n"],"execution_count":0,"outputs":[{"output_type":"stream","text":["There are 10821 tweets in the first dataframe with 6028 duplicates\n","And 6221 tweets in the second dataframe with 688 duplicates\n"],"name":"stdout"}]},{"cell_type":"markdown","metadata":{"id":"Mw49lB2ZVYef","colab_type":"text"},"source":["### Combining the two datasets and saving as csv\n","\n","Hopefully with the merge function I'll be able to reliably combine the two datasets and have no duplicates in the final result. As stated above there is supposed to be an overlap of 2,786 tweets so this final set of data should be 16,907 + 6,909 - 2,786 - 5983 - 669 = 14,378 in the overall combined set."]},{"cell_type":"code","metadata":{"id":"86gKFfveVYef","colab_type":"code","outputId":"e668a7ad-9f7d-4b3d-fd76-e04f8048c563","executionInfo":{"status":"ok","timestamp":1578419603235,"user_tz":0,"elapsed":470,"user":{"displayName":"Fionn McConville","photoUrl":"https://lh3.googleusercontent.com/a-/AAuE7mDQ4Te6RRh1B7ENukR6-4xoNAaV2ajfGgNpCD6y=s64","userId":"01326935138765014160"}},"colab":{"base_uri":"https://localhost:8080/","height":163}},"source":["fullSet = pd.merge(tweetSet, tweetSet1,  how='outer', on = ['id', 'text', 'label'])\n","fullSet.drop_duplicates(subset= ['id'], keep = 'last', inplace = True)\n","fullSet.info()"],"execution_count":0,"outputs":[{"output_type":"stream","text":["<class 'pandas.core.frame.DataFrame'>\n","Int64Index: 13092 entries, 3 to 16966\n","Data columns (total 3 columns):\n","id       13092 non-null int64\n","label    13092 non-null object\n","text     13092 non-null object\n","dtypes: int64(1), object(2)\n","memory usage: 409.1+ KB\n"],"name":"stdout"}]},{"cell_type":"markdown","metadata":{"id":"nAE4MfmbVYeh","colab_type":"text"},"source":["Not the exact number of tweets we were seeking, but it's likely this is because when that datset was first collected, all of those tweets were available to be retrieved - wheras now they can't be because the accounts they belong to are suspended."]},{"cell_type":"code","metadata":{"id":"l59JggpOVYeh","colab_type":"code","outputId":"eb747f1e-62fe-4243-c3ee-eb463d7c75dd","executionInfo":{"status":"ok","timestamp":1578419666726,"user_tz":0,"elapsed":2185,"user":{"displayName":"Fionn McConville","photoUrl":"https://lh3.googleusercontent.com/a-/AAuE7mDQ4Te6RRh1B7ENukR6-4xoNAaV2ajfGgNpCD6y=s64","userId":"01326935138765014160"}},"colab":{"base_uri":"https://localhost:8080/","height":181}},"source":["#Below we combined both sets of data to get a local copy of the dataframe:\n","\n","fullSet.to_csv(os.path.join(DATA_DIR, 'Waseem_Hovy_2016.csv'), sep = ',', encoding='utf-8', index = False, header = True)\n","\n","path = os.path.join(DATA_DIR, 'Waseem_Hovy_2016.csv')\n","\n","ids = pd.read_csv(path, sep=',');\n","\n","print(ids.info())"],"execution_count":0,"outputs":[{"output_type":"stream","text":["<class 'pandas.core.frame.DataFrame'>\n","RangeIndex: 13094 entries, 0 to 13093\n","Data columns (total 3 columns):\n","id       13094 non-null object\n","label    13092 non-null object\n","text     13092 non-null object\n","dtypes: object(3)\n","memory usage: 307.0+ KB\n","None\n"],"name":"stdout"}]},{"cell_type":"markdown","metadata":{"id":"-DleQMLYJQrd","colab_type":"text"},"source":["The dataset loads back from the google bucket strangely, upon inspection there's two entries that return with no text or label - the rest of the entries are fine. I'll just remove rows with null entries when loading this dataset in again to mitigate this "]},{"cell_type":"markdown","metadata":{"id":"fISNiXmaVYej","colab_type":"text"},"source":["# Cleaning and merging the Datasets to create an overall database of tweets\n","\n","We will be implementing a transfer learning approach to NLP in this project and so this database will be designed with that in mind, the three steps we hope to implement are:\n","\n","1. <b>Further Pre-Training:</b> Pre-train a BERT sentence encoder on the whole dataset to learn tweet language\n","\n","2. <b>Multi-Task Fine-Tuning:</b> Transfer the knowledge learned from the further pre-trained BERT model onto a neural network model classifying tweets that are offensive ( a classification task related to classifying hate speech)\n","\n","3. <b>Fine-Tuning on Target Task:</b> Transfer the knowledge learned from the previous model and classify hate speech\n","\n","Because of this the overall database will be simple, there will be three columns. One column for the text content for a tweet, one column denoting if it's an offensive tweet or not (offensive could mean that it contains profanity but not necessairly harmful in intent) and one column denoting if the tweet is judged to be hate speech or not.\n","\n","All tweets that are hate speech will be considered intrinsically offensive ans so will be annotated as such. "]},{"cell_type":"markdown","metadata":{"id":"xexknIQhsgbj","colab_type":"text"},"source":["### OffensEval Dataset"]},{"cell_type":"code","metadata":{"id":"IjVPEZ6VVYej","colab_type":"code","outputId":"28a9ddc4-ac46-4c34-b277-0508160ae553","executionInfo":{"status":"ok","timestamp":1578418523275,"user_tz":0,"elapsed":710,"user":{"displayName":"Fionn McConville","photoUrl":"https://lh3.googleusercontent.com/a-/AAuE7mDQ4Te6RRh1B7ENukR6-4xoNAaV2ajfGgNpCD6y=s64","userId":"01326935138765014160"}},"colab":{"base_uri":"https://localhost:8080/","height":319}},"source":["path = os.path.join(DATA_DIR, 'OLIDv1.0/olid-training-v1.0.tsv')\n","offens = pd.read_csv(path, sep='\\t');\n","offens.head()"],"execution_count":0,"outputs":[{"output_type":"execute_result","data":{"text/html":["<div>\n","<style scoped>\n","    .dataframe tbody tr th:only-of-type {\n","        vertical-align: middle;\n","    }\n","\n","    .dataframe tbody tr th {\n","        vertical-align: top;\n","    }\n","\n","    .dataframe thead th {\n","        text-align: right;\n","    }\n","</style>\n","<table border=\"1\" class=\"dataframe\">\n","  <thead>\n","    <tr style=\"text-align: right;\">\n","      <th></th>\n","      <th>id</th>\n","      <th>tweet</th>\n","      <th>subtask_a</th>\n","      <th>subtask_b</th>\n","      <th>subtask_c</th>\n","    </tr>\n","  </thead>\n","  <tbody>\n","    <tr>\n","      <th>0</th>\n","      <td>86426</td>\n","      <td>@USER She should ask a few native Americans what their take on this is.</td>\n","      <td>OFF</td>\n","      <td>UNT</td>\n","      <td>NaN</td>\n","    </tr>\n","    <tr>\n","      <th>1</th>\n","      <td>90194</td>\n","      <td>@USER @USER Go home you’re drunk!!! @USER #MAGA #Trump2020 👊🇺🇸👊 URL</td>\n","      <td>OFF</td>\n","      <td>TIN</td>\n","      <td>IND</td>\n","    </tr>\n","    <tr>\n","      <th>2</th>\n","      <td>16820</td>\n","      <td>Amazon is investigating Chinese employees who are selling internal data to third-party sellers looking for an edge in the competitive marketplace. URL #Amazon #MAGA #KAG #CHINA #TCOT</td>\n","      <td>NOT</td>\n","      <td>NaN</td>\n","      <td>NaN</td>\n","    </tr>\n","    <tr>\n","      <th>3</th>\n","      <td>62688</td>\n","      <td>@USER Someone should'veTaken\" this piece of shit to a volcano. 😂\"</td>\n","      <td>OFF</td>\n","      <td>UNT</td>\n","      <td>NaN</td>\n","    </tr>\n","    <tr>\n","      <th>4</th>\n","      <td>43605</td>\n","      <td>@USER @USER Obama wanted liberals &amp;amp; illegals to move into red states</td>\n","      <td>NOT</td>\n","      <td>NaN</td>\n","      <td>NaN</td>\n","    </tr>\n","  </tbody>\n","</table>\n","</div>"],"text/plain":["      id  ... subtask_c\n","0  86426  ...  NaN     \n","1  90194  ...  IND     \n","2  16820  ...  NaN     \n","3  62688  ...  NaN     \n","4  43605  ...  NaN     \n","\n","[5 rows x 5 columns]"]},"metadata":{"tags":[]},"execution_count":11}]},{"cell_type":"markdown","metadata":{"id":"yDR5UjbTVYel","colab_type":"text"},"source":["<b>As mentioned before, we cannot say with confidence that any of these tweets can be strictly characterised as hate speech - although it can help with the second stage of our transfer learning model, in that it has a wealth of offensive tweets.</b>\n","    \n","<i>We will exclude the tweets that satisfy all three subtasks; (that the tweet is offensive, is targeted and is directed at a group), because although we saw instances above that may not be hate speech in this category, nevertheless we'll err on the side of caution so as to not contaminate the database by annotating tweets as hate speech when they aren't.</i>"]},{"cell_type":"code","metadata":{"id":"PFdmJ-OgVYel","colab_type":"code","outputId":"29b19924-d518-4b3d-f14d-758a4464d9c6","executionInfo":{"status":"ok","timestamp":1578418527575,"user_tz":0,"elapsed":593,"user":{"displayName":"Fionn McConville","photoUrl":"https://lh3.googleusercontent.com/a-/AAuE7mDQ4Te6RRh1B7ENukR6-4xoNAaV2ajfGgNpCD6y=s64","userId":"01326935138765014160"}},"colab":{"base_uri":"https://localhost:8080/","height":199}},"source":["offens.drop(offens[(offens[\"subtask_a\"] == 'OFF') & \\\n","                  (offens[\"subtask_b\"] == 'TIN') & \\\n","                  (offens[\"subtask_c\"] == 'GRP')].index, inplace = True)\n","offens.info()"],"execution_count":0,"outputs":[{"output_type":"stream","text":["<class 'pandas.core.frame.DataFrame'>\n","Int64Index: 12166 entries, 0 to 13239\n","Data columns (total 5 columns):\n","id           12166 non-null int64\n","tweet        12166 non-null object\n","subtask_a    12166 non-null object\n","subtask_b    3326 non-null object\n","subtask_c    2802 non-null object\n","dtypes: int64(1), object(4)\n","memory usage: 570.3+ KB\n"],"name":"stdout"}]},{"cell_type":"markdown","metadata":{"id":"u23e3cE0VYen","colab_type":"text"},"source":["<b>We don't need the columns annotating who the tweets are targeted against and if they are indeed targeted as this information is not important to our investigation. Thus, we'll drop these columns<b>"]},{"cell_type":"code","metadata":{"id":"PKPhlsTlVYen","colab_type":"code","outputId":"f4aa0a35-06f2-43e7-948b-a458f62ef6cd","executionInfo":{"status":"ok","timestamp":1578418531975,"user_tz":0,"elapsed":490,"user":{"displayName":"Fionn McConville","photoUrl":"https://lh3.googleusercontent.com/a-/AAuE7mDQ4Te6RRh1B7ENukR6-4xoNAaV2ajfGgNpCD6y=s64","userId":"01326935138765014160"}},"colab":{"base_uri":"https://localhost:8080/","height":163}},"source":["cols = ['subtask_b', 'subtask_c']\n","offens.drop(cols, inplace = True, axis = 1)\n","offens.reset_index(drop = True, inplace = True)\n","offens.info()"],"execution_count":0,"outputs":[{"output_type":"stream","text":["<class 'pandas.core.frame.DataFrame'>\n","RangeIndex: 12166 entries, 0 to 12165\n","Data columns (total 3 columns):\n","id           12166 non-null int64\n","tweet        12166 non-null object\n","subtask_a    12166 non-null object\n","dtypes: int64(1), object(2)\n","memory usage: 285.3+ KB\n"],"name":"stdout"}]},{"cell_type":"code","metadata":{"id":"FVwHSbMrVYeo","colab_type":"code","outputId":"f333a9f5-df77-4f1a-994f-c0ed4e8effe2","executionInfo":{"status":"ok","timestamp":1578418535952,"user_tz":0,"elapsed":569,"user":{"displayName":"Fionn McConville","photoUrl":"https://lh3.googleusercontent.com/a-/AAuE7mDQ4Te6RRh1B7ENukR6-4xoNAaV2ajfGgNpCD6y=s64","userId":"01326935138765014160"}},"colab":{"base_uri":"https://localhost:8080/","height":267}},"source":["offens.rename(columns = {'subtask_a':'Offensive', 'tweet': 'Tweet'}, inplace = True)\n","offens['Hate_Speech'] = 0\n","offens.loc[offens['Offensive'] == 'OFF', 'Offensive'] = 1\n","offens.loc[offens['Offensive'] == 'NOT', 'Offensive'] = 0\n","offens.head()"],"execution_count":0,"outputs":[{"output_type":"execute_result","data":{"text/html":["<div>\n","<style scoped>\n","    .dataframe tbody tr th:only-of-type {\n","        vertical-align: middle;\n","    }\n","\n","    .dataframe tbody tr th {\n","        vertical-align: top;\n","    }\n","\n","    .dataframe thead th {\n","        text-align: right;\n","    }\n","</style>\n","<table border=\"1\" class=\"dataframe\">\n","  <thead>\n","    <tr style=\"text-align: right;\">\n","      <th></th>\n","      <th>id</th>\n","      <th>Tweet</th>\n","      <th>Offensive</th>\n","      <th>Hate_Speech</th>\n","    </tr>\n","  </thead>\n","  <tbody>\n","    <tr>\n","      <th>0</th>\n","      <td>86426</td>\n","      <td>@USER She should ask a few native Americans what their take on this is.</td>\n","      <td>1</td>\n","      <td>0</td>\n","    </tr>\n","    <tr>\n","      <th>1</th>\n","      <td>90194</td>\n","      <td>@USER @USER Go home you’re drunk!!! @USER #MAGA #Trump2020 👊🇺🇸👊 URL</td>\n","      <td>1</td>\n","      <td>0</td>\n","    </tr>\n","    <tr>\n","      <th>2</th>\n","      <td>16820</td>\n","      <td>Amazon is investigating Chinese employees who are selling internal data to third-party sellers looking for an edge in the competitive marketplace. URL #Amazon #MAGA #KAG #CHINA #TCOT</td>\n","      <td>0</td>\n","      <td>0</td>\n","    </tr>\n","    <tr>\n","      <th>3</th>\n","      <td>62688</td>\n","      <td>@USER Someone should'veTaken\" this piece of shit to a volcano. 😂\"</td>\n","      <td>1</td>\n","      <td>0</td>\n","    </tr>\n","    <tr>\n","      <th>4</th>\n","      <td>43605</td>\n","      <td>@USER @USER Obama wanted liberals &amp;amp; illegals to move into red states</td>\n","      <td>0</td>\n","      <td>0</td>\n","    </tr>\n","  </tbody>\n","</table>\n","</div>"],"text/plain":["      id  ... Hate_Speech\n","0  86426  ...  0         \n","1  90194  ...  0         \n","2  16820  ...  0         \n","3  62688  ...  0         \n","4  43605  ...  0         \n","\n","[5 rows x 4 columns]"]},"metadata":{"tags":[]},"execution_count":14}]},{"cell_type":"markdown","metadata":{"id":"SSD7yEDSVYep","colab_type":"text"},"source":["## ICVSM 2017 dataset"]},{"cell_type":"code","metadata":{"id":"7B-SP2c2VYeq","colab_type":"code","outputId":"7b2fed25-6503-4bf0-c67a-3206ef453db6","executionInfo":{"status":"ok","timestamp":1578418542013,"user_tz":0,"elapsed":653,"user":{"displayName":"Fionn McConville","photoUrl":"https://lh3.googleusercontent.com/a-/AAuE7mDQ4Te6RRh1B7ENukR6-4xoNAaV2ajfGgNpCD6y=s64","userId":"01326935138765014160"}},"colab":{"base_uri":"https://localhost:8080/","height":336}},"source":["sometweets = pd.read_csv(os.path.join(DATA_DIR, 'ICVSM_2017.csv'), sep=',')\n","\n","cols = ['Unnamed: 0', 'count','offensive_language','neither']\n","sometweets.drop(cols, inplace = True, axis = 1)\n","sometweets.reset_index(drop = True, inplace = True)\n","\n","#initialise to all 0's, we'll change later\n","sometweets['Hate_Speech'] = 0\n","sometweets['Offensive'] = 0\n","\n","sometweets.rename(columns = {'tweet': 'Tweet'}, inplace = True)\n","sometweets.head()"],"execution_count":0,"outputs":[{"output_type":"execute_result","data":{"text/html":["<div>\n","<style scoped>\n","    .dataframe tbody tr th:only-of-type {\n","        vertical-align: middle;\n","    }\n","\n","    .dataframe tbody tr th {\n","        vertical-align: top;\n","    }\n","\n","    .dataframe thead th {\n","        text-align: right;\n","    }\n","</style>\n","<table border=\"1\" class=\"dataframe\">\n","  <thead>\n","    <tr style=\"text-align: right;\">\n","      <th></th>\n","      <th>hate_speech</th>\n","      <th>class</th>\n","      <th>Tweet</th>\n","      <th>Hate_Speech</th>\n","      <th>Offensive</th>\n","    </tr>\n","  </thead>\n","  <tbody>\n","    <tr>\n","      <th>0</th>\n","      <td>0</td>\n","      <td>2</td>\n","      <td>!!! RT @mayasolovely: As a woman you shouldn't complain about cleaning up your house. &amp;amp; as a man you should always take the trash out...</td>\n","      <td>0</td>\n","      <td>0</td>\n","    </tr>\n","    <tr>\n","      <th>1</th>\n","      <td>0</td>\n","      <td>1</td>\n","      <td>!!!!! RT @mleew17: boy dats cold...tyga dwn bad for cuffin dat hoe in the 1st place!!</td>\n","      <td>0</td>\n","      <td>0</td>\n","    </tr>\n","    <tr>\n","      <th>2</th>\n","      <td>0</td>\n","      <td>1</td>\n","      <td>!!!!!!! RT @UrKindOfBrand Dawg!!!! RT @80sbaby4life: You ever fuck a bitch and she start to cry? You be confused as shit</td>\n","      <td>0</td>\n","      <td>0</td>\n","    </tr>\n","    <tr>\n","      <th>3</th>\n","      <td>0</td>\n","      <td>1</td>\n","      <td>!!!!!!!!! RT @C_G_Anderson: @viva_based she look like a tranny</td>\n","      <td>0</td>\n","      <td>0</td>\n","    </tr>\n","    <tr>\n","      <th>4</th>\n","      <td>0</td>\n","      <td>1</td>\n","      <td>!!!!!!!!!!!!! RT @ShenikaRoberts: The shit you hear about me might be true or it might be faker than the bitch who told it to ya &amp;#57361;</td>\n","      <td>0</td>\n","      <td>0</td>\n","    </tr>\n","  </tbody>\n","</table>\n","</div>"],"text/plain":["   hate_speech  class  ... Hate_Speech  Offensive\n","0  0            2      ...  0           0        \n","1  0            1      ...  0           0        \n","2  0            1      ...  0           0        \n","3  0            1      ...  0           0        \n","4  0            1      ...  0           0        \n","\n","[5 rows x 5 columns]"]},"metadata":{"tags":[]},"execution_count":15}]},{"cell_type":"markdown","metadata":{"id":"r_r1YeTmVYes","colab_type":"text"},"source":["Remember the annotation mentioned above, the column we're interested in here is the column \"class\".\n","\n","<b>Denoted 0 - for hate speech, 1 - for offensive speech and 2 for neither. This fits perfectly into our existing dataframe structure. </b>\n","\n","Based on what the class label is on this dataframe, we can populate the Hate_Speech and Offensive columns "]},{"cell_type":"code","metadata":{"id":"CESp4krFVYet","colab_type":"code","outputId":"e24e4328-798a-44c8-aeba-0f5f75ce44d8","executionInfo":{"status":"ok","timestamp":1578418549822,"user_tz":0,"elapsed":554,"user":{"displayName":"Fionn McConville","photoUrl":"https://lh3.googleusercontent.com/a-/AAuE7mDQ4Te6RRh1B7ENukR6-4xoNAaV2ajfGgNpCD6y=s64","userId":"01326935138765014160"}},"colab":{"base_uri":"https://localhost:8080/","height":336}},"source":["sometweets['Hate_Speech'] = np.where((sometweets['class'] == 0) & (sometweets['hate_speech'] > 2), 1, 0)\n","sometweets['Offensive'] = np.where((sometweets['class'] == 2), 0, 1)\n","sometweets.head(5)"],"execution_count":0,"outputs":[{"output_type":"execute_result","data":{"text/html":["<div>\n","<style scoped>\n","    .dataframe tbody tr th:only-of-type {\n","        vertical-align: middle;\n","    }\n","\n","    .dataframe tbody tr th {\n","        vertical-align: top;\n","    }\n","\n","    .dataframe thead th {\n","        text-align: right;\n","    }\n","</style>\n","<table border=\"1\" class=\"dataframe\">\n","  <thead>\n","    <tr style=\"text-align: right;\">\n","      <th></th>\n","      <th>hate_speech</th>\n","      <th>class</th>\n","      <th>Tweet</th>\n","      <th>Hate_Speech</th>\n","      <th>Offensive</th>\n","    </tr>\n","  </thead>\n","  <tbody>\n","    <tr>\n","      <th>0</th>\n","      <td>0</td>\n","      <td>2</td>\n","      <td>!!! RT @mayasolovely: As a woman you shouldn't complain about cleaning up your house. &amp;amp; as a man you should always take the trash out...</td>\n","      <td>0</td>\n","      <td>0</td>\n","    </tr>\n","    <tr>\n","      <th>1</th>\n","      <td>0</td>\n","      <td>1</td>\n","      <td>!!!!! RT @mleew17: boy dats cold...tyga dwn bad for cuffin dat hoe in the 1st place!!</td>\n","      <td>0</td>\n","      <td>1</td>\n","    </tr>\n","    <tr>\n","      <th>2</th>\n","      <td>0</td>\n","      <td>1</td>\n","      <td>!!!!!!! RT @UrKindOfBrand Dawg!!!! RT @80sbaby4life: You ever fuck a bitch and she start to cry? You be confused as shit</td>\n","      <td>0</td>\n","      <td>1</td>\n","    </tr>\n","    <tr>\n","      <th>3</th>\n","      <td>0</td>\n","      <td>1</td>\n","      <td>!!!!!!!!! RT @C_G_Anderson: @viva_based she look like a tranny</td>\n","      <td>0</td>\n","      <td>1</td>\n","    </tr>\n","    <tr>\n","      <th>4</th>\n","      <td>0</td>\n","      <td>1</td>\n","      <td>!!!!!!!!!!!!! RT @ShenikaRoberts: The shit you hear about me might be true or it might be faker than the bitch who told it to ya &amp;#57361;</td>\n","      <td>0</td>\n","      <td>1</td>\n","    </tr>\n","  </tbody>\n","</table>\n","</div>"],"text/plain":["   hate_speech  class  ... Hate_Speech  Offensive\n","0  0            2      ...  0           0        \n","1  0            1      ...  0           1        \n","2  0            1      ...  0           1        \n","3  0            1      ...  0           1        \n","4  0            1      ...  0           1        \n","\n","[5 rows x 5 columns]"]},"metadata":{"tags":[]},"execution_count":16}]},{"cell_type":"code","metadata":{"id":"xaqphLkeVYew","colab_type":"code","outputId":"ad51afa9-3864-4ec2-b498-5bdeead5aee1","executionInfo":{"status":"ok","timestamp":1578418587384,"user_tz":0,"elapsed":2114,"user":{"displayName":"Fionn McConville","photoUrl":"https://lh3.googleusercontent.com/a-/AAuE7mDQ4Te6RRh1B7ENukR6-4xoNAaV2ajfGgNpCD6y=s64","userId":"01326935138765014160"}},"colab":{"base_uri":"https://localhost:8080/","height":54}},"source":["sometweets.drop(columns = ['class','hate_speech'], axis = 1, inplace = True)\n","sometweets.reset_index(drop = True, inplace = True)\n","hatetweets = sometweets[sometweets[\"Hate_Speech\"] == 1]\n","print(\"There are\", len(hatetweets.index), \"tweets denoted as hate speech\")\n","#If successful it should be 308 entries\n","offenstweets = sometweets[sometweets[\"Offensive\"] == 1]\n","print(\"There are\", len(offenstweets.index), \"tweets denoted as offensive\")"],"execution_count":0,"outputs":[{"output_type":"stream","text":["There are 308 tweets denoted as hate speech\n","There are 20620 tweets denoted as offensive\n"],"name":"stdout"}]},{"cell_type":"markdown","metadata":{"id":"MOef3TgNVYey","colab_type":"text"},"source":["## HatEval 2019 dataset"]},{"cell_type":"code","metadata":{"id":"vDD3G_p1VYez","colab_type":"code","outputId":"d193170d-7ff8-4b5c-97ca-9a176e147f51","executionInfo":{"status":"ok","timestamp":1578418598332,"user_tz":0,"elapsed":2569,"user":{"displayName":"Fionn McConville","photoUrl":"https://lh3.googleusercontent.com/a-/AAuE7mDQ4Te6RRh1B7ENukR6-4xoNAaV2ajfGgNpCD6y=s64","userId":"01326935138765014160"}},"colab":{"base_uri":"https://localhost:8080/","height":181}},"source":["path = os.path.join(DATA_DIR, 'semeval_2018_task5_hateval/public_development_en/dev_en.tsv')\n","dev = pd.read_csv(path, sep='\\t');\n","\n","path1 = os.path.join(DATA_DIR,'semeval_2018_task5_hateval/public_development_en/train_en.tsv')\n","train = pd.read_csv(path1, sep='\\t');\n","#The IDs below aren't actually tweet IDs, just unrelated numbers\n","\n","dev.drop('id', inplace = True, axis = 1)\n","dev.reset_index(drop = True, inplace = True)\n","\n","train.drop('id', inplace = True, axis = 1)\n","train.reset_index(drop = True, inplace = True)\n","\n","semeval = pd.concat([train,dev], axis=0)\n","semeval.drop_duplicates(subset = 'text',inplace=True)\n","semeval.reset_index(drop = True, inplace = True)\n","semeval.info()"],"execution_count":0,"outputs":[{"output_type":"stream","text":["<class 'pandas.core.frame.DataFrame'>\n","RangeIndex: 9998 entries, 0 to 9997\n","Data columns (total 4 columns):\n","text    9998 non-null object\n","HS      9998 non-null int64\n","TR      9998 non-null int64\n","AG      9998 non-null int64\n","dtypes: int64(3), object(1)\n","memory usage: 312.6+ KB\n"],"name":"stdout"}]},{"cell_type":"code","metadata":{"id":"Vkcg8lIlVYe0","colab_type":"code","outputId":"aea68339-64e5-4601-8684-ec5e80c15c7f","executionInfo":{"status":"ok","timestamp":1578418602124,"user_tz":0,"elapsed":997,"user":{"displayName":"Fionn McConville","photoUrl":"https://lh3.googleusercontent.com/a-/AAuE7mDQ4Te6RRh1B7ENukR6-4xoNAaV2ajfGgNpCD6y=s64","userId":"01326935138765014160"}},"colab":{"base_uri":"https://localhost:8080/","height":336}},"source":["semeval.head(5)"],"execution_count":0,"outputs":[{"output_type":"execute_result","data":{"text/html":["<div>\n","<style scoped>\n","    .dataframe tbody tr th:only-of-type {\n","        vertical-align: middle;\n","    }\n","\n","    .dataframe tbody tr th {\n","        vertical-align: top;\n","    }\n","\n","    .dataframe thead th {\n","        text-align: right;\n","    }\n","</style>\n","<table border=\"1\" class=\"dataframe\">\n","  <thead>\n","    <tr style=\"text-align: right;\">\n","      <th></th>\n","      <th>text</th>\n","      <th>HS</th>\n","      <th>TR</th>\n","      <th>AG</th>\n","    </tr>\n","  </thead>\n","  <tbody>\n","    <tr>\n","      <th>0</th>\n","      <td>Hurray, saving us $$$ in so many ways @potus @realDonaldTrump #LockThemUp #BuildTheWall #EndDACA #BoycottNFL #BoycottNike</td>\n","      <td>1</td>\n","      <td>0</td>\n","      <td>0</td>\n","    </tr>\n","    <tr>\n","      <th>1</th>\n","      <td>Why would young fighting age men be the vast majority of the ones escaping a war &amp;amp; not those who cannot fight like women, children, and the elderly?It's because the majority of the refugees are not actually refugees they are economic migrants trying to get into Europe.... https://t.co/Ks0SHbtYqn</td>\n","      <td>1</td>\n","      <td>0</td>\n","      <td>0</td>\n","    </tr>\n","    <tr>\n","      <th>2</th>\n","      <td>@KamalaHarris Illegals Dump their Kids at the border like Road Kill and Refuse to Unite! They Hope they get Amnesty, Free Education and Welfare Illegal #FamilesBelongTogether in their Country not on the Taxpayer Dime Its a SCAM #NoDACA #NoAmnesty #SendThe</td>\n","      <td>1</td>\n","      <td>0</td>\n","      <td>0</td>\n","    </tr>\n","    <tr>\n","      <th>3</th>\n","      <td>NY Times: 'Nearly All White' States Pose 'an Array of Problems' for Immigrants https://t.co/ACZKLhdMV9 https://t.co/CJAlSXCzR6</td>\n","      <td>0</td>\n","      <td>0</td>\n","      <td>0</td>\n","    </tr>\n","    <tr>\n","      <th>4</th>\n","      <td>Orban in Brussels: European leaders are ignoring the will of the people, they do not want migrants https://t.co/NeYFyqvYlX</td>\n","      <td>0</td>\n","      <td>0</td>\n","      <td>0</td>\n","    </tr>\n","  </tbody>\n","</table>\n","</div>"],"text/plain":["                                                                                                                                                                                                                                                                                                           text  ...  AG\n","0  Hurray, saving us $$$ in so many ways @potus @realDonaldTrump #LockThemUp #BuildTheWall #EndDACA #BoycottNFL #BoycottNike                                                                                                                                                                                     ...  0 \n","1  Why would young fighting age men be the vast majority of the ones escaping a war &amp; not those who cannot fight like women, children, and the elderly?It's because the majority of the refugees are not actually refugees they are economic migrants trying to get into Europe.... https://t.co/Ks0SHbtYqn  ...  0 \n","2  @KamalaHarris Illegals Dump their Kids at the border like Road Kill and Refuse to Unite! They Hope they get Amnesty, Free Education and Welfare Illegal #FamilesBelongTogether in their Country not on the Taxpayer Dime Its a SCAM #NoDACA #NoAmnesty #SendThe                                               ...  0 \n","3  NY Times: 'Nearly All White' States Pose 'an Array of Problems' for Immigrants https://t.co/ACZKLhdMV9 https://t.co/CJAlSXCzR6                                                                                                                                                                                ...  0 \n","4  Orban in Brussels: European leaders are ignoring the will of the people, they do not want migrants https://t.co/NeYFyqvYlX                                                                                                                                                                                    ...  0 \n","\n","[5 rows x 4 columns]"]},"metadata":{"tags":[]},"execution_count":19}]},{"cell_type":"markdown","metadata":{"id":"rhV9j4pXVYe1","colab_type":"text"},"source":["<b> A slight problem with this dataset is that it doesn't have a column denoting whether tweets are offensive or not which makes it not useful to our second stage of classification. \n","    \n","However, it does classify tweets as hate speech or not, and reliably too. Getting reliably annotated hate speech tweets online is rare so we'll use these tweets for the first and third stages of our model. </b> \n","\n","\n","<i>For tweets in this dataframe that aren't hate speech, we will annotate the 'Offensive' column of our dataset as 'Unknown' </i>"]},{"cell_type":"code","metadata":{"id":"o2aIwr1bVYe1","colab_type":"code","outputId":"e14ec54d-0939-4cb7-c749-0ebe79b78c4d","executionInfo":{"status":"ok","timestamp":1578418604569,"user_tz":0,"elapsed":1074,"user":{"displayName":"Fionn McConville","photoUrl":"https://lh3.googleusercontent.com/a-/AAuE7mDQ4Te6RRh1B7ENukR6-4xoNAaV2ajfGgNpCD6y=s64","userId":"01326935138765014160"}},"colab":{"base_uri":"https://localhost:8080/","height":573}},"source":["semeval.rename(columns = {'text': 'Tweet', 'HS' : 'Hate_Speech'}, inplace = True)\n","semeval['Offensive'] = '-'\n","semeval.loc[semeval['Hate_Speech'] == 1, 'Offensive'] = 1\n","cols = ['TR', 'AG']\n","semeval.drop(cols, inplace = True, axis = 1)\n","semeval.head(10)\n"],"execution_count":0,"outputs":[{"output_type":"execute_result","data":{"text/html":["<div>\n","<style scoped>\n","    .dataframe tbody tr th:only-of-type {\n","        vertical-align: middle;\n","    }\n","\n","    .dataframe tbody tr th {\n","        vertical-align: top;\n","    }\n","\n","    .dataframe thead th {\n","        text-align: right;\n","    }\n","</style>\n","<table border=\"1\" class=\"dataframe\">\n","  <thead>\n","    <tr style=\"text-align: right;\">\n","      <th></th>\n","      <th>Tweet</th>\n","      <th>Hate_Speech</th>\n","      <th>Offensive</th>\n","    </tr>\n","  </thead>\n","  <tbody>\n","    <tr>\n","      <th>0</th>\n","      <td>Hurray, saving us $$$ in so many ways @potus @realDonaldTrump #LockThemUp #BuildTheWall #EndDACA #BoycottNFL #BoycottNike</td>\n","      <td>1</td>\n","      <td>1</td>\n","    </tr>\n","    <tr>\n","      <th>1</th>\n","      <td>Why would young fighting age men be the vast majority of the ones escaping a war &amp;amp; not those who cannot fight like women, children, and the elderly?It's because the majority of the refugees are not actually refugees they are economic migrants trying to get into Europe.... https://t.co/Ks0SHbtYqn</td>\n","      <td>1</td>\n","      <td>1</td>\n","    </tr>\n","    <tr>\n","      <th>2</th>\n","      <td>@KamalaHarris Illegals Dump their Kids at the border like Road Kill and Refuse to Unite! They Hope they get Amnesty, Free Education and Welfare Illegal #FamilesBelongTogether in their Country not on the Taxpayer Dime Its a SCAM #NoDACA #NoAmnesty #SendThe</td>\n","      <td>1</td>\n","      <td>1</td>\n","    </tr>\n","    <tr>\n","      <th>3</th>\n","      <td>NY Times: 'Nearly All White' States Pose 'an Array of Problems' for Immigrants https://t.co/ACZKLhdMV9 https://t.co/CJAlSXCzR6</td>\n","      <td>0</td>\n","      <td>-</td>\n","    </tr>\n","    <tr>\n","      <th>4</th>\n","      <td>Orban in Brussels: European leaders are ignoring the will of the people, they do not want migrants https://t.co/NeYFyqvYlX</td>\n","      <td>0</td>\n","      <td>-</td>\n","    </tr>\n","    <tr>\n","      <th>5</th>\n","      <td>@KurtSchlichter LEGAL is. Not illegal. #BuildThatWall</td>\n","      <td>1</td>\n","      <td>1</td>\n","    </tr>\n","    <tr>\n","      <th>6</th>\n","      <td>@RitaPanahi @826Maureen @RealCandaceO Antifa are just a pack of druggie misfits that no one loves, being the violent thugs they are is their cry for attention and their hit of self importance.#JuvenileDelinquents</td>\n","      <td>0</td>\n","      <td>-</td>\n","    </tr>\n","    <tr>\n","      <th>7</th>\n","      <td>Ex-Teacher Pleads Not guilty To Rape Charges https://t.co/D2mGu3VT5G</td>\n","      <td>0</td>\n","      <td>-</td>\n","    </tr>\n","    <tr>\n","      <th>8</th>\n","      <td>still places on our Bengali (Sylheti) class! it's London's 2nd language! know anyone interested @SBSisters @refugeecouncil @DocsNotCops https://t.co/sOx6shjvMx</td>\n","      <td>0</td>\n","      <td>-</td>\n","    </tr>\n","    <tr>\n","      <th>9</th>\n","      <td>DFID Africa Regional Profile: July 2018 https://t.co/npfZCriW0w</td>\n","      <td>0</td>\n","      <td>-</td>\n","    </tr>\n","  </tbody>\n","</table>\n","</div>"],"text/plain":["                                                                                                                                                                                                                                                                                                          Tweet  ...  Offensive\n","0  Hurray, saving us $$$ in so many ways @potus @realDonaldTrump #LockThemUp #BuildTheWall #EndDACA #BoycottNFL #BoycottNike                                                                                                                                                                                     ...  1        \n","1  Why would young fighting age men be the vast majority of the ones escaping a war &amp; not those who cannot fight like women, children, and the elderly?It's because the majority of the refugees are not actually refugees they are economic migrants trying to get into Europe.... https://t.co/Ks0SHbtYqn  ...  1        \n","2  @KamalaHarris Illegals Dump their Kids at the border like Road Kill and Refuse to Unite! They Hope they get Amnesty, Free Education and Welfare Illegal #FamilesBelongTogether in their Country not on the Taxpayer Dime Its a SCAM #NoDACA #NoAmnesty #SendThe                                               ...  1        \n","3  NY Times: 'Nearly All White' States Pose 'an Array of Problems' for Immigrants https://t.co/ACZKLhdMV9 https://t.co/CJAlSXCzR6                                                                                                                                                                                ...  -        \n","4  Orban in Brussels: European leaders are ignoring the will of the people, they do not want migrants https://t.co/NeYFyqvYlX                                                                                                                                                                                    ...  -        \n","5  @KurtSchlichter LEGAL is. Not illegal. #BuildThatWall                                                                                                                                                                                                                                                         ...  1        \n","6  @RitaPanahi @826Maureen @RealCandaceO Antifa are just a pack of druggie misfits that no one loves, being the violent thugs they are is their cry for attention and their hit of self importance.#JuvenileDelinquents                                                                                          ...  -        \n","7  Ex-Teacher Pleads Not guilty To Rape Charges https://t.co/D2mGu3VT5G                                                                                                                                                                                                                                          ...  -        \n","8  still places on our Bengali (Sylheti) class! it's London's 2nd language! know anyone interested @SBSisters @refugeecouncil @DocsNotCops https://t.co/sOx6shjvMx                                                                                                                                               ...  -        \n","9  DFID Africa Regional Profile: July 2018 https://t.co/npfZCriW0w                                                                                                                                                                                                                                               ...  -        \n","\n","[10 rows x 3 columns]"]},"metadata":{"tags":[]},"execution_count":20}]},{"cell_type":"markdown","metadata":{"id":"4b5zsVOTVYe2","colab_type":"text"},"source":["## ICVSM 2018 Abusive dataset\n","\n","The data labelled as hateful is not very reliable in this dataset, although some may be hate speech.\n","    \n","To avert the risk of contaminating the tweet data we've already labelled as hate speech in other datasets - we'll drop tweets labelled as hateful in this set. </i> <b>This will result in losing around 5000 tweets.</b>\n","    \n","<i>However, the rest of the tweets can be used to further pre-train the BERT model, provide offensive tweets for the multi-task fine-tuning stage of this project and provide benign tweets for the fine-tuning stage - (there are approx 95,000 tweets in all), so it's not all doom and gloom </i>"]},{"cell_type":"code","metadata":{"id":"R81sAfLfVYe3","colab_type":"code","outputId":"7937436d-ba96-4a44-db88-d109d59592a7","executionInfo":{"status":"ok","timestamp":1578418627723,"user_tz":0,"elapsed":5071,"user":{"displayName":"Fionn McConville","photoUrl":"https://lh3.googleusercontent.com/a-/AAuE7mDQ4Te6RRh1B7ENukR6-4xoNAaV2ajfGgNpCD6y=s64","userId":"01326935138765014160"}},"colab":{"base_uri":"https://localhost:8080/","height":54}},"source":["icvsm = os.path.join(DATA_DIR, 'ICVSM_2018_dataset/hatespeech_text_label_vote.csv')\n","icvsm = pd.read_csv(icvsm, sep='\\t', names = \\\n","                    [\"tweets\", \"majority label\" ], index_col = False);\n","\n","#We're dropping the tweets labelled as 'hateful' as they're unreliably annotated.\n","icvsm.drop(icvsm.loc[icvsm['majority label']=='hateful'].index, inplace=True)\n","\n","print(\"\\nThere are\", len(icvsm.index), \"tweets in this dataset\")"],"execution_count":0,"outputs":[{"output_type":"stream","text":["\n","There are 95031 tweets in this dataset\n"],"name":"stdout"}]},{"cell_type":"code","metadata":{"id":"gP8KD2cbVYe4","colab_type":"code","outputId":"da159932-fbd9-4abf-8c50-ea587f5640ea","executionInfo":{"status":"ok","timestamp":1578418630960,"user_tz":0,"elapsed":490,"user":{"displayName":"Fionn McConville","photoUrl":"https://lh3.googleusercontent.com/a-/AAuE7mDQ4Te6RRh1B7ENukR6-4xoNAaV2ajfGgNpCD6y=s64","userId":"01326935138765014160"}},"colab":{"base_uri":"https://localhost:8080/","height":615}},"source":["icvsm['Hate_Speech'] = 0\n","icvsm['Offensive'] = 0\n","icvsm.rename(columns = {'tweets': 'Tweet'}, inplace = True)\n","icvsm.loc[icvsm['majority label'] == 'abusive', 'Offensive'] = 1\n","icvsm.drop('majority label', inplace = True, axis = 1)\n","icvsm.head(12)"],"execution_count":0,"outputs":[{"output_type":"execute_result","data":{"text/html":["<div>\n","<style scoped>\n","    .dataframe tbody tr th:only-of-type {\n","        vertical-align: middle;\n","    }\n","\n","    .dataframe tbody tr th {\n","        vertical-align: top;\n","    }\n","\n","    .dataframe thead th {\n","        text-align: right;\n","    }\n","</style>\n","<table border=\"1\" class=\"dataframe\">\n","  <thead>\n","    <tr style=\"text-align: right;\">\n","      <th></th>\n","      <th>Tweet</th>\n","      <th>Hate_Speech</th>\n","      <th>Offensive</th>\n","    </tr>\n","  </thead>\n","  <tbody>\n","    <tr>\n","      <th>0</th>\n","      <td>Beats by Dr. Dre urBeats Wired In-Ear Headphones - White https://t.co/9tREpqfyW4 https://t.co/FCaWyWRbpE</td>\n","      <td>0</td>\n","      <td>0</td>\n","    </tr>\n","    <tr>\n","      <th>1</th>\n","      <td>RT @Papapishu: Man it would fucking rule if we had a party that was against perpetual warfare.</td>\n","      <td>0</td>\n","      <td>1</td>\n","    </tr>\n","    <tr>\n","      <th>2</th>\n","      <td>It is time to draw close to Him &amp;#128591;&amp;#127995; Father, I draw near to you now and always ❤️ https://t.co/MVRBBX2aqJ</td>\n","      <td>0</td>\n","      <td>0</td>\n","    </tr>\n","    <tr>\n","      <th>3</th>\n","      <td>if you notice me start to act different or distant.. it's bc i peeped something you did or i notice a difference in how you act &amp;amp; ian fw it.</td>\n","      <td>0</td>\n","      <td>0</td>\n","    </tr>\n","    <tr>\n","      <th>4</th>\n","      <td>Forget unfollowers, I believe in growing. 7 new followers in the last day! Stats via https://t.co/bunPHQNXhj</td>\n","      <td>0</td>\n","      <td>0</td>\n","    </tr>\n","    <tr>\n","      <th>5</th>\n","      <td>RT @Vitiligoprince: Hate Being sexually Frustrated Like I wanna Fuck But ion wanna Just fuck anybody</td>\n","      <td>0</td>\n","      <td>1</td>\n","    </tr>\n","    <tr>\n","      <th>6</th>\n","      <td>Topped the group in TGP Disc Jam Season 2! Onto the Semi-Finals! @HighHorseGames https://t.co/N7LE8lX7Rm</td>\n","      <td>0</td>\n","      <td>0</td>\n","    </tr>\n","    <tr>\n","      <th>7</th>\n","      <td>That daily baby aspirin for your #heart just might be preventing colon #cancer too. https://t.co/2TLawmHhEe</td>\n","      <td>0</td>\n","      <td>0</td>\n","    </tr>\n","    <tr>\n","      <th>8</th>\n","      <td>I liked a @YouTube video from @mattshea https://t.co/niSeJrLKHq THE BLUE ARMY IS COMING! - Ancient Warfare 2</td>\n","      <td>0</td>\n","      <td>0</td>\n","    </tr>\n","    <tr>\n","      <th>9</th>\n","      <td>RT @LestuhGang_: If your fucking up &amp;amp; your homies dont tell you that your fucking up, those ain't your homies</td>\n","      <td>0</td>\n","      <td>1</td>\n","    </tr>\n","    <tr>\n","      <th>10</th>\n","      <td>Uber finds one allegedly stolen Waymo file – on an employee’s personal device https://t.co/ZLmrbf6S3O https://t.co/v4IdDN4hvu</td>\n","      <td>0</td>\n","      <td>0</td>\n","    </tr>\n","    <tr>\n","      <th>11</th>\n","      <td>@Move_Fwd give up. You've lost. You will not convince me one iota because I read more than conspiracy theories and… https://t.co/2QLmn3tIjf</td>\n","      <td>0</td>\n","      <td>0</td>\n","    </tr>\n","  </tbody>\n","</table>\n","</div>"],"text/plain":["                                                                                                                                               Tweet  ...  Offensive\n","0   Beats by Dr. Dre urBeats Wired In-Ear Headphones - White https://t.co/9tREpqfyW4 https://t.co/FCaWyWRbpE                                          ...  0        \n","1   RT @Papapishu: Man it would fucking rule if we had a party that was against perpetual warfare.                                                    ...  1        \n","2   It is time to draw close to Him &#128591;&#127995; Father, I draw near to you now and always ❤️ https://t.co/MVRBBX2aqJ                           ...  0        \n","3   if you notice me start to act different or distant.. it's bc i peeped something you did or i notice a difference in how you act &amp; ian fw it.  ...  0        \n","4   Forget unfollowers, I believe in growing. 7 new followers in the last day! Stats via https://t.co/bunPHQNXhj                                      ...  0        \n","5   RT @Vitiligoprince: Hate Being sexually Frustrated Like I wanna Fuck But ion wanna Just fuck anybody                                              ...  1        \n","6   Topped the group in TGP Disc Jam Season 2! Onto the Semi-Finals! @HighHorseGames https://t.co/N7LE8lX7Rm                                          ...  0        \n","7   That daily baby aspirin for your #heart just might be preventing colon #cancer too. https://t.co/2TLawmHhEe                                       ...  0        \n","8   I liked a @YouTube video from @mattshea https://t.co/niSeJrLKHq THE BLUE ARMY IS COMING! - Ancient Warfare 2                                      ...  0        \n","9   RT @LestuhGang_: If your fucking up &amp; your homies dont tell you that your fucking up, those ain't your homies                                 ...  1        \n","10  Uber finds one allegedly stolen Waymo file – on an employee’s personal device https://t.co/ZLmrbf6S3O https://t.co/v4IdDN4hvu                     ...  0        \n","11  @Move_Fwd give up. You've lost. You will not convince me one iota because I read more than conspiracy theories and… https://t.co/2QLmn3tIjf       ...  0        \n","\n","[12 rows x 3 columns]"]},"metadata":{"tags":[]},"execution_count":22}]},{"cell_type":"markdown","metadata":{"id":"Mq1neqDUbEQO","colab_type":"text"},"source":["# Waseem & Hovy Dataset"]},{"cell_type":"code","metadata":{"id":"JAzTk8aSVYe5","colab_type":"code","outputId":"16a39fc9-d1f7-48eb-c3ca-03e88ce6ca5b","executionInfo":{"status":"ok","timestamp":1578419841478,"user_tz":0,"elapsed":690,"user":{"displayName":"Fionn McConville","photoUrl":"https://lh3.googleusercontent.com/a-/AAuE7mDQ4Te6RRh1B7ENukR6-4xoNAaV2ajfGgNpCD6y=s64","userId":"01326935138765014160"}},"colab":{"base_uri":"https://localhost:8080/","height":235}},"source":["#Combined Waseem and Hovy datasets below\n","path = os.path.join( DATA_DIR, 'Waseem_Hovy_2016.csv')\n","\n","ids = pd.read_csv(path, sep=',');\n","ids.dropna(inplace = True)\n","print(ids.info())\n","print(\"\\nThere are 5 different labels for how the tweets have been annotated:\")\n","print(ids['label'].unique())"],"execution_count":0,"outputs":[{"output_type":"stream","text":["<class 'pandas.core.frame.DataFrame'>\n","Int64Index: 13092 entries, 0 to 13093\n","Data columns (total 3 columns):\n","id       13092 non-null object\n","label    13092 non-null object\n","text     13092 non-null object\n","dtypes: object(3)\n","memory usage: 409.1+ KB\n","None\n","\n","There are 5 different labels for how the tweets have been annotated:\n","['racism' 'sexism' 'none' 'neither' 'both']\n"],"name":"stdout"}]},{"cell_type":"markdown","metadata":{"id":"UzcNBSbFVYe6","colab_type":"text"},"source":["If a tweet has been labelled as racism, sexism or both - we annotate as hate speech and offensive. Otherwise we label as not hate speech; but we can't be sure if some of the tweets that have been labelled as none or neither aren't offensive - so we'll label that as ' - '"]},{"cell_type":"code","metadata":{"id":"pegjr9LRVYe6","colab_type":"code","outputId":"3bbf08bb-4bd6-4ce6-d64e-70b553923155","executionInfo":{"status":"ok","timestamp":1578419845025,"user_tz":0,"elapsed":508,"user":{"displayName":"Fionn McConville","photoUrl":"https://lh3.googleusercontent.com/a-/AAuE7mDQ4Te6RRh1B7ENukR6-4xoNAaV2ajfGgNpCD6y=s64","userId":"01326935138765014160"}},"colab":{"base_uri":"https://localhost:8080/","height":446}},"source":["ids['Hate_Speech'] = 1\n","ids['Offensive'] = 1\n","\n","ids.rename(columns = {'text': 'Tweet'}, inplace = True)\n","\n","ids.loc[ids['label'] == 'none', 'Hate_Speech'] = 0\n","ids.loc[ids['label'] == 'none', 'Offensive'] = \"-\"\n","\n","ids.loc[ids['label'] == 'neither', 'Hate_Speech'] = 0\n","ids.loc[ids['label'] == 'neither', 'Offensive'] = \"-\"\n","\n","ids.drop('label', inplace = True, axis = 1)\n","ids.reset_index(drop = True, inplace = True)\n","\n","print(\"Hate Speech Classification Summary:\\n\" \\\n","     \"\\nThere are\", ids['Hate_Speech'].value_counts()[1], \\\n","      \"tweets labelled as hate speech and\", \\\n","      ids['Hate_Speech'].value_counts()[0], \\\n","      \"tweets labelled as not hate speech\" )\n","\n","print(\"\\nThere are\", ids['Offensive'].value_counts()['-'],\n","     \"tweets that in the previous data were not labelled as hate speech.\" \\\n","      \"\\nHowever we can't be sure they don't contain content that's offensive,\",\\\n","     \"\\nhence they're labelled as ' - ' for that category\")\n","\n","\n","ids.head(5)\n"],"execution_count":0,"outputs":[{"output_type":"stream","text":["Hate Speech Classification Summary:\n","\n","There are 3513 tweets labelled as hate speech and 9579 tweets labelled as not hate speech\n","\n","There are 9579 tweets that in the previous data were not labelled as hate speech.\n","However we can't be sure they don't contain content that's offensive, \n","hence they're labelled as ' - ' for that category\n"],"name":"stdout"},{"output_type":"execute_result","data":{"text/html":["<div>\n","<style scoped>\n","    .dataframe tbody tr th:only-of-type {\n","        vertical-align: middle;\n","    }\n","\n","    .dataframe tbody tr th {\n","        vertical-align: top;\n","    }\n","\n","    .dataframe thead th {\n","        text-align: right;\n","    }\n","</style>\n","<table border=\"1\" class=\"dataframe\">\n","  <thead>\n","    <tr style=\"text-align: right;\">\n","      <th></th>\n","      <th>id</th>\n","      <th>Tweet</th>\n","      <th>Hate_Speech</th>\n","      <th>Offensive</th>\n","    </tr>\n","  </thead>\n","  <tbody>\n","    <tr>\n","      <th>0</th>\n","      <td>572334712804384768</td>\n","      <td>of course you were born in serbia...you're as fucked as A Serbian Film #MKR</td>\n","      <td>1</td>\n","      <td>1</td>\n","    </tr>\n","    <tr>\n","      <th>1</th>\n","      <td>572332655397629952</td>\n","      <td>These girls are the equivalent of the irritating Asian girls a couple years ago. Well done, 7. #MKR</td>\n","      <td>1</td>\n","      <td>1</td>\n","    </tr>\n","    <tr>\n","      <th>2</th>\n","      <td>575949086055997440</td>\n","      <td>#MKR  Lost the plot - where's the big Texan with the elephant sized steaks that they all have for brekkie ?</td>\n","      <td>1</td>\n","      <td>1</td>\n","    </tr>\n","    <tr>\n","      <th>3</th>\n","      <td>575174115667017728</td>\n","      <td>RT @PhxKen: SIR WINSTON CHURCHHILL: \"ISLAM IS A DANGEROUS IN A MAN AS RABIES IN A DOG\" http://t.co/kCXgKD70SK</td>\n","      <td>1</td>\n","      <td>1</td>\n","    </tr>\n","    <tr>\n","      <th>4</th>\n","      <td>569294066984202240</td>\n","      <td>RT @TheRightWingM: Giuliani watched his city attacked &amp;amp; people jump to their deaths. He's entitled to say WTF he wants about the guy shield…</td>\n","      <td>1</td>\n","      <td>1</td>\n","    </tr>\n","  </tbody>\n","</table>\n","</div>"],"text/plain":["                   id  ... Offensive\n","0  572334712804384768  ...  1       \n","1  572332655397629952  ...  1       \n","2  575949086055997440  ...  1       \n","3  575174115667017728  ...  1       \n","4  569294066984202240  ...  1       \n","\n","[5 rows x 4 columns]"]},"metadata":{"tags":[]},"execution_count":58}]},{"cell_type":"markdown","metadata":{"id":"5K3m1UzSVYe7","colab_type":"text"},"source":["## Testing for possible duplicate tweets\n","\n","<b> Where tweet ID is available, we want to use it at the beginning to root out possible duplicate tweets which may have overlapped over the datasets. </b>\n","    \n","Removing duplicates via tweet ID should be more reliable, but after this we'll attempt to remove duplicate tweets via the text content nd see if it's a reliable method of removing duplicate entries.\n","\n","There are only two datasets that have an accompanying ID, the ICVSM dataset has IDs along with their label as another csv file in the directory.\n","\n","I'll test now to see if there's any overlap between the ICVSM_2018 tweets and the Waseem_And Hovy tweets\n"]},{"cell_type":"code","metadata":{"id":"ZEWqfoG5VYe8","colab_type":"code","outputId":"f2190540-6c60-43f6-b09f-62d25cbbea73","executionInfo":{"status":"ok","timestamp":1578419849834,"user_tz":0,"elapsed":998,"user":{"displayName":"Fionn McConville","photoUrl":"https://lh3.googleusercontent.com/a-/AAuE7mDQ4Te6RRh1B7ENukR6-4xoNAaV2ajfGgNpCD6y=s64","userId":"01326935138765014160"}},"colab":{"base_uri":"https://localhost:8080/","height":235}},"source":["icvsm1 = os.path.join(DATA_DIR, 'ICVSM_2018_dataset/hatespeech_id_label.csv')\n","icvsm1 = pd.read_csv(icvsm1, sep=',', names = \\\n","                    [\"id\", \"majority label\" ], index_col = False);\n","\n","#Again dropping 'hateful' tweets as we won't be using them\n","icvsm1.drop(icvsm1.loc[icvsm1['majority label']=='hateful'].index, \\\n","            inplace=True)\n","\n","print(\"\\nThere are\", len(icvsm1.index), \"tweets in this dataset\")\n","icvsm1.head()"],"execution_count":0,"outputs":[{"output_type":"stream","text":["\n","There are 95031 tweets in this dataset\n"],"name":"stdout"},{"output_type":"execute_result","data":{"text/html":["<div>\n","<style scoped>\n","    .dataframe tbody tr th:only-of-type {\n","        vertical-align: middle;\n","    }\n","\n","    .dataframe tbody tr th {\n","        vertical-align: top;\n","    }\n","\n","    .dataframe thead th {\n","        text-align: right;\n","    }\n","</style>\n","<table border=\"1\" class=\"dataframe\">\n","  <thead>\n","    <tr style=\"text-align: right;\">\n","      <th></th>\n","      <th>id</th>\n","      <th>majority label</th>\n","    </tr>\n","  </thead>\n","  <tbody>\n","    <tr>\n","      <th>0</th>\n","      <td>849667487180259329</td>\n","      <td>abusive</td>\n","    </tr>\n","    <tr>\n","      <th>1</th>\n","      <td>850490912954351616</td>\n","      <td>abusive</td>\n","    </tr>\n","    <tr>\n","      <th>2</th>\n","      <td>848791766853668864</td>\n","      <td>abusive</td>\n","    </tr>\n","    <tr>\n","      <th>3</th>\n","      <td>848306464892604416</td>\n","      <td>abusive</td>\n","    </tr>\n","    <tr>\n","      <th>4</th>\n","      <td>850010509969465344</td>\n","      <td>normal</td>\n","    </tr>\n","  </tbody>\n","</table>\n","</div>"],"text/plain":["                   id majority label\n","0  849667487180259329  abusive      \n","1  850490912954351616  abusive      \n","2  848791766853668864  abusive      \n","3  848306464892604416  abusive      \n","4  850010509969465344  normal       "]},"metadata":{"tags":[]},"execution_count":59}]},{"cell_type":"code","metadata":{"id":"upNwuYbcVYfC","colab_type":"code","outputId":"995e7d35-e1f3-40ac-856d-6e286659a5cf","executionInfo":{"status":"ok","timestamp":1578419918094,"user_tz":0,"elapsed":577,"user":{"displayName":"Fionn McConville","photoUrl":"https://lh3.googleusercontent.com/a-/AAuE7mDQ4Te6RRh1B7ENukR6-4xoNAaV2ajfGgNpCD6y=s64","userId":"01326935138765014160"}},"colab":{"base_uri":"https://localhost:8080/","height":72}},"source":["print(\"There are\", len(icvsm1.index), \"tweets in the ICVSM dataset and\", \\\n","      len(ids.index), \"tweets in the Waseem_Hovy dataset\")\n","\n","print(\"\\nThe end merge of datasets should have\", len(icvsm1.index) + len(ids.index),\\\n","      \"tweets in the dataset assuming no duplicates\")"],"execution_count":0,"outputs":[{"output_type":"stream","text":["There are 95031 tweets in the ICVSM dataset and 13092 tweets in the Waseem_Hovy dataset\n","\n","The end merge of datasets should have 108123 tweets in the dataset assuming no duplicates\n"],"name":"stdout"}]},{"cell_type":"code","metadata":{"id":"_ot6j20fVYfD","colab_type":"code","outputId":"5f50620b-4b40-4482-d025-2adc4e9a99f9","executionInfo":{"status":"ok","timestamp":1578419948898,"user_tz":0,"elapsed":650,"user":{"displayName":"Fionn McConville","photoUrl":"https://lh3.googleusercontent.com/a-/AAuE7mDQ4Te6RRh1B7ENukR6-4xoNAaV2ajfGgNpCD6y=s64","userId":"01326935138765014160"}},"colab":{"base_uri":"https://localhost:8080/","height":386}},"source":["#Make sure both id columns are of same type before merge\n","icvsm1['id'] = icvsm1['id'].astype(int)\n","ids['id'] = ids['id'].astype(int)\n","ids.\n","dt = pd.merge(icvsm1, ids,  how='outer', on = ['id'])\n","duplicateRows = dt[dt.duplicated(subset = ['id'], keep = False)]\n","print(\"When using the duplicated method there are\", \\\n","      len(duplicateRows), \"duplicate ids identified, we'll obviously retain\",\\\n","     \"half of these because we'll keep the first instance of the duplicate tweet\",\\\n","     \"this will result in\", int(len(duplicateRows)/2), \"tweets being dropped\")\n","duplicateRows.head(10)"],"execution_count":0,"outputs":[{"output_type":"stream","text":["When using the duplicated method there are 330 duplicate ids identified, we'll obviously retain half of these because we'll keep the first instance of the duplicate tweet this will result in 165 tweets being dropped\n"],"name":"stdout"},{"output_type":"execute_result","data":{"text/html":["<div>\n","<style scoped>\n","    .dataframe tbody tr th:only-of-type {\n","        vertical-align: middle;\n","    }\n","\n","    .dataframe tbody tr th {\n","        vertical-align: top;\n","    }\n","\n","    .dataframe thead th {\n","        text-align: right;\n","    }\n","</style>\n","<table border=\"1\" class=\"dataframe\">\n","  <thead>\n","    <tr style=\"text-align: right;\">\n","      <th></th>\n","      <th>id</th>\n","      <th>majority label</th>\n","      <th>Tweet</th>\n","      <th>Hate_Speech</th>\n","      <th>Offensive</th>\n","    </tr>\n","  </thead>\n","  <tbody>\n","    <tr>\n","      <th>9</th>\n","      <td>849087242987593728</td>\n","      <td>abusive</td>\n","      <td>NaN</td>\n","      <td>NaN</td>\n","      <td>NaN</td>\n","    </tr>\n","    <tr>\n","      <th>10</th>\n","      <td>849087242987593728</td>\n","      <td>abusive</td>\n","      <td>NaN</td>\n","      <td>NaN</td>\n","      <td>NaN</td>\n","    </tr>\n","    <tr>\n","      <th>13</th>\n","      <td>849282894682050564</td>\n","      <td>abusive</td>\n","      <td>NaN</td>\n","      <td>NaN</td>\n","      <td>NaN</td>\n","    </tr>\n","    <tr>\n","      <th>14</th>\n","      <td>849282894682050564</td>\n","      <td>abusive</td>\n","      <td>NaN</td>\n","      <td>NaN</td>\n","      <td>NaN</td>\n","    </tr>\n","    <tr>\n","      <th>36</th>\n","      <td>849881409284182016</td>\n","      <td>normal</td>\n","      <td>NaN</td>\n","      <td>NaN</td>\n","      <td>NaN</td>\n","    </tr>\n","    <tr>\n","      <th>37</th>\n","      <td>849881409284182016</td>\n","      <td>normal</td>\n","      <td>NaN</td>\n","      <td>NaN</td>\n","      <td>NaN</td>\n","    </tr>\n","    <tr>\n","      <th>46</th>\n","      <td>848975292794318848</td>\n","      <td>normal</td>\n","      <td>NaN</td>\n","      <td>NaN</td>\n","      <td>NaN</td>\n","    </tr>\n","    <tr>\n","      <th>47</th>\n","      <td>848975292794318848</td>\n","      <td>normal</td>\n","      <td>NaN</td>\n","      <td>NaN</td>\n","      <td>NaN</td>\n","    </tr>\n","    <tr>\n","      <th>52</th>\n","      <td>850346419164553218</td>\n","      <td>normal</td>\n","      <td>NaN</td>\n","      <td>NaN</td>\n","      <td>NaN</td>\n","    </tr>\n","    <tr>\n","      <th>53</th>\n","      <td>850346419164553218</td>\n","      <td>normal</td>\n","      <td>NaN</td>\n","      <td>NaN</td>\n","      <td>NaN</td>\n","    </tr>\n","  </tbody>\n","</table>\n","</div>"],"text/plain":["                    id majority label Tweet  Hate_Speech Offensive\n","9   849087242987593728  abusive        NaN  NaN           NaN     \n","10  849087242987593728  abusive        NaN  NaN           NaN     \n","13  849282894682050564  abusive        NaN  NaN           NaN     \n","14  849282894682050564  abusive        NaN  NaN           NaN     \n","36  849881409284182016  normal         NaN  NaN           NaN     \n","37  849881409284182016  normal         NaN  NaN           NaN     \n","46  848975292794318848  normal         NaN  NaN           NaN     \n","47  848975292794318848  normal         NaN  NaN           NaN     \n","52  850346419164553218  normal         NaN  NaN           NaN     \n","53  850346419164553218  normal         NaN  NaN           NaN     "]},"metadata":{"tags":[]},"execution_count":63}]},{"cell_type":"markdown","metadata":{"id":"6AWRbcLzVYfE","colab_type":"text"},"source":["As shown above, identifying duplicate tweets via id is quite reliable as the ids above are identical. They're often entered in consecutive indexes in the database which leads me to believe it must have been human error in the large ICVSM 2017 database of 100,000 tweets.\n","\n","This isn't a huge amount of error when considering the overall size of the dataframe, however we do need to weed out these duplicates because they may give us inaccurate scores as we may perform cross-validation to evaluate model performance down the line "]},{"cell_type":"code","metadata":{"id":"9HNEiGHxVYfE","colab_type":"code","outputId":"7ea3cc76-8187-4587-f0e0-60b3db410bdb","executionInfo":{"status":"ok","timestamp":1578420293557,"user_tz":0,"elapsed":464,"user":{"displayName":"Fionn McConville","photoUrl":"https://lh3.googleusercontent.com/a-/AAuE7mDQ4Te6RRh1B7ENukR6-4xoNAaV2ajfGgNpCD6y=s64","userId":"01326935138765014160"}},"colab":{"base_uri":"https://localhost:8080/","height":435}},"source":["dt.drop_duplicates(subset= ['id'], keep = 'first', inplace = True)\n","print(\"When using the drop_duplicates method there are\",\\\n","(len(icvsm1.index) + len(ids.index) - len(dt.index)), \"duplicate tweets\\n\")\n","\n","print(dt.info())\n","dt.head()"],"execution_count":0,"outputs":[{"output_type":"stream","text":["When using the drop_duplicates method there are 165 duplicate tweets\n","\n","<class 'pandas.core.frame.DataFrame'>\n","Int64Index: 107958 entries, 0 to 108122\n","Data columns (total 5 columns):\n","id                107958 non-null int64\n","majority label    94866 non-null object\n","Tweet             13092 non-null object\n","Hate_Speech       13092 non-null float64\n","Offensive         13092 non-null object\n","dtypes: float64(1), int64(1), object(3)\n","memory usage: 4.9+ MB\n","None\n"],"name":"stdout"},{"output_type":"execute_result","data":{"text/html":["<div>\n","<style scoped>\n","    .dataframe tbody tr th:only-of-type {\n","        vertical-align: middle;\n","    }\n","\n","    .dataframe tbody tr th {\n","        vertical-align: top;\n","    }\n","\n","    .dataframe thead th {\n","        text-align: right;\n","    }\n","</style>\n","<table border=\"1\" class=\"dataframe\">\n","  <thead>\n","    <tr style=\"text-align: right;\">\n","      <th></th>\n","      <th>id</th>\n","      <th>majority label</th>\n","      <th>Tweet</th>\n","      <th>Hate_Speech</th>\n","      <th>Offensive</th>\n","    </tr>\n","  </thead>\n","  <tbody>\n","    <tr>\n","      <th>0</th>\n","      <td>849667487180259329</td>\n","      <td>abusive</td>\n","      <td>NaN</td>\n","      <td>NaN</td>\n","      <td>NaN</td>\n","    </tr>\n","    <tr>\n","      <th>1</th>\n","      <td>850490912954351616</td>\n","      <td>abusive</td>\n","      <td>NaN</td>\n","      <td>NaN</td>\n","      <td>NaN</td>\n","    </tr>\n","    <tr>\n","      <th>2</th>\n","      <td>848791766853668864</td>\n","      <td>abusive</td>\n","      <td>NaN</td>\n","      <td>NaN</td>\n","      <td>NaN</td>\n","    </tr>\n","    <tr>\n","      <th>3</th>\n","      <td>848306464892604416</td>\n","      <td>abusive</td>\n","      <td>NaN</td>\n","      <td>NaN</td>\n","      <td>NaN</td>\n","    </tr>\n","    <tr>\n","      <th>4</th>\n","      <td>850010509969465344</td>\n","      <td>normal</td>\n","      <td>NaN</td>\n","      <td>NaN</td>\n","      <td>NaN</td>\n","    </tr>\n","  </tbody>\n","</table>\n","</div>"],"text/plain":["                   id majority label Tweet  Hate_Speech Offensive\n","0  849667487180259329  abusive        NaN  NaN           NaN     \n","1  850490912954351616  abusive        NaN  NaN           NaN     \n","2  848791766853668864  abusive        NaN  NaN           NaN     \n","3  848306464892604416  abusive        NaN  NaN           NaN     \n","4  850010509969465344  normal         NaN  NaN           NaN     "]},"metadata":{"tags":[]},"execution_count":65}]},{"cell_type":"markdown","metadata":{"id":"VQcAZ-JkVYfF","colab_type":"text"},"source":["<b> Let's see if dropping duplicate entries via text content is a reliable method </b>"]},{"cell_type":"code","metadata":{"id":"3nHpxff4VYfG","colab_type":"code","outputId":"ea1df3f7-e156-457f-9b5b-d3087be83aff","executionInfo":{"status":"ok","timestamp":1578420933141,"user_tz":0,"elapsed":1310,"user":{"displayName":"Fionn McConville","photoUrl":"https://lh3.googleusercontent.com/a-/AAuE7mDQ4Te6RRh1B7ENukR6-4xoNAaV2ajfGgNpCD6y=s64","userId":"01326935138765014160"}},"colab":{"base_uri":"https://localhost:8080/","height":1000}},"source":["icvsm1 = os.path.join(DATA_DIR, 'ICVSM_2018_dataset/hatespeech_text_label_vote.csv')\n","icvsm1 = pd.read_csv(icvsm1, sep='\\t', names = \\\n","                    [\"text\", \"label\" ], index_col = False);\n","\n","icvsm1.drop(icvsm1.loc[icvsm1['label']=='hateful'].index, inplace=True)\n","icvsm1.rename({'text': 'Tweet'}, axis = 1, inplace =True)\n","dt = pd.merge(icvsm1, ids,  how='outer', on = ['Tweet'])\n","\n","duplicateRows = dt[dt.duplicated(subset = ['Tweet'], keep = False)]\n","\n","print(\"When using the duplicated method there are\", \\\n","      len(duplicateRows), \"duplicate ids identified, we'll obviously retain\",\\\n","     \"half of these because we'll keep the first instance of the duplicate tweet\",\\\n","     \"this will result in\", int(len(duplicateRows)/2), \"tweets being dropped\")\n","pd.set_option('display.max_colwidth', -1)\n","duplicateRows.drop(columns = {'id', 'Hate_Speech', 'Offensive'}, axis = 1,inplace = True)\n","duplicateRows.head(30)"],"execution_count":0,"outputs":[{"output_type":"stream","text":["When using the duplicated method there are 8809 duplicate ids identified, we'll obviously retain half of these because we'll keep the first instance of the duplicate tweet this will result in 4404 tweets being dropped\n"],"name":"stdout"},{"output_type":"stream","text":["/usr/local/lib/python3.6/dist-packages/pandas/core/frame.py:4117: SettingWithCopyWarning: \n","A value is trying to be set on a copy of a slice from a DataFrame\n","\n","See the caveats in the documentation: http://pandas.pydata.org/pandas-docs/stable/user_guide/indexing.html#returning-a-view-versus-a-copy\n","  errors=errors,\n"],"name":"stderr"},{"output_type":"execute_result","data":{"text/html":["<div>\n","<style scoped>\n","    .dataframe tbody tr th:only-of-type {\n","        vertical-align: middle;\n","    }\n","\n","    .dataframe tbody tr th {\n","        vertical-align: top;\n","    }\n","\n","    .dataframe thead th {\n","        text-align: right;\n","    }\n","</style>\n","<table border=\"1\" class=\"dataframe\">\n","  <thead>\n","    <tr style=\"text-align: right;\">\n","      <th></th>\n","      <th>Tweet</th>\n","      <th>label</th>\n","    </tr>\n","  </thead>\n","  <tbody>\n","    <tr>\n","      <th>1</th>\n","      <td>RT @Papapishu: Man it would fucking rule if we had a party that was against perpetual warfare.</td>\n","      <td>abusive</td>\n","    </tr>\n","    <tr>\n","      <th>2</th>\n","      <td>RT @Papapishu: Man it would fucking rule if we had a party that was against perpetual warfare.</td>\n","      <td>abusive</td>\n","    </tr>\n","    <tr>\n","      <th>3</th>\n","      <td>RT @Papapishu: Man it would fucking rule if we had a party that was against perpetual warfare.</td>\n","      <td>abusive</td>\n","    </tr>\n","    <tr>\n","      <th>7</th>\n","      <td>RT @Vitiligoprince: Hate Being sexually Frustrated Like I wanna Fuck But ion wanna Just fuck anybody</td>\n","      <td>abusive</td>\n","    </tr>\n","    <tr>\n","      <th>8</th>\n","      <td>RT @Vitiligoprince: Hate Being sexually Frustrated Like I wanna Fuck But ion wanna Just fuck anybody</td>\n","      <td>abusive</td>\n","    </tr>\n","    <tr>\n","      <th>12</th>\n","      <td>RT @LestuhGang_: If your fucking up &amp;amp; your homies dont tell you that your fucking up, those ain't your homies</td>\n","      <td>abusive</td>\n","    </tr>\n","    <tr>\n","      <th>13</th>\n","      <td>RT @LestuhGang_: If your fucking up &amp;amp; your homies dont tell you that your fucking up, those ain't your homies</td>\n","      <td>abusive</td>\n","    </tr>\n","    <tr>\n","      <th>16</th>\n","      <td>RT @ennoia3: That's one way he pulls you in RT@amysreedusxx norman fucking reedus just threw candy at me when will your fav ever https://t.…</td>\n","      <td>abusive</td>\n","    </tr>\n","    <tr>\n","      <th>17</th>\n","      <td>RT @ennoia3: That's one way he pulls you in RT@amysreedusxx norman fucking reedus just threw candy at me when will your fav ever https://t.…</td>\n","      <td>abusive</td>\n","    </tr>\n","    <tr>\n","      <th>20</th>\n","      <td>RT @EiramAydni: Im a nasty ass freak when I like you..</td>\n","      <td>abusive</td>\n","    </tr>\n","    <tr>\n","      <th>21</th>\n","      <td>RT @EiramAydni: Im a nasty ass freak when I like you..</td>\n","      <td>abusive</td>\n","    </tr>\n","    <tr>\n","      <th>22</th>\n","      <td>RT @EiramAydni: Im a nasty ass freak when I like you..</td>\n","      <td>abusive</td>\n","    </tr>\n","    <tr>\n","      <th>23</th>\n","      <td>RT @EiramAydni: Im a nasty ass freak when I like you..</td>\n","      <td>abusive</td>\n","    </tr>\n","    <tr>\n","      <th>24</th>\n","      <td>RT @EiramAydni: Im a nasty ass freak when I like you..</td>\n","      <td>abusive</td>\n","    </tr>\n","    <tr>\n","      <th>25</th>\n","      <td>RT @EiramAydni: Im a nasty ass freak when I like you..</td>\n","      <td>abusive</td>\n","    </tr>\n","    <tr>\n","      <th>26</th>\n","      <td>RT @EiramAydni: Im a nasty ass freak when I like you..</td>\n","      <td>abusive</td>\n","    </tr>\n","    <tr>\n","      <th>27</th>\n","      <td>RT @EiramAydni: Im a nasty ass freak when I like you..</td>\n","      <td>normal</td>\n","    </tr>\n","    <tr>\n","      <th>28</th>\n","      <td>RT @EiramAydni: Im a nasty ass freak when I like you..</td>\n","      <td>abusive</td>\n","    </tr>\n","    <tr>\n","      <th>29</th>\n","      <td>RT @EiramAydni: Im a nasty ass freak when I like you..</td>\n","      <td>abusive</td>\n","    </tr>\n","    <tr>\n","      <th>30</th>\n","      <td>RT @EiramAydni: Im a nasty ass freak when I like you..</td>\n","      <td>abusive</td>\n","    </tr>\n","    <tr>\n","      <th>31</th>\n","      <td>RT @EiramAydni: Im a nasty ass freak when I like you..</td>\n","      <td>abusive</td>\n","    </tr>\n","    <tr>\n","      <th>32</th>\n","      <td>RT @EiramAydni: Im a nasty ass freak when I like you..</td>\n","      <td>abusive</td>\n","    </tr>\n","    <tr>\n","      <th>33</th>\n","      <td>RT @EiramAydni: Im a nasty ass freak when I like you..</td>\n","      <td>abusive</td>\n","    </tr>\n","    <tr>\n","      <th>34</th>\n","      <td>RT @EiramAydni: Im a nasty ass freak when I like you..</td>\n","      <td>abusive</td>\n","    </tr>\n","    <tr>\n","      <th>35</th>\n","      <td>RT @EiramAydni: Im a nasty ass freak when I like you..</td>\n","      <td>abusive</td>\n","    </tr>\n","    <tr>\n","      <th>36</th>\n","      <td>RT @EiramAydni: Im a nasty ass freak when I like you..</td>\n","      <td>abusive</td>\n","    </tr>\n","    <tr>\n","      <th>37</th>\n","      <td>RT @EiramAydni: Im a nasty ass freak when I like you..</td>\n","      <td>abusive</td>\n","    </tr>\n","    <tr>\n","      <th>38</th>\n","      <td>RT @EiramAydni: Im a nasty ass freak when I like you..</td>\n","      <td>abusive</td>\n","    </tr>\n","    <tr>\n","      <th>39</th>\n","      <td>RT @EiramAydni: Im a nasty ass freak when I like you..</td>\n","      <td>abusive</td>\n","    </tr>\n","    <tr>\n","      <th>40</th>\n","      <td>RT @EiramAydni: Im a nasty ass freak when I like you..</td>\n","      <td>abusive</td>\n","    </tr>\n","  </tbody>\n","</table>\n","</div>"],"text/plain":["                                                                                                                                           Tweet    label\n","1   RT @Papapishu: Man it would fucking rule if we had a party that was against perpetual warfare.                                                abusive\n","2   RT @Papapishu: Man it would fucking rule if we had a party that was against perpetual warfare.                                                abusive\n","3   RT @Papapishu: Man it would fucking rule if we had a party that was against perpetual warfare.                                                abusive\n","7   RT @Vitiligoprince: Hate Being sexually Frustrated Like I wanna Fuck But ion wanna Just fuck anybody                                          abusive\n","8   RT @Vitiligoprince: Hate Being sexually Frustrated Like I wanna Fuck But ion wanna Just fuck anybody                                          abusive\n","12  RT @LestuhGang_: If your fucking up &amp; your homies dont tell you that your fucking up, those ain't your homies                             abusive\n","13  RT @LestuhGang_: If your fucking up &amp; your homies dont tell you that your fucking up, those ain't your homies                             abusive\n","16  RT @ennoia3: That's one way he pulls you in RT@amysreedusxx norman fucking reedus just threw candy at me when will your fav ever https://t.…  abusive\n","17  RT @ennoia3: That's one way he pulls you in RT@amysreedusxx norman fucking reedus just threw candy at me when will your fav ever https://t.…  abusive\n","20  RT @EiramAydni: Im a nasty ass freak when I like you..                                                                                        abusive\n","21  RT @EiramAydni: Im a nasty ass freak when I like you..                                                                                        abusive\n","22  RT @EiramAydni: Im a nasty ass freak when I like you..                                                                                        abusive\n","23  RT @EiramAydni: Im a nasty ass freak when I like you..                                                                                        abusive\n","24  RT @EiramAydni: Im a nasty ass freak when I like you..                                                                                        abusive\n","25  RT @EiramAydni: Im a nasty ass freak when I like you..                                                                                        abusive\n","26  RT @EiramAydni: Im a nasty ass freak when I like you..                                                                                        abusive\n","27  RT @EiramAydni: Im a nasty ass freak when I like you..                                                                                        normal \n","28  RT @EiramAydni: Im a nasty ass freak when I like you..                                                                                        abusive\n","29  RT @EiramAydni: Im a nasty ass freak when I like you..                                                                                        abusive\n","30  RT @EiramAydni: Im a nasty ass freak when I like you..                                                                                        abusive\n","31  RT @EiramAydni: Im a nasty ass freak when I like you..                                                                                        abusive\n","32  RT @EiramAydni: Im a nasty ass freak when I like you..                                                                                        abusive\n","33  RT @EiramAydni: Im a nasty ass freak when I like you..                                                                                        abusive\n","34  RT @EiramAydni: Im a nasty ass freak when I like you..                                                                                        abusive\n","35  RT @EiramAydni: Im a nasty ass freak when I like you..                                                                                        abusive\n","36  RT @EiramAydni: Im a nasty ass freak when I like you..                                                                                        abusive\n","37  RT @EiramAydni: Im a nasty ass freak when I like you..                                                                                        abusive\n","38  RT @EiramAydni: Im a nasty ass freak when I like you..                                                                                        abusive\n","39  RT @EiramAydni: Im a nasty ass freak when I like you..                                                                                        abusive\n","40  RT @EiramAydni: Im a nasty ass freak when I like you..                                                                                        abusive"]},"metadata":{"tags":[]},"execution_count":80}]},{"cell_type":"code","metadata":{"id":"WVsd833ZVYfI","colab_type":"code","outputId":"b886d3e1-4141-4268-9bbd-3291fcd98e13","executionInfo":{"status":"ok","timestamp":1578420948434,"user_tz":0,"elapsed":527,"user":{"displayName":"Fionn McConville","photoUrl":"https://lh3.googleusercontent.com/a-/AAuE7mDQ4Te6RRh1B7ENukR6-4xoNAaV2ajfGgNpCD6y=s64","userId":"01326935138765014160"}},"colab":{"base_uri":"https://localhost:8080/","height":72}},"source":["dt.drop_duplicates(subset= ['Tweet'], keep = 'first', inplace = True)\n","print(\"\\nOverall, there are\", len(dt.index), \"tweets in this dataset with\",\\\n","     (len(icvsm1.index) + len(ids1.index) - len(dt.index)), \"duplicate tweets\\n\")\n","\n"],"execution_count":0,"outputs":[{"output_type":"stream","text":["\n","Overall, there are 101059 tweets in this dataset with 7066 duplicate tweets\n","\n"],"name":"stdout"}]},{"cell_type":"markdown","metadata":{"id":"iOz24OT4VYfJ","colab_type":"text"},"source":["There weren't 5005 duplicates as predicted but even more with 7064, this is likely because as we can see above there are some tweets duplicated more than once. These tweets likely weren't picked up by checking via id because they are likely from different individual sources, but they are retweets so they have the same text content.\n","    \n","We do NOT want duplicate text entries in our final set, as it will contaminate our validation set when we eventually do use cross-validation to evaluate the performance of our model.\n","    \n","Thus, we will drop duplicate tweets via dropping by text, it's also seemingly identified duplicates reliably which is a plus.... Below I'll inspect a little further just to verify it's accurate"]},{"cell_type":"code","metadata":{"id":"j0UF33znVYfK","colab_type":"code","outputId":"174bb34b-8fff-46c7-da8b-5e3c8edbcb3c","executionInfo":{"status":"ok","timestamp":1578420996357,"user_tz":0,"elapsed":563,"user":{"displayName":"Fionn McConville","photoUrl":"https://lh3.googleusercontent.com/a-/AAuE7mDQ4Te6RRh1B7ENukR6-4xoNAaV2ajfGgNpCD6y=s64","userId":"01326935138765014160"}},"colab":{"base_uri":"https://localhost:8080/","height":1000}},"source":["pd.set_option('display.max_colwidth', -1)\n","duplicateRows.head(50)"],"execution_count":0,"outputs":[{"output_type":"execute_result","data":{"text/html":["<div>\n","<style scoped>\n","    .dataframe tbody tr th:only-of-type {\n","        vertical-align: middle;\n","    }\n","\n","    .dataframe tbody tr th {\n","        vertical-align: top;\n","    }\n","\n","    .dataframe thead th {\n","        text-align: right;\n","    }\n","</style>\n","<table border=\"1\" class=\"dataframe\">\n","  <thead>\n","    <tr style=\"text-align: right;\">\n","      <th></th>\n","      <th>Tweet</th>\n","      <th>label</th>\n","    </tr>\n","  </thead>\n","  <tbody>\n","    <tr>\n","      <th>1</th>\n","      <td>RT @Papapishu: Man it would fucking rule if we had a party that was against perpetual warfare.</td>\n","      <td>abusive</td>\n","    </tr>\n","    <tr>\n","      <th>2</th>\n","      <td>RT @Papapishu: Man it would fucking rule if we had a party that was against perpetual warfare.</td>\n","      <td>abusive</td>\n","    </tr>\n","    <tr>\n","      <th>3</th>\n","      <td>RT @Papapishu: Man it would fucking rule if we had a party that was against perpetual warfare.</td>\n","      <td>abusive</td>\n","    </tr>\n","    <tr>\n","      <th>7</th>\n","      <td>RT @Vitiligoprince: Hate Being sexually Frustrated Like I wanna Fuck But ion wanna Just fuck anybody</td>\n","      <td>abusive</td>\n","    </tr>\n","    <tr>\n","      <th>8</th>\n","      <td>RT @Vitiligoprince: Hate Being sexually Frustrated Like I wanna Fuck But ion wanna Just fuck anybody</td>\n","      <td>abusive</td>\n","    </tr>\n","    <tr>\n","      <th>12</th>\n","      <td>RT @LestuhGang_: If your fucking up &amp;amp; your homies dont tell you that your fucking up, those ain't your homies</td>\n","      <td>abusive</td>\n","    </tr>\n","    <tr>\n","      <th>13</th>\n","      <td>RT @LestuhGang_: If your fucking up &amp;amp; your homies dont tell you that your fucking up, those ain't your homies</td>\n","      <td>abusive</td>\n","    </tr>\n","    <tr>\n","      <th>16</th>\n","      <td>RT @ennoia3: That's one way he pulls you in RT@amysreedusxx norman fucking reedus just threw candy at me when will your fav ever https://t.…</td>\n","      <td>abusive</td>\n","    </tr>\n","    <tr>\n","      <th>17</th>\n","      <td>RT @ennoia3: That's one way he pulls you in RT@amysreedusxx norman fucking reedus just threw candy at me when will your fav ever https://t.…</td>\n","      <td>abusive</td>\n","    </tr>\n","    <tr>\n","      <th>20</th>\n","      <td>RT @EiramAydni: Im a nasty ass freak when I like you..</td>\n","      <td>abusive</td>\n","    </tr>\n","    <tr>\n","      <th>21</th>\n","      <td>RT @EiramAydni: Im a nasty ass freak when I like you..</td>\n","      <td>abusive</td>\n","    </tr>\n","    <tr>\n","      <th>22</th>\n","      <td>RT @EiramAydni: Im a nasty ass freak when I like you..</td>\n","      <td>abusive</td>\n","    </tr>\n","    <tr>\n","      <th>23</th>\n","      <td>RT @EiramAydni: Im a nasty ass freak when I like you..</td>\n","      <td>abusive</td>\n","    </tr>\n","    <tr>\n","      <th>24</th>\n","      <td>RT @EiramAydni: Im a nasty ass freak when I like you..</td>\n","      <td>abusive</td>\n","    </tr>\n","    <tr>\n","      <th>25</th>\n","      <td>RT @EiramAydni: Im a nasty ass freak when I like you..</td>\n","      <td>abusive</td>\n","    </tr>\n","    <tr>\n","      <th>26</th>\n","      <td>RT @EiramAydni: Im a nasty ass freak when I like you..</td>\n","      <td>abusive</td>\n","    </tr>\n","    <tr>\n","      <th>27</th>\n","      <td>RT @EiramAydni: Im a nasty ass freak when I like you..</td>\n","      <td>normal</td>\n","    </tr>\n","    <tr>\n","      <th>28</th>\n","      <td>RT @EiramAydni: Im a nasty ass freak when I like you..</td>\n","      <td>abusive</td>\n","    </tr>\n","    <tr>\n","      <th>29</th>\n","      <td>RT @EiramAydni: Im a nasty ass freak when I like you..</td>\n","      <td>abusive</td>\n","    </tr>\n","    <tr>\n","      <th>30</th>\n","      <td>RT @EiramAydni: Im a nasty ass freak when I like you..</td>\n","      <td>abusive</td>\n","    </tr>\n","    <tr>\n","      <th>31</th>\n","      <td>RT @EiramAydni: Im a nasty ass freak when I like you..</td>\n","      <td>abusive</td>\n","    </tr>\n","    <tr>\n","      <th>32</th>\n","      <td>RT @EiramAydni: Im a nasty ass freak when I like you..</td>\n","      <td>abusive</td>\n","    </tr>\n","    <tr>\n","      <th>33</th>\n","      <td>RT @EiramAydni: Im a nasty ass freak when I like you..</td>\n","      <td>abusive</td>\n","    </tr>\n","    <tr>\n","      <th>34</th>\n","      <td>RT @EiramAydni: Im a nasty ass freak when I like you..</td>\n","      <td>abusive</td>\n","    </tr>\n","    <tr>\n","      <th>35</th>\n","      <td>RT @EiramAydni: Im a nasty ass freak when I like you..</td>\n","      <td>abusive</td>\n","    </tr>\n","    <tr>\n","      <th>36</th>\n","      <td>RT @EiramAydni: Im a nasty ass freak when I like you..</td>\n","      <td>abusive</td>\n","    </tr>\n","    <tr>\n","      <th>37</th>\n","      <td>RT @EiramAydni: Im a nasty ass freak when I like you..</td>\n","      <td>abusive</td>\n","    </tr>\n","    <tr>\n","      <th>38</th>\n","      <td>RT @EiramAydni: Im a nasty ass freak when I like you..</td>\n","      <td>abusive</td>\n","    </tr>\n","    <tr>\n","      <th>39</th>\n","      <td>RT @EiramAydni: Im a nasty ass freak when I like you..</td>\n","      <td>abusive</td>\n","    </tr>\n","    <tr>\n","      <th>40</th>\n","      <td>RT @EiramAydni: Im a nasty ass freak when I like you..</td>\n","      <td>abusive</td>\n","    </tr>\n","    <tr>\n","      <th>41</th>\n","      <td>RT @EiramAydni: Im a nasty ass freak when I like you..</td>\n","      <td>abusive</td>\n","    </tr>\n","    <tr>\n","      <th>42</th>\n","      <td>RT @EiramAydni: Im a nasty ass freak when I like you..</td>\n","      <td>abusive</td>\n","    </tr>\n","    <tr>\n","      <th>43</th>\n","      <td>RT @EiramAydni: Im a nasty ass freak when I like you..</td>\n","      <td>abusive</td>\n","    </tr>\n","    <tr>\n","      <th>44</th>\n","      <td>RT @EiramAydni: Im a nasty ass freak when I like you..</td>\n","      <td>abusive</td>\n","    </tr>\n","    <tr>\n","      <th>54</th>\n","      <td>4X DIY Birds Stencil Cutting Carbon Scrapbooking Card Diary Stamping Template FT https://t.co/GhSTgNHWxS https://t.co/onc8bySr62</td>\n","      <td>spam</td>\n","    </tr>\n","    <tr>\n","      <th>55</th>\n","      <td>4X DIY Birds Stencil Cutting Carbon Scrapbooking Card Diary Stamping Template FT https://t.co/GhSTgNHWxS https://t.co/onc8bySr62</td>\n","      <td>normal</td>\n","    </tr>\n","    <tr>\n","      <th>66</th>\n","      <td>RT @iamcodyengland: It's fucked up because I would do what others wouldn't do for me</td>\n","      <td>abusive</td>\n","    </tr>\n","    <tr>\n","      <th>67</th>\n","      <td>RT @iamcodyengland: It's fucked up because I would do what others wouldn't do for me</td>\n","      <td>abusive</td>\n","    </tr>\n","    <tr>\n","      <th>68</th>\n","      <td>RT @iamcodyengland: It's fucked up because I would do what others wouldn't do for me</td>\n","      <td>abusive</td>\n","    </tr>\n","    <tr>\n","      <th>69</th>\n","      <td>RT @iamcodyengland: It's fucked up because I would do what others wouldn't do for me</td>\n","      <td>abusive</td>\n","    </tr>\n","    <tr>\n","      <th>70</th>\n","      <td>RT @iamcodyengland: It's fucked up because I would do what others wouldn't do for me</td>\n","      <td>abusive</td>\n","    </tr>\n","    <tr>\n","      <th>71</th>\n","      <td>RT @iamcodyengland: It's fucked up because I would do what others wouldn't do for me</td>\n","      <td>abusive</td>\n","    </tr>\n","    <tr>\n","      <th>72</th>\n","      <td>RT @iamcodyengland: It's fucked up because I would do what others wouldn't do for me</td>\n","      <td>abusive</td>\n","    </tr>\n","    <tr>\n","      <th>73</th>\n","      <td>RT @iamcodyengland: It's fucked up because I would do what others wouldn't do for me</td>\n","      <td>abusive</td>\n","    </tr>\n","    <tr>\n","      <th>74</th>\n","      <td>RT @iamcodyengland: It's fucked up because I would do what others wouldn't do for me</td>\n","      <td>abusive</td>\n","    </tr>\n","    <tr>\n","      <th>75</th>\n","      <td>RT @iamcodyengland: It's fucked up because I would do what others wouldn't do for me</td>\n","      <td>abusive</td>\n","    </tr>\n","    <tr>\n","      <th>88</th>\n","      <td>RT @13ReasonsLife: this fucked me up https://t.co/WabclVn0z9</td>\n","      <td>abusive</td>\n","    </tr>\n","    <tr>\n","      <th>89</th>\n","      <td>RT @13ReasonsLife: this fucked me up https://t.co/WabclVn0z9</td>\n","      <td>abusive</td>\n","    </tr>\n","    <tr>\n","      <th>90</th>\n","      <td>RT @13ReasonsLife: this fucked me up https://t.co/WabclVn0z9</td>\n","      <td>abusive</td>\n","    </tr>\n","    <tr>\n","      <th>91</th>\n","      <td>RT @13ReasonsLife: this fucked me up https://t.co/WabclVn0z9</td>\n","      <td>abusive</td>\n","    </tr>\n","  </tbody>\n","</table>\n","</div>"],"text/plain":["                                                                                                                                           Tweet    label\n","1   RT @Papapishu: Man it would fucking rule if we had a party that was against perpetual warfare.                                                abusive\n","2   RT @Papapishu: Man it would fucking rule if we had a party that was against perpetual warfare.                                                abusive\n","3   RT @Papapishu: Man it would fucking rule if we had a party that was against perpetual warfare.                                                abusive\n","7   RT @Vitiligoprince: Hate Being sexually Frustrated Like I wanna Fuck But ion wanna Just fuck anybody                                          abusive\n","8   RT @Vitiligoprince: Hate Being sexually Frustrated Like I wanna Fuck But ion wanna Just fuck anybody                                          abusive\n","12  RT @LestuhGang_: If your fucking up &amp; your homies dont tell you that your fucking up, those ain't your homies                             abusive\n","13  RT @LestuhGang_: If your fucking up &amp; your homies dont tell you that your fucking up, those ain't your homies                             abusive\n","16  RT @ennoia3: That's one way he pulls you in RT@amysreedusxx norman fucking reedus just threw candy at me when will your fav ever https://t.…  abusive\n","17  RT @ennoia3: That's one way he pulls you in RT@amysreedusxx norman fucking reedus just threw candy at me when will your fav ever https://t.…  abusive\n","20  RT @EiramAydni: Im a nasty ass freak when I like you..                                                                                        abusive\n","21  RT @EiramAydni: Im a nasty ass freak when I like you..                                                                                        abusive\n","22  RT @EiramAydni: Im a nasty ass freak when I like you..                                                                                        abusive\n","23  RT @EiramAydni: Im a nasty ass freak when I like you..                                                                                        abusive\n","24  RT @EiramAydni: Im a nasty ass freak when I like you..                                                                                        abusive\n","25  RT @EiramAydni: Im a nasty ass freak when I like you..                                                                                        abusive\n","26  RT @EiramAydni: Im a nasty ass freak when I like you..                                                                                        abusive\n","27  RT @EiramAydni: Im a nasty ass freak when I like you..                                                                                        normal \n","28  RT @EiramAydni: Im a nasty ass freak when I like you..                                                                                        abusive\n","29  RT @EiramAydni: Im a nasty ass freak when I like you..                                                                                        abusive\n","30  RT @EiramAydni: Im a nasty ass freak when I like you..                                                                                        abusive\n","31  RT @EiramAydni: Im a nasty ass freak when I like you..                                                                                        abusive\n","32  RT @EiramAydni: Im a nasty ass freak when I like you..                                                                                        abusive\n","33  RT @EiramAydni: Im a nasty ass freak when I like you..                                                                                        abusive\n","34  RT @EiramAydni: Im a nasty ass freak when I like you..                                                                                        abusive\n","35  RT @EiramAydni: Im a nasty ass freak when I like you..                                                                                        abusive\n","36  RT @EiramAydni: Im a nasty ass freak when I like you..                                                                                        abusive\n","37  RT @EiramAydni: Im a nasty ass freak when I like you..                                                                                        abusive\n","38  RT @EiramAydni: Im a nasty ass freak when I like you..                                                                                        abusive\n","39  RT @EiramAydni: Im a nasty ass freak when I like you..                                                                                        abusive\n","40  RT @EiramAydni: Im a nasty ass freak when I like you..                                                                                        abusive\n","41  RT @EiramAydni: Im a nasty ass freak when I like you..                                                                                        abusive\n","42  RT @EiramAydni: Im a nasty ass freak when I like you..                                                                                        abusive\n","43  RT @EiramAydni: Im a nasty ass freak when I like you..                                                                                        abusive\n","44  RT @EiramAydni: Im a nasty ass freak when I like you..                                                                                        abusive\n","54  4X DIY Birds Stencil Cutting Carbon Scrapbooking Card Diary Stamping Template FT https://t.co/GhSTgNHWxS https://t.co/onc8bySr62              spam   \n","55  4X DIY Birds Stencil Cutting Carbon Scrapbooking Card Diary Stamping Template FT https://t.co/GhSTgNHWxS https://t.co/onc8bySr62              normal \n","66  RT @iamcodyengland: It's fucked up because I would do what others wouldn't do for me                                                          abusive\n","67  RT @iamcodyengland: It's fucked up because I would do what others wouldn't do for me                                                          abusive\n","68  RT @iamcodyengland: It's fucked up because I would do what others wouldn't do for me                                                          abusive\n","69  RT @iamcodyengland: It's fucked up because I would do what others wouldn't do for me                                                          abusive\n","70  RT @iamcodyengland: It's fucked up because I would do what others wouldn't do for me                                                          abusive\n","71  RT @iamcodyengland: It's fucked up because I would do what others wouldn't do for me                                                          abusive\n","72  RT @iamcodyengland: It's fucked up because I would do what others wouldn't do for me                                                          abusive\n","73  RT @iamcodyengland: It's fucked up because I would do what others wouldn't do for me                                                          abusive\n","74  RT @iamcodyengland: It's fucked up because I would do what others wouldn't do for me                                                          abusive\n","75  RT @iamcodyengland: It's fucked up because I would do what others wouldn't do for me                                                          abusive\n","88  RT @13ReasonsLife: this fucked me up https://t.co/WabclVn0z9                                                                                  abusive\n","89  RT @13ReasonsLife: this fucked me up https://t.co/WabclVn0z9                                                                                  abusive\n","90  RT @13ReasonsLife: this fucked me up https://t.co/WabclVn0z9                                                                                  abusive\n","91  RT @13ReasonsLife: this fucked me up https://t.co/WabclVn0z9                                                                                  abusive"]},"metadata":{"tags":[]},"execution_count":83}]},{"cell_type":"markdown","metadata":{"id":"3j42er9nVYfL","colab_type":"text"},"source":["<b> I have a suspicion that most of the duplicate entries come from within the ICVSM database.</b>\n","    \n","I'll test this quickly below by calculating the amount of duplicates within the ICVSM database, and subtracting it from the overlap I <i> believed </i> was between the two datasets, when I was assuming there were no duplicates within the ICVSM dataset "]},{"cell_type":"code","metadata":{"id":"1yvnVuUgVYfL","colab_type":"code","outputId":"5d705c68-b938-425b-ed60-56c15ff16185","executionInfo":{"status":"ok","timestamp":1578421037931,"user_tz":0,"elapsed":518,"user":{"displayName":"Fionn McConville","photoUrl":"https://lh3.googleusercontent.com/a-/AAuE7mDQ4Te6RRh1B7ENukR6-4xoNAaV2ajfGgNpCD6y=s64","userId":"01326935138765014160"}},"colab":{"base_uri":"https://localhost:8080/","height":35}},"source":["duplicateRows1 = icvsm1[icvsm1.duplicated(subset = ['Tweet'], keep = False)]\n","\n","difference = len(duplicateRows) - len(duplicateRows1)\n","\n","print(\"The actual overlap between ICVSM 2018 and the Waseem & Hovy Database is\",\\\n","     difference)"],"execution_count":0,"outputs":[{"output_type":"stream","text":["The actual overlap between ICVSM 2018 and the Waseem & Hovy Database is 0\n"],"name":"stdout"}]},{"cell_type":"markdown","metadata":{"id":"DW6q9N7VVYfM","colab_type":"text"},"source":["<b> Okay so all the duplicates were within the ICVSM dataset </b>"]},{"cell_type":"markdown","metadata":{"id":"Qn-4ujf7VYfN","colab_type":"text"},"source":["## Finally combining all of the data \n","<i> All of the previous kernels in the section before the last one where you were testing for duplicates must be ran in order to get a cleaned, consistent version of each set</i>"]},{"cell_type":"code","metadata":{"id":"7QhBbsB4VYfN","colab_type":"code","outputId":"65cdb7c2-f0cd-4edd-ada1-316908faa4d9","executionInfo":{"status":"ok","timestamp":1578421263832,"user_tz":0,"elapsed":564,"user":{"displayName":"Fionn McConville","photoUrl":"https://lh3.googleusercontent.com/a-/AAuE7mDQ4Te6RRh1B7ENukR6-4xoNAaV2ajfGgNpCD6y=s64","userId":"01326935138765014160"}},"colab":{"base_uri":"https://localhost:8080/","height":414}},"source":["#Drop duplicates within the icvsm_2018 dataset first to get a fair approximation\n","#of how many tweets are actually overlapped between all the datasets\n","icvsm.drop_duplicates(subset= ['Tweet'], keep = 'first', inplace = True)\n","\n","pdlist = [offens, sometweets, semeval, icvsm, ids]\n","final_df = pd.concat(pdlist, sort = True, axis = 0)\n","final_df.drop(columns = ['id'], inplace = True, axis = 1)\n","final_df.reset_index(drop = True, inplace = True)\n","#final_df.drop_duplicates(subset= ['Tweet'], keep = 'first', inplace = True)\n","print(final_df.info())\n","final_df.head(5)"],"execution_count":0,"outputs":[{"output_type":"stream","text":["<class 'pandas.core.frame.DataFrame'>\n","RangeIndex: 148006 entries, 0 to 148005\n","Data columns (total 3 columns):\n","Hate_Speech    148006 non-null int64\n","Offensive      148006 non-null object\n","Tweet          148006 non-null object\n","dtypes: int64(1), object(2)\n","memory usage: 3.4+ MB\n","None\n"],"name":"stdout"},{"output_type":"execute_result","data":{"text/html":["<div>\n","<style scoped>\n","    .dataframe tbody tr th:only-of-type {\n","        vertical-align: middle;\n","    }\n","\n","    .dataframe tbody tr th {\n","        vertical-align: top;\n","    }\n","\n","    .dataframe thead th {\n","        text-align: right;\n","    }\n","</style>\n","<table border=\"1\" class=\"dataframe\">\n","  <thead>\n","    <tr style=\"text-align: right;\">\n","      <th></th>\n","      <th>Hate_Speech</th>\n","      <th>Offensive</th>\n","      <th>Tweet</th>\n","    </tr>\n","  </thead>\n","  <tbody>\n","    <tr>\n","      <th>0</th>\n","      <td>0</td>\n","      <td>1</td>\n","      <td>@USER She should ask a few native Americans what their take on this is.</td>\n","    </tr>\n","    <tr>\n","      <th>1</th>\n","      <td>0</td>\n","      <td>1</td>\n","      <td>@USER @USER Go home you’re drunk!!! @USER #MAGA #Trump2020 👊🇺🇸👊 URL</td>\n","    </tr>\n","    <tr>\n","      <th>2</th>\n","      <td>0</td>\n","      <td>0</td>\n","      <td>Amazon is investigating Chinese employees who are selling internal data to third-party sellers looking for an edge in the competitive marketplace. URL #Amazon #MAGA #KAG #CHINA #TCOT</td>\n","    </tr>\n","    <tr>\n","      <th>3</th>\n","      <td>0</td>\n","      <td>1</td>\n","      <td>@USER Someone should'veTaken\" this piece of shit to a volcano. 😂\"</td>\n","    </tr>\n","    <tr>\n","      <th>4</th>\n","      <td>0</td>\n","      <td>0</td>\n","      <td>@USER @USER Obama wanted liberals &amp;amp; illegals to move into red states</td>\n","    </tr>\n","  </tbody>\n","</table>\n","</div>"],"text/plain":["   Hate_Speech  ...                                                                                                                                                                                   Tweet\n","0  0            ...  @USER She should ask a few native Americans what their take on this is.                                                                                                               \n","1  0            ...  @USER @USER Go home you’re drunk!!! @USER #MAGA #Trump2020 👊🇺🇸👊 URL                                                                                                                   \n","2  0            ...  Amazon is investigating Chinese employees who are selling internal data to third-party sellers looking for an edge in the competitive marketplace. URL #Amazon #MAGA #KAG #CHINA #TCOT\n","3  0            ...  @USER Someone should'veTaken\" this piece of shit to a volcano. 😂\"                                                                                                                     \n","4  0            ...  @USER @USER Obama wanted liberals &amp; illegals to move into red states                                                                                                              \n","\n","[5 rows x 3 columns]"]},"metadata":{"tags":[]},"execution_count":95}]},{"cell_type":"code","metadata":{"id":"N1EH4_2nVYfO","colab_type":"code","outputId":"c13aafff-73a1-4326-9116-282a2980100c","executionInfo":{"status":"ok","timestamp":1578421343186,"user_tz":0,"elapsed":470,"user":{"displayName":"Fionn McConville","photoUrl":"https://lh3.googleusercontent.com/a-/AAuE7mDQ4Te6RRh1B7ENukR6-4xoNAaV2ajfGgNpCD6y=s64","userId":"01326935138765014160"}},"colab":{"base_uri":"https://localhost:8080/","height":54}},"source":["final_df1 = final_df.drop_duplicates(subset= ['Tweet'], keep = 'first')\n","final_df1.reset_index(drop = True, inplace = True)\n","diff = len(final_df.index) - len(final_df1.index)\n","\n","print(\"The amount of tweets lost in the final dataframe by using the drop duplicates by text entry is\\n\", \\\n","      diff, \"which is {0:.2}%\".format(diff/len(final_df.index) * 100), \\\n","      \"of the original dataset\")"],"execution_count":0,"outputs":[{"output_type":"stream","text":["The amount of tweets lost in the final dataframe by using the drop duplicates by text entry is\n"," 29 which is 0.02% of the original dataset\n"],"name":"stdout"}]},{"cell_type":"code","metadata":{"id":"iVqPxBfZVYfP","colab_type":"code","outputId":"46ffdc04-c709-4179-ae0d-51f1fff69a43","executionInfo":{"status":"ok","timestamp":1578421350663,"user_tz":0,"elapsed":583,"user":{"displayName":"Fionn McConville","photoUrl":"https://lh3.googleusercontent.com/a-/AAuE7mDQ4Te6RRh1B7ENukR6-4xoNAaV2ajfGgNpCD6y=s64","userId":"01326935138765014160"}},"colab":{"base_uri":"https://localhost:8080/","height":199}},"source":["print( \"There are\", len(final_df1.index), \"tweets in the final dataset\\n\")\n","final_df1.info()"],"execution_count":0,"outputs":[{"output_type":"stream","text":["There are 147977 tweets in the final dataset\n","\n","<class 'pandas.core.frame.DataFrame'>\n","RangeIndex: 147977 entries, 0 to 147976\n","Data columns (total 3 columns):\n","Hate_Speech    147977 non-null int64\n","Offensive      147977 non-null object\n","Tweet          147977 non-null object\n","dtypes: int64(1), object(2)\n","memory usage: 3.4+ MB\n"],"name":"stdout"}]},{"cell_type":"code","metadata":{"id":"jXxKVNGAVYfR","colab_type":"code","outputId":"5d24e2bb-8757-43f8-fc84-0335e9c0b0a1","executionInfo":{"status":"ok","timestamp":1578421919876,"user_tz":0,"elapsed":3926,"user":{"displayName":"Fionn McConville","photoUrl":"https://lh3.googleusercontent.com/a-/AAuE7mDQ4Te6RRh1B7ENukR6-4xoNAaV2ajfGgNpCD6y=s64","userId":"01326935138765014160"}},"colab":{"base_uri":"https://localhost:8080/","height":199}},"source":["final_df1.to_csv(os.path.join(DATA_DIR, 'final.csv'), sep = ',', encoding='utf-8', \\\n","                 index = False, header = True)\n","\n","print(\"Hate Speech Column Labelling:\\n\", final_df1.Hate_Speech.value_counts())\n","\n","print(\"\\nOffensive Column Labelling:\\n\", final_df1.Offensive.value_counts())"],"execution_count":0,"outputs":[{"output_type":"stream","text":["Hate Speech Column Labelling:\n"," 0    139946\n","1    8031  \n","Name: Hate_Speech, dtype: int64\n","\n","Offensive Column Labelling:\n"," 0    80127\n","1    52483\n","-    15367\n","Name: Offensive, dtype: int64\n"],"name":"stdout"}]},{"cell_type":"markdown","metadata":{"id":"RK3L4Oy7VYfS","colab_type":"text"},"source":["# Pre-processing Tweets\n","In this section, some methods will be created to preprocess tweet data and their effect wil be demonstrated\n"]},{"cell_type":"code","metadata":{"id":"VzkEoHgxVYfS","colab_type":"code","colab":{}},"source":["import html\n","import re\n","\n","final_df1 = pd.read_csv('final.csv', sep = ',')"],"execution_count":0,"outputs":[]},{"cell_type":"markdown","metadata":{"id":"CnXexQAGVYfT","colab_type":"text"},"source":["<b>Initial pre-process method:</b>"]},{"cell_type":"code","metadata":{"id":"OK7ze62fVYfT","colab_type":"code","colab":{}},"source":["def preprocess(text_string):\n","    \"\"\"\n","    Accepts a text string and:\n","    1) Removes URLS\n","    2) lots of whitespace with one instance\n","    3) Removes mentions\n","    4) Uses the html.unescape() method to convert unicode to text counterpart\n","    5) Replace & with and\n","    6) Remove the fact the tweet is a retweet if it is - knowing the tweet is \n","       a retweet does not help towards our classification task.\n","    This allows us to get standardized counts of urls and mentions\n","    Without caring about specific people mentioned\n","    \"\"\"\n","    space_pattern = '\\s+'\n","    giant_url_regex = ('http[s]?://(?:[a-zA-Z]|[0-9]|[#$-_@.&+]|'\n","        '[!*\\(\\),]|(?:%[0-9a-fA-F][0-9a-fA-F]))+')\n","    mention_regex = '@[\\w\\-]+:'\n","    mention_regex1 = '@[\\w\\-]+'\n","    RT_regex = '(RT|rt)[ ]*@[ ]*[\\S]+'\n","    \n","    # Replaces urls with URL\n","    parsed_text = re.sub(giant_url_regex, '', text_string)\n","    parsed_text = re.sub('URL', '', parsed_text)\n","    \n","    # Remove the fact the tweet is a retweet. \n","    # (we're only interested in the language of the tweet here)\n","    parsed_text = re.sub(RT_regex, ' ', parsed_text) \n","    \n","    # Removes mentions as they're redundant information\n","    parsed_text = re.sub(mention_regex, '',  parsed_text)\n","    #including ones with semi-colons after - this seems to come up often\n","    parsed_text = re.sub(mention_regex1, '',  parsed_text)  \n","\n","    #Remove unicode\n","    parsed_text = re.sub(r'[^\\x00-\\x7F]','', parsed_text) \n","    parsed_text = re.sub(r'&#[0-9]+;', '', parsed_text)  \n","\n","    # Convert unicode missed by regex to text\n","   #parsed_text = html.unescape(parsed_text)\n","\n","    #Remove excess whitespace at the end\n","    parsed_text = re.sub(space_pattern, ' ', parsed_text) \n","    \n","    #Set text to lowercase and strip\n","    parsed_text = parsed_text.lower()\n","    parsed_text = parsed_text.strip()\n","    \n","    return parsed_text"],"execution_count":0,"outputs":[]},{"cell_type":"markdown","metadata":{"id":"uS0e3H-qVYfU","colab_type":"text"},"source":["### Results of text preprocessing\n"]},{"cell_type":"markdown","metadata":{"id":"5daEfLJyVYfU","colab_type":"text"},"source":["<i>On Mentions:</i>\n","\n","Replaces @CeleyNichole, @white_thunduh with @USER </i>"]},{"cell_type":"code","metadata":{"id":"y_dPGhmyVYfU","colab_type":"code","outputId":"79355481-58ec-4e3b-81aa-ffc56cf242a2","executionInfo":{"status":"ok","timestamp":1578428055236,"user_tz":0,"elapsed":505,"user":{"displayName":"Fionn McConville","photoUrl":"https://lh3.googleusercontent.com/a-/AAuE7mDQ4Te6RRh1B7ENukR6-4xoNAaV2ajfGgNpCD6y=s64","userId":"01326935138765014160"}},"colab":{"base_uri":"https://localhost:8080/","height":92}},"source":["testtweet = final_df1['Tweet'][12234]\n","\n","print(\"Original:\", testtweet)\n","print(\"\\nPreprocessed:\", preprocess(testtweet))\n"],"execution_count":0,"outputs":[{"output_type":"stream","text":["Original: \"@CeleyNichole: @white_thunduh how come you never bring me food\" i dont have a car retard\n","\n","Preprocessed: \" how come you never bring me food\" i dont have a car retard\n"],"name":"stdout"}]},{"cell_type":"code","metadata":{"id":"MH_qy3mecasQ","colab_type":"code","outputId":"8331f0e4-d09a-4042-f708-c3cfdb223cc0","executionInfo":{"status":"ok","timestamp":1578428069315,"user_tz":0,"elapsed":555,"user":{"displayName":"Fionn McConville","photoUrl":"https://lh3.googleusercontent.com/a-/AAuE7mDQ4Te6RRh1B7ENukR6-4xoNAaV2ajfGgNpCD6y=s64","userId":"01326935138765014160"}},"colab":{"base_uri":"https://localhost:8080/","height":92}},"source":["testtweet = final_df1['Tweet'][88446]\n","\n","print(\"Original:\", testtweet)\n","print(\"\\nPreprocessed:\", preprocess(testtweet))"],"execution_count":0,"outputs":[{"output_type":"stream","text":["Original: #N▶ &#128251; -Wine to the top @Vybz_Kartel ft @wizkidayo &#128283; #KENNISFM With @asp_greatness On #EVENINGDRIVE @deejayxchris Cc @rashy_man\n","\n","Preprocessed: #n -wine to the top ft #kennisfm with on #eveningdrive cc\n"],"name":"stdout"}]},{"cell_type":"markdown","metadata":{"id":"xMdi5oqrVYfV","colab_type":"text"},"source":["<i>On URLs and tweets with unicode:</i>\n","\n","Replaces link at the end with URL and unicode string &#8220 with it's text counterpart \""]},{"cell_type":"code","metadata":{"id":"B2YNknrpVYfW","colab_type":"code","outputId":"25789e53-c16e-4544-a864-ffb76ecfd40a","executionInfo":{"status":"ok","timestamp":1578428074729,"user_tz":0,"elapsed":450,"user":{"displayName":"Fionn McConville","photoUrl":"https://lh3.googleusercontent.com/a-/AAuE7mDQ4Te6RRh1B7ENukR6-4xoNAaV2ajfGgNpCD6y=s64","userId":"01326935138765014160"}},"colab":{"base_uri":"https://localhost:8080/","height":92}},"source":["testtweet1 = final_df1['Tweet'][14000]\n","print(\"Original:\", testtweet1)\n","print(\"\\nPreprocessed:\", preprocess(testtweet1))"],"execution_count":0,"outputs":[{"output_type":"stream","text":["Original: &#8220;@nhalegood: When hoes feel like their photo didnt get enough favorites http://t.co/ZDf98BpF94&#8221;\n","\n","Preprocessed: when hoes feel like their photo didnt get enough favorites\n"],"name":"stdout"}]},{"cell_type":"markdown","metadata":{"id":"a3tC3TF5VYfY","colab_type":"text"},"source":["<i>On Retweets (RT)</i>"]},{"cell_type":"code","metadata":{"id":"8GIB85oFVYfY","colab_type":"code","outputId":"883f2167-94e2-4b40-ca3a-bd15dde83e7a","executionInfo":{"status":"ok","timestamp":1578428081399,"user_tz":0,"elapsed":501,"user":{"displayName":"Fionn McConville","photoUrl":"https://lh3.googleusercontent.com/a-/AAuE7mDQ4Te6RRh1B7ENukR6-4xoNAaV2ajfGgNpCD6y=s64","userId":"01326935138765014160"}},"colab":{"base_uri":"https://localhost:8080/","height":92}},"source":["testtweet1 = final_df1['Tweet'][32156]\n","print(\"Original:\", testtweet1)\n","print(\"\\nPreprocessed:\", preprocess(testtweet1))"],"execution_count":0,"outputs":[{"output_type":"stream","text":["Original: RT @simplyalize: \"@xonayyy: &#8220;@ugglyyy: well ain't this bout a bitch ... http://t.co/CVJadMYpg6&#8221; &#128514;&#128514;&#128514;\" BRUH&#128553;&#128514;&#128514;\n","\n","Preprocessed: \" well ain't this bout a bitch ... \" bruh\n"],"name":"stdout"}]},{"cell_type":"markdown","metadata":{"id":"fG8yOZYJVYfZ","colab_type":"text"},"source":["## Replacing emojis with text\n","\n","The tweet above shows that we have emojis in the tweet data and these could be perhaps crucial for identifying sarcasm in tweet speech.\n","    \n","Often NLP classifiers may miss things in translation when emojis are involved as they can often convey things not immediately obvious to machines in text like sarcasm.\n","    \n","I'll evaluate model performance with and without emoji translation and see if it garners any performance boost. If it doesn't bring decent improvement then it'll be useless becuase translating emojis to text increases the sequence length of each tweet - some tweets laden with emojis have a vastly increased sequence length.\n","\n","This could be problematic as the longer the max sequence length I define for when I use the BERT model, the much longer the processing power and time."]},{"cell_type":"code","metadata":{"id":"vT95TAkBVYfa","colab_type":"code","outputId":"f9a98560-9f00-4ed1-f10a-97bb3bdc8262","executionInfo":{"status":"ok","timestamp":1578428594770,"user_tz":0,"elapsed":3121,"user":{"displayName":"Fionn McConville","photoUrl":"https://lh3.googleusercontent.com/a-/AAuE7mDQ4Te6RRh1B7ENukR6-4xoNAaV2ajfGgNpCD6y=s64","userId":"01326935138765014160"}},"colab":{"base_uri":"https://localhost:8080/","height":346}},"source":["%cd '/content/drive/My Drive'\n","%pip install demoji-0.1.5-py3-none-any.whl\n","\n","import demoji\n","demoji.download_codes()\n","def emojiReplace(text_string):\n","    \n","    text_string = html.unescape(text_string)\n","    emoji_dict = demoji.findall(text_string)\n","    for emoji in emoji_dict.keys():\n","        text_string = text_string.replace(emoji,  ' ' + emoji_dict[emoji] + ' ' )\n","    \n","    return text_string\n","\n","\n","\n","testtweet1 = final_df1['Tweet'][32156]\n","\n","print(\"Tweet with emojis:\\n\", html.unescape(testtweet1))\n","print(\"\\nTweet with emojis replaced:\\n\", emojiReplace(testtweet1))"],"execution_count":0,"outputs":[{"output_type":"stream","text":["/content/drive/My Drive\n","Requirement already satisfied: demoji==0.1.5 from file:///content/drive/My%20Drive/demoji-0.1.5-py3-none-any.whl in /usr/local/lib/python3.6/dist-packages (0.1.5)\n","Requirement already satisfied: requests<3.0.0 in /usr/local/lib/python3.6/dist-packages (from demoji==0.1.5) (2.21.0)\n","Requirement already satisfied: setuptools in /usr/local/lib/python3.6/dist-packages (from demoji==0.1.5) (42.0.2)\n","Requirement already satisfied: chardet<3.1.0,>=3.0.2 in /usr/local/lib/python3.6/dist-packages (from requests<3.0.0->demoji==0.1.5) (3.0.4)\n","Requirement already satisfied: urllib3<1.25,>=1.21.1 in /usr/local/lib/python3.6/dist-packages (from requests<3.0.0->demoji==0.1.5) (1.24.3)\n","Requirement already satisfied: idna<2.9,>=2.5 in /usr/local/lib/python3.6/dist-packages (from requests<3.0.0->demoji==0.1.5) (2.8)\n","Requirement already satisfied: certifi>=2017.4.17 in /usr/local/lib/python3.6/dist-packages (from requests<3.0.0->demoji==0.1.5) (2019.11.28)\n","\u001b[33mDownloading emoji data ...\u001b[0m\n","\u001b[92m... OK\u001b[0m (Got response in 0.08 seconds)\n","\u001b[33mWriting emoji data to /root/.demoji/codes.json ...\u001b[0m\n","\u001b[92m... OK\u001b[0m\n","Tweet with emojis:\n"," RT @simplyalize: \"@xonayyy: “@ugglyyy: well ain't this bout a bitch ... http://t.co/CVJadMYpg6” 😂😂😂\" BRUH😩😂😂\n","\n","Processed tweet:\n"," RT @simplyalize: \"@xonayyy: “@ugglyyy: well ain't this bout a bitch ... http://t.co/CVJadMYpg6”  face with tears of joy  face with tears of joy  face with tears of joy \" BRUH weary face  face with tears of joy  face with tears of joy \n"],"name":"stdout"}]},{"cell_type":"code","metadata":{"id":"6wSYCg3aVYfb","colab_type":"code","outputId":"d7862ddf-2df0-4ee2-e3ae-722361173b4b","executionInfo":{"status":"ok","timestamp":1578428633756,"user_tz":0,"elapsed":490,"user":{"displayName":"Fionn McConville","photoUrl":"https://lh3.googleusercontent.com/a-/AAuE7mDQ4Te6RRh1B7ENukR6-4xoNAaV2ajfGgNpCD6y=s64","userId":"01326935138765014160"}},"colab":{"base_uri":"https://localhost:8080/","height":92}},"source":["testtweet1 = final_df1['Tweet'][18290]\n","print(\"Original:\", html.unescape(testtweet1))\n","print(\"\\nTweet with emojis replaced:\", emojiReplace(testtweet1))"],"execution_count":0,"outputs":[{"output_type":"stream","text":["Original: @iiTweet_YuLurk 😂😂💀💀💀💀bitch you outta line\n","\n","Preprocessed: @iiTweet_YuLurk  face with tears of joy  face with tears of joy  skull  skull  skull  skull bitch you outta line\n"],"name":"stdout"}]},{"cell_type":"markdown","metadata":{"id":"vnKkVumQVYfe","colab_type":"text"},"source":["### Contraction\n","\n","This is simply the practice of replacing <i>contracted</i> words like \"would've\" with it' decontracted counterpart \"would have\".\n","    \n","This sounds quite simple but it does have the issue of being sometimes ambiguous, for example the word \"how's\" can be interpreted as \"how is/how has/ how was\"\n","\n","Anyways I'll attempt to develop a function that addresses this. Although it can be argued that most cases aren't ambiguous and that the vast majoirty of the time the word how's would be how is and also not much is lost in translation when referring to hate speech, but I digress\n","\n","<i>I could enter code to do this here but for the moment hold back on it because perhaps BERT has already been pre-trained for this. We'll look at creating and implementing this code later and see if it improves results</i>"]}]}
=======
{
 "cells": [
  {
   "cell_type": "markdown",
   "metadata": {
    "colab_type": "text",
    "id": "1xli8JKieayQ"
   },
   "source": [
    "<a href=\"https://colab.research.google.com/github/kpe/bert-for-tf2/blob/master/examples/tpu_movie_reviews.ipynb\" target=\"_parent\"><img src=\"https://colab.research.google.com/assets/colab-badge.svg\" alt=\"Open In Colab\"/></a>"
   ]
  },
  {
   "cell_type": "markdown",
   "metadata": {
    "colab_type": "text",
    "id": "aAVCDrFrYnIo"
   },
   "source": [
    "# Assembling, Inspecting and Cleaning the Data for my Hate Speech Detection Model\n",
    "This is the initial stage of my project where I will assemble as much hate speech data as possible to fine-tune the pre-trained BERT model so that it can accurately classify hate speech on twitter.\n",
    "\n",
    "I hope below I have demonstrated that I've taken great care in choosing what data I decide to train my model, as I've manually inspected the data sources online and decided for myself, (as well as having the informal help of my friends), whether a dataset has accurately annotated for hate speech or not. \n",
    "\n",
    "I've been careful to do this because I didn't want to confuse my model by providing it with vastly differing interpretations of what constitutes hate speech - also I'm aware that while the need for accurate hate speech detection online is very important, many online have lamentated the over-zealous nature of social media companies curtailing free speech and punishing users for speech that is offensive - but not hate speech under common law. therefore I've been cautious to try and limit false positive annotation in my data."
   ]
  },
  {
   "cell_type": "code",
   "execution_count": 0,
   "metadata": {
    "colab": {
     "base_uri": "https://localhost:8080/",
     "height": 401
    },
    "colab_type": "code",
    "executionInfo": {
     "elapsed": 5818,
     "status": "ok",
     "timestamp": 1578418272594,
     "user": {
      "displayName": "Fionn McConville",
      "photoUrl": "https://lh3.googleusercontent.com/a-/AAuE7mDQ4Te6RRh1B7ENukR6-4xoNAaV2ajfGgNpCD6y=s64",
      "userId": "01326935138765014160"
     },
     "user_tz": 0
    },
    "id": "rAprOhDQVYdi",
    "outputId": "bcbb19b9-3d62-4a7f-c05b-5ac24a34d417"
   },
   "outputs": [
    {
     "name": "stdout",
     "output_type": "stream",
     "text": [
      "Collecting gcsfs\n",
      "  Downloading https://files.pythonhosted.org/packages/3e/9f/864a9ff497ed4ba12502c4037db8c66fde0049d9dd0388bd55b67e5c4249/gcsfs-0.6.0-py2.py3-none-any.whl\n",
      "Requirement already satisfied: google-auth>=1.2 in /usr/local/lib/python3.6/dist-packages (from gcsfs) (1.4.2)\n",
      "Requirement already satisfied: google-auth-oauthlib in /usr/local/lib/python3.6/dist-packages (from gcsfs) (0.4.1)\n",
      "Requirement already satisfied: decorator in /usr/local/lib/python3.6/dist-packages (from gcsfs) (4.4.1)\n",
      "Requirement already satisfied: fsspec>=0.6.0 in /usr/local/lib/python3.6/dist-packages (from gcsfs) (0.6.2)\n",
      "Requirement already satisfied: requests in /usr/local/lib/python3.6/dist-packages (from gcsfs) (2.21.0)\n",
      "Requirement already satisfied: pyasn1-modules>=0.2.1 in /usr/local/lib/python3.6/dist-packages (from google-auth>=1.2->gcsfs) (0.2.7)\n",
      "Requirement already satisfied: cachetools>=2.0.0 in /usr/local/lib/python3.6/dist-packages (from google-auth>=1.2->gcsfs) (4.0.0)\n",
      "Requirement already satisfied: rsa>=3.1.4 in /usr/local/lib/python3.6/dist-packages (from google-auth>=1.2->gcsfs) (4.0)\n",
      "Requirement already satisfied: six>=1.9.0 in /usr/local/lib/python3.6/dist-packages (from google-auth>=1.2->gcsfs) (1.12.0)\n",
      "Requirement already satisfied: requests-oauthlib>=0.7.0 in /usr/local/lib/python3.6/dist-packages (from google-auth-oauthlib->gcsfs) (1.3.0)\n",
      "Requirement already satisfied: chardet<3.1.0,>=3.0.2 in /usr/local/lib/python3.6/dist-packages (from requests->gcsfs) (3.0.4)\n",
      "Requirement already satisfied: urllib3<1.25,>=1.21.1 in /usr/local/lib/python3.6/dist-packages (from requests->gcsfs) (1.24.3)\n",
      "Requirement already satisfied: idna<2.9,>=2.5 in /usr/local/lib/python3.6/dist-packages (from requests->gcsfs) (2.8)\n",
      "Requirement already satisfied: certifi>=2017.4.17 in /usr/local/lib/python3.6/dist-packages (from requests->gcsfs) (2019.11.28)\n",
      "Requirement already satisfied: pyasn1<0.5.0,>=0.4.6 in /usr/local/lib/python3.6/dist-packages (from pyasn1-modules>=0.2.1->google-auth>=1.2->gcsfs) (0.4.8)\n",
      "Requirement already satisfied: oauthlib>=3.0.0 in /usr/local/lib/python3.6/dist-packages (from requests-oauthlib>=0.7.0->google-auth-oauthlib->gcsfs) (3.1.0)\n",
      "Installing collected packages: gcsfs\n",
      "Successfully installed gcsfs-0.6.0\n"
     ]
    }
   ],
   "source": [
    "import pandas as pd\n",
    "import json\n",
    "import csv\n",
    "import tweepy\n",
    "import os\n",
    "import numpy as np\n",
    "from google.colab import auth\n",
    "%pip install gcsfs\n",
    "pd.set_option('display.max_colwidth', -1)\n"
   ]
  },
  {
   "cell_type": "markdown",
   "metadata": {
    "colab_type": "text",
    "id": "0MtvDI8rbEWh"
   },
   "source": [
    "I have stored all of my separate data sources in my google bucket for accessibiliity purposes - although I will provide the data in the github upload. All of this data is supervised</b>"
   ]
  },
  {
   "cell_type": "code",
   "execution_count": 0,
   "metadata": {
    "colab": {
     "base_uri": "https://localhost:8080/",
     "height": 126
    },
    "colab_type": "code",
    "executionInfo": {
     "elapsed": 40930,
     "status": "ok",
     "timestamp": 1578418315328,
     "user": {
      "displayName": "Fionn McConville",
      "photoUrl": "https://lh3.googleusercontent.com/a-/AAuE7mDQ4Te6RRh1B7ENukR6-4xoNAaV2ajfGgNpCD6y=s64",
      "userId": "01326935138765014160"
     },
     "user_tz": 0
    },
    "id": "0d3Gb2FhcpKU",
    "outputId": "40e8f188-5666-41ab-eda6-985dc25c15d3"
   },
   "outputs": [
    {
     "name": "stdout",
     "output_type": "stream",
     "text": [
      "Updated property [core/project].\n",
      "\n",
      "\n",
      "To take a quick anonymous survey, run:\n",
      "  $ gcloud survey\n",
      "\n"
     ]
    }
   ],
   "source": [
    "DATA_DIR = 'gs://csc3002/Raw_Data'\n",
    "!gcloud config set project 'my-project-csc3002'\n",
    "auth.authenticate_user()"
   ]
  },
  {
   "cell_type": "markdown",
   "metadata": {
    "colab_type": "text",
    "id": "lxhr2-DfVYdl"
   },
   "source": [
    "# Loading in hatEval 2019 Data\n",
    "\n",
    "Below is a description of the initial SemEval training data this project will use. The targets of abuse in this dataset are immigrants and women.\n",
    "\n",
    "## HS - Hate Speech\n",
    "\n",
    "This column indicates whether the content of the tweet is hate speech or not.\n",
    "\n",
    "<b>If the value is 1 then it is hate speech, if it is 0 then it is not hate speech.</b>\n",
    "\n",
    "This is the only column we're interested in for this task as the other columns denote aggression and who the target was (group or individual). These columns will be removed as they're irrelevant to my task"
   ]
  },
  {
   "cell_type": "code",
   "execution_count": 0,
   "metadata": {
    "colab": {
     "base_uri": "https://localhost:8080/",
     "height": 181
    },
    "colab_type": "code",
    "executionInfo": {
     "elapsed": 1596,
     "status": "ok",
     "timestamp": 1578324909853,
     "user": {
      "displayName": "Fionn McConville",
      "photoUrl": "https://lh3.googleusercontent.com/a-/AAuE7mDQ4Te6RRh1B7ENukR6-4xoNAaV2ajfGgNpCD6y=s64",
      "userId": "01326935138765014160"
     },
     "user_tz": 0
    },
    "id": "d9uBJSrUVYdm",
    "outputId": "52ddbc4b-4a9a-4c15-bffb-4c7cacb632da"
   },
   "outputs": [
    {
     "name": "stdout",
     "output_type": "stream",
     "text": [
      "<class 'pandas.core.frame.DataFrame'>\n",
      "RangeIndex: 1000 entries, 0 to 999\n",
      "Data columns (total 4 columns):\n",
      "text    1000 non-null object\n",
      "HS      1000 non-null int64\n",
      "TR      1000 non-null int64\n",
      "AG      1000 non-null int64\n",
      "dtypes: int64(3), object(1)\n",
      "memory usage: 31.4+ KB\n"
     ]
    }
   ],
   "source": [
    "path = os.path.join(DATA_DIR, 'semeval_2018_task5_hateval\\public_development_en\\dev_en.tsv')\n",
    "dev = pd.read_csv(path , sep='\\t');\n",
    "dev.drop('id', inplace = True, axis = 1)\n",
    "dev.reset_index(drop = True, inplace = True)\n",
    "dev.info()"
   ]
  },
  {
   "cell_type": "code",
   "execution_count": 0,
   "metadata": {
    "colab": {
     "base_uri": "https://localhost:8080/",
     "height": 181
    },
    "colab_type": "code",
    "executionInfo": {
     "elapsed": 1423,
     "status": "ok",
     "timestamp": 1578325151585,
     "user": {
      "displayName": "Fionn McConville",
      "photoUrl": "https://lh3.googleusercontent.com/a-/AAuE7mDQ4Te6RRh1B7ENukR6-4xoNAaV2ajfGgNpCD6y=s64",
      "userId": "01326935138765014160"
     },
     "user_tz": 0
    },
    "id": "23jug4r2VYdp",
    "outputId": "6a9527b6-dc76-4d21-d16c-d64e5669a6a1"
   },
   "outputs": [
    {
     "name": "stdout",
     "output_type": "stream",
     "text": [
      "<class 'pandas.core.frame.DataFrame'>\n",
      "RangeIndex: 9000 entries, 0 to 8999\n",
      "Data columns (total 4 columns):\n",
      "text    9000 non-null object\n",
      "HS      9000 non-null int64\n",
      "TR      9000 non-null int64\n",
      "AG      9000 non-null int64\n",
      "dtypes: int64(3), object(1)\n",
      "memory usage: 281.4+ KB\n"
     ]
    }
   ],
   "source": [
    "path = os.path.join( DATA_DIR, 'semeval_2018_task5_hateval/public_development_en/train_en.tsv')\n",
    "train = pd.read_csv(path, sep='\\t');\n",
    "train.drop('id', inplace = True, axis = 1)\n",
    "train.reset_index(drop = True, inplace = True)\n",
    "train.info()"
   ]
  },
  {
   "cell_type": "code",
   "execution_count": 0,
   "metadata": {
    "colab": {
     "base_uri": "https://localhost:8080/",
     "height": 72
    },
    "colab_type": "code",
    "executionInfo": {
     "elapsed": 762,
     "status": "ok",
     "timestamp": 1578325267453,
     "user": {
      "displayName": "Fionn McConville",
      "photoUrl": "https://lh3.googleusercontent.com/a-/AAuE7mDQ4Te6RRh1B7ENukR6-4xoNAaV2ajfGgNpCD6y=s64",
      "userId": "01326935138765014160"
     },
     "user_tz": 0
    },
    "id": "I2HkHpf5VYdr",
    "outputId": "86690104-1b58-4c70-9ab8-d6747d6c25d1"
   },
   "outputs": [
    {
     "data": {
      "text/plain": [
       "0    5790\n",
       "1    4210\n",
       "Name: HS, dtype: int64"
      ]
     },
     "execution_count": 25,
     "metadata": {
      "tags": []
     },
     "output_type": "execute_result"
    }
   ],
   "source": [
    "dfs = [train, dev]\n",
    "alldf = pd.concat(dfs)\n",
    "alldf.drop(columns = {'TR', 'AG'}, axis = 1, inplace = True)\n",
    "alldf.HS.value_counts()"
   ]
  },
  {
   "cell_type": "code",
   "execution_count": 0,
   "metadata": {
    "colab": {
     "base_uri": "https://localhost:8080/",
     "height": 504
    },
    "colab_type": "code",
    "executionInfo": {
     "elapsed": 510,
     "status": "ok",
     "timestamp": 1578325269756,
     "user": {
      "displayName": "Fionn McConville",
      "photoUrl": "https://lh3.googleusercontent.com/a-/AAuE7mDQ4Te6RRh1B7ENukR6-4xoNAaV2ajfGgNpCD6y=s64",
      "userId": "01326935138765014160"
     },
     "user_tz": 0
    },
    "id": "uvRh8pfHVYds",
    "outputId": "f6a74f7c-76dc-4c54-9e1a-ff82a3951712"
   },
   "outputs": [
    {
     "data": {
      "text/html": [
       "<div>\n",
       "<style scoped>\n",
       "    .dataframe tbody tr th:only-of-type {\n",
       "        vertical-align: middle;\n",
       "    }\n",
       "\n",
       "    .dataframe tbody tr th {\n",
       "        vertical-align: top;\n",
       "    }\n",
       "\n",
       "    .dataframe thead th {\n",
       "        text-align: right;\n",
       "    }\n",
       "</style>\n",
       "<table border=\"1\" class=\"dataframe\">\n",
       "  <thead>\n",
       "    <tr style=\"text-align: right;\">\n",
       "      <th></th>\n",
       "      <th>text</th>\n",
       "      <th>HS</th>\n",
       "    </tr>\n",
       "  </thead>\n",
       "  <tbody>\n",
       "    <tr>\n",
       "      <th>0</th>\n",
       "      <td>Hurray, saving us $$$ in so many ways @potus @realDonaldTrump #LockThemUp #BuildTheWall #EndDACA #BoycottNFL #BoycottNike</td>\n",
       "      <td>1</td>\n",
       "    </tr>\n",
       "    <tr>\n",
       "      <th>1</th>\n",
       "      <td>Why would young fighting age men be the vast majority of the ones escaping a war &amp;amp; not those who cannot fight like women, children, and the elderly?It's because the majority of the refugees are not actually refugees they are economic migrants trying to get into Europe.... https://t.co/Ks0SHbtYqn</td>\n",
       "      <td>1</td>\n",
       "    </tr>\n",
       "    <tr>\n",
       "      <th>2</th>\n",
       "      <td>@KamalaHarris Illegals Dump their Kids at the border like Road Kill and Refuse to Unite! They Hope they get Amnesty, Free Education and Welfare Illegal #FamilesBelongTogether in their Country not on the Taxpayer Dime Its a SCAM #NoDACA #NoAmnesty #SendThe</td>\n",
       "      <td>1</td>\n",
       "    </tr>\n",
       "    <tr>\n",
       "      <th>3</th>\n",
       "      <td>NY Times: 'Nearly All White' States Pose 'an Array of Problems' for Immigrants https://t.co/ACZKLhdMV9 https://t.co/CJAlSXCzR6</td>\n",
       "      <td>0</td>\n",
       "    </tr>\n",
       "    <tr>\n",
       "      <th>4</th>\n",
       "      <td>Orban in Brussels: European leaders are ignoring the will of the people, they do not want migrants https://t.co/NeYFyqvYlX</td>\n",
       "      <td>0</td>\n",
       "    </tr>\n",
       "    <tr>\n",
       "      <th>5</th>\n",
       "      <td>@KurtSchlichter LEGAL is. Not illegal. #BuildThatWall</td>\n",
       "      <td>1</td>\n",
       "    </tr>\n",
       "    <tr>\n",
       "      <th>6</th>\n",
       "      <td>@RitaPanahi @826Maureen @RealCandaceO Antifa are just a pack of druggie misfits that no one loves, being the violent thugs they are is their cry for attention and their hit of self importance.#JuvenileDelinquents</td>\n",
       "      <td>0</td>\n",
       "    </tr>\n",
       "    <tr>\n",
       "      <th>7</th>\n",
       "      <td>Ex-Teacher Pleads Not guilty To Rape Charges https://t.co/D2mGu3VT5G</td>\n",
       "      <td>0</td>\n",
       "    </tr>\n",
       "    <tr>\n",
       "      <th>8</th>\n",
       "      <td>still places on our Bengali (Sylheti) class! it's London's 2nd language! know anyone interested @SBSisters @refugeecouncil @DocsNotCops https://t.co/sOx6shjvMx</td>\n",
       "      <td>0</td>\n",
       "    </tr>\n",
       "    <tr>\n",
       "      <th>9</th>\n",
       "      <td>DFID Africa Regional Profile: July 2018 https://t.co/npfZCriW0w</td>\n",
       "      <td>0</td>\n",
       "    </tr>\n",
       "  </tbody>\n",
       "</table>\n",
       "</div>"
      ],
      "text/plain": [
       "                                                                                                                                                                                                                                                                                                           text  HS\n",
       "0  Hurray, saving us $$$ in so many ways @potus @realDonaldTrump #LockThemUp #BuildTheWall #EndDACA #BoycottNFL #BoycottNike                                                                                                                                                                                     1 \n",
       "1  Why would young fighting age men be the vast majority of the ones escaping a war &amp; not those who cannot fight like women, children, and the elderly?It's because the majority of the refugees are not actually refugees they are economic migrants trying to get into Europe.... https://t.co/Ks0SHbtYqn  1 \n",
       "2  @KamalaHarris Illegals Dump their Kids at the border like Road Kill and Refuse to Unite! They Hope they get Amnesty, Free Education and Welfare Illegal #FamilesBelongTogether in their Country not on the Taxpayer Dime Its a SCAM #NoDACA #NoAmnesty #SendThe                                               1 \n",
       "3  NY Times: 'Nearly All White' States Pose 'an Array of Problems' for Immigrants https://t.co/ACZKLhdMV9 https://t.co/CJAlSXCzR6                                                                                                                                                                                0 \n",
       "4  Orban in Brussels: European leaders are ignoring the will of the people, they do not want migrants https://t.co/NeYFyqvYlX                                                                                                                                                                                    0 \n",
       "5  @KurtSchlichter LEGAL is. Not illegal. #BuildThatWall                                                                                                                                                                                                                                                         1 \n",
       "6  @RitaPanahi @826Maureen @RealCandaceO Antifa are just a pack of druggie misfits that no one loves, being the violent thugs they are is their cry for attention and their hit of self importance.#JuvenileDelinquents                                                                                          0 \n",
       "7  Ex-Teacher Pleads Not guilty To Rape Charges https://t.co/D2mGu3VT5G                                                                                                                                                                                                                                          0 \n",
       "8  still places on our Bengali (Sylheti) class! it's London's 2nd language! know anyone interested @SBSisters @refugeecouncil @DocsNotCops https://t.co/sOx6shjvMx                                                                                                                                               0 \n",
       "9  DFID Africa Regional Profile: July 2018 https://t.co/npfZCriW0w                                                                                                                                                                                                                                               0 "
      ]
     },
     "execution_count": 26,
     "metadata": {
      "tags": []
     },
     "output_type": "execute_result"
    }
   ],
   "source": [
    "alldf.head(10)"
   ]
  },
  {
   "cell_type": "markdown",
   "metadata": {
    "colab_type": "text",
    "id": "GTwjSoIxhSKX"
   },
   "source": [
    "Above seems quite reliably annotated, I'm particularly happy that the authors of this data deemed to include terms that might trigger a false positive like 'Rape' and 'Immigrants' yet are included in a non hate speech context. Also some of the data is quite aggressive, such as against a group like antifa (see 6th entry) and aren't hate speech."
   ]
  },
  {
   "cell_type": "markdown",
   "metadata": {
    "colab_type": "text",
    "id": "GtrWUOWjVYdu"
   },
   "source": [
    "# Loading in OffensEval Data\n",
    "\n",
    "This data is a bit more tricky but it'll be useful to try out and inspect if the data can be reliably used to fine tune our model. We must ask ourselves if the offensive language in this data equates to hate speech.\n",
    "\n",
    "The column names in the file are the following:\n",
    "\n",
    "<b> id\t tweet\t subtask_a\t subtask_b\t subtask_c </b>\n",
    "\n",
    "The labels used in the annotation are listed below.\n",
    "\n",
    "(A) Level A: Offensive language identification\n",
    "\n",
    "- (NOT) Not Offensive - This post does not contain offense or profanity.\n",
    "- (OFF) Offensive - This post contains offensive language or a targeted (veiled or direct) offense\n",
    "\n",
    "In our annotation, we label a post as offensive (OFF) if it contains any form of non-acceptable language (profanity) or a targeted offense, which can be veiled or direct. \n",
    "\n",
    "(B) Level B: Automatic categorization of offense types\n",
    "\n",
    "- (TIN) Targeted Insult and Threats - A post containing an insult or threat to an individual, a group, or others (see categories in sub-task C).\n",
    "- (UNT) Untargeted - A post containing non-targeted profanity and swearing.\n",
    "\n",
    "Posts containing general profanity are not targeted, but they contain non-acceptable language.\n",
    "\n",
    "(C) Level C: Offense target identification\n",
    "\n",
    "- (IND) Individual - The target of the offensive post is an individual: a famous person, a named individual or an unnamed person interacting in the conversation.\n",
    "- (GRP) Group - The target of the offensive post is a group of people considered as a unity due to the same ethnicity, gender or sexual orientation, political affiliation, religious belief, or something else.\n",
    "- (OTH) Other – The target of the offensive post does not belong to any of the previous two categories (e.g., an organization, a situation, an event, or an issue)\n",
    "\n",
    "<i> So bearing all this in mind I believe that if we only get data from this set that has the OFF flag for level A, a TIN flag for level B and a GRP flag for level 3, we can extract data that is offensive and is targetting a specific group which may be the \"same ethnicity, gender or sexual orientation, political affiliation, religious belief, or something else.\"</i>\n",
    "    \n",
    "We may lose some tweets that could be useful for training our model in that they possibly target an individual in a hate speech way, but our overall dataset would be contaminated with too many tweets that are irrelevant to our investigation in that they are offensive but not in a hate speech manner</i>\n",
    "\n",
    "<b> A problem lies here though in that not all offensive targetting of groups may be considered hate speech. Someone could tweet something like <i> \"All Democrats are repulsive idiots\" </i> and this may not be considered hate speech by the masses. \n",
    "    \n",
    "Likewise can we say that someone tweeting, <i>\"These evangelical christians are uneducated and fucking barbaric!\" #MyBodyMyChoice </i> may not be considered hate speech by the of majority people.</b>\n",
    "\n",
    "<i>(Although some might, but I'm mainly interested in hate speech agreed upon by a majority of people) </i>\n",
    "\n",
    "Reference for this data:\n",
    "\n",
    "<i>Predicting the Type and Target of Offensive Posts in Social Media, Zampieri, Marcos and Malmasi, Shervin and Nakov, Preslav and Rosenthal, Sara and Farra, Noura and Kumar, Ritesh, Proceedings of NAACL, 2019</i>\n",
    "\n",
    "    \n"
   ]
  },
  {
   "cell_type": "code",
   "execution_count": 0,
   "metadata": {
    "colab": {
     "base_uri": "https://localhost:8080/",
     "height": 199
    },
    "colab_type": "code",
    "executionInfo": {
     "elapsed": 1388,
     "status": "ok",
     "timestamp": 1578325941831,
     "user": {
      "displayName": "Fionn McConville",
      "photoUrl": "https://lh3.googleusercontent.com/a-/AAuE7mDQ4Te6RRh1B7ENukR6-4xoNAaV2ajfGgNpCD6y=s64",
      "userId": "01326935138765014160"
     },
     "user_tz": 0
    },
    "id": "bPLTBqR8VYdu",
    "outputId": "81a32e48-4d1f-4dab-c693-caa07561c967"
   },
   "outputs": [
    {
     "name": "stdout",
     "output_type": "stream",
     "text": [
      "<class 'pandas.core.frame.DataFrame'>\n",
      "RangeIndex: 13240 entries, 0 to 13239\n",
      "Data columns (total 5 columns):\n",
      "id           13240 non-null int64\n",
      "tweet        13240 non-null object\n",
      "subtask_a    13240 non-null object\n",
      "subtask_b    4400 non-null object\n",
      "subtask_c    3876 non-null object\n",
      "dtypes: int64(1), object(4)\n",
      "memory usage: 517.3+ KB\n"
     ]
    }
   ],
   "source": [
    "path = os.path.join(DATA_DIR, 'OLIDv1.0/olid-training-v1.0.tsv')\n",
    "offens = pd.read_csv(path, sep='\\t');\n",
    "offens.info()"
   ]
  },
  {
   "cell_type": "code",
   "execution_count": 0,
   "metadata": {
    "colab": {},
    "colab_type": "code",
    "id": "30Yx32cJVYdw"
   },
   "outputs": [],
   "source": [
    "offens = offens.dropna()\n",
    "offens.reset_index(drop = True, inplace = True)"
   ]
  },
  {
   "cell_type": "markdown",
   "metadata": {
    "colab_type": "text",
    "id": "FqS6DY9uVYdx"
   },
   "source": [
    "<b> We may later want to use id for an index, but until we can be sure we've removed all redundant data lets not for now"
   ]
  },
  {
   "cell_type": "code",
   "execution_count": 0,
   "metadata": {
    "colab": {
     "base_uri": "https://localhost:8080/",
     "height": 199
    },
    "colab_type": "code",
    "executionInfo": {
     "elapsed": 527,
     "status": "ok",
     "timestamp": 1578325973477,
     "user": {
      "displayName": "Fionn McConville",
      "photoUrl": "https://lh3.googleusercontent.com/a-/AAuE7mDQ4Te6RRh1B7ENukR6-4xoNAaV2ajfGgNpCD6y=s64",
      "userId": "01326935138765014160"
     },
     "user_tz": 0
    },
    "id": "5jcA7vbfVYdy",
    "outputId": "af12127c-1aae-412f-fd2f-acd770c0c758"
   },
   "outputs": [
    {
     "name": "stdout",
     "output_type": "stream",
     "text": [
      "<class 'pandas.core.frame.DataFrame'>\n",
      "Int64Index: 1074 entries, 2 to 3873\n",
      "Data columns (total 5 columns):\n",
      "id           1074 non-null int64\n",
      "tweet        1074 non-null object\n",
      "subtask_a    1074 non-null object\n",
      "subtask_b    1074 non-null object\n",
      "subtask_c    1074 non-null object\n",
      "dtypes: int64(1), object(4)\n",
      "memory usage: 50.3+ KB\n"
     ]
    }
   ],
   "source": [
    "offens = offens[offens[\"subtask_a\"] == 'OFF']\n",
    "offens = offens[offens[\"subtask_b\"] == 'TIN']\n",
    "offens = offens[offens[\"subtask_c\"] == 'GRP']\n",
    "offens.info()"
   ]
  },
  {
   "cell_type": "code",
   "execution_count": 0,
   "metadata": {
    "colab": {
     "base_uri": "https://localhost:8080/",
     "height": 336
    },
    "colab_type": "code",
    "executionInfo": {
     "elapsed": 522,
     "status": "ok",
     "timestamp": 1578325998182,
     "user": {
      "displayName": "Fionn McConville",
      "photoUrl": "https://lh3.googleusercontent.com/a-/AAuE7mDQ4Te6RRh1B7ENukR6-4xoNAaV2ajfGgNpCD6y=s64",
      "userId": "01326935138765014160"
     },
     "user_tz": 0
    },
    "id": "Kx_Srs-NVYdz",
    "outputId": "5a4ff47a-01e5-41b6-dfc0-021992e6c88c"
   },
   "outputs": [
    {
     "data": {
      "text/html": [
       "<div>\n",
       "<style scoped>\n",
       "    .dataframe tbody tr th:only-of-type {\n",
       "        vertical-align: middle;\n",
       "    }\n",
       "\n",
       "    .dataframe tbody tr th {\n",
       "        vertical-align: top;\n",
       "    }\n",
       "\n",
       "    .dataframe thead th {\n",
       "        text-align: right;\n",
       "    }\n",
       "</style>\n",
       "<table border=\"1\" class=\"dataframe\">\n",
       "  <thead>\n",
       "    <tr style=\"text-align: right;\">\n",
       "      <th></th>\n",
       "      <th>id</th>\n",
       "      <th>tweet</th>\n",
       "      <th>subtask_a</th>\n",
       "      <th>subtask_b</th>\n",
       "      <th>subtask_c</th>\n",
       "    </tr>\n",
       "  </thead>\n",
       "  <tbody>\n",
       "    <tr>\n",
       "      <th>2</th>\n",
       "      <td>52415</td>\n",
       "      <td>@USER was literally just talking about this lol all mass shootings like that have been set ups. it’s propaganda used to divide us on major issues like gun control and terrorism</td>\n",
       "      <td>OFF</td>\n",
       "      <td>TIN</td>\n",
       "      <td>GRP</td>\n",
       "    </tr>\n",
       "    <tr>\n",
       "      <th>7</th>\n",
       "      <td>12681</td>\n",
       "      <td>@USER @USER Kind of like when conservatives wanna associate everyone to their left as communist antifa members?</td>\n",
       "      <td>OFF</td>\n",
       "      <td>TIN</td>\n",
       "      <td>GRP</td>\n",
       "    </tr>\n",
       "    <tr>\n",
       "      <th>8</th>\n",
       "      <td>82904</td>\n",
       "      <td>@USER @USER Da fuck is going on people?   There's the men's room and the women's room  Pick one and stick w it 🤔</td>\n",
       "      <td>OFF</td>\n",
       "      <td>TIN</td>\n",
       "      <td>GRP</td>\n",
       "    </tr>\n",
       "    <tr>\n",
       "      <th>10</th>\n",
       "      <td>12609</td>\n",
       "      <td>The only thing the Democrats have is lying and stalling to stop Trump from being #President.  What have they done for you lately. #Trump #Kavanaugh #MAGA #DEMSUCK</td>\n",
       "      <td>OFF</td>\n",
       "      <td>TIN</td>\n",
       "      <td>GRP</td>\n",
       "    </tr>\n",
       "    <tr>\n",
       "      <th>12</th>\n",
       "      <td>14726</td>\n",
       "      <td>@USER @USER @USER That's expected if you placate the violent leftists/terrorists. #KavanaughConfirmation #woke</td>\n",
       "      <td>OFF</td>\n",
       "      <td>TIN</td>\n",
       "      <td>GRP</td>\n",
       "    </tr>\n",
       "  </tbody>\n",
       "</table>\n",
       "</div>"
      ],
      "text/plain": [
       "       id  ... subtask_c\n",
       "2   52415  ...  GRP     \n",
       "7   12681  ...  GRP     \n",
       "8   82904  ...  GRP     \n",
       "10  12609  ...  GRP     \n",
       "12  14726  ...  GRP     \n",
       "\n",
       "[5 rows x 5 columns]"
      ]
     },
     "execution_count": 32,
     "metadata": {
      "tags": []
     },
     "output_type": "execute_result"
    }
   ],
   "source": [
    "offens.head()"
   ]
  },
  {
   "cell_type": "code",
   "execution_count": 0,
   "metadata": {
    "colab": {
     "base_uri": "https://localhost:8080/",
     "height": 419
    },
    "colab_type": "code",
    "executionInfo": {
     "elapsed": 536,
     "status": "ok",
     "timestamp": 1578326030147,
     "user": {
      "displayName": "Fionn McConville",
      "photoUrl": "https://lh3.googleusercontent.com/a-/AAuE7mDQ4Te6RRh1B7ENukR6-4xoNAaV2ajfGgNpCD6y=s64",
      "userId": "01326935138765014160"
     },
     "user_tz": 0
    },
    "id": "DnncFc9wVYd1",
    "outputId": "2f0bbe86-bdc4-4d41-aa5a-858f461bda9a"
   },
   "outputs": [
    {
     "data": {
      "text/plain": [
       "2     @USER was literally just talking about this lol all mass shootings like that have been set ups. it’s propaganda used to divide us on major issues like gun control and terrorism                                                                                                   \n",
       "7     @USER @USER Kind of like when conservatives wanna associate everyone to their left as communist antifa members?                                                                                                                                                                    \n",
       "8     @USER @USER Da fuck is going on people?   There's the men's room and the women's room  Pick one and stick w it 🤔                                                                                                                                                                   \n",
       "10    The only thing the Democrats have is lying and stalling to stop Trump from being #President.  What have they done for you lately. #Trump #Kavanaugh #MAGA #DEMSUCK                                                                                                                 \n",
       "12    @USER @USER @USER That's expected if you placate the violent leftists/terrorists. #KavanaughConfirmation #woke                                                                                                                                                                     \n",
       "13    4 out of 10 British people are basically full-on racists. 4 out of 10 voters vote for the Conservatives. Coincidence!???!???                                                                                                                                                       \n",
       "23    @USER I mean it worked for gun control right? URL                                                                                                                                                                                                                                  \n",
       "28    @USER Fuck em                                                                                                                                                                                                                                                                      \n",
       "35    @USER This all I get 😢 damn these haters deleting you IG for no reason... URL                                                                                                                                                                                                      \n",
       "38    @USER if the reason for Farakans illegal values are because he is black or Muslim, that would be a reason to detest him. I believe his illegal values are simply a result of bad character, like his supporters!\"                                                                  \n",
       "41    @USER So has the Law changed...you just make an allegation now days and your guilty until proven innocent. Liberals are mentally ill!                                                                                                                                              \n",
       "42    @USER This game sucks donkey balls                                                                                                                                                                                                                                                 \n",
       "45    @USER @USER @USER @USER @USER @USER @USER @USER @USER @USER @USER ...and #LeviStrauss wanting gun control How many of us wonder why the heck do they want our freedoms taken away ~ or is it just selective freedoms? URL                                                          \n",
       "50    @USER And the brainless #DEMS wants us to believe that he doesn't have the majority. Liberals is just like their leaders\" the corrupts #Obama and #CrookedHillary both are real bad losers #MAGA #TRUMP\"                                                                           \n",
       "51    @USER @USER California gun control is direct result of white people scared of Black Panthers using their right to bear arms. NRA had no problem with that gun control!                                                                                                             \n",
       "52    @USER @USER And yet millions of permit holding people carried legally concealed firearms that same day and didn’t hurt themselves or anyone else.   But yet they want to have stronger gun control.   Idiots!  🤨  Our wonderful media has to hype incidents that fits their agenda.\n",
       "53    @USER Yes do hurt your selves gun control freaks.                                                                                                                                                                                                                                  \n",
       "54    @USER @USER @USER Bullshit! Regulations are good because it keeps conservatives from striping our land into the Abyss                                                                                                                                                              \n",
       "58    Confirm the MAN! THE LEFT WING ACTIVIST IS A LIAR WHO'S STORY CHANGES! NO HARD EVIDENCE! #ChristineBlaseyFord Innocent until proven guilty! #ConfirmKavanaugh  #MAGA  @USER  #WeakRinos #Republicans                                                                               \n",
       "60    @USER @USER Leftists showing yet again how vile they can be                                                                                                                                                                                                                        \n",
       "Name: tweet, dtype: object"
      ]
     },
     "execution_count": 35,
     "metadata": {
      "tags": []
     },
     "output_type": "execute_result"
    }
   ],
   "source": [
    "tweets = offens[\"tweet\"]\n",
    "pd.set_option('display.max_colwidth', -1)\n",
    "tweets.head(20)\n"
   ]
  },
  {
   "cell_type": "markdown",
   "metadata": {
    "colab_type": "text",
    "id": "4JBstIb5VYd2"
   },
   "source": [
    "<b> These tweets - however tasteless some may be, would not be considered by most people to be hate speech. The other tweets in the previous hatEval dataset are clear and, in my opinion, inarguable instances of hate speech. Thus all of the data from this set will be labelled as not hate speech</b>\n",
    "    \n",
    "However, for our final data corpus used for fine-tuning, we shall exclude all tweets that satisfy all three subtasks (the tweets above), when adding data from this dataset, just to err on the side of caution when training our model. This is so we don't contaminate the set with instances of hate speech that are contradictory by being labelled as not hate speech"
   ]
  },
  {
   "cell_type": "markdown",
   "metadata": {
    "colab_type": "text",
    "id": "zyDp677KVYd2"
   },
   "source": [
    "# ICVSM 2017 Hate Speech Dataset\n",
    "\n",
    "<b> A dataset that usefully has benign tweets, offensive language and hate speech. Having offensive language tweets that is not hate speech will be very useful to my model because I can imagine confusion with some models can arise when trying to distinguish between offensive language, laced with profanity and hate speech. </b>\n",
    "\n",
    "In my research, I have become aware of an NLP strategy where one fine tunes a model on a related task and uses transfer learning to then fine tune on the target task downstream. This method is called multi-task fine tuning.\n",
    "\n",
    "With this in mind I've sought out data with annotated offensive tweets so that I can have the option to fine tune on offensive data before I fine tune on hate speech.\n",
    "\n",
    "## What the columns mean:\n",
    "\n",
    "### Count \n",
    "Number of CrowdFlower users who coded each tweet (min is 3, sometimes more users coded a tweet when judgments were determined to be unreliable by CF).\n",
    "\n",
    "### Hate_speech:\n",
    "Number of CF users who judged the tweet to be hate speech.\n",
    "\n",
    "### Offensive_language\n",
    "Number of CF users who judged the tweet to be offensive.\n",
    "\n",
    "### Neither\n",
    "Number of CF users who judged the tweet to be neither offensive nor non-offensive.\n",
    "\n",
    "### Class\n",
    "Class label for majority of CF users:\n",
    "\n",
    " 0 - Hate Speech\n",
    "\n",
    " 1 - Offensive Language\n",
    " \n",
    " 2 - Neither"
   ]
  },
  {
   "cell_type": "code",
   "execution_count": 0,
   "metadata": {
    "colab": {
     "base_uri": "https://localhost:8080/",
     "height": 235
    },
    "colab_type": "code",
    "executionInfo": {
     "elapsed": 1515,
     "status": "ok",
     "timestamp": 1578413057458,
     "user": {
      "displayName": "Fionn McConville",
      "photoUrl": "https://lh3.googleusercontent.com/a-/AAuE7mDQ4Te6RRh1B7ENukR6-4xoNAaV2ajfGgNpCD6y=s64",
      "userId": "01326935138765014160"
     },
     "user_tz": 0
    },
    "id": "R6C8ARpCVYd3",
    "outputId": "c50d9312-ac90-4b58-b2a5-b038cb1977e2"
   },
   "outputs": [
    {
     "name": "stdout",
     "output_type": "stream",
     "text": [
      "<class 'pandas.core.frame.DataFrame'>\n",
      "RangeIndex: 24783 entries, 0 to 24782\n",
      "Data columns (total 7 columns):\n",
      "Unnamed: 0            24783 non-null int64\n",
      "count                 24783 non-null int64\n",
      "hate_speech           24783 non-null int64\n",
      "offensive_language    24783 non-null int64\n",
      "neither               24783 non-null int64\n",
      "class                 24783 non-null int64\n",
      "tweet                 24783 non-null object\n",
      "dtypes: int64(6), object(1)\n",
      "memory usage: 1.3+ MB\n"
     ]
    }
   ],
   "source": [
    "sometweets = os.path.join(DATA_DIR, 'ICVSM_2017.csv')\n",
    "sometweets = pd.read_csv(sometweets, sep=',', encoding='utf-8');\n",
    "sometweets.info()"
   ]
  },
  {
   "cell_type": "markdown",
   "metadata": {
    "colab_type": "text",
    "id": "zT6FMyOjVYd4"
   },
   "source": [
    "Further refining tweet database into hate speech and inspecting to see if the tweets qualify as hate speech"
   ]
  },
  {
   "cell_type": "code",
   "execution_count": 0,
   "metadata": {
    "colab": {
     "base_uri": "https://localhost:8080/",
     "height": 1000
    },
    "colab_type": "code",
    "executionInfo": {
     "elapsed": 518,
     "status": "ok",
     "timestamp": 1578413058484,
     "user": {
      "displayName": "Fionn McConville",
      "photoUrl": "https://lh3.googleusercontent.com/a-/AAuE7mDQ4Te6RRh1B7ENukR6-4xoNAaV2ajfGgNpCD6y=s64",
      "userId": "01326935138765014160"
     },
     "user_tz": 0
    },
    "id": "1xWlPTIOVYd5",
    "outputId": "60996307-ccd1-4f51-e0fe-8fb364bd14d5"
   },
   "outputs": [
    {
     "name": "stderr",
     "output_type": "stream",
     "text": [
      "/usr/local/lib/python3.6/dist-packages/pandas/core/frame.py:4117: SettingWithCopyWarning: \n",
      "A value is trying to be set on a copy of a slice from a DataFrame\n",
      "\n",
      "See the caveats in the documentation: http://pandas.pydata.org/pandas-docs/stable/user_guide/indexing.html#returning-a-view-versus-a-copy\n",
      "  errors=errors,\n"
     ]
    },
    {
     "data": {
      "text/html": [
       "<div>\n",
       "<style scoped>\n",
       "    .dataframe tbody tr th:only-of-type {\n",
       "        vertical-align: middle;\n",
       "    }\n",
       "\n",
       "    .dataframe tbody tr th {\n",
       "        vertical-align: top;\n",
       "    }\n",
       "\n",
       "    .dataframe thead th {\n",
       "        text-align: right;\n",
       "    }\n",
       "</style>\n",
       "<table border=\"1\" class=\"dataframe\">\n",
       "  <thead>\n",
       "    <tr style=\"text-align: right;\">\n",
       "      <th></th>\n",
       "      <th>count</th>\n",
       "      <th>hate_speech</th>\n",
       "      <th>offensive_language</th>\n",
       "      <th>tweet</th>\n",
       "    </tr>\n",
       "  </thead>\n",
       "  <tbody>\n",
       "    <tr>\n",
       "      <th>0</th>\n",
       "      <td>3</td>\n",
       "      <td>2</td>\n",
       "      <td>1</td>\n",
       "      <td>\"@Blackman38Tide: @WhaleLookyHere @HowdyDowdy11 queer\" gaywad</td>\n",
       "    </tr>\n",
       "    <tr>\n",
       "      <th>1</th>\n",
       "      <td>3</td>\n",
       "      <td>3</td>\n",
       "      <td>0</td>\n",
       "      <td>\"@CB_Baby24: @white_thunduh alsarabsss\" hes a beaner smh you can tell hes a mexican</td>\n",
       "    </tr>\n",
       "    <tr>\n",
       "      <th>2</th>\n",
       "      <td>3</td>\n",
       "      <td>3</td>\n",
       "      <td>0</td>\n",
       "      <td>\"@DevilGrimz: @VigxRArts you're fucking gay, blacklisted hoe\" Holding out for #TehGodClan anyway http://t.co/xUCcwoetmn</td>\n",
       "    </tr>\n",
       "    <tr>\n",
       "      <th>3</th>\n",
       "      <td>3</td>\n",
       "      <td>3</td>\n",
       "      <td>0</td>\n",
       "      <td>\"@MarkRoundtreeJr: LMFAOOOO I HATE BLACK PEOPLE https://t.co/RNvD2nLCDR\" This is why there's black people and niggers</td>\n",
       "    </tr>\n",
       "    <tr>\n",
       "      <th>4</th>\n",
       "      <td>3</td>\n",
       "      <td>2</td>\n",
       "      <td>1</td>\n",
       "      <td>\"@NoChillPaz: \"At least I'm not a nigger\" http://t.co/RGJa7CfoiT\"\\n\\nLmfao</td>\n",
       "    </tr>\n",
       "    <tr>\n",
       "      <th>5</th>\n",
       "      <td>3</td>\n",
       "      <td>2</td>\n",
       "      <td>1</td>\n",
       "      <td>\"@NotoriousBM95: @_WhitePonyJr_ Ariza is a snake and a coward\" but at least he isn't a cripple like your hero Roach lmaoo</td>\n",
       "    </tr>\n",
       "    <tr>\n",
       "      <th>6</th>\n",
       "      <td>6</td>\n",
       "      <td>3</td>\n",
       "      <td>2</td>\n",
       "      <td>\"@RTNBA: Drakes new shoes that will be released by Nike/Jordan.... Yes, there's glitter on the shoes http://t.co/QCtPLxHEXM\" ....dudes a fag</td>\n",
       "    </tr>\n",
       "    <tr>\n",
       "      <th>7</th>\n",
       "      <td>3</td>\n",
       "      <td>2</td>\n",
       "      <td>1</td>\n",
       "      <td>\"@TheoMaxximus: #GerrysHalloweenParty http://t.co/3ycrSrnjHc\" Halloween was yesterday stupid nigger</td>\n",
       "    </tr>\n",
       "    <tr>\n",
       "      <th>8</th>\n",
       "      <td>3</td>\n",
       "      <td>2</td>\n",
       "      <td>1</td>\n",
       "      <td>\"@ashlingwilde: @ItsNotAdam is bored supposed to be cute, you faggot?\" Sometimes</td>\n",
       "    </tr>\n",
       "    <tr>\n",
       "      <th>9</th>\n",
       "      <td>3</td>\n",
       "      <td>2</td>\n",
       "      <td>1</td>\n",
       "      <td>\"@bigbootybishopp: @white_thunduh lassen cc , the coach wants me\" i feel it youll get more my nig no doubt</td>\n",
       "    </tr>\n",
       "    <tr>\n",
       "      <th>10</th>\n",
       "      <td>3</td>\n",
       "      <td>2</td>\n",
       "      <td>1</td>\n",
       "      <td>\"@jayswaggkillah: Jackies a retard #blondeproblems\" At least I can make a grilled cheese!</td>\n",
       "    </tr>\n",
       "    <tr>\n",
       "      <th>11</th>\n",
       "      <td>3</td>\n",
       "      <td>2</td>\n",
       "      <td>1</td>\n",
       "      <td>\"@jgabsss: Stacey Dash won &amp;#128166; http://t.co/PDLG46rjOL\" baddest bitch evaaaa</td>\n",
       "    </tr>\n",
       "    <tr>\n",
       "      <th>12</th>\n",
       "      <td>3</td>\n",
       "      <td>2</td>\n",
       "      <td>1</td>\n",
       "      <td>\"Don't worry about the nigga you see, worry about the nigga you DON'T see... Dat's da nigga fuckin yo bitch.\"</td>\n",
       "    </tr>\n",
       "    <tr>\n",
       "      <th>13</th>\n",
       "      <td>3</td>\n",
       "      <td>3</td>\n",
       "      <td>0</td>\n",
       "      <td>\"Hey go look at that video of the man that found the kidnapped girls in Ohio........what a nigger\" - #shitmybosssays</td>\n",
       "    </tr>\n",
       "    <tr>\n",
       "      <th>14</th>\n",
       "      <td>3</td>\n",
       "      <td>2</td>\n",
       "      <td>1</td>\n",
       "      <td>\"Let's kill cracker babies!\". WTF did I just hear???????? WOW.</td>\n",
       "    </tr>\n",
       "    <tr>\n",
       "      <th>15</th>\n",
       "      <td>3</td>\n",
       "      <td>2</td>\n",
       "      <td>1</td>\n",
       "      <td>\"My grandma used to call me a porch monkey all the time... Come to think of it she did refer to a broken bottle as a nigger knife\" &amp;#128563;</td>\n",
       "    </tr>\n",
       "    <tr>\n",
       "      <th>16</th>\n",
       "      <td>3</td>\n",
       "      <td>2</td>\n",
       "      <td>1</td>\n",
       "      <td>\"Nah its You @NoMeek_JustMilz: &amp;#128514;&amp;#128514;&amp;#128514;&amp;#128514; yo i thought some1 photoshopped my face on that faggot smmfh...i hate yall\" http://t.co/5e2fkQ3Q2T</td>\n",
       "    </tr>\n",
       "    <tr>\n",
       "      <th>17</th>\n",
       "      <td>3</td>\n",
       "      <td>3</td>\n",
       "      <td>0</td>\n",
       "      <td>\"Our people\". Now is the time for the Aryan race 2 stand up and say \"no more\". Before the mongerls turn the world into a ghetto slum. 1488</td>\n",
       "    </tr>\n",
       "    <tr>\n",
       "      <th>18</th>\n",
       "      <td>3</td>\n",
       "      <td>2</td>\n",
       "      <td>1</td>\n",
       "      <td>\"These sour apple bitter bitches, I'm not fuckin wit em\"</td>\n",
       "    </tr>\n",
       "    <tr>\n",
       "      <th>19</th>\n",
       "      <td>3</td>\n",
       "      <td>3</td>\n",
       "      <td>0</td>\n",
       "      <td>\"We hate niggers, we hate faggots and we hate spics\"-kkk rally</td>\n",
       "    </tr>\n",
       "  </tbody>\n",
       "</table>\n",
       "</div>"
      ],
      "text/plain": [
       "    count  ...                                                                                                                                                                   tweet\n",
       "0   3      ...  \"@Blackman38Tide: @WhaleLookyHere @HowdyDowdy11 queer\" gaywad                                                                                                         \n",
       "1   3      ...  \"@CB_Baby24: @white_thunduh alsarabsss\" hes a beaner smh you can tell hes a mexican                                                                                   \n",
       "2   3      ...  \"@DevilGrimz: @VigxRArts you're fucking gay, blacklisted hoe\" Holding out for #TehGodClan anyway http://t.co/xUCcwoetmn                                               \n",
       "3   3      ...  \"@MarkRoundtreeJr: LMFAOOOO I HATE BLACK PEOPLE https://t.co/RNvD2nLCDR\" This is why there's black people and niggers                                                 \n",
       "4   3      ...  \"@NoChillPaz: \"At least I'm not a nigger\" http://t.co/RGJa7CfoiT\"\\n\\nLmfao                                                                                            \n",
       "5   3      ...  \"@NotoriousBM95: @_WhitePonyJr_ Ariza is a snake and a coward\" but at least he isn't a cripple like your hero Roach lmaoo                                             \n",
       "6   6      ...  \"@RTNBA: Drakes new shoes that will be released by Nike/Jordan.... Yes, there's glitter on the shoes http://t.co/QCtPLxHEXM\" ....dudes a fag                          \n",
       "7   3      ...  \"@TheoMaxximus: #GerrysHalloweenParty http://t.co/3ycrSrnjHc\" Halloween was yesterday stupid nigger                                                                   \n",
       "8   3      ...  \"@ashlingwilde: @ItsNotAdam is bored supposed to be cute, you faggot?\" Sometimes                                                                                      \n",
       "9   3      ...  \"@bigbootybishopp: @white_thunduh lassen cc , the coach wants me\" i feel it youll get more my nig no doubt                                                            \n",
       "10  3      ...  \"@jayswaggkillah: Jackies a retard #blondeproblems\" At least I can make a grilled cheese!                                                                             \n",
       "11  3      ...  \"@jgabsss: Stacey Dash won &#128166; http://t.co/PDLG46rjOL\" baddest bitch evaaaa                                                                                     \n",
       "12  3      ...  \"Don't worry about the nigga you see, worry about the nigga you DON'T see... Dat's da nigga fuckin yo bitch.\"                                                         \n",
       "13  3      ...  \"Hey go look at that video of the man that found the kidnapped girls in Ohio........what a nigger\" - #shitmybosssays                                                  \n",
       "14  3      ...  \"Let's kill cracker babies!\". WTF did I just hear???????? WOW.                                                                                                        \n",
       "15  3      ...  \"My grandma used to call me a porch monkey all the time... Come to think of it she did refer to a broken bottle as a nigger knife\" &#128563;                          \n",
       "16  3      ...  \"Nah its You @NoMeek_JustMilz: &#128514;&#128514;&#128514;&#128514; yo i thought some1 photoshopped my face on that faggot smmfh...i hate yall\" http://t.co/5e2fkQ3Q2T\n",
       "17  3      ...  \"Our people\". Now is the time for the Aryan race 2 stand up and say \"no more\". Before the mongerls turn the world into a ghetto slum. 1488                            \n",
       "18  3      ...  \"These sour apple bitter bitches, I'm not fuckin wit em\"                                                                                                              \n",
       "19  3      ...  \"We hate niggers, we hate faggots and we hate spics\"-kkk rally                                                                                                        \n",
       "\n",
       "[20 rows x 4 columns]"
      ]
     },
     "execution_count": 85,
     "metadata": {
      "tags": []
     },
     "output_type": "execute_result"
    }
   ],
   "source": [
    "hatetweets = sometweets[sometweets[\"class\"] == 0]\n",
    "hatetweets.drop(columns = {'Unnamed: 0','neither', 'class' }, axis = 1, inplace = True)\n",
    "hatetweets.reset_index(drop = True, inplace = True)\n",
    "pd.set_option('display.max_colwidth', -1)\n",
    "#hatetweets = hatetweets['tweet']\n",
    "hatetweets.head(20)"
   ]
  },
  {
   "cell_type": "markdown",
   "metadata": {
    "colab_type": "text",
    "id": "g6IVXiEHpF2S"
   },
   "source": [
    "For the most part these tweets could be classified as hate speech, although I've noticed some again have offensive language and may contain hate speech terms but aren't clear cut hate speeeh.\n",
    "\n",
    "As I've said earlier, my goal of defining clear cut hate speech is paramount. So, at the expense of the volume of hate speech data, but with the benefit of clearer, more accurately defined dataset, I'll only annotate tweets from this set as hate speech if 3 or more Crowflower users deem it hate speech."
   ]
  },
  {
   "cell_type": "code",
   "execution_count": 0,
   "metadata": {
    "colab": {
     "base_uri": "https://localhost:8080/",
     "height": 455
    },
    "colab_type": "code",
    "executionInfo": {
     "elapsed": 510,
     "status": "ok",
     "timestamp": 1578413079395,
     "user": {
      "displayName": "Fionn McConville",
      "photoUrl": "https://lh3.googleusercontent.com/a-/AAuE7mDQ4Te6RRh1B7ENukR6-4xoNAaV2ajfGgNpCD6y=s64",
      "userId": "01326935138765014160"
     },
     "user_tz": 0
    },
    "id": "5QZVCH9lVYd6",
    "outputId": "664b572e-a02d-4147-cccf-6101f14bb0b1"
   },
   "outputs": [
    {
     "name": "stdout",
     "output_type": "stream",
     "text": [
      "There are 308 tweets in this database where 3 more mor users agree it's hate speech\n",
      "\n"
     ]
    },
    {
     "data": {
      "text/plain": [
       "1     \"@CB_Baby24: @white_thunduh alsarabsss\" hes a beaner smh you can tell hes a mexican                                                             \n",
       "2     \"@DevilGrimz: @VigxRArts you're fucking gay, blacklisted hoe\" Holding out for #TehGodClan anyway http://t.co/xUCcwoetmn                         \n",
       "3     \"@MarkRoundtreeJr: LMFAOOOO I HATE BLACK PEOPLE https://t.co/RNvD2nLCDR\" This is why there's black people and niggers                           \n",
       "6     \"@RTNBA: Drakes new shoes that will be released by Nike/Jordan.... Yes, there's glitter on the shoes http://t.co/QCtPLxHEXM\" ....dudes a fag    \n",
       "13    \"Hey go look at that video of the man that found the kidnapped girls in Ohio........what a nigger\" - #shitmybosssays                            \n",
       "17    \"Our people\". Now is the time for the Aryan race 2 stand up and say \"no more\". Before the mongerls turn the world into a ghetto slum. 1488      \n",
       "19    \"We hate niggers, we hate faggots and we hate spics\"-kkk rally                                                                                  \n",
       "22    \"Why people think gay marriage is okay is beyond me. Sorry I don't want my future son seeing 2 fags walking down the street holding hands an    \n",
       "30    #California is full of white trash                                                                                                              \n",
       "34    #Dutch people who live outside of #NewYorkCity are all white trash.                                                                             \n",
       "37    #Minnesota is full of white trash                                                                                                               \n",
       "42    #SouthCarolina is full of white trash                                                                                                           \n",
       "46    #VinitaHegwood can get a job at the naacp. Or as The AG. I hear they like \"diversity and tolerance\". As long as you ain't a cracker #tcot       \n",
       "50    #firefighter is a job for white trash                                                                                                           \n",
       "59    &#8220;@AlexaDelsanter: This is awkward u fag @corleyhuff @vitchhhh http://t.co/HUDOhA6YQe&#8221; wonder who's awesome tank that is &#128522;   \n",
       "67    &#8220;@Maxwell_Larsen: When you live this gay, you can't be afraid of two black dicks in your butt\" you fucking queer                          \n",
       "73    &#8220;@NoChillPaz: White kids favorite activities\\n1. Calling people \"niggers\" on Xbox\\n2.fucking their pet\\n3. Shooting up their school&#8221;\n",
       "81    &#8220;@iamkrause: No need to thank me, killing niggers is it's own reward.&#8221; \\n\\nDis my pal from our graduation when we was 26            \n",
       "85    &#8220;@rocafella123 \"@waymoflydenu: If fleek in yo vocabulary you a faggot\"&#8221;                                                             \n",
       "89    &#8220;@waymoflydenu Why yall think its ok to be faggots?&#8221; and want us to be cool with them                                               \n",
       "Name: tweet, dtype: object"
      ]
     },
     "execution_count": 87,
     "metadata": {
      "tags": []
     },
     "output_type": "execute_result"
    }
   ],
   "source": [
    "hatetweets1 = hatetweets[hatetweets['hate_speech'] > 2]\n",
    "print(\"There are\", len(hatetweets1.index), \"tweets in this database where 3 more mor users agree it's hate speech\\n\")\n",
    "hatetweets1.tweet.head(20)"
   ]
  },
  {
   "cell_type": "markdown",
   "metadata": {
    "colab_type": "text",
    "id": "20X_orQVVYd8"
   },
   "source": [
    "For the most part, this database seems to reliably have hate speech tweets annotated correctly so these tweets will be used to fine tune the model."
   ]
  },
  {
   "cell_type": "markdown",
   "metadata": {
    "colab_type": "text",
    "id": "EBG60vQdVYd8"
   },
   "source": [
    "## A New Database - ICVSM_2018 Abusive Behaviour Database\n",
    "\n",
    "In all, about 100,000 tweets. Labelled one of four categories: Normal, abusive, hateful and spam.  A detailed explanation as to how the tweets in this datbase were categorised can be found here: https://arxiv.org/pdf/1802.00393.pdf "
   ]
  },
  {
   "cell_type": "code",
   "execution_count": 0,
   "metadata": {
    "colab": {
     "base_uri": "https://localhost:8080/",
     "height": 163
    },
    "colab_type": "code",
    "executionInfo": {
     "elapsed": 3228,
     "status": "ok",
     "timestamp": 1578406884740,
     "user": {
      "displayName": "Fionn McConville",
      "photoUrl": "https://lh3.googleusercontent.com/a-/AAuE7mDQ4Te6RRh1B7ENukR6-4xoNAaV2ajfGgNpCD6y=s64",
      "userId": "01326935138765014160"
     },
     "user_tz": 0
    },
    "id": "T8DGZl8QVYd8",
    "outputId": "c8699d55-1f88-4897-e447-ae4c85ae0830"
   },
   "outputs": [
    {
     "name": "stdout",
     "output_type": "stream",
     "text": [
      "<class 'pandas.core.frame.DataFrame'>\n",
      "RangeIndex: 99996 entries, 0 to 99995\n",
      "Data columns (total 3 columns):\n",
      "tweets                     99996 non-null object\n",
      "majority label             99996 non-null object\n",
      "votes on majority label    99996 non-null int64\n",
      "dtypes: int64(1), object(2)\n",
      "memory usage: 2.3+ MB\n"
     ]
    }
   ],
   "source": [
    "icvsm = os.path.join(DATA_DIR, 'ICVSM_2018_dataset/hatespeech_text_label_vote.csv')\n",
    "icvsm = pd.read_csv(icvsm, sep='\\t', names = \\\n",
    "                    [\"tweets\", \"majority label\", \"votes on majority label\"  ], encoding ='utf-8');\n",
    "icvsm.info()"
   ]
  },
  {
   "cell_type": "code",
   "execution_count": 0,
   "metadata": {
    "colab": {
     "base_uri": "https://localhost:8080/",
     "height": 555
    },
    "colab_type": "code",
    "executionInfo": {
     "elapsed": 807,
     "status": "ok",
     "timestamp": 1578406900237,
     "user": {
      "displayName": "Fionn McConville",
      "photoUrl": "https://lh3.googleusercontent.com/a-/AAuE7mDQ4Te6RRh1B7ENukR6-4xoNAaV2ajfGgNpCD6y=s64",
      "userId": "01326935138765014160"
     },
     "user_tz": 0
    },
    "id": "t9DAsJxDVYd-",
    "outputId": "ff0d95a5-227b-41af-ef8f-12d2d0092bb5"
   },
   "outputs": [
    {
     "data": {
      "text/html": [
       "<div>\n",
       "<style scoped>\n",
       "    .dataframe tbody tr th:only-of-type {\n",
       "        vertical-align: middle;\n",
       "    }\n",
       "\n",
       "    .dataframe tbody tr th {\n",
       "        vertical-align: top;\n",
       "    }\n",
       "\n",
       "    .dataframe thead th {\n",
       "        text-align: right;\n",
       "    }\n",
       "</style>\n",
       "<table border=\"1\" class=\"dataframe\">\n",
       "  <thead>\n",
       "    <tr style=\"text-align: right;\">\n",
       "      <th></th>\n",
       "      <th>tweets</th>\n",
       "      <th>majority label</th>\n",
       "      <th>votes on majority label</th>\n",
       "    </tr>\n",
       "  </thead>\n",
       "  <tbody>\n",
       "    <tr>\n",
       "      <th>0</th>\n",
       "      <td>Beats by Dr. Dre urBeats Wired In-Ear Headphones - White https://t.co/9tREpqfyW4 https://t.co/FCaWyWRbpE</td>\n",
       "      <td>spam</td>\n",
       "      <td>4</td>\n",
       "    </tr>\n",
       "    <tr>\n",
       "      <th>1</th>\n",
       "      <td>RT @Papapishu: Man it would fucking rule if we had a party that was against perpetual warfare.</td>\n",
       "      <td>abusive</td>\n",
       "      <td>4</td>\n",
       "    </tr>\n",
       "    <tr>\n",
       "      <th>2</th>\n",
       "      <td>It is time to draw close to Him &amp;#128591;&amp;#127995; Father, I draw near to you now and always ❤️ https://t.co/MVRBBX2aqJ</td>\n",
       "      <td>normal</td>\n",
       "      <td>4</td>\n",
       "    </tr>\n",
       "    <tr>\n",
       "      <th>3</th>\n",
       "      <td>if you notice me start to act different or distant.. it's bc i peeped something you did or i notice a difference in how you act &amp;amp; ian fw it.</td>\n",
       "      <td>normal</td>\n",
       "      <td>5</td>\n",
       "    </tr>\n",
       "    <tr>\n",
       "      <th>4</th>\n",
       "      <td>Forget unfollowers, I believe in growing. 7 new followers in the last day! Stats via https://t.co/bunPHQNXhj</td>\n",
       "      <td>normal</td>\n",
       "      <td>3</td>\n",
       "    </tr>\n",
       "    <tr>\n",
       "      <th>5</th>\n",
       "      <td>RT @Vitiligoprince: Hate Being sexually Frustrated Like I wanna Fuck But ion wanna Just fuck anybody</td>\n",
       "      <td>abusive</td>\n",
       "      <td>4</td>\n",
       "    </tr>\n",
       "    <tr>\n",
       "      <th>6</th>\n",
       "      <td>Topped the group in TGP Disc Jam Season 2! Onto the Semi-Finals! @HighHorseGames https://t.co/N7LE8lX7Rm</td>\n",
       "      <td>normal</td>\n",
       "      <td>3</td>\n",
       "    </tr>\n",
       "    <tr>\n",
       "      <th>7</th>\n",
       "      <td>That daily baby aspirin for your #heart just might be preventing colon #cancer too. https://t.co/2TLawmHhEe</td>\n",
       "      <td>normal</td>\n",
       "      <td>5</td>\n",
       "    </tr>\n",
       "    <tr>\n",
       "      <th>8</th>\n",
       "      <td>I liked a @YouTube video from @mattshea https://t.co/niSeJrLKHq THE BLUE ARMY IS COMING! - Ancient Warfare 2</td>\n",
       "      <td>normal</td>\n",
       "      <td>2</td>\n",
       "    </tr>\n",
       "    <tr>\n",
       "      <th>9</th>\n",
       "      <td>RT @LestuhGang_: If your fucking up &amp;amp; your homies dont tell you that your fucking up, those ain't your homies</td>\n",
       "      <td>abusive</td>\n",
       "      <td>4</td>\n",
       "    </tr>\n",
       "  </tbody>\n",
       "</table>\n",
       "</div>"
      ],
      "text/plain": [
       "                                                                                                                                             tweets  ... votes on majority label\n",
       "0  Beats by Dr. Dre urBeats Wired In-Ear Headphones - White https://t.co/9tREpqfyW4 https://t.co/FCaWyWRbpE                                          ...  4                     \n",
       "1  RT @Papapishu: Man it would fucking rule if we had a party that was against perpetual warfare.                                                    ...  4                     \n",
       "2  It is time to draw close to Him &#128591;&#127995; Father, I draw near to you now and always ❤️ https://t.co/MVRBBX2aqJ                           ...  4                     \n",
       "3  if you notice me start to act different or distant.. it's bc i peeped something you did or i notice a difference in how you act &amp; ian fw it.  ...  5                     \n",
       "4  Forget unfollowers, I believe in growing. 7 new followers in the last day! Stats via https://t.co/bunPHQNXhj                                      ...  3                     \n",
       "5  RT @Vitiligoprince: Hate Being sexually Frustrated Like I wanna Fuck But ion wanna Just fuck anybody                                              ...  4                     \n",
       "6  Topped the group in TGP Disc Jam Season 2! Onto the Semi-Finals! @HighHorseGames https://t.co/N7LE8lX7Rm                                          ...  3                     \n",
       "7  That daily baby aspirin for your #heart just might be preventing colon #cancer too. https://t.co/2TLawmHhEe                                       ...  5                     \n",
       "8  I liked a @YouTube video from @mattshea https://t.co/niSeJrLKHq THE BLUE ARMY IS COMING! - Ancient Warfare 2                                      ...  2                     \n",
       "9  RT @LestuhGang_: If your fucking up &amp; your homies dont tell you that your fucking up, those ain't your homies                                 ...  4                     \n",
       "\n",
       "[10 rows x 3 columns]"
      ]
     },
     "execution_count": 5,
     "metadata": {
      "tags": []
     },
     "output_type": "execute_result"
    }
   ],
   "source": [
    "icvsm.head(10)"
   ]
  },
  {
   "cell_type": "code",
   "execution_count": 0,
   "metadata": {
    "colab": {
     "base_uri": "https://localhost:8080/",
     "height": 976
    },
    "colab_type": "code",
    "executionInfo": {
     "elapsed": 492,
     "status": "ok",
     "timestamp": 1578406908442,
     "user": {
      "displayName": "Fionn McConville",
      "photoUrl": "https://lh3.googleusercontent.com/a-/AAuE7mDQ4Te6RRh1B7ENukR6-4xoNAaV2ajfGgNpCD6y=s64",
      "userId": "01326935138765014160"
     },
     "user_tz": 0
    },
    "id": "Hz5YTmV6VYd_",
    "outputId": "88d4fe2e-99e4-4e54-bcfd-b2c64b9274b6"
   },
   "outputs": [
    {
     "data": {
      "text/html": [
       "<div>\n",
       "<style scoped>\n",
       "    .dataframe tbody tr th:only-of-type {\n",
       "        vertical-align: middle;\n",
       "    }\n",
       "\n",
       "    .dataframe tbody tr th {\n",
       "        vertical-align: top;\n",
       "    }\n",
       "\n",
       "    .dataframe thead th {\n",
       "        text-align: right;\n",
       "    }\n",
       "</style>\n",
       "<table border=\"1\" class=\"dataframe\">\n",
       "  <thead>\n",
       "    <tr style=\"text-align: right;\">\n",
       "      <th></th>\n",
       "      <th>tweets</th>\n",
       "      <th>majority label</th>\n",
       "      <th>votes on majority label</th>\n",
       "    </tr>\n",
       "  </thead>\n",
       "  <tbody>\n",
       "    <tr>\n",
       "      <th>21</th>\n",
       "      <td>Bad day for #Kyrgyzstan. Suspect in St. Petersburg metro bombing identified as #Kyrgyz, opposition politician Japarov reportedly kills self.</td>\n",
       "      <td>hateful</td>\n",
       "      <td>2</td>\n",
       "    </tr>\n",
       "    <tr>\n",
       "      <th>34</th>\n",
       "      <td>I'm over the fucking moon we've cleared up the definition of an act of war. Now, about that slap on the wrist we just gave Syria.</td>\n",
       "      <td>hateful</td>\n",
       "      <td>3</td>\n",
       "    </tr>\n",
       "    <tr>\n",
       "      <th>37</th>\n",
       "      <td>RT @ynaoivw: nah bitch i hate u https://t.co/fHX8y7esMH</td>\n",
       "      <td>hateful</td>\n",
       "      <td>3</td>\n",
       "    </tr>\n",
       "    <tr>\n",
       "      <th>71</th>\n",
       "      <td>RT @WaysThingsWork: I fucking hate people &amp;#128514;&amp;#128514; https://t.co/Qz5gihmcQF</td>\n",
       "      <td>hateful</td>\n",
       "      <td>3</td>\n",
       "    </tr>\n",
       "    <tr>\n",
       "      <th>106</th>\n",
       "      <td>@VanJones68 You looked like a complete pathetic idiot tonight. How could you be so stupid Mr. Ghetto. My God you… https://t.co/eEpAih1GAj</td>\n",
       "      <td>hateful</td>\n",
       "      <td>3</td>\n",
       "    </tr>\n",
       "    <tr>\n",
       "      <th>147</th>\n",
       "      <td>RT @___DestinyJadai: Never argue with a bitch you can kill by just stepping out on your WORST day &amp;#128514; we both know why that bitch mad sis &amp;#129335;&amp;#127998;‍…</td>\n",
       "      <td>hateful</td>\n",
       "      <td>4</td>\n",
       "    </tr>\n",
       "    <tr>\n",
       "      <th>152</th>\n",
       "      <td>RT @Woodparkweirdo: hell yeah I VAPE V: hate A: women P E</td>\n",
       "      <td>hateful</td>\n",
       "      <td>3</td>\n",
       "    </tr>\n",
       "    <tr>\n",
       "      <th>194</th>\n",
       "      <td>I talked well to you all along. I do not feel like I'm answering you bad. Damn it!!</td>\n",
       "      <td>hateful</td>\n",
       "      <td>2</td>\n",
       "    </tr>\n",
       "    <tr>\n",
       "      <th>221</th>\n",
       "      <td>RT @Jedi_Pite_Bre: Which state allowed 800K illegal aliens to get a license? You guessed it right-the retarded state of California https://…</td>\n",
       "      <td>hateful</td>\n",
       "      <td>3</td>\n",
       "    </tr>\n",
       "    <tr>\n",
       "      <th>234</th>\n",
       "      <td>@domy1337 @MainGame6 this is polish hooker look man, come here and you'll meet them next to some forests on the road lmao</td>\n",
       "      <td>hateful</td>\n",
       "      <td>2</td>\n",
       "    </tr>\n",
       "    <tr>\n",
       "      <th>245</th>\n",
       "      <td>ADULT SIBLING ABUSE SURVIVORS are often gossiped about for being the family idiot, misfit, or crazy relative. https://t.co/F6SvXWrTFm</td>\n",
       "      <td>hateful</td>\n",
       "      <td>3</td>\n",
       "    </tr>\n",
       "    <tr>\n",
       "      <th>287</th>\n",
       "      <td>@TLDRJones @sahluwal @IvankaTrump Learn to spell before you comment...Ivanka is a major nusinesz woman with a world… https://t.co/BKWgAgFzsr</td>\n",
       "      <td>hateful</td>\n",
       "      <td>4</td>\n",
       "    </tr>\n",
       "    <tr>\n",
       "      <th>313</th>\n",
       "      <td>Just bought a bunch of Tupperware and grown up colt thinks it's great but little colt hates how much he's turning into his parents</td>\n",
       "      <td>hateful</td>\n",
       "      <td>2</td>\n",
       "    </tr>\n",
       "    <tr>\n",
       "      <th>318</th>\n",
       "      <td>@JayFoee_ just another dumbass bronco fan swear I hate this fanbase dawg &amp;#128557;</td>\n",
       "      <td>hateful</td>\n",
       "      <td>4</td>\n",
       "    </tr>\n",
       "    <tr>\n",
       "      <th>337</th>\n",
       "      <td>RT @iamwilliewill: This what happens when you separate yo self from niggas who don't eat they food cold. You FLOURISH... https://t.co/FzTIA…</td>\n",
       "      <td>hateful</td>\n",
       "      <td>3</td>\n",
       "    </tr>\n",
       "    <tr>\n",
       "      <th>350</th>\n",
       "      <td>@IronofMercy “Unlike you, I'm not a weakling and have a high Insanity resistance. No I'm lying, but I don't fight it.”</td>\n",
       "      <td>hateful</td>\n",
       "      <td>2</td>\n",
       "    </tr>\n",
       "    <tr>\n",
       "      <th>352</th>\n",
       "      <td>I don't give a fuck about NONE of y'all UGLY bitches at Riverdale lmfao get mad hoe</td>\n",
       "      <td>hateful</td>\n",
       "      <td>3</td>\n",
       "    </tr>\n",
       "    <tr>\n",
       "      <th>364</th>\n",
       "      <td>RT @ItsMeGrizz: Bad bitches don't take days off https://t.co/eazGi8KnNh</td>\n",
       "      <td>hateful</td>\n",
       "      <td>3</td>\n",
       "    </tr>\n",
       "    <tr>\n",
       "      <th>394</th>\n",
       "      <td>A kiosk woman tried to scam me to buy $200 skin cream. Lady, I worked at Lush...I know all the tricks.</td>\n",
       "      <td>hateful</td>\n",
       "      <td>2</td>\n",
       "    </tr>\n",
       "    <tr>\n",
       "      <th>400</th>\n",
       "      <td>@JuneGrayy @_BriaPlease @SchoolEm_Jonesy Stupid as fuck and mad cuz she couldn't read &amp;#128514;&amp;#128514;&amp;#128514;</td>\n",
       "      <td>hateful</td>\n",
       "      <td>5</td>\n",
       "    </tr>\n",
       "  </tbody>\n",
       "</table>\n",
       "</div>"
      ],
      "text/plain": [
       "                                                                                                                                                                   tweets  ... votes on majority label\n",
       "21   Bad day for #Kyrgyzstan. Suspect in St. Petersburg metro bombing identified as #Kyrgyz, opposition politician Japarov reportedly kills self.                          ...  2                     \n",
       "34   I'm over the fucking moon we've cleared up the definition of an act of war. Now, about that slap on the wrist we just gave Syria.                                     ...  3                     \n",
       "37   RT @ynaoivw: nah bitch i hate u https://t.co/fHX8y7esMH                                                                                                               ...  3                     \n",
       "71   RT @WaysThingsWork: I fucking hate people &#128514;&#128514; https://t.co/Qz5gihmcQF                                                                                  ...  3                     \n",
       "106  @VanJones68 You looked like a complete pathetic idiot tonight. How could you be so stupid Mr. Ghetto. My God you… https://t.co/eEpAih1GAj                             ...  3                     \n",
       "147  RT @___DestinyJadai: Never argue with a bitch you can kill by just stepping out on your WORST day &#128514; we both know why that bitch mad sis &#129335;&#127998;‍…  ...  4                     \n",
       "152  RT @Woodparkweirdo: hell yeah I VAPE V: hate A: women P E                                                                                                             ...  3                     \n",
       "194  I talked well to you all along. I do not feel like I'm answering you bad. Damn it!!                                                                                   ...  2                     \n",
       "221  RT @Jedi_Pite_Bre: Which state allowed 800K illegal aliens to get a license? You guessed it right-the retarded state of California https://…                          ...  3                     \n",
       "234  @domy1337 @MainGame6 this is polish hooker look man, come here and you'll meet them next to some forests on the road lmao                                             ...  2                     \n",
       "245  ADULT SIBLING ABUSE SURVIVORS are often gossiped about for being the family idiot, misfit, or crazy relative. https://t.co/F6SvXWrTFm                                 ...  3                     \n",
       "287  @TLDRJones @sahluwal @IvankaTrump Learn to spell before you comment...Ivanka is a major nusinesz woman with a world… https://t.co/BKWgAgFzsr                          ...  4                     \n",
       "313  Just bought a bunch of Tupperware and grown up colt thinks it's great but little colt hates how much he's turning into his parents                                    ...  2                     \n",
       "318  @JayFoee_ just another dumbass bronco fan swear I hate this fanbase dawg &#128557;                                                                                    ...  4                     \n",
       "337  RT @iamwilliewill: This what happens when you separate yo self from niggas who don't eat they food cold. You FLOURISH... https://t.co/FzTIA…                          ...  3                     \n",
       "350  @IronofMercy “Unlike you, I'm not a weakling and have a high Insanity resistance. No I'm lying, but I don't fight it.”                                                ...  2                     \n",
       "352  I don't give a fuck about NONE of y'all UGLY bitches at Riverdale lmfao get mad hoe                                                                                   ...  3                     \n",
       "364  RT @ItsMeGrizz: Bad bitches don't take days off https://t.co/eazGi8KnNh                                                                                               ...  3                     \n",
       "394  A kiosk woman tried to scam me to buy $200 skin cream. Lady, I worked at Lush...I know all the tricks.                                                                ...  2                     \n",
       "400  @JuneGrayy @_BriaPlease @SchoolEm_Jonesy Stupid as fuck and mad cuz she couldn't read &#128514;&#128514;&#128514;                                                     ...  5                     \n",
       "\n",
       "[20 rows x 3 columns]"
      ]
     },
     "execution_count": 6,
     "metadata": {
      "tags": []
     },
     "output_type": "execute_result"
    }
   ],
   "source": [
    "hatefultweets = icvsm[icvsm[\"majority label\"] == \"hateful\" ]\n",
    "hatefultweets.head(20)"
   ]
  },
  {
   "cell_type": "markdown",
   "metadata": {
    "colab_type": "text",
    "id": "iKZW5-pKVYeB"
   },
   "source": [
    "In the paper the authors explicitly state that the term hateful is supposed to describe hate speech. In fact, they use a near identical description as I used in my report to define hate speech.\n",
    "\n",
    "<i>Language used to express hatred towards a targeted individual or group, or is intended to be derogatory, to humiliate, or to insult the members of the group, on the basis of attributes such as race, religion, ethnic origin, sexual orientation, disability, or gender.<i/>\n",
    "\n",
    "The authors told annotators to define hateful as such. The annotators are amateur users on CrowdFlower and so the innaccuracy here is understandable\n",
    "    \n",
    "Most of the above tweets in my opinon, and among the opinions of an informal sampling I took (friends and family), do not definitively qualify as hate speech. Possibly a few of the annotators got confused and thought that the content had hateful intent rather than hate speech and thought they had to annotate to that definition.\n",
    "\n",
    "The only \"hateful\" defined tweets agreed by a majority of the simple sampling I took from the tweets above were tweet 106: <i>@VanJones68 You looked like a complete pathetic idiot tonight. How could you be so stupid Mr. Ghetto. My God you… https://t.co/eEpAih1GAj</i> and 221:<i>RT @Jedi_Pite_Bre: Which state allowed 800K illegal aliens to get a license? You guessed it right-the retarded state of California https://...</i>\n",
    "\n",
    "To mitigate this, I'll further explore and see if the tweets, with high agreement among annotators that it contains hateful content, is a better suit to the hate speech definition."
   ]
  },
  {
   "cell_type": "code",
   "execution_count": 0,
   "metadata": {
    "colab": {
     "base_uri": "https://localhost:8080/",
     "height": 573
    },
    "colab_type": "code",
    "executionInfo": {
     "elapsed": 703,
     "status": "ok",
     "timestamp": 1578406943161,
     "user": {
      "displayName": "Fionn McConville",
      "photoUrl": "https://lh3.googleusercontent.com/a-/AAuE7mDQ4Te6RRh1B7ENukR6-4xoNAaV2ajfGgNpCD6y=s64",
      "userId": "01326935138765014160"
     },
     "user_tz": 0
    },
    "id": "uDCyWYp8VYeB",
    "outputId": "f573c24e-a158-4194-8ae7-7664c801dcc4"
   },
   "outputs": [
    {
     "data": {
      "text/html": [
       "<div>\n",
       "<style scoped>\n",
       "    .dataframe tbody tr th:only-of-type {\n",
       "        vertical-align: middle;\n",
       "    }\n",
       "\n",
       "    .dataframe tbody tr th {\n",
       "        vertical-align: top;\n",
       "    }\n",
       "\n",
       "    .dataframe thead th {\n",
       "        text-align: right;\n",
       "    }\n",
       "</style>\n",
       "<table border=\"1\" class=\"dataframe\">\n",
       "  <thead>\n",
       "    <tr style=\"text-align: right;\">\n",
       "      <th></th>\n",
       "      <th>tweets</th>\n",
       "      <th>majority label</th>\n",
       "      <th>votes on majority label</th>\n",
       "    </tr>\n",
       "  </thead>\n",
       "  <tbody>\n",
       "    <tr>\n",
       "      <th>10333</th>\n",
       "      <td>Hanging at UB on Friday, Unsacred headlines the metal showcase at Macrock on Saturday, then heading to Damaged City for Marked Men on Sunday</td>\n",
       "      <td>hateful</td>\n",
       "      <td>16</td>\n",
       "    </tr>\n",
       "    <tr>\n",
       "      <th>13919</th>\n",
       "      <td>This was a proportionate response by the United States. It is not designed to overthrow the Assad regime...… https://t.co/PqdEWMQrhy</td>\n",
       "      <td>hateful</td>\n",
       "      <td>18</td>\n",
       "    </tr>\n",
       "    <tr>\n",
       "      <th>15481</th>\n",
       "      <td>I had two exams and had to choose 1 or the other to study for and the 1 I didn't study for I passed with an 81 &amp;#127881;</td>\n",
       "      <td>hateful</td>\n",
       "      <td>8</td>\n",
       "    </tr>\n",
       "    <tr>\n",
       "      <th>22478</th>\n",
       "      <td>South Korean OF Kim makes Orioles opening day roster #BaltimoreOrioles #OriolesOpeningDay #Orioles #Orioles https://t.co/erAcYNSsUb</td>\n",
       "      <td>hateful</td>\n",
       "      <td>10</td>\n",
       "    </tr>\n",
       "    <tr>\n",
       "      <th>29915</th>\n",
       "      <td>Black people low budget cookouts have quarter legs for the old heads and bullshit hotdogs for the \"kids\" &amp;#128557;&amp;#128557;&amp;#128557;&amp;#128557;&amp;#128557;</td>\n",
       "      <td>hateful</td>\n",
       "      <td>14</td>\n",
       "    </tr>\n",
       "    <tr>\n",
       "      <th>33403</th>\n",
       "      <td>&amp;#128196; #WinterEvent2017 On the attraction of two perfectly conducting plat on-the-attraction-of-two-perfectly-conducting-plates.pdf</td>\n",
       "      <td>hateful</td>\n",
       "      <td>22</td>\n",
       "    </tr>\n",
       "    <tr>\n",
       "      <th>37228</th>\n",
       "      <td>#DickCavett asks Art Garfunkel who broke up Simon &amp;amp; Garfunkel. AG doesn't remember. I'm guessing suppression @decadesnetwork.</td>\n",
       "      <td>hateful</td>\n",
       "      <td>20</td>\n",
       "    </tr>\n",
       "    <tr>\n",
       "      <th>38192</th>\n",
       "      <td>Damn niggas was comparing this season to the farm which is really bad https://t.co/OVCBErCZDC</td>\n",
       "      <td>hateful</td>\n",
       "      <td>10</td>\n",
       "    </tr>\n",
       "    <tr>\n",
       "      <th>39529</th>\n",
       "      <td>RT @isabelaseraffim: insomnia ain't a joke bruh I'm really a fucking zombie at this point</td>\n",
       "      <td>hateful</td>\n",
       "      <td>20</td>\n",
       "    </tr>\n",
       "    <tr>\n",
       "      <th>43602</th>\n",
       "      <td>RT @iamwilliewill: This what happens when you separate yo self from niggas who don't eat they food cold. You FLOURISH... https://t.co/FzTIA…</td>\n",
       "      <td>hateful</td>\n",
       "      <td>15</td>\n",
       "    </tr>\n",
       "  </tbody>\n",
       "</table>\n",
       "</div>"
      ],
      "text/plain": [
       "                                                                                                                                                       tweets  ... votes on majority label\n",
       "10333  Hanging at UB on Friday, Unsacred headlines the metal showcase at Macrock on Saturday, then heading to Damaged City for Marked Men on Sunday            ...  16                    \n",
       "13919  This was a proportionate response by the United States. It is not designed to overthrow the Assad regime...… https://t.co/PqdEWMQrhy                    ...  18                    \n",
       "15481  I had two exams and had to choose 1 or the other to study for and the 1 I didn't study for I passed with an 81 &#127881;                                ...  8                     \n",
       "22478  South Korean OF Kim makes Orioles opening day roster #BaltimoreOrioles #OriolesOpeningDay #Orioles #Orioles https://t.co/erAcYNSsUb                     ...  10                    \n",
       "29915  Black people low budget cookouts have quarter legs for the old heads and bullshit hotdogs for the \"kids\" &#128557;&#128557;&#128557;&#128557;&#128557;  ...  14                    \n",
       "33403  &#128196; #WinterEvent2017 On the attraction of two perfectly conducting plat on-the-attraction-of-two-perfectly-conducting-plates.pdf                  ...  22                    \n",
       "37228  #DickCavett asks Art Garfunkel who broke up Simon &amp; Garfunkel. AG doesn't remember. I'm guessing suppression @decadesnetwork.                       ...  20                    \n",
       "38192  Damn niggas was comparing this season to the farm which is really bad https://t.co/OVCBErCZDC                                                           ...  10                    \n",
       "39529  RT @isabelaseraffim: insomnia ain't a joke bruh I'm really a fucking zombie at this point                                                               ...  20                    \n",
       "43602  RT @iamwilliewill: This what happens when you separate yo self from niggas who don't eat they food cold. You FLOURISH... https://t.co/FzTIA…            ...  15                    \n",
       "\n",
       "[10 rows x 3 columns]"
      ]
     },
     "execution_count": 7,
     "metadata": {
      "tags": []
     },
     "output_type": "execute_result"
    }
   ],
   "source": [
    "morehatefultweets =\\\n",
    "hatefultweets[hatefultweets[\"votes on majority label\"] > 7 ]\n",
    "morehatefultweets.head(10)"
   ]
  },
  {
   "cell_type": "markdown",
   "metadata": {
    "colab_type": "text",
    "id": "sG5Qw0N7VYeE"
   },
   "source": [
    "This does not seem to be much better. The tweets marked as hateful should be discarded because of the unreliability of annotators. Some of the tweets marked as 'hateful' may actually be hateful too so it's safer to remove them from the fine tuning stage of my project as I can't risk contamination.\n",
    "\n",
    "However the tweets annotated as offensive may be used in the multi-task fine tuning stage as that's a category that's hard to annotate wrong and isn't nuanced like hate speech.\n",
    "\n",
    "Also, due to the sheer number of tweets and the fact that many of the users here speak in slang and a more informal parlance than what would be found on wikipedia where correct grammar is used, (wikipedia is the text corpus that the original BERT model was pretrained on), the tweets here will be extremely useful for my further pretraining stage of my project and so they, along with the rest of the tweets in this notebook will be cleaned and used for further pre-training"
   ]
  },
  {
   "cell_type": "code",
   "execution_count": 0,
   "metadata": {
    "colab": {
     "base_uri": "https://localhost:8080/",
     "height": 108
    },
    "colab_type": "code",
    "executionInfo": {
     "elapsed": 561,
     "status": "ok",
     "timestamp": 1578407416975,
     "user": {
      "displayName": "Fionn McConville",
      "photoUrl": "https://lh3.googleusercontent.com/a-/AAuE7mDQ4Te6RRh1B7ENukR6-4xoNAaV2ajfGgNpCD6y=s64",
      "userId": "01326935138765014160"
     },
     "user_tz": 0
    },
    "id": "QmkBeC47VYeE",
    "outputId": "b63876fd-e3b8-4104-be8b-47393470a612"
   },
   "outputs": [
    {
     "data": {
      "text/plain": [
       "normal     53851\n",
       "abusive    27150\n",
       "spam       14030\n",
       "hateful    4965 \n",
       "Name: majority label, dtype: int64"
      ]
     },
     "execution_count": 8,
     "metadata": {
      "tags": []
     },
     "output_type": "execute_result"
    }
   ],
   "source": [
    "icvsm['majority label'].value_counts()"
   ]
  },
  {
   "cell_type": "markdown",
   "metadata": {
    "colab_type": "text",
    "id": "GLJ0rkcnVYeH"
   },
   "source": [
    "# Using Twitter API to mine tweets via ID (Waseem and Hovy 2016)"
   ]
  },
  {
   "cell_type": "code",
   "execution_count": 0,
   "metadata": {
    "colab": {
     "base_uri": "https://localhost:8080/",
     "height": 198
    },
    "colab_type": "code",
    "executionInfo": {
     "elapsed": 812,
     "status": "ok",
     "timestamp": 1578419260455,
     "user": {
      "displayName": "Fionn McConville",
      "photoUrl": "https://lh3.googleusercontent.com/a-/AAuE7mDQ4Te6RRh1B7ENukR6-4xoNAaV2ajfGgNpCD6y=s64",
      "userId": "01326935138765014160"
     },
     "user_tz": 0
    },
    "id": "lTPlx0m1VYeH",
    "outputId": "69ea8124-c6d9-462c-d662-1445d0d94ff5"
   },
   "outputs": [
    {
     "data": {
      "text/html": [
       "<div>\n",
       "<style scoped>\n",
       "    .dataframe tbody tr th:only-of-type {\n",
       "        vertical-align: middle;\n",
       "    }\n",
       "\n",
       "    .dataframe tbody tr th {\n",
       "        vertical-align: top;\n",
       "    }\n",
       "\n",
       "    .dataframe thead th {\n",
       "        text-align: right;\n",
       "    }\n",
       "</style>\n",
       "<table border=\"1\" class=\"dataframe\">\n",
       "  <thead>\n",
       "    <tr style=\"text-align: right;\">\n",
       "      <th></th>\n",
       "      <th>id</th>\n",
       "      <th>label</th>\n",
       "    </tr>\n",
       "  </thead>\n",
       "  <tbody>\n",
       "    <tr>\n",
       "      <th>0</th>\n",
       "      <td>572342978255048705</td>\n",
       "      <td>racism</td>\n",
       "    </tr>\n",
       "    <tr>\n",
       "      <th>1</th>\n",
       "      <td>572341498827522049</td>\n",
       "      <td>racism</td>\n",
       "    </tr>\n",
       "    <tr>\n",
       "      <th>2</th>\n",
       "      <td>572340476503724032</td>\n",
       "      <td>racism</td>\n",
       "    </tr>\n",
       "    <tr>\n",
       "      <th>3</th>\n",
       "      <td>572334712804384768</td>\n",
       "      <td>racism</td>\n",
       "    </tr>\n",
       "    <tr>\n",
       "      <th>4</th>\n",
       "      <td>572332655397629952</td>\n",
       "      <td>racism</td>\n",
       "    </tr>\n",
       "  </tbody>\n",
       "</table>\n",
       "</div>"
      ],
      "text/plain": [
       "                   id   label\n",
       "0  572342978255048705  racism\n",
       "1  572341498827522049  racism\n",
       "2  572340476503724032  racism\n",
       "3  572334712804384768  racism\n",
       "4  572332655397629952  racism"
      ]
     },
     "execution_count": 35,
     "metadata": {
      "tags": []
     },
     "output_type": "execute_result"
    }
   ],
   "source": [
    "path = r'https://raw.githubusercontent.com/ZeerakW/hatespeech/master/NAACL_SRW_2016.csv'\n",
    "\n",
    "ids = pd.read_csv(path, sep=',', names = ['id', 'label']);\n",
    "\n",
    "ids.head()"
   ]
  },
  {
   "cell_type": "markdown",
   "metadata": {
    "colab_type": "text",
    "id": "q3jAg55IblWk"
   },
   "source": [
    "If using anaconda notebook:"
   ]
  },
  {
   "cell_type": "code",
   "execution_count": 0,
   "metadata": {
    "colab": {},
    "colab_type": "code",
    "id": "hfLydSihVYeJ"
   },
   "outputs": [],
   "source": [
    "#conda install -c conda-forge tweepy"
   ]
  },
  {
   "cell_type": "markdown",
   "metadata": {
    "colab_type": "text",
    "id": "FBuePdITVYeL"
   },
   "source": [
    "Below is a tweepy method to obtain tweets via ID. Twitter API only allows us to extract tweets 100 at a time, as there are rate limits - therfore, we must set the wait_on_rate_limit parameter to True."
   ]
  },
  {
   "cell_type": "code",
   "execution_count": 0,
   "metadata": {
    "colab": {},
    "colab_type": "code",
    "id": "GIUPR1lXVYeL"
   },
   "outputs": [],
   "source": [
    "def lookup_tweets(tweet_IDs, api):\n",
    "    full_tweets = []\n",
    "    tweet_count = len(tweet_IDs)\n",
    "    \n",
    "    try:\n",
    "        for i in range((tweet_count // 100) + 1):\n",
    "            # Catch the last group if it is less than 100 tweets\n",
    "            end_loc = min((i + 1) * 100, tweet_count)\n",
    "            full_tweets.extend(\n",
    "                api.statuses_lookup(id_=tweet_IDs[i * 100:end_loc])\n",
    "            )\n",
    "        return full_tweets\n",
    "    except tweepy.TweepError:\n",
    "        print('Something went wrong, quitting...')"
   ]
  },
  {
   "cell_type": "markdown",
   "metadata": {
    "colab_type": "text",
    "id": "9hs29YrNVYeM"
   },
   "source": [
    "Open a previously created json file with twitter api credentials and also set wait_on_rate_limit so as not to exceed wait limits"
   ]
  },
  {
   "cell_type": "code",
   "execution_count": 0,
   "metadata": {
    "colab": {
     "base_uri": "https://localhost:8080/",
     "height": 128
    },
    "colab_type": "code",
    "executionInfo": {
     "elapsed": 18118,
     "status": "ok",
     "timestamp": 1578419286583,
     "user": {
      "displayName": "Fionn McConville",
      "photoUrl": "https://lh3.googleusercontent.com/a-/AAuE7mDQ4Te6RRh1B7ENukR6-4xoNAaV2ajfGgNpCD6y=s64",
      "userId": "01326935138765014160"
     },
     "user_tz": 0
    },
    "id": "Ip9CjWqbVYeN",
    "outputId": "b61a57ea-9a71-44a9-a807-3fe8e15918a8"
   },
   "outputs": [
    {
     "name": "stdout",
     "output_type": "stream",
     "text": [
      "Go to this URL in a browser: https://accounts.google.com/o/oauth2/auth?client_id=947318989803-6bn6qk8qdgf4n4g3pfee6491hc0brc4i.apps.googleusercontent.com&redirect_uri=urn%3aietf%3awg%3aoauth%3a2.0%3aoob&response_type=code&scope=email%20https%3a%2f%2fwww.googleapis.com%2fauth%2fdocs.test%20https%3a%2f%2fwww.googleapis.com%2fauth%2fdrive%20https%3a%2f%2fwww.googleapis.com%2fauth%2fdrive.photos.readonly%20https%3a%2f%2fwww.googleapis.com%2fauth%2fpeopleapi.readonly\n",
      "\n",
      "Enter your authorization code:\n",
      "··········\n",
      "Mounted at /content/drive\n"
     ]
    }
   ],
   "source": [
    "# Load twitter API credentials from json file from google drive\n",
    "from google.colab import drive\n",
    "drive.mount('/content/drive')\n",
    "with open('/content/drive/My Drive/twitter_credentials.json', \"r\") as f:\n",
    "  creds = json.load(f)\n",
    "\n",
    "\n",
    "auth = tweepy.OAuthHandler(creds['CONSUMER_KEY'], creds['CONSUMER_SECRET'])\n",
    "auth.set_access_token(creds['ACCESS_TOKEN'], creds['ACCESS_SECRET'])\n",
    "\n",
    "api = tweepy.API(auth, wait_on_rate_limit=True, wait_on_rate_limit_notify=True)"
   ]
  },
  {
   "cell_type": "markdown",
   "metadata": {
    "colab_type": "text",
    "id": "t1_o1WtVVYeO"
   },
   "source": [
    "Run below kernel to load tweets via ID - May take a while"
   ]
  },
  {
   "cell_type": "code",
   "execution_count": 0,
   "metadata": {
    "colab": {},
    "colab_type": "code",
    "id": "pM9Y44YAVYeP"
   },
   "outputs": [],
   "source": [
    "good_tweet_ids = list(ids['id']) #Create a list of tweet ids to look up \n",
    "results = lookup_tweets(good_tweet_ids, api) #apply function"
   ]
  },
  {
   "cell_type": "markdown",
   "metadata": {
    "colab_type": "text",
    "id": "2pjpQ0VMVYeQ"
   },
   "source": [
    "Then wrangle the data into one dataframe"
   ]
  },
  {
   "cell_type": "code",
   "execution_count": 0,
   "metadata": {
    "colab": {
     "base_uri": "https://localhost:8080/",
     "height": 400
    },
    "colab_type": "code",
    "executionInfo": {
     "elapsed": 5958,
     "status": "ok",
     "timestamp": 1578419406787,
     "user": {
      "displayName": "Fionn McConville",
      "photoUrl": "https://lh3.googleusercontent.com/a-/AAuE7mDQ4Te6RRh1B7ENukR6-4xoNAaV2ajfGgNpCD6y=s64",
      "userId": "01326935138765014160"
     },
     "user_tz": 0
    },
    "id": "InhA77dIVYeQ",
    "outputId": "3bb1fa7f-df61-4a3f-a636-48fea4e3cfd2"
   },
   "outputs": [
    {
     "data": {
      "text/html": [
       "<div>\n",
       "<style scoped>\n",
       "    .dataframe tbody tr th:only-of-type {\n",
       "        vertical-align: middle;\n",
       "    }\n",
       "\n",
       "    .dataframe tbody tr th {\n",
       "        vertical-align: top;\n",
       "    }\n",
       "\n",
       "    .dataframe thead th {\n",
       "        text-align: right;\n",
       "    }\n",
       "</style>\n",
       "<table border=\"1\" class=\"dataframe\">\n",
       "  <thead>\n",
       "    <tr style=\"text-align: right;\">\n",
       "      <th></th>\n",
       "      <th>id</th>\n",
       "      <th>label</th>\n",
       "      <th>text</th>\n",
       "    </tr>\n",
       "  </thead>\n",
       "  <tbody>\n",
       "    <tr>\n",
       "      <th>0</th>\n",
       "      <td>572342978255048705</td>\n",
       "      <td>racism</td>\n",
       "      <td>So Drasko just said he was impressed the girls cooked half a chicken.. They cooked a whole one  #MKR</td>\n",
       "    </tr>\n",
       "    <tr>\n",
       "      <th>2</th>\n",
       "      <td>572341498827522049</td>\n",
       "      <td>racism</td>\n",
       "      <td>Drasko they didn't cook half a bird you idiot #mkr</td>\n",
       "    </tr>\n",
       "    <tr>\n",
       "      <th>4</th>\n",
       "      <td>572340476503724032</td>\n",
       "      <td>racism</td>\n",
       "      <td>Hopefully someone cooks Drasko in the next ep of #MKR</td>\n",
       "    </tr>\n",
       "    <tr>\n",
       "      <th>6</th>\n",
       "      <td>572334712804384768</td>\n",
       "      <td>racism</td>\n",
       "      <td>of course you were born in serbia...you're as fucked as A Serbian Film #MKR</td>\n",
       "    </tr>\n",
       "    <tr>\n",
       "      <th>7</th>\n",
       "      <td>572332655397629952</td>\n",
       "      <td>racism</td>\n",
       "      <td>These girls are the equivalent of the irritating Asian girls a couple years ago. Well done, 7. #MKR</td>\n",
       "    </tr>\n",
       "    <tr>\n",
       "      <th>8</th>\n",
       "      <td>575949086055997440</td>\n",
       "      <td>racism</td>\n",
       "      <td>#MKR  Lost the plot - where's the big Texan with the elephant sized steaks that they all have for brekkie ?</td>\n",
       "    </tr>\n",
       "    <tr>\n",
       "      <th>10</th>\n",
       "      <td>551659627872415744</td>\n",
       "      <td>racism</td>\n",
       "      <td>NaN</td>\n",
       "    </tr>\n",
       "    <tr>\n",
       "      <th>11</th>\n",
       "      <td>551763146877452288</td>\n",
       "      <td>racism</td>\n",
       "      <td>NaN</td>\n",
       "    </tr>\n",
       "    <tr>\n",
       "      <th>12</th>\n",
       "      <td>551768543277355009</td>\n",
       "      <td>racism</td>\n",
       "      <td>NaN</td>\n",
       "    </tr>\n",
       "    <tr>\n",
       "      <th>13</th>\n",
       "      <td>551769061055811584</td>\n",
       "      <td>racism</td>\n",
       "      <td>NaN</td>\n",
       "    </tr>\n",
       "  </tbody>\n",
       "</table>\n",
       "</div>"
      ],
      "text/plain": [
       "                    id  ...                                                                                                         text\n",
       "0   572342978255048705  ...  So Drasko just said he was impressed the girls cooked half a chicken.. They cooked a whole one  #MKR       \n",
       "2   572341498827522049  ...  Drasko they didn't cook half a bird you idiot #mkr                                                         \n",
       "4   572340476503724032  ...  Hopefully someone cooks Drasko in the next ep of #MKR                                                      \n",
       "6   572334712804384768  ...  of course you were born in serbia...you're as fucked as A Serbian Film #MKR                                \n",
       "7   572332655397629952  ...  These girls are the equivalent of the irritating Asian girls a couple years ago. Well done, 7. #MKR        \n",
       "8   575949086055997440  ...  #MKR  Lost the plot - where's the big Texan with the elephant sized steaks that they all have for brekkie ?\n",
       "10  551659627872415744  ...  NaN                                                                                                        \n",
       "11  551763146877452288  ...  NaN                                                                                                        \n",
       "12  551768543277355009  ...  NaN                                                                                                        \n",
       "13  551769061055811584  ...  NaN                                                                                                        \n",
       "\n",
       "[10 rows x 3 columns]"
      ]
     },
     "execution_count": 39,
     "metadata": {
      "tags": []
     },
     "output_type": "execute_result"
    }
   ],
   "source": [
    "temp = json.dumps([status._json for status in results]) #create JSON\n",
    "newdf = pd.read_json(temp, orient='records')\n",
    "full = ids.merge(newdf,  how='left', on = 'id')\n",
    "tweetSet = full[['id', 'label', 'text']]\n",
    "tweetSet = tweetSet.drop_duplicates(subset = 'id')\n",
    "pd.set_option('display.max_colwidth', -1)\n",
    "tweetSet.head(10)"
   ]
  },
  {
   "cell_type": "code",
   "execution_count": 0,
   "metadata": {
    "colab": {
     "base_uri": "https://localhost:8080/",
     "height": 217
    },
    "colab_type": "code",
    "executionInfo": {
     "elapsed": 530,
     "status": "ok",
     "timestamp": 1578419437775,
     "user": {
      "displayName": "Fionn McConville",
      "photoUrl": "https://lh3.googleusercontent.com/a-/AAuE7mDQ4Te6RRh1B7ENukR6-4xoNAaV2ajfGgNpCD6y=s64",
      "userId": "01326935138765014160"
     },
     "user_tz": 0
    },
    "id": "VSYpG3_YVYeS",
    "outputId": "98d5c54c-62d4-4748-eb90-99e81ba36d09"
   },
   "outputs": [
    {
     "name": "stdout",
     "output_type": "stream",
     "text": [
      "<class 'pandas.core.frame.DataFrame'>\n",
      "Int64Index: 16849 entries, 0 to 16994\n",
      "Data columns (total 3 columns):\n",
      "id       16849 non-null int64\n",
      "label    16849 non-null object\n",
      "text     10821 non-null object\n",
      "dtypes: int64(1), object(2)\n",
      "memory usage: 526.5+ KB\n",
      "None\n",
      " \n",
      "Amount of tweet IDs not returning tweets -  6028\n"
     ]
    }
   ],
   "source": [
    "print(tweetSet.info())\n",
    "dups = len(tweetSet) - tweetSet['text'].count()\n",
    "print(\" \\nAmount of tweet IDs not returning tweets - \", dups)\n",
    "#print(tweetSet['text'].unique().sum())"
   ]
  },
  {
   "cell_type": "markdown",
   "metadata": {
    "colab_type": "text",
    "id": "6oLEoTvKVYeT"
   },
   "source": [
    "### Suspended Accounts:\n",
    "\n",
    "Although from our original dataset with tweet IDs we have 16,907 tweets total, we only retrieve 10920 tweets with our function as of writing. This is because in many cases the twitter accounts associated with these tweets have been suspended from twitter.\n",
    "    \n",
    "As we can see above, some tweet IDs have retrieved NaN for the tweet text because of this\n",
    "\n",
    "Demonstrated below is an attempt to retrieve one of these tweets."
   ]
  },
  {
   "cell_type": "code",
   "execution_count": 0,
   "metadata": {
    "colab": {
     "base_uri": "https://localhost:8080/",
     "height": 35
    },
    "colab_type": "code",
    "executionInfo": {
     "elapsed": 546,
     "status": "ok",
     "timestamp": 1578419443829,
     "user": {
      "displayName": "Fionn McConville",
      "photoUrl": "https://lh3.googleusercontent.com/a-/AAuE7mDQ4Te6RRh1B7ENukR6-4xoNAaV2ajfGgNpCD6y=s64",
      "userId": "01326935138765014160"
     },
     "user_tz": 0
    },
    "id": "R-G2nEkDVYeU",
    "outputId": "6f8939cf-b76c-4991-b711-74831475ae93"
   },
   "outputs": [
    {
     "name": "stdout",
     "output_type": "stream",
     "text": [
      "[{'code': 63, 'message': 'User has been suspended.'}]\n"
     ]
    }
   ],
   "source": [
    "try:\n",
    "    tweet = api.get_status(551763146877452288) # Index 11 in above tweetSet dataset\n",
    "except tweepy.TweepError as err:\n",
    "    if err.api_code == 63:\n",
    "        print(err.reason)\n",
    "    else:\n",
    "        print(tweet.text)"
   ]
  },
  {
   "cell_type": "code",
   "execution_count": 0,
   "metadata": {
    "colab": {
     "base_uri": "https://localhost:8080/",
     "height": 976
    },
    "colab_type": "code",
    "executionInfo": {
     "elapsed": 499,
     "status": "ok",
     "timestamp": 1578419447746,
     "user": {
      "displayName": "Fionn McConville",
      "photoUrl": "https://lh3.googleusercontent.com/a-/AAuE7mDQ4Te6RRh1B7ENukR6-4xoNAaV2ajfGgNpCD6y=s64",
      "userId": "01326935138765014160"
     },
     "user_tz": 0
    },
    "id": "MPosIYx9VYeV",
    "outputId": "95367771-a8cd-4d74-d68d-4e82d29000b1"
   },
   "outputs": [
    {
     "data": {
      "text/html": [
       "<div>\n",
       "<style scoped>\n",
       "    .dataframe tbody tr th:only-of-type {\n",
       "        vertical-align: middle;\n",
       "    }\n",
       "\n",
       "    .dataframe tbody tr th {\n",
       "        vertical-align: top;\n",
       "    }\n",
       "\n",
       "    .dataframe thead th {\n",
       "        text-align: right;\n",
       "    }\n",
       "</style>\n",
       "<table border=\"1\" class=\"dataframe\">\n",
       "  <thead>\n",
       "    <tr style=\"text-align: right;\">\n",
       "      <th></th>\n",
       "      <th>id</th>\n",
       "      <th>label</th>\n",
       "      <th>text</th>\n",
       "    </tr>\n",
       "  </thead>\n",
       "  <tbody>\n",
       "    <tr>\n",
       "      <th>0</th>\n",
       "      <td>572342978255048705</td>\n",
       "      <td>racism</td>\n",
       "      <td>So Drasko just said he was impressed the girls cooked half a chicken.. They cooked a whole one  #MKR</td>\n",
       "    </tr>\n",
       "    <tr>\n",
       "      <th>2</th>\n",
       "      <td>572341498827522049</td>\n",
       "      <td>racism</td>\n",
       "      <td>Drasko they didn't cook half a bird you idiot #mkr</td>\n",
       "    </tr>\n",
       "    <tr>\n",
       "      <th>4</th>\n",
       "      <td>572340476503724032</td>\n",
       "      <td>racism</td>\n",
       "      <td>Hopefully someone cooks Drasko in the next ep of #MKR</td>\n",
       "    </tr>\n",
       "    <tr>\n",
       "      <th>6</th>\n",
       "      <td>572334712804384768</td>\n",
       "      <td>racism</td>\n",
       "      <td>of course you were born in serbia...you're as fucked as A Serbian Film #MKR</td>\n",
       "    </tr>\n",
       "    <tr>\n",
       "      <th>7</th>\n",
       "      <td>572332655397629952</td>\n",
       "      <td>racism</td>\n",
       "      <td>These girls are the equivalent of the irritating Asian girls a couple years ago. Well done, 7. #MKR</td>\n",
       "    </tr>\n",
       "    <tr>\n",
       "      <th>8</th>\n",
       "      <td>575949086055997440</td>\n",
       "      <td>racism</td>\n",
       "      <td>#MKR  Lost the plot - where's the big Texan with the elephant sized steaks that they all have for brekkie ?</td>\n",
       "    </tr>\n",
       "    <tr>\n",
       "      <th>491</th>\n",
       "      <td>575174115667017728</td>\n",
       "      <td>racism</td>\n",
       "      <td>RT @PhxKen: SIR WINSTON CHURCHHILL: \"ISLAM IS A DANGEROUS IN A MAN AS RABIES IN A DOG\" http://t.co/kCXgKD70SK</td>\n",
       "    </tr>\n",
       "    <tr>\n",
       "      <th>1266</th>\n",
       "      <td>569294066984202240</td>\n",
       "      <td>racism</td>\n",
       "      <td>RT @TheRightWingM: Giuliani watched his city attacked &amp;amp; people jump to their deaths. He's entitled to say WTF he wants about the guy shield…</td>\n",
       "    </tr>\n",
       "    <tr>\n",
       "      <th>1942</th>\n",
       "      <td>446460991396917248</td>\n",
       "      <td>racism</td>\n",
       "      <td>RT @YesYoureRacist: At least you're only a tiny bit racist RT @AnMo95: I'm not racist, but my dick is!</td>\n",
       "    </tr>\n",
       "    <tr>\n",
       "      <th>1943</th>\n",
       "      <td>489938636956135424</td>\n",
       "      <td>racism</td>\n",
       "      <td>@MisfitInChains @oldgfatherclock @venereveritas13 SANTA JUST *IS* WHITE</td>\n",
       "    </tr>\n",
       "    <tr>\n",
       "      <th>1944</th>\n",
       "      <td>502315096052596736</td>\n",
       "      <td>racism</td>\n",
       "      <td>RT @Dreamdefenders: Eric Holder from #ferguson: \"I understand that mistrust. I am the Attorney General, but I am also a Black Man\" http://t…</td>\n",
       "    </tr>\n",
       "    <tr>\n",
       "      <th>1945</th>\n",
       "      <td>502508643204755456</td>\n",
       "      <td>racism</td>\n",
       "      <td>RT @AntonioFrench: I spent the morning at the Board of Elections getting maps/data to start registering every black person in #Ferguson. ht…</td>\n",
       "    </tr>\n",
       "    <tr>\n",
       "      <th>1946</th>\n",
       "      <td>537442614534864896</td>\n",
       "      <td>racism</td>\n",
       "      <td>RT @harikondabolu: In his #Ferguson testimony, Darren Wilson said he thought \"it looks like a demon\" before he shot Mike Brown. Ironic word…</td>\n",
       "    </tr>\n",
       "    <tr>\n",
       "      <th>1947</th>\n",
       "      <td>538130705382129664</td>\n",
       "      <td>racism</td>\n",
       "      <td>\"He can't be a server at our restaurant, that beard makes him look like a terrorist.\" Everyone laughs. #fuckthanksgiving</td>\n",
       "    </tr>\n",
       "    <tr>\n",
       "      <th>1948</th>\n",
       "      <td>574589943982379008</td>\n",
       "      <td>racism</td>\n",
       "      <td>@GarrettaBrown85 @5Candrew Why do people even talk about white privilege when the majority of food stamp recipients are white people!!</td>\n",
       "    </tr>\n",
       "    <tr>\n",
       "      <th>1973</th>\n",
       "      <td>576395841440641024</td>\n",
       "      <td>racism</td>\n",
       "      <td>RT @ThePatriot143: Bet👉3 'Race Pimps' enjoyed watching #Ferguson protesters being interviewed on @seanhannity show as much as I did. http:/…</td>\n",
       "    </tr>\n",
       "    <tr>\n",
       "      <th>1974</th>\n",
       "      <td>572346080911736832</td>\n",
       "      <td>sexism</td>\n",
       "      <td>These two are revolting #MKR #MKR2015</td>\n",
       "    </tr>\n",
       "    <tr>\n",
       "      <th>1976</th>\n",
       "      <td>572348198062170112</td>\n",
       "      <td>sexism</td>\n",
       "      <td>#katieandnikki stop calling yourselves pretty and hot..you're not and saying it a million times doesn't make you either...STFU #MKR</td>\n",
       "    </tr>\n",
       "    <tr>\n",
       "      <th>1978</th>\n",
       "      <td>572319306387599360</td>\n",
       "      <td>sexism</td>\n",
       "      <td>The menus look like they were made by a 5 year old little girl...in this case just the mental age of a 5 year old girl I guess #MKR</td>\n",
       "    </tr>\n",
       "    <tr>\n",
       "      <th>1979</th>\n",
       "      <td>572347842456522752</td>\n",
       "      <td>sexism</td>\n",
       "      <td>Wish these blondes were in that How To Get Away With Murder show....#MKR</td>\n",
       "    </tr>\n",
       "  </tbody>\n",
       "</table>\n",
       "</div>"
      ],
      "text/plain": [
       "                      id  ...                                                                                                                                              text\n",
       "0     572342978255048705  ...  So Drasko just said he was impressed the girls cooked half a chicken.. They cooked a whole one  #MKR                                            \n",
       "2     572341498827522049  ...  Drasko they didn't cook half a bird you idiot #mkr                                                                                              \n",
       "4     572340476503724032  ...  Hopefully someone cooks Drasko in the next ep of #MKR                                                                                           \n",
       "6     572334712804384768  ...  of course you were born in serbia...you're as fucked as A Serbian Film #MKR                                                                     \n",
       "7     572332655397629952  ...  These girls are the equivalent of the irritating Asian girls a couple years ago. Well done, 7. #MKR                                             \n",
       "8     575949086055997440  ...  #MKR  Lost the plot - where's the big Texan with the elephant sized steaks that they all have for brekkie ?                                     \n",
       "491   575174115667017728  ...  RT @PhxKen: SIR WINSTON CHURCHHILL: \"ISLAM IS A DANGEROUS IN A MAN AS RABIES IN A DOG\" http://t.co/kCXgKD70SK                                   \n",
       "1266  569294066984202240  ...  RT @TheRightWingM: Giuliani watched his city attacked &amp; people jump to their deaths. He's entitled to say WTF he wants about the guy shield…\n",
       "1942  446460991396917248  ...  RT @YesYoureRacist: At least you're only a tiny bit racist RT @AnMo95: I'm not racist, but my dick is!                                          \n",
       "1943  489938636956135424  ...  @MisfitInChains @oldgfatherclock @venereveritas13 SANTA JUST *IS* WHITE                                                                         \n",
       "1944  502315096052596736  ...  RT @Dreamdefenders: Eric Holder from #ferguson: \"I understand that mistrust. I am the Attorney General, but I am also a Black Man\" http://t…    \n",
       "1945  502508643204755456  ...  RT @AntonioFrench: I spent the morning at the Board of Elections getting maps/data to start registering every black person in #Ferguson. ht…    \n",
       "1946  537442614534864896  ...  RT @harikondabolu: In his #Ferguson testimony, Darren Wilson said he thought \"it looks like a demon\" before he shot Mike Brown. Ironic word…    \n",
       "1947  538130705382129664  ...  \"He can't be a server at our restaurant, that beard makes him look like a terrorist.\" Everyone laughs. #fuckthanksgiving                        \n",
       "1948  574589943982379008  ...  @GarrettaBrown85 @5Candrew Why do people even talk about white privilege when the majority of food stamp recipients are white people!!          \n",
       "1973  576395841440641024  ...  RT @ThePatriot143: Bet👉3 'Race Pimps' enjoyed watching #Ferguson protesters being interviewed on @seanhannity show as much as I did. http:/…    \n",
       "1974  572346080911736832  ...  These two are revolting #MKR #MKR2015                                                                                                           \n",
       "1976  572348198062170112  ...  #katieandnikki stop calling yourselves pretty and hot..you're not and saying it a million times doesn't make you either...STFU #MKR             \n",
       "1978  572319306387599360  ...  The menus look like they were made by a 5 year old little girl...in this case just the mental age of a 5 year old girl I guess #MKR             \n",
       "1979  572347842456522752  ...  Wish these blondes were in that How To Get Away With Murder show....#MKR                                                                        \n",
       "\n",
       "[20 rows x 3 columns]"
      ]
     },
     "execution_count": 43,
     "metadata": {
      "tags": []
     },
     "output_type": "execute_result"
    }
   ],
   "source": [
    "#Dropping rows where tweet I'd failed to obtain associated tweet text\n",
    "tweetSet.dropna(inplace=True) \n",
    "\n",
    "#Manually inspecting tweets\n",
    "tweetSet.head(20)"
   ]
  },
  {
   "cell_type": "markdown",
   "metadata": {
    "colab_type": "text",
    "id": "cxhvOQ2cVYeW"
   },
   "source": [
    "Undoubtedly there are some hate speech tweets in this dataset <i>\"RT @PhxKen: SIR WINSTON CHURCHHILL: \"ISLAM IS A DANGEROUS IN A MAN AS RABIES IN A DOG\" http://t.co/kCXgKD70SK\".</i>\n",
    "\n",
    "However a lot of the other tweets depend on the context of the individual they are targeting at the time - the tweets talking about #mkr - ( a show called my kitchen rules in australia) is deemed sexist or racist at times only because of the subject they are talking about. <i>\"Wish these blondes were in that How To Get Away With Murder show...\"</i> - even then is this truly sexist?\n",
    "\n",
    "It's difficult to ascertain this without researching the context and perhaps the text alone isn't a good enough inidicator of hate speech.\n",
    "\n",
    "Some tweets are just mentioning racism or talking about it without being actually racist content-wise <i>\"RT @Dreamdefenders: Eric Holder from #ferguson: \"I understand that mistrust. I am the Attorney General, but I am also a Black Man\"</i>\n",
    "\n",
    "Likewise there is deep politcal complexities in some of the tweets above such as other tweets about ferguson and  also 9/11. Ultimately it's difficult to say at this point whether or not these tweets will be used to fine tune my model.\n",
    "\n",
    "I'll try and see if the addition of these tweets in training improves the performance of my model or not down the line "
   ]
  },
  {
   "cell_type": "markdown",
   "metadata": {
    "colab_type": "text",
    "id": "7l7cPt46VYeW"
   },
   "source": [
    "## Data from annotater reliability study - uses much of the Waseem & Hovy dataset directly above but has some extra data\n",
    "\n",
    "<b> The below data is from a study where the partcipants aimed to examine how reliable amateur annotaters were compared to experts in annotating hate speech. They used a lot of data from the above Waseem and Hovy 2016 dataset, (there is an overlap of 2,876 tweets).</b> \n",
    "    \n",
    "I only retrieved the opinions of the <b>expert annotaters</b>, as in the paper of the study itself they claim that the amateur annotaters are unreliable. Maybe this data retrieval gets some useful data, if anything at least it may give me some benign tweets which again is useful to the further-pretraining of BERT i'll be implementing later"
   ]
  },
  {
   "cell_type": "code",
   "execution_count": 0,
   "metadata": {
    "colab": {
     "base_uri": "https://localhost:8080/",
     "height": 198
    },
    "colab_type": "code",
    "executionInfo": {
     "elapsed": 695,
     "status": "ok",
     "timestamp": 1578419493540,
     "user": {
      "displayName": "Fionn McConville",
      "photoUrl": "https://lh3.googleusercontent.com/a-/AAuE7mDQ4Te6RRh1B7ENukR6-4xoNAaV2ajfGgNpCD6y=s64",
      "userId": "01326935138765014160"
     },
     "user_tz": 0
    },
    "id": "g8wMKA10VYeX",
    "outputId": "0492257c-37b9-45b7-9a07-af72e4a62938"
   },
   "outputs": [
    {
     "data": {
      "text/html": [
       "<div>\n",
       "<style scoped>\n",
       "    .dataframe tbody tr th:only-of-type {\n",
       "        vertical-align: middle;\n",
       "    }\n",
       "\n",
       "    .dataframe tbody tr th {\n",
       "        vertical-align: top;\n",
       "    }\n",
       "\n",
       "    .dataframe thead th {\n",
       "        text-align: right;\n",
       "    }\n",
       "</style>\n",
       "<table border=\"1\" class=\"dataframe\">\n",
       "  <thead>\n",
       "    <tr style=\"text-align: right;\">\n",
       "      <th></th>\n",
       "      <th>TweetID</th>\n",
       "      <th>Expert</th>\n",
       "    </tr>\n",
       "  </thead>\n",
       "  <tbody>\n",
       "    <tr>\n",
       "      <th>0</th>\n",
       "      <td>597576902212063232</td>\n",
       "      <td>neither</td>\n",
       "    </tr>\n",
       "    <tr>\n",
       "      <th>1</th>\n",
       "      <td>565586175864610817</td>\n",
       "      <td>neither</td>\n",
       "    </tr>\n",
       "    <tr>\n",
       "      <th>2</th>\n",
       "      <td>563881580209246209</td>\n",
       "      <td>neither</td>\n",
       "    </tr>\n",
       "    <tr>\n",
       "      <th>3</th>\n",
       "      <td>595380689534656512</td>\n",
       "      <td>neither</td>\n",
       "    </tr>\n",
       "    <tr>\n",
       "      <th>4</th>\n",
       "      <td>563757610327748608</td>\n",
       "      <td>neither</td>\n",
       "    </tr>\n",
       "  </tbody>\n",
       "</table>\n",
       "</div>"
      ],
      "text/plain": [
       "              TweetID   Expert\n",
       "0  597576902212063232  neither\n",
       "1  565586175864610817  neither\n",
       "2  563881580209246209  neither\n",
       "3  595380689534656512  neither\n",
       "4  563757610327748608  neither"
      ]
     },
     "execution_count": 45,
     "metadata": {
      "tags": []
     },
     "output_type": "execute_result"
    }
   ],
   "source": [
    "path = r'https://raw.githubusercontent.com/ZeerakW/hatespeech/master/NLP%2BCSS_2016.csv'\n",
    "\n",
    "ids = pd.read_csv(path, sep='\\t', usecols = [\"TweetID\", \"Expert\"], index_col=False);\n",
    "\n",
    "ids.head()"
   ]
  },
  {
   "cell_type": "code",
   "execution_count": 0,
   "metadata": {
    "colab": {
     "base_uri": "https://localhost:8080/",
     "height": 145
    },
    "colab_type": "code",
    "executionInfo": {
     "elapsed": 454,
     "status": "ok",
     "timestamp": 1578419499317,
     "user": {
      "displayName": "Fionn McConville",
      "photoUrl": "https://lh3.googleusercontent.com/a-/AAuE7mDQ4Te6RRh1B7ENukR6-4xoNAaV2ajfGgNpCD6y=s64",
      "userId": "01326935138765014160"
     },
     "user_tz": 0
    },
    "id": "Pdym7NsbVYeY",
    "outputId": "b231b45a-4d9f-4bc5-d342-9248942cf134"
   },
   "outputs": [
    {
     "name": "stdout",
     "output_type": "stream",
     "text": [
      "<class 'pandas.core.frame.DataFrame'>\n",
      "RangeIndex: 6909 entries, 0 to 6908\n",
      "Data columns (total 2 columns):\n",
      "id       6909 non-null int64\n",
      "label    6909 non-null object\n",
      "dtypes: int64(1), object(1)\n",
      "memory usage: 108.1+ KB\n"
     ]
    }
   ],
   "source": [
    "ids.rename(columns = {'TweetID':'id'}, inplace = True)\n",
    "ids.rename(columns = {'Expert': 'label'}, inplace = True)\n",
    "ids.info()"
   ]
  },
  {
   "cell_type": "code",
   "execution_count": 0,
   "metadata": {
    "colab": {},
    "colab_type": "code",
    "id": "dVorzODjVYeZ"
   },
   "outputs": [],
   "source": [
    "good_tweet_ids = list(ids['id']) #Create a list of tweet ids to look up \n",
    "results = lookup_tweets(good_tweet_ids, api) #apply function"
   ]
  },
  {
   "cell_type": "code",
   "execution_count": 0,
   "metadata": {
    "colab": {},
    "colab_type": "code",
    "id": "zMGw8Ox3VYea"
   },
   "outputs": [],
   "source": [
    "temp = json.dumps([status._json for status in results]) #create JSON\n",
    "newdf = pd.read_json(temp, orient='records')\n",
    "full = ids.merge(newdf,  how='left', on = 'id')"
   ]
  },
  {
   "cell_type": "code",
   "execution_count": 0,
   "metadata": {
    "colab": {
     "base_uri": "https://localhost:8080/",
     "height": 417
    },
    "colab_type": "code",
    "executionInfo": {
     "elapsed": 505,
     "status": "ok",
     "timestamp": 1578419566106,
     "user": {
      "displayName": "Fionn McConville",
      "photoUrl": "https://lh3.googleusercontent.com/a-/AAuE7mDQ4Te6RRh1B7ENukR6-4xoNAaV2ajfGgNpCD6y=s64",
      "userId": "01326935138765014160"
     },
     "user_tz": 0
    },
    "id": "APWPoQbrVYec",
    "outputId": "f61be84c-5c62-4d69-e10e-5478487adac2"
   },
   "outputs": [
    {
     "data": {
      "text/html": [
       "<div>\n",
       "<style scoped>\n",
       "    .dataframe tbody tr th:only-of-type {\n",
       "        vertical-align: middle;\n",
       "    }\n",
       "\n",
       "    .dataframe tbody tr th {\n",
       "        vertical-align: top;\n",
       "    }\n",
       "\n",
       "    .dataframe thead th {\n",
       "        text-align: right;\n",
       "    }\n",
       "</style>\n",
       "<table border=\"1\" class=\"dataframe\">\n",
       "  <thead>\n",
       "    <tr style=\"text-align: right;\">\n",
       "      <th></th>\n",
       "      <th>id</th>\n",
       "      <th>label</th>\n",
       "      <th>text</th>\n",
       "    </tr>\n",
       "  </thead>\n",
       "  <tbody>\n",
       "    <tr>\n",
       "      <th>0</th>\n",
       "      <td>597576902212063232</td>\n",
       "      <td>neither</td>\n",
       "      <td>Cisco had to deal with a fat cash payout to the FSF *and* allow an external party to do constant reviews of their FOSS license compliancy.</td>\n",
       "    </tr>\n",
       "    <tr>\n",
       "      <th>1</th>\n",
       "      <td>565586175864610817</td>\n",
       "      <td>neither</td>\n",
       "      <td>@MadamPlumpette I'm decent at editing, no worries ^.^</td>\n",
       "    </tr>\n",
       "    <tr>\n",
       "      <th>2</th>\n",
       "      <td>563881580209246209</td>\n",
       "      <td>neither</td>\n",
       "      <td>@girlziplocked will read. gotta go afk for a bit - still bringing stuff in from car after week long road trip.</td>\n",
       "    </tr>\n",
       "    <tr>\n",
       "      <th>3</th>\n",
       "      <td>595380689534656512</td>\n",
       "      <td>neither</td>\n",
       "      <td>guys. show me the data. show me your github. tell me your story. show me something that makes me think you're not a bag of useless opinions.</td>\n",
       "    </tr>\n",
       "    <tr>\n",
       "      <th>4</th>\n",
       "      <td>563757610327748608</td>\n",
       "      <td>neither</td>\n",
       "      <td>@tpw_rules nothings broken. I was just driving througg a lot of water.</td>\n",
       "    </tr>\n",
       "    <tr>\n",
       "      <th>5</th>\n",
       "      <td>563082741370339330</td>\n",
       "      <td>neither</td>\n",
       "      <td>ur face is classified as a utility by the FCC.</td>\n",
       "    </tr>\n",
       "    <tr>\n",
       "      <th>6</th>\n",
       "      <td>596962098845851648</td>\n",
       "      <td>neither</td>\n",
       "      <td>@lysandraws yay! Absolutely. I'm not gone until November :)</td>\n",
       "    </tr>\n",
       "    <tr>\n",
       "      <th>7</th>\n",
       "      <td>563874350038675457</td>\n",
       "      <td>neither</td>\n",
       "      <td>RT @kashiichan: \"It really feels like the @twitter DM can be the hand-on-the-knee of social communication.\" http://t.co/7mFseL5zfE #stopwad…</td>\n",
       "    </tr>\n",
       "    <tr>\n",
       "      <th>8</th>\n",
       "      <td>597240424873394176</td>\n",
       "      <td>neither</td>\n",
       "      <td>@SirenSailor rtfm. http://t.co/jaMXHikl3u</td>\n",
       "    </tr>\n",
       "    <tr>\n",
       "      <th>10</th>\n",
       "      <td>595306172833353728</td>\n",
       "      <td>neither</td>\n",
       "      <td>@Popehat who wouldn't?</td>\n",
       "    </tr>\n",
       "  </tbody>\n",
       "</table>\n",
       "</div>"
      ],
      "text/plain": [
       "                    id  ...                                                                                                                                          text\n",
       "0   597576902212063232  ...  Cisco had to deal with a fat cash payout to the FSF *and* allow an external party to do constant reviews of their FOSS license compliancy.  \n",
       "1   565586175864610817  ...  @MadamPlumpette I'm decent at editing, no worries ^.^                                                                                       \n",
       "2   563881580209246209  ...  @girlziplocked will read. gotta go afk for a bit - still bringing stuff in from car after week long road trip.                              \n",
       "3   595380689534656512  ...  guys. show me the data. show me your github. tell me your story. show me something that makes me think you're not a bag of useless opinions.\n",
       "4   563757610327748608  ...  @tpw_rules nothings broken. I was just driving througg a lot of water.                                                                      \n",
       "5   563082741370339330  ...  ur face is classified as a utility by the FCC.                                                                                              \n",
       "6   596962098845851648  ...  @lysandraws yay! Absolutely. I'm not gone until November :)                                                                                 \n",
       "7   563874350038675457  ...  RT @kashiichan: \"It really feels like the @twitter DM can be the hand-on-the-knee of social communication.\" http://t.co/7mFseL5zfE #stopwad…\n",
       "8   597240424873394176  ...  @SirenSailor rtfm. http://t.co/jaMXHikl3u                                                                                                   \n",
       "10  595306172833353728  ...  @Popehat who wouldn't?                                                                                                                      \n",
       "\n",
       "[10 rows x 3 columns]"
      ]
     },
     "execution_count": 49,
     "metadata": {
      "tags": []
     },
     "output_type": "execute_result"
    }
   ],
   "source": [
    "tweetSet1 = full[['id', 'label', 'text']]\n",
    "tweetSet1 = tweetSet1.drop_duplicates(subset = 'id')\n",
    "pd.set_option('display.max_colwidth', -1)\n",
    "dups1 = len(tweetSet1) - tweetSet1['text'].count()\n",
    "tweetSet1.dropna(inplace=True)\n",
    "tweetSet1.head(10)"
   ]
  },
  {
   "cell_type": "markdown",
   "metadata": {
    "colab_type": "text",
    "id": "Z5nZV--fVYed"
   },
   "source": [
    "### Data content of both datasets after dropping null rows:"
   ]
  },
  {
   "cell_type": "code",
   "execution_count": 0,
   "metadata": {
    "colab": {
     "base_uri": "https://localhost:8080/",
     "height": 54
    },
    "colab_type": "code",
    "executionInfo": {
     "elapsed": 529,
     "status": "ok",
     "timestamp": 1578419595325,
     "user": {
      "displayName": "Fionn McConville",
      "photoUrl": "https://lh3.googleusercontent.com/a-/AAuE7mDQ4Te6RRh1B7ENukR6-4xoNAaV2ajfGgNpCD6y=s64",
      "userId": "01326935138765014160"
     },
     "user_tz": 0
    },
    "id": "zjCmxQ0aVYed",
    "outputId": "62825bd7-1bd2-430f-9c0a-30b104c1014f"
   },
   "outputs": [
    {
     "name": "stdout",
     "output_type": "stream",
     "text": [
      "There are 10821 tweets in the first dataframe with 6028 duplicates\n",
      "And 6221 tweets in the second dataframe with 688 duplicates\n"
     ]
    }
   ],
   "source": [
    "\n",
    "print(\"There are\", len(tweetSet.index), \"tweets in the first dataframe with\",\\\n",
    "      dups, \"duplicates\")\n",
    "\n",
    "print(\"And\", len(tweetSet1.index), \"tweets in the second dataframe with\",\\\n",
    "     dups1, \"duplicates\")\n"
   ]
  },
  {
   "cell_type": "markdown",
   "metadata": {
    "colab_type": "text",
    "id": "Mw49lB2ZVYef"
   },
   "source": [
    "### Combining the two datasets and saving as csv\n",
    "\n",
    "Hopefully with the merge function I'll be able to reliably combine the two datasets and have no duplicates in the final result. As stated above there is supposed to be an overlap of 2,786 tweets so this final set of data should be 16,907 + 6,909 - 2,786 - 5983 - 669 = 14,378 in the overall combined set."
   ]
  },
  {
   "cell_type": "code",
   "execution_count": 0,
   "metadata": {
    "colab": {
     "base_uri": "https://localhost:8080/",
     "height": 163
    },
    "colab_type": "code",
    "executionInfo": {
     "elapsed": 470,
     "status": "ok",
     "timestamp": 1578419603235,
     "user": {
      "displayName": "Fionn McConville",
      "photoUrl": "https://lh3.googleusercontent.com/a-/AAuE7mDQ4Te6RRh1B7ENukR6-4xoNAaV2ajfGgNpCD6y=s64",
      "userId": "01326935138765014160"
     },
     "user_tz": 0
    },
    "id": "86gKFfveVYef",
    "outputId": "e668a7ad-9f7d-4b3d-fd76-e04f8048c563"
   },
   "outputs": [
    {
     "name": "stdout",
     "output_type": "stream",
     "text": [
      "<class 'pandas.core.frame.DataFrame'>\n",
      "Int64Index: 13092 entries, 3 to 16966\n",
      "Data columns (total 3 columns):\n",
      "id       13092 non-null int64\n",
      "label    13092 non-null object\n",
      "text     13092 non-null object\n",
      "dtypes: int64(1), object(2)\n",
      "memory usage: 409.1+ KB\n"
     ]
    }
   ],
   "source": [
    "fullSet = pd.merge(tweetSet, tweetSet1,  how='outer', on = ['id', 'text', 'label'])\n",
    "fullSet.drop_duplicates(subset= ['id'], keep = 'last', inplace = True)\n",
    "fullSet.info()"
   ]
  },
  {
   "cell_type": "markdown",
   "metadata": {
    "colab_type": "text",
    "id": "nAE4MfmbVYeh"
   },
   "source": [
    "Not the exact number of tweets we were seeking, but it's likely this is because when that datset was first collected, all of those tweets were available to be retrieved - wheras now they can't be because the accounts they belong to are suspended."
   ]
  },
  {
   "cell_type": "code",
   "execution_count": 0,
   "metadata": {
    "colab": {
     "base_uri": "https://localhost:8080/",
     "height": 181
    },
    "colab_type": "code",
    "executionInfo": {
     "elapsed": 2185,
     "status": "ok",
     "timestamp": 1578419666726,
     "user": {
      "displayName": "Fionn McConville",
      "photoUrl": "https://lh3.googleusercontent.com/a-/AAuE7mDQ4Te6RRh1B7ENukR6-4xoNAaV2ajfGgNpCD6y=s64",
      "userId": "01326935138765014160"
     },
     "user_tz": 0
    },
    "id": "l59JggpOVYeh",
    "outputId": "eb747f1e-62fe-4243-c3ee-eb463d7c75dd"
   },
   "outputs": [
    {
     "name": "stdout",
     "output_type": "stream",
     "text": [
      "<class 'pandas.core.frame.DataFrame'>\n",
      "RangeIndex: 13094 entries, 0 to 13093\n",
      "Data columns (total 3 columns):\n",
      "id       13094 non-null object\n",
      "label    13092 non-null object\n",
      "text     13092 non-null object\n",
      "dtypes: object(3)\n",
      "memory usage: 307.0+ KB\n",
      "None\n"
     ]
    }
   ],
   "source": [
    "#Below we combined both sets of data to get a local copy of the dataframe:\n",
    "\n",
    "fullSet.to_csv(os.path.join(DATA_DIR, 'Waseem_Hovy_2016.csv'), sep = ',', encoding='utf-8', index = False, header = True)\n",
    "\n",
    "path = os.path.join(DATA_DIR, 'Waseem_Hovy_2016.csv')\n",
    "\n",
    "ids = pd.read_csv(path, sep=',');\n",
    "\n",
    "print(ids.info())"
   ]
  },
  {
   "cell_type": "markdown",
   "metadata": {
    "colab_type": "text",
    "id": "-DleQMLYJQrd"
   },
   "source": [
    "The dataset loads back from the google bucket strangely, upon inspection there's two entries that return with no text or label - the rest of the entries are fine. I'll just remove rows with null entries when loading this dataset in again to mitigate this "
   ]
  },
  {
   "cell_type": "markdown",
   "metadata": {
    "colab_type": "text",
    "id": "fISNiXmaVYej"
   },
   "source": [
    "# Cleaning and merging the Datasets to create an overall database of tweets\n",
    "\n",
    "We will be implementing a transfer learning approach to NLP in this project and so this database will be designed with that in mind, the three steps we hope to implement are:\n",
    "\n",
    "1. <b>Further Pre-Training:</b> Pre-train a BERT sentence encoder on the whole dataset to learn tweet language\n",
    "\n",
    "2. <b>Multi-Task Fine-Tuning:</b> Transfer the knowledge learned from the further pre-trained BERT model onto a neural network model classifying tweets that are offensive ( a classification task related to classifying hate speech)\n",
    "\n",
    "3. <b>Fine-Tuning on Target Task:</b> Transfer the knowledge learned from the previous model and classify hate speech\n",
    "\n",
    "Because of this the overall database will be simple, there will be three columns. One column for the text content for a tweet, one column denoting if it's an offensive tweet or not (offensive could mean that it contains profanity but not necessairly harmful in intent) and one column denoting if the tweet is judged to be hate speech or not.\n",
    "\n",
    "All tweets that are hate speech will be considered intrinsically offensive ans so will be annotated as such. "
   ]
  },
  {
   "cell_type": "markdown",
   "metadata": {
    "colab_type": "text",
    "id": "xexknIQhsgbj"
   },
   "source": [
    "### OffensEval Dataset"
   ]
  },
  {
   "cell_type": "code",
   "execution_count": 0,
   "metadata": {
    "colab": {
     "base_uri": "https://localhost:8080/",
     "height": 319
    },
    "colab_type": "code",
    "executionInfo": {
     "elapsed": 710,
     "status": "ok",
     "timestamp": 1578418523275,
     "user": {
      "displayName": "Fionn McConville",
      "photoUrl": "https://lh3.googleusercontent.com/a-/AAuE7mDQ4Te6RRh1B7ENukR6-4xoNAaV2ajfGgNpCD6y=s64",
      "userId": "01326935138765014160"
     },
     "user_tz": 0
    },
    "id": "IjVPEZ6VVYej",
    "outputId": "28a9ddc4-ac46-4c34-b277-0508160ae553"
   },
   "outputs": [
    {
     "data": {
      "text/html": [
       "<div>\n",
       "<style scoped>\n",
       "    .dataframe tbody tr th:only-of-type {\n",
       "        vertical-align: middle;\n",
       "    }\n",
       "\n",
       "    .dataframe tbody tr th {\n",
       "        vertical-align: top;\n",
       "    }\n",
       "\n",
       "    .dataframe thead th {\n",
       "        text-align: right;\n",
       "    }\n",
       "</style>\n",
       "<table border=\"1\" class=\"dataframe\">\n",
       "  <thead>\n",
       "    <tr style=\"text-align: right;\">\n",
       "      <th></th>\n",
       "      <th>id</th>\n",
       "      <th>tweet</th>\n",
       "      <th>subtask_a</th>\n",
       "      <th>subtask_b</th>\n",
       "      <th>subtask_c</th>\n",
       "    </tr>\n",
       "  </thead>\n",
       "  <tbody>\n",
       "    <tr>\n",
       "      <th>0</th>\n",
       "      <td>86426</td>\n",
       "      <td>@USER She should ask a few native Americans what their take on this is.</td>\n",
       "      <td>OFF</td>\n",
       "      <td>UNT</td>\n",
       "      <td>NaN</td>\n",
       "    </tr>\n",
       "    <tr>\n",
       "      <th>1</th>\n",
       "      <td>90194</td>\n",
       "      <td>@USER @USER Go home you’re drunk!!! @USER #MAGA #Trump2020 👊🇺🇸👊 URL</td>\n",
       "      <td>OFF</td>\n",
       "      <td>TIN</td>\n",
       "      <td>IND</td>\n",
       "    </tr>\n",
       "    <tr>\n",
       "      <th>2</th>\n",
       "      <td>16820</td>\n",
       "      <td>Amazon is investigating Chinese employees who are selling internal data to third-party sellers looking for an edge in the competitive marketplace. URL #Amazon #MAGA #KAG #CHINA #TCOT</td>\n",
       "      <td>NOT</td>\n",
       "      <td>NaN</td>\n",
       "      <td>NaN</td>\n",
       "    </tr>\n",
       "    <tr>\n",
       "      <th>3</th>\n",
       "      <td>62688</td>\n",
       "      <td>@USER Someone should'veTaken\" this piece of shit to a volcano. 😂\"</td>\n",
       "      <td>OFF</td>\n",
       "      <td>UNT</td>\n",
       "      <td>NaN</td>\n",
       "    </tr>\n",
       "    <tr>\n",
       "      <th>4</th>\n",
       "      <td>43605</td>\n",
       "      <td>@USER @USER Obama wanted liberals &amp;amp; illegals to move into red states</td>\n",
       "      <td>NOT</td>\n",
       "      <td>NaN</td>\n",
       "      <td>NaN</td>\n",
       "    </tr>\n",
       "  </tbody>\n",
       "</table>\n",
       "</div>"
      ],
      "text/plain": [
       "      id  ... subtask_c\n",
       "0  86426  ...  NaN     \n",
       "1  90194  ...  IND     \n",
       "2  16820  ...  NaN     \n",
       "3  62688  ...  NaN     \n",
       "4  43605  ...  NaN     \n",
       "\n",
       "[5 rows x 5 columns]"
      ]
     },
     "execution_count": 11,
     "metadata": {
      "tags": []
     },
     "output_type": "execute_result"
    }
   ],
   "source": [
    "path = os.path.join(DATA_DIR, 'OLIDv1.0/olid-training-v1.0.tsv')\n",
    "offens = pd.read_csv(path, sep='\\t');\n",
    "offens.head()"
   ]
  },
  {
   "cell_type": "markdown",
   "metadata": {
    "colab_type": "text",
    "id": "yDR5UjbTVYel"
   },
   "source": [
    "<b>As mentioned before, we cannot say with confidence that any of these tweets can be strictly characterised as hate speech - although it can help with the second stage of our transfer learning model, in that it has a wealth of offensive tweets.</b>\n",
    "    \n",
    "<i>We will exclude the tweets that satisfy all three subtasks; (that the tweet is offensive, is targeted and is directed at a group), because although we saw instances above that may not be hate speech in this category, nevertheless we'll err on the side of caution so as to not contaminate the database by annotating tweets as hate speech when they aren't.</i>"
   ]
  },
  {
   "cell_type": "code",
   "execution_count": 0,
   "metadata": {
    "colab": {
     "base_uri": "https://localhost:8080/",
     "height": 199
    },
    "colab_type": "code",
    "executionInfo": {
     "elapsed": 593,
     "status": "ok",
     "timestamp": 1578418527575,
     "user": {
      "displayName": "Fionn McConville",
      "photoUrl": "https://lh3.googleusercontent.com/a-/AAuE7mDQ4Te6RRh1B7ENukR6-4xoNAaV2ajfGgNpCD6y=s64",
      "userId": "01326935138765014160"
     },
     "user_tz": 0
    },
    "id": "PFdmJ-OgVYel",
    "outputId": "29b19924-d518-4b3d-f14d-758a4464d9c6"
   },
   "outputs": [
    {
     "name": "stdout",
     "output_type": "stream",
     "text": [
      "<class 'pandas.core.frame.DataFrame'>\n",
      "Int64Index: 12166 entries, 0 to 13239\n",
      "Data columns (total 5 columns):\n",
      "id           12166 non-null int64\n",
      "tweet        12166 non-null object\n",
      "subtask_a    12166 non-null object\n",
      "subtask_b    3326 non-null object\n",
      "subtask_c    2802 non-null object\n",
      "dtypes: int64(1), object(4)\n",
      "memory usage: 570.3+ KB\n"
     ]
    }
   ],
   "source": [
    "offens.drop(offens[(offens[\"subtask_a\"] == 'OFF') & \\\n",
    "                  (offens[\"subtask_b\"] == 'TIN') & \\\n",
    "                  (offens[\"subtask_c\"] == 'GRP')].index, inplace = True)\n",
    "offens.info()"
   ]
  },
  {
   "cell_type": "markdown",
   "metadata": {
    "colab_type": "text",
    "id": "u23e3cE0VYen"
   },
   "source": [
    "<b>We don't need the columns annotating who the tweets are targeted against and if they are indeed targeted as this information is not important to our investigation. Thus, we'll drop these columns<b>"
   ]
  },
  {
   "cell_type": "code",
   "execution_count": 0,
   "metadata": {
    "colab": {
     "base_uri": "https://localhost:8080/",
     "height": 163
    },
    "colab_type": "code",
    "executionInfo": {
     "elapsed": 490,
     "status": "ok",
     "timestamp": 1578418531975,
     "user": {
      "displayName": "Fionn McConville",
      "photoUrl": "https://lh3.googleusercontent.com/a-/AAuE7mDQ4Te6RRh1B7ENukR6-4xoNAaV2ajfGgNpCD6y=s64",
      "userId": "01326935138765014160"
     },
     "user_tz": 0
    },
    "id": "PKPhlsTlVYen",
    "outputId": "f4aa0a35-06f2-43e7-948b-a458f62ef6cd"
   },
   "outputs": [
    {
     "name": "stdout",
     "output_type": "stream",
     "text": [
      "<class 'pandas.core.frame.DataFrame'>\n",
      "RangeIndex: 12166 entries, 0 to 12165\n",
      "Data columns (total 3 columns):\n",
      "id           12166 non-null int64\n",
      "tweet        12166 non-null object\n",
      "subtask_a    12166 non-null object\n",
      "dtypes: int64(1), object(2)\n",
      "memory usage: 285.3+ KB\n"
     ]
    }
   ],
   "source": [
    "cols = ['subtask_b', 'subtask_c']\n",
    "offens.drop(cols, inplace = True, axis = 1)\n",
    "offens.reset_index(drop = True, inplace = True)\n",
    "offens.info()"
   ]
  },
  {
   "cell_type": "code",
   "execution_count": 0,
   "metadata": {
    "colab": {
     "base_uri": "https://localhost:8080/",
     "height": 267
    },
    "colab_type": "code",
    "executionInfo": {
     "elapsed": 569,
     "status": "ok",
     "timestamp": 1578418535952,
     "user": {
      "displayName": "Fionn McConville",
      "photoUrl": "https://lh3.googleusercontent.com/a-/AAuE7mDQ4Te6RRh1B7ENukR6-4xoNAaV2ajfGgNpCD6y=s64",
      "userId": "01326935138765014160"
     },
     "user_tz": 0
    },
    "id": "FVwHSbMrVYeo",
    "outputId": "f333a9f5-df77-4f1a-994f-c0ed4e8effe2"
   },
   "outputs": [
    {
     "data": {
      "text/html": [
       "<div>\n",
       "<style scoped>\n",
       "    .dataframe tbody tr th:only-of-type {\n",
       "        vertical-align: middle;\n",
       "    }\n",
       "\n",
       "    .dataframe tbody tr th {\n",
       "        vertical-align: top;\n",
       "    }\n",
       "\n",
       "    .dataframe thead th {\n",
       "        text-align: right;\n",
       "    }\n",
       "</style>\n",
       "<table border=\"1\" class=\"dataframe\">\n",
       "  <thead>\n",
       "    <tr style=\"text-align: right;\">\n",
       "      <th></th>\n",
       "      <th>id</th>\n",
       "      <th>Tweet</th>\n",
       "      <th>Offensive</th>\n",
       "      <th>Hate_Speech</th>\n",
       "    </tr>\n",
       "  </thead>\n",
       "  <tbody>\n",
       "    <tr>\n",
       "      <th>0</th>\n",
       "      <td>86426</td>\n",
       "      <td>@USER She should ask a few native Americans what their take on this is.</td>\n",
       "      <td>1</td>\n",
       "      <td>0</td>\n",
       "    </tr>\n",
       "    <tr>\n",
       "      <th>1</th>\n",
       "      <td>90194</td>\n",
       "      <td>@USER @USER Go home you’re drunk!!! @USER #MAGA #Trump2020 👊🇺🇸👊 URL</td>\n",
       "      <td>1</td>\n",
       "      <td>0</td>\n",
       "    </tr>\n",
       "    <tr>\n",
       "      <th>2</th>\n",
       "      <td>16820</td>\n",
       "      <td>Amazon is investigating Chinese employees who are selling internal data to third-party sellers looking for an edge in the competitive marketplace. URL #Amazon #MAGA #KAG #CHINA #TCOT</td>\n",
       "      <td>0</td>\n",
       "      <td>0</td>\n",
       "    </tr>\n",
       "    <tr>\n",
       "      <th>3</th>\n",
       "      <td>62688</td>\n",
       "      <td>@USER Someone should'veTaken\" this piece of shit to a volcano. 😂\"</td>\n",
       "      <td>1</td>\n",
       "      <td>0</td>\n",
       "    </tr>\n",
       "    <tr>\n",
       "      <th>4</th>\n",
       "      <td>43605</td>\n",
       "      <td>@USER @USER Obama wanted liberals &amp;amp; illegals to move into red states</td>\n",
       "      <td>0</td>\n",
       "      <td>0</td>\n",
       "    </tr>\n",
       "  </tbody>\n",
       "</table>\n",
       "</div>"
      ],
      "text/plain": [
       "      id  ... Hate_Speech\n",
       "0  86426  ...  0         \n",
       "1  90194  ...  0         \n",
       "2  16820  ...  0         \n",
       "3  62688  ...  0         \n",
       "4  43605  ...  0         \n",
       "\n",
       "[5 rows x 4 columns]"
      ]
     },
     "execution_count": 14,
     "metadata": {
      "tags": []
     },
     "output_type": "execute_result"
    }
   ],
   "source": [
    "offens.rename(columns = {'subtask_a':'Offensive', 'tweet': 'Tweet'}, inplace = True)\n",
    "offens['Hate_Speech'] = 0\n",
    "offens.loc[offens['Offensive'] == 'OFF', 'Offensive'] = 1\n",
    "offens.loc[offens['Offensive'] == 'NOT', 'Offensive'] = 0\n",
    "offens.head()"
   ]
  },
  {
   "cell_type": "markdown",
   "metadata": {
    "colab_type": "text",
    "id": "SSD7yEDSVYep"
   },
   "source": [
    "## ICVSM 2017 dataset"
   ]
  },
  {
   "cell_type": "code",
   "execution_count": 0,
   "metadata": {
    "colab": {
     "base_uri": "https://localhost:8080/",
     "height": 336
    },
    "colab_type": "code",
    "executionInfo": {
     "elapsed": 653,
     "status": "ok",
     "timestamp": 1578418542013,
     "user": {
      "displayName": "Fionn McConville",
      "photoUrl": "https://lh3.googleusercontent.com/a-/AAuE7mDQ4Te6RRh1B7ENukR6-4xoNAaV2ajfGgNpCD6y=s64",
      "userId": "01326935138765014160"
     },
     "user_tz": 0
    },
    "id": "7B-SP2c2VYeq",
    "outputId": "7b2fed25-6503-4bf0-c67a-3206ef453db6"
   },
   "outputs": [
    {
     "data": {
      "text/html": [
       "<div>\n",
       "<style scoped>\n",
       "    .dataframe tbody tr th:only-of-type {\n",
       "        vertical-align: middle;\n",
       "    }\n",
       "\n",
       "    .dataframe tbody tr th {\n",
       "        vertical-align: top;\n",
       "    }\n",
       "\n",
       "    .dataframe thead th {\n",
       "        text-align: right;\n",
       "    }\n",
       "</style>\n",
       "<table border=\"1\" class=\"dataframe\">\n",
       "  <thead>\n",
       "    <tr style=\"text-align: right;\">\n",
       "      <th></th>\n",
       "      <th>hate_speech</th>\n",
       "      <th>class</th>\n",
       "      <th>Tweet</th>\n",
       "      <th>Hate_Speech</th>\n",
       "      <th>Offensive</th>\n",
       "    </tr>\n",
       "  </thead>\n",
       "  <tbody>\n",
       "    <tr>\n",
       "      <th>0</th>\n",
       "      <td>0</td>\n",
       "      <td>2</td>\n",
       "      <td>!!! RT @mayasolovely: As a woman you shouldn't complain about cleaning up your house. &amp;amp; as a man you should always take the trash out...</td>\n",
       "      <td>0</td>\n",
       "      <td>0</td>\n",
       "    </tr>\n",
       "    <tr>\n",
       "      <th>1</th>\n",
       "      <td>0</td>\n",
       "      <td>1</td>\n",
       "      <td>!!!!! RT @mleew17: boy dats cold...tyga dwn bad for cuffin dat hoe in the 1st place!!</td>\n",
       "      <td>0</td>\n",
       "      <td>0</td>\n",
       "    </tr>\n",
       "    <tr>\n",
       "      <th>2</th>\n",
       "      <td>0</td>\n",
       "      <td>1</td>\n",
       "      <td>!!!!!!! RT @UrKindOfBrand Dawg!!!! RT @80sbaby4life: You ever fuck a bitch and she start to cry? You be confused as shit</td>\n",
       "      <td>0</td>\n",
       "      <td>0</td>\n",
       "    </tr>\n",
       "    <tr>\n",
       "      <th>3</th>\n",
       "      <td>0</td>\n",
       "      <td>1</td>\n",
       "      <td>!!!!!!!!! RT @C_G_Anderson: @viva_based she look like a tranny</td>\n",
       "      <td>0</td>\n",
       "      <td>0</td>\n",
       "    </tr>\n",
       "    <tr>\n",
       "      <th>4</th>\n",
       "      <td>0</td>\n",
       "      <td>1</td>\n",
       "      <td>!!!!!!!!!!!!! RT @ShenikaRoberts: The shit you hear about me might be true or it might be faker than the bitch who told it to ya &amp;#57361;</td>\n",
       "      <td>0</td>\n",
       "      <td>0</td>\n",
       "    </tr>\n",
       "  </tbody>\n",
       "</table>\n",
       "</div>"
      ],
      "text/plain": [
       "   hate_speech  class  ... Hate_Speech  Offensive\n",
       "0  0            2      ...  0           0        \n",
       "1  0            1      ...  0           0        \n",
       "2  0            1      ...  0           0        \n",
       "3  0            1      ...  0           0        \n",
       "4  0            1      ...  0           0        \n",
       "\n",
       "[5 rows x 5 columns]"
      ]
     },
     "execution_count": 15,
     "metadata": {
      "tags": []
     },
     "output_type": "execute_result"
    }
   ],
   "source": [
    "sometweets = pd.read_csv(os.path.join(DATA_DIR, 'ICVSM_2017.csv'), sep=',')\n",
    "\n",
    "cols = ['Unnamed: 0', 'count','offensive_language','neither']\n",
    "sometweets.drop(cols, inplace = True, axis = 1)\n",
    "sometweets.reset_index(drop = True, inplace = True)\n",
    "\n",
    "#initialise to all 0's, we'll change later\n",
    "sometweets['Hate_Speech'] = 0\n",
    "sometweets['Offensive'] = 0\n",
    "\n",
    "sometweets.rename(columns = {'tweet': 'Tweet'}, inplace = True)\n",
    "sometweets.head()"
   ]
  },
  {
   "cell_type": "markdown",
   "metadata": {
    "colab_type": "text",
    "id": "r_r1YeTmVYes"
   },
   "source": [
    "Remember the annotation mentioned above, the column we're interested in here is the column \"class\".\n",
    "\n",
    "<b>Denoted 0 - for hate speech, 1 - for offensive speech and 2 for neither. This fits perfectly into our existing dataframe structure. </b>\n",
    "\n",
    "Based on what the class label is on this dataframe, we can populate the Hate_Speech and Offensive columns "
   ]
  },
  {
   "cell_type": "code",
   "execution_count": 0,
   "metadata": {
    "colab": {
     "base_uri": "https://localhost:8080/",
     "height": 336
    },
    "colab_type": "code",
    "executionInfo": {
     "elapsed": 554,
     "status": "ok",
     "timestamp": 1578418549822,
     "user": {
      "displayName": "Fionn McConville",
      "photoUrl": "https://lh3.googleusercontent.com/a-/AAuE7mDQ4Te6RRh1B7ENukR6-4xoNAaV2ajfGgNpCD6y=s64",
      "userId": "01326935138765014160"
     },
     "user_tz": 0
    },
    "id": "CESp4krFVYet",
    "outputId": "e24e4328-798a-44c8-aeba-0f5f75ce44d8"
   },
   "outputs": [
    {
     "data": {
      "text/html": [
       "<div>\n",
       "<style scoped>\n",
       "    .dataframe tbody tr th:only-of-type {\n",
       "        vertical-align: middle;\n",
       "    }\n",
       "\n",
       "    .dataframe tbody tr th {\n",
       "        vertical-align: top;\n",
       "    }\n",
       "\n",
       "    .dataframe thead th {\n",
       "        text-align: right;\n",
       "    }\n",
       "</style>\n",
       "<table border=\"1\" class=\"dataframe\">\n",
       "  <thead>\n",
       "    <tr style=\"text-align: right;\">\n",
       "      <th></th>\n",
       "      <th>hate_speech</th>\n",
       "      <th>class</th>\n",
       "      <th>Tweet</th>\n",
       "      <th>Hate_Speech</th>\n",
       "      <th>Offensive</th>\n",
       "    </tr>\n",
       "  </thead>\n",
       "  <tbody>\n",
       "    <tr>\n",
       "      <th>0</th>\n",
       "      <td>0</td>\n",
       "      <td>2</td>\n",
       "      <td>!!! RT @mayasolovely: As a woman you shouldn't complain about cleaning up your house. &amp;amp; as a man you should always take the trash out...</td>\n",
       "      <td>0</td>\n",
       "      <td>0</td>\n",
       "    </tr>\n",
       "    <tr>\n",
       "      <th>1</th>\n",
       "      <td>0</td>\n",
       "      <td>1</td>\n",
       "      <td>!!!!! RT @mleew17: boy dats cold...tyga dwn bad for cuffin dat hoe in the 1st place!!</td>\n",
       "      <td>0</td>\n",
       "      <td>1</td>\n",
       "    </tr>\n",
       "    <tr>\n",
       "      <th>2</th>\n",
       "      <td>0</td>\n",
       "      <td>1</td>\n",
       "      <td>!!!!!!! RT @UrKindOfBrand Dawg!!!! RT @80sbaby4life: You ever fuck a bitch and she start to cry? You be confused as shit</td>\n",
       "      <td>0</td>\n",
       "      <td>1</td>\n",
       "    </tr>\n",
       "    <tr>\n",
       "      <th>3</th>\n",
       "      <td>0</td>\n",
       "      <td>1</td>\n",
       "      <td>!!!!!!!!! RT @C_G_Anderson: @viva_based she look like a tranny</td>\n",
       "      <td>0</td>\n",
       "      <td>1</td>\n",
       "    </tr>\n",
       "    <tr>\n",
       "      <th>4</th>\n",
       "      <td>0</td>\n",
       "      <td>1</td>\n",
       "      <td>!!!!!!!!!!!!! RT @ShenikaRoberts: The shit you hear about me might be true or it might be faker than the bitch who told it to ya &amp;#57361;</td>\n",
       "      <td>0</td>\n",
       "      <td>1</td>\n",
       "    </tr>\n",
       "  </tbody>\n",
       "</table>\n",
       "</div>"
      ],
      "text/plain": [
       "   hate_speech  class  ... Hate_Speech  Offensive\n",
       "0  0            2      ...  0           0        \n",
       "1  0            1      ...  0           1        \n",
       "2  0            1      ...  0           1        \n",
       "3  0            1      ...  0           1        \n",
       "4  0            1      ...  0           1        \n",
       "\n",
       "[5 rows x 5 columns]"
      ]
     },
     "execution_count": 16,
     "metadata": {
      "tags": []
     },
     "output_type": "execute_result"
    }
   ],
   "source": [
    "sometweets['Hate_Speech'] = np.where((sometweets['class'] == 0) & (sometweets['hate_speech'] > 2), 1, 0)\n",
    "sometweets['Offensive'] = np.where((sometweets['class'] == 2), 0, 1)\n",
    "sometweets.head(5)"
   ]
  },
  {
   "cell_type": "code",
   "execution_count": 0,
   "metadata": {
    "colab": {
     "base_uri": "https://localhost:8080/",
     "height": 54
    },
    "colab_type": "code",
    "executionInfo": {
     "elapsed": 2114,
     "status": "ok",
     "timestamp": 1578418587384,
     "user": {
      "displayName": "Fionn McConville",
      "photoUrl": "https://lh3.googleusercontent.com/a-/AAuE7mDQ4Te6RRh1B7ENukR6-4xoNAaV2ajfGgNpCD6y=s64",
      "userId": "01326935138765014160"
     },
     "user_tz": 0
    },
    "id": "xaqphLkeVYew",
    "outputId": "ad51afa9-3864-4ec2-b498-5bdeead5aee1"
   },
   "outputs": [
    {
     "name": "stdout",
     "output_type": "stream",
     "text": [
      "There are 308 tweets denoted as hate speech\n",
      "There are 20620 tweets denoted as offensive\n"
     ]
    }
   ],
   "source": [
    "sometweets.drop(columns = ['class','hate_speech'], axis = 1, inplace = True)\n",
    "sometweets.reset_index(drop = True, inplace = True)\n",
    "hatetweets = sometweets[sometweets[\"Hate_Speech\"] == 1]\n",
    "print(\"There are\", len(hatetweets.index), \"tweets denoted as hate speech\")\n",
    "#If successful it should be 308 entries\n",
    "offenstweets = sometweets[sometweets[\"Offensive\"] == 1]\n",
    "print(\"There are\", len(offenstweets.index), \"tweets denoted as offensive\")"
   ]
  },
  {
   "cell_type": "markdown",
   "metadata": {
    "colab_type": "text",
    "id": "MOef3TgNVYey"
   },
   "source": [
    "## HatEval 2019 dataset"
   ]
  },
  {
   "cell_type": "code",
   "execution_count": 0,
   "metadata": {
    "colab": {
     "base_uri": "https://localhost:8080/",
     "height": 181
    },
    "colab_type": "code",
    "executionInfo": {
     "elapsed": 2569,
     "status": "ok",
     "timestamp": 1578418598332,
     "user": {
      "displayName": "Fionn McConville",
      "photoUrl": "https://lh3.googleusercontent.com/a-/AAuE7mDQ4Te6RRh1B7ENukR6-4xoNAaV2ajfGgNpCD6y=s64",
      "userId": "01326935138765014160"
     },
     "user_tz": 0
    },
    "id": "vDD3G_p1VYez",
    "outputId": "d193170d-7ff8-4b5c-97ca-9a176e147f51"
   },
   "outputs": [
    {
     "name": "stdout",
     "output_type": "stream",
     "text": [
      "<class 'pandas.core.frame.DataFrame'>\n",
      "RangeIndex: 9998 entries, 0 to 9997\n",
      "Data columns (total 4 columns):\n",
      "text    9998 non-null object\n",
      "HS      9998 non-null int64\n",
      "TR      9998 non-null int64\n",
      "AG      9998 non-null int64\n",
      "dtypes: int64(3), object(1)\n",
      "memory usage: 312.6+ KB\n"
     ]
    }
   ],
   "source": [
    "path = os.path.join(DATA_DIR, 'semeval_2018_task5_hateval/public_development_en/dev_en.tsv')\n",
    "dev = pd.read_csv(path, sep='\\t');\n",
    "\n",
    "path1 = os.path.join(DATA_DIR,'semeval_2018_task5_hateval/public_development_en/train_en.tsv')\n",
    "train = pd.read_csv(path1, sep='\\t');\n",
    "#The IDs below aren't actually tweet IDs, just unrelated numbers\n",
    "\n",
    "dev.drop('id', inplace = True, axis = 1)\n",
    "dev.reset_index(drop = True, inplace = True)\n",
    "\n",
    "train.drop('id', inplace = True, axis = 1)\n",
    "train.reset_index(drop = True, inplace = True)\n",
    "\n",
    "semeval = pd.concat([train,dev], axis=0)\n",
    "semeval.drop_duplicates(subset = 'text',inplace=True)\n",
    "semeval.reset_index(drop = True, inplace = True)\n",
    "semeval.info()"
   ]
  },
  {
   "cell_type": "code",
   "execution_count": 0,
   "metadata": {
    "colab": {
     "base_uri": "https://localhost:8080/",
     "height": 336
    },
    "colab_type": "code",
    "executionInfo": {
     "elapsed": 997,
     "status": "ok",
     "timestamp": 1578418602124,
     "user": {
      "displayName": "Fionn McConville",
      "photoUrl": "https://lh3.googleusercontent.com/a-/AAuE7mDQ4Te6RRh1B7ENukR6-4xoNAaV2ajfGgNpCD6y=s64",
      "userId": "01326935138765014160"
     },
     "user_tz": 0
    },
    "id": "Vkcg8lIlVYe0",
    "outputId": "aea68339-64e5-4601-8684-ec5e80c15c7f"
   },
   "outputs": [
    {
     "data": {
      "text/html": [
       "<div>\n",
       "<style scoped>\n",
       "    .dataframe tbody tr th:only-of-type {\n",
       "        vertical-align: middle;\n",
       "    }\n",
       "\n",
       "    .dataframe tbody tr th {\n",
       "        vertical-align: top;\n",
       "    }\n",
       "\n",
       "    .dataframe thead th {\n",
       "        text-align: right;\n",
       "    }\n",
       "</style>\n",
       "<table border=\"1\" class=\"dataframe\">\n",
       "  <thead>\n",
       "    <tr style=\"text-align: right;\">\n",
       "      <th></th>\n",
       "      <th>text</th>\n",
       "      <th>HS</th>\n",
       "      <th>TR</th>\n",
       "      <th>AG</th>\n",
       "    </tr>\n",
       "  </thead>\n",
       "  <tbody>\n",
       "    <tr>\n",
       "      <th>0</th>\n",
       "      <td>Hurray, saving us $$$ in so many ways @potus @realDonaldTrump #LockThemUp #BuildTheWall #EndDACA #BoycottNFL #BoycottNike</td>\n",
       "      <td>1</td>\n",
       "      <td>0</td>\n",
       "      <td>0</td>\n",
       "    </tr>\n",
       "    <tr>\n",
       "      <th>1</th>\n",
       "      <td>Why would young fighting age men be the vast majority of the ones escaping a war &amp;amp; not those who cannot fight like women, children, and the elderly?It's because the majority of the refugees are not actually refugees they are economic migrants trying to get into Europe.... https://t.co/Ks0SHbtYqn</td>\n",
       "      <td>1</td>\n",
       "      <td>0</td>\n",
       "      <td>0</td>\n",
       "    </tr>\n",
       "    <tr>\n",
       "      <th>2</th>\n",
       "      <td>@KamalaHarris Illegals Dump their Kids at the border like Road Kill and Refuse to Unite! They Hope they get Amnesty, Free Education and Welfare Illegal #FamilesBelongTogether in their Country not on the Taxpayer Dime Its a SCAM #NoDACA #NoAmnesty #SendThe</td>\n",
       "      <td>1</td>\n",
       "      <td>0</td>\n",
       "      <td>0</td>\n",
       "    </tr>\n",
       "    <tr>\n",
       "      <th>3</th>\n",
       "      <td>NY Times: 'Nearly All White' States Pose 'an Array of Problems' for Immigrants https://t.co/ACZKLhdMV9 https://t.co/CJAlSXCzR6</td>\n",
       "      <td>0</td>\n",
       "      <td>0</td>\n",
       "      <td>0</td>\n",
       "    </tr>\n",
       "    <tr>\n",
       "      <th>4</th>\n",
       "      <td>Orban in Brussels: European leaders are ignoring the will of the people, they do not want migrants https://t.co/NeYFyqvYlX</td>\n",
       "      <td>0</td>\n",
       "      <td>0</td>\n",
       "      <td>0</td>\n",
       "    </tr>\n",
       "  </tbody>\n",
       "</table>\n",
       "</div>"
      ],
      "text/plain": [
       "                                                                                                                                                                                                                                                                                                           text  ...  AG\n",
       "0  Hurray, saving us $$$ in so many ways @potus @realDonaldTrump #LockThemUp #BuildTheWall #EndDACA #BoycottNFL #BoycottNike                                                                                                                                                                                     ...  0 \n",
       "1  Why would young fighting age men be the vast majority of the ones escaping a war &amp; not those who cannot fight like women, children, and the elderly?It's because the majority of the refugees are not actually refugees they are economic migrants trying to get into Europe.... https://t.co/Ks0SHbtYqn  ...  0 \n",
       "2  @KamalaHarris Illegals Dump their Kids at the border like Road Kill and Refuse to Unite! They Hope they get Amnesty, Free Education and Welfare Illegal #FamilesBelongTogether in their Country not on the Taxpayer Dime Its a SCAM #NoDACA #NoAmnesty #SendThe                                               ...  0 \n",
       "3  NY Times: 'Nearly All White' States Pose 'an Array of Problems' for Immigrants https://t.co/ACZKLhdMV9 https://t.co/CJAlSXCzR6                                                                                                                                                                                ...  0 \n",
       "4  Orban in Brussels: European leaders are ignoring the will of the people, they do not want migrants https://t.co/NeYFyqvYlX                                                                                                                                                                                    ...  0 \n",
       "\n",
       "[5 rows x 4 columns]"
      ]
     },
     "execution_count": 19,
     "metadata": {
      "tags": []
     },
     "output_type": "execute_result"
    }
   ],
   "source": [
    "semeval.head(5)"
   ]
  },
  {
   "cell_type": "markdown",
   "metadata": {
    "colab_type": "text",
    "id": "rhV9j4pXVYe1"
   },
   "source": [
    "<b> A slight problem with this dataset is that it doesn't have a column denoting whether tweets are offensive or not which makes it not useful to our second stage of classification. \n",
    "    \n",
    "However, it does classify tweets as hate speech or not, and reliably too. Getting reliably annotated hate speech tweets online is rare so we'll use these tweets for the first and third stages of our model. </b> \n",
    "\n",
    "\n",
    "<i>For tweets in this dataframe that aren't hate speech, we will annotate the 'Offensive' column of our dataset as 'Unknown' </i>"
   ]
  },
  {
   "cell_type": "code",
   "execution_count": 0,
   "metadata": {
    "colab": {
     "base_uri": "https://localhost:8080/",
     "height": 573
    },
    "colab_type": "code",
    "executionInfo": {
     "elapsed": 1074,
     "status": "ok",
     "timestamp": 1578418604569,
     "user": {
      "displayName": "Fionn McConville",
      "photoUrl": "https://lh3.googleusercontent.com/a-/AAuE7mDQ4Te6RRh1B7ENukR6-4xoNAaV2ajfGgNpCD6y=s64",
      "userId": "01326935138765014160"
     },
     "user_tz": 0
    },
    "id": "o2aIwr1bVYe1",
    "outputId": "e14ec54d-0939-4cb7-c749-0ebe79b78c4d"
   },
   "outputs": [
    {
     "data": {
      "text/html": [
       "<div>\n",
       "<style scoped>\n",
       "    .dataframe tbody tr th:only-of-type {\n",
       "        vertical-align: middle;\n",
       "    }\n",
       "\n",
       "    .dataframe tbody tr th {\n",
       "        vertical-align: top;\n",
       "    }\n",
       "\n",
       "    .dataframe thead th {\n",
       "        text-align: right;\n",
       "    }\n",
       "</style>\n",
       "<table border=\"1\" class=\"dataframe\">\n",
       "  <thead>\n",
       "    <tr style=\"text-align: right;\">\n",
       "      <th></th>\n",
       "      <th>Tweet</th>\n",
       "      <th>Hate_Speech</th>\n",
       "      <th>Offensive</th>\n",
       "    </tr>\n",
       "  </thead>\n",
       "  <tbody>\n",
       "    <tr>\n",
       "      <th>0</th>\n",
       "      <td>Hurray, saving us $$$ in so many ways @potus @realDonaldTrump #LockThemUp #BuildTheWall #EndDACA #BoycottNFL #BoycottNike</td>\n",
       "      <td>1</td>\n",
       "      <td>1</td>\n",
       "    </tr>\n",
       "    <tr>\n",
       "      <th>1</th>\n",
       "      <td>Why would young fighting age men be the vast majority of the ones escaping a war &amp;amp; not those who cannot fight like women, children, and the elderly?It's because the majority of the refugees are not actually refugees they are economic migrants trying to get into Europe.... https://t.co/Ks0SHbtYqn</td>\n",
       "      <td>1</td>\n",
       "      <td>1</td>\n",
       "    </tr>\n",
       "    <tr>\n",
       "      <th>2</th>\n",
       "      <td>@KamalaHarris Illegals Dump their Kids at the border like Road Kill and Refuse to Unite! They Hope they get Amnesty, Free Education and Welfare Illegal #FamilesBelongTogether in their Country not on the Taxpayer Dime Its a SCAM #NoDACA #NoAmnesty #SendThe</td>\n",
       "      <td>1</td>\n",
       "      <td>1</td>\n",
       "    </tr>\n",
       "    <tr>\n",
       "      <th>3</th>\n",
       "      <td>NY Times: 'Nearly All White' States Pose 'an Array of Problems' for Immigrants https://t.co/ACZKLhdMV9 https://t.co/CJAlSXCzR6</td>\n",
       "      <td>0</td>\n",
       "      <td>-</td>\n",
       "    </tr>\n",
       "    <tr>\n",
       "      <th>4</th>\n",
       "      <td>Orban in Brussels: European leaders are ignoring the will of the people, they do not want migrants https://t.co/NeYFyqvYlX</td>\n",
       "      <td>0</td>\n",
       "      <td>-</td>\n",
       "    </tr>\n",
       "    <tr>\n",
       "      <th>5</th>\n",
       "      <td>@KurtSchlichter LEGAL is. Not illegal. #BuildThatWall</td>\n",
       "      <td>1</td>\n",
       "      <td>1</td>\n",
       "    </tr>\n",
       "    <tr>\n",
       "      <th>6</th>\n",
       "      <td>@RitaPanahi @826Maureen @RealCandaceO Antifa are just a pack of druggie misfits that no one loves, being the violent thugs they are is their cry for attention and their hit of self importance.#JuvenileDelinquents</td>\n",
       "      <td>0</td>\n",
       "      <td>-</td>\n",
       "    </tr>\n",
       "    <tr>\n",
       "      <th>7</th>\n",
       "      <td>Ex-Teacher Pleads Not guilty To Rape Charges https://t.co/D2mGu3VT5G</td>\n",
       "      <td>0</td>\n",
       "      <td>-</td>\n",
       "    </tr>\n",
       "    <tr>\n",
       "      <th>8</th>\n",
       "      <td>still places on our Bengali (Sylheti) class! it's London's 2nd language! know anyone interested @SBSisters @refugeecouncil @DocsNotCops https://t.co/sOx6shjvMx</td>\n",
       "      <td>0</td>\n",
       "      <td>-</td>\n",
       "    </tr>\n",
       "    <tr>\n",
       "      <th>9</th>\n",
       "      <td>DFID Africa Regional Profile: July 2018 https://t.co/npfZCriW0w</td>\n",
       "      <td>0</td>\n",
       "      <td>-</td>\n",
       "    </tr>\n",
       "  </tbody>\n",
       "</table>\n",
       "</div>"
      ],
      "text/plain": [
       "                                                                                                                                                                                                                                                                                                          Tweet  ...  Offensive\n",
       "0  Hurray, saving us $$$ in so many ways @potus @realDonaldTrump #LockThemUp #BuildTheWall #EndDACA #BoycottNFL #BoycottNike                                                                                                                                                                                     ...  1        \n",
       "1  Why would young fighting age men be the vast majority of the ones escaping a war &amp; not those who cannot fight like women, children, and the elderly?It's because the majority of the refugees are not actually refugees they are economic migrants trying to get into Europe.... https://t.co/Ks0SHbtYqn  ...  1        \n",
       "2  @KamalaHarris Illegals Dump their Kids at the border like Road Kill and Refuse to Unite! They Hope they get Amnesty, Free Education and Welfare Illegal #FamilesBelongTogether in their Country not on the Taxpayer Dime Its a SCAM #NoDACA #NoAmnesty #SendThe                                               ...  1        \n",
       "3  NY Times: 'Nearly All White' States Pose 'an Array of Problems' for Immigrants https://t.co/ACZKLhdMV9 https://t.co/CJAlSXCzR6                                                                                                                                                                                ...  -        \n",
       "4  Orban in Brussels: European leaders are ignoring the will of the people, they do not want migrants https://t.co/NeYFyqvYlX                                                                                                                                                                                    ...  -        \n",
       "5  @KurtSchlichter LEGAL is. Not illegal. #BuildThatWall                                                                                                                                                                                                                                                         ...  1        \n",
       "6  @RitaPanahi @826Maureen @RealCandaceO Antifa are just a pack of druggie misfits that no one loves, being the violent thugs they are is their cry for attention and their hit of self importance.#JuvenileDelinquents                                                                                          ...  -        \n",
       "7  Ex-Teacher Pleads Not guilty To Rape Charges https://t.co/D2mGu3VT5G                                                                                                                                                                                                                                          ...  -        \n",
       "8  still places on our Bengali (Sylheti) class! it's London's 2nd language! know anyone interested @SBSisters @refugeecouncil @DocsNotCops https://t.co/sOx6shjvMx                                                                                                                                               ...  -        \n",
       "9  DFID Africa Regional Profile: July 2018 https://t.co/npfZCriW0w                                                                                                                                                                                                                                               ...  -        \n",
       "\n",
       "[10 rows x 3 columns]"
      ]
     },
     "execution_count": 20,
     "metadata": {
      "tags": []
     },
     "output_type": "execute_result"
    }
   ],
   "source": [
    "semeval.rename(columns = {'text': 'Tweet', 'HS' : 'Hate_Speech'}, inplace = True)\n",
    "semeval['Offensive'] = '-'\n",
    "semeval.loc[semeval['Hate_Speech'] == 1, 'Offensive'] = 1\n",
    "cols = ['TR', 'AG']\n",
    "semeval.drop(cols, inplace = True, axis = 1)\n",
    "semeval.head(10)\n"
   ]
  },
  {
   "cell_type": "markdown",
   "metadata": {
    "colab_type": "text",
    "id": "4b5zsVOTVYe2"
   },
   "source": [
    "## ICVSM 2018 Abusive dataset\n",
    "\n",
    "The data labelled as hateful is not very reliable in this dataset, although some may be hate speech.\n",
    "    \n",
    "To avert the risk of contaminating the tweet data we've already labelled as hate speech in other datasets - we'll drop tweets labelled as hateful in this set. </i> <b>This will result in losing around 5000 tweets.</b>\n",
    "    \n",
    "<i>However, the rest of the tweets can be used to further pre-train the BERT model, provide offensive tweets for the multi-task fine-tuning stage of this project and provide benign tweets for the fine-tuning stage - (there are approx 95,000 tweets in all), so it's not all doom and gloom </i>"
   ]
  },
  {
   "cell_type": "code",
   "execution_count": 0,
   "metadata": {
    "colab": {
     "base_uri": "https://localhost:8080/",
     "height": 54
    },
    "colab_type": "code",
    "executionInfo": {
     "elapsed": 5071,
     "status": "ok",
     "timestamp": 1578418627723,
     "user": {
      "displayName": "Fionn McConville",
      "photoUrl": "https://lh3.googleusercontent.com/a-/AAuE7mDQ4Te6RRh1B7ENukR6-4xoNAaV2ajfGgNpCD6y=s64",
      "userId": "01326935138765014160"
     },
     "user_tz": 0
    },
    "id": "R81sAfLfVYe3",
    "outputId": "7937436d-ba96-4a44-db88-d109d59592a7"
   },
   "outputs": [
    {
     "name": "stdout",
     "output_type": "stream",
     "text": [
      "\n",
      "There are 95031 tweets in this dataset\n"
     ]
    }
   ],
   "source": [
    "icvsm = os.path.join(DATA_DIR, 'ICVSM_2018_dataset/hatespeech_text_label_vote.csv')\n",
    "icvsm = pd.read_csv(icvsm, sep='\\t', names = \\\n",
    "                    [\"tweets\", \"majority label\" ], index_col = False);\n",
    "\n",
    "#We're dropping the tweets labelled as 'hateful' as they're unreliably annotated.\n",
    "icvsm.drop(icvsm.loc[icvsm['majority label']=='hateful'].index, inplace=True)\n",
    "\n",
    "print(\"\\nThere are\", len(icvsm.index), \"tweets in this dataset\")"
   ]
  },
  {
   "cell_type": "code",
   "execution_count": 0,
   "metadata": {
    "colab": {
     "base_uri": "https://localhost:8080/",
     "height": 615
    },
    "colab_type": "code",
    "executionInfo": {
     "elapsed": 490,
     "status": "ok",
     "timestamp": 1578418630960,
     "user": {
      "displayName": "Fionn McConville",
      "photoUrl": "https://lh3.googleusercontent.com/a-/AAuE7mDQ4Te6RRh1B7ENukR6-4xoNAaV2ajfGgNpCD6y=s64",
      "userId": "01326935138765014160"
     },
     "user_tz": 0
    },
    "id": "gP8KD2cbVYe4",
    "outputId": "da159932-fbd9-4abf-8c50-ea587f5640ea"
   },
   "outputs": [
    {
     "data": {
      "text/html": [
       "<div>\n",
       "<style scoped>\n",
       "    .dataframe tbody tr th:only-of-type {\n",
       "        vertical-align: middle;\n",
       "    }\n",
       "\n",
       "    .dataframe tbody tr th {\n",
       "        vertical-align: top;\n",
       "    }\n",
       "\n",
       "    .dataframe thead th {\n",
       "        text-align: right;\n",
       "    }\n",
       "</style>\n",
       "<table border=\"1\" class=\"dataframe\">\n",
       "  <thead>\n",
       "    <tr style=\"text-align: right;\">\n",
       "      <th></th>\n",
       "      <th>Tweet</th>\n",
       "      <th>Hate_Speech</th>\n",
       "      <th>Offensive</th>\n",
       "    </tr>\n",
       "  </thead>\n",
       "  <tbody>\n",
       "    <tr>\n",
       "      <th>0</th>\n",
       "      <td>Beats by Dr. Dre urBeats Wired In-Ear Headphones - White https://t.co/9tREpqfyW4 https://t.co/FCaWyWRbpE</td>\n",
       "      <td>0</td>\n",
       "      <td>0</td>\n",
       "    </tr>\n",
       "    <tr>\n",
       "      <th>1</th>\n",
       "      <td>RT @Papapishu: Man it would fucking rule if we had a party that was against perpetual warfare.</td>\n",
       "      <td>0</td>\n",
       "      <td>1</td>\n",
       "    </tr>\n",
       "    <tr>\n",
       "      <th>2</th>\n",
       "      <td>It is time to draw close to Him &amp;#128591;&amp;#127995; Father, I draw near to you now and always ❤️ https://t.co/MVRBBX2aqJ</td>\n",
       "      <td>0</td>\n",
       "      <td>0</td>\n",
       "    </tr>\n",
       "    <tr>\n",
       "      <th>3</th>\n",
       "      <td>if you notice me start to act different or distant.. it's bc i peeped something you did or i notice a difference in how you act &amp;amp; ian fw it.</td>\n",
       "      <td>0</td>\n",
       "      <td>0</td>\n",
       "    </tr>\n",
       "    <tr>\n",
       "      <th>4</th>\n",
       "      <td>Forget unfollowers, I believe in growing. 7 new followers in the last day! Stats via https://t.co/bunPHQNXhj</td>\n",
       "      <td>0</td>\n",
       "      <td>0</td>\n",
       "    </tr>\n",
       "    <tr>\n",
       "      <th>5</th>\n",
       "      <td>RT @Vitiligoprince: Hate Being sexually Frustrated Like I wanna Fuck But ion wanna Just fuck anybody</td>\n",
       "      <td>0</td>\n",
       "      <td>1</td>\n",
       "    </tr>\n",
       "    <tr>\n",
       "      <th>6</th>\n",
       "      <td>Topped the group in TGP Disc Jam Season 2! Onto the Semi-Finals! @HighHorseGames https://t.co/N7LE8lX7Rm</td>\n",
       "      <td>0</td>\n",
       "      <td>0</td>\n",
       "    </tr>\n",
       "    <tr>\n",
       "      <th>7</th>\n",
       "      <td>That daily baby aspirin for your #heart just might be preventing colon #cancer too. https://t.co/2TLawmHhEe</td>\n",
       "      <td>0</td>\n",
       "      <td>0</td>\n",
       "    </tr>\n",
       "    <tr>\n",
       "      <th>8</th>\n",
       "      <td>I liked a @YouTube video from @mattshea https://t.co/niSeJrLKHq THE BLUE ARMY IS COMING! - Ancient Warfare 2</td>\n",
       "      <td>0</td>\n",
       "      <td>0</td>\n",
       "    </tr>\n",
       "    <tr>\n",
       "      <th>9</th>\n",
       "      <td>RT @LestuhGang_: If your fucking up &amp;amp; your homies dont tell you that your fucking up, those ain't your homies</td>\n",
       "      <td>0</td>\n",
       "      <td>1</td>\n",
       "    </tr>\n",
       "    <tr>\n",
       "      <th>10</th>\n",
       "      <td>Uber finds one allegedly stolen Waymo file – on an employee’s personal device https://t.co/ZLmrbf6S3O https://t.co/v4IdDN4hvu</td>\n",
       "      <td>0</td>\n",
       "      <td>0</td>\n",
       "    </tr>\n",
       "    <tr>\n",
       "      <th>11</th>\n",
       "      <td>@Move_Fwd give up. You've lost. You will not convince me one iota because I read more than conspiracy theories and… https://t.co/2QLmn3tIjf</td>\n",
       "      <td>0</td>\n",
       "      <td>0</td>\n",
       "    </tr>\n",
       "  </tbody>\n",
       "</table>\n",
       "</div>"
      ],
      "text/plain": [
       "                                                                                                                                               Tweet  ...  Offensive\n",
       "0   Beats by Dr. Dre urBeats Wired In-Ear Headphones - White https://t.co/9tREpqfyW4 https://t.co/FCaWyWRbpE                                          ...  0        \n",
       "1   RT @Papapishu: Man it would fucking rule if we had a party that was against perpetual warfare.                                                    ...  1        \n",
       "2   It is time to draw close to Him &#128591;&#127995; Father, I draw near to you now and always ❤️ https://t.co/MVRBBX2aqJ                           ...  0        \n",
       "3   if you notice me start to act different or distant.. it's bc i peeped something you did or i notice a difference in how you act &amp; ian fw it.  ...  0        \n",
       "4   Forget unfollowers, I believe in growing. 7 new followers in the last day! Stats via https://t.co/bunPHQNXhj                                      ...  0        \n",
       "5   RT @Vitiligoprince: Hate Being sexually Frustrated Like I wanna Fuck But ion wanna Just fuck anybody                                              ...  1        \n",
       "6   Topped the group in TGP Disc Jam Season 2! Onto the Semi-Finals! @HighHorseGames https://t.co/N7LE8lX7Rm                                          ...  0        \n",
       "7   That daily baby aspirin for your #heart just might be preventing colon #cancer too. https://t.co/2TLawmHhEe                                       ...  0        \n",
       "8   I liked a @YouTube video from @mattshea https://t.co/niSeJrLKHq THE BLUE ARMY IS COMING! - Ancient Warfare 2                                      ...  0        \n",
       "9   RT @LestuhGang_: If your fucking up &amp; your homies dont tell you that your fucking up, those ain't your homies                                 ...  1        \n",
       "10  Uber finds one allegedly stolen Waymo file – on an employee’s personal device https://t.co/ZLmrbf6S3O https://t.co/v4IdDN4hvu                     ...  0        \n",
       "11  @Move_Fwd give up. You've lost. You will not convince me one iota because I read more than conspiracy theories and… https://t.co/2QLmn3tIjf       ...  0        \n",
       "\n",
       "[12 rows x 3 columns]"
      ]
     },
     "execution_count": 22,
     "metadata": {
      "tags": []
     },
     "output_type": "execute_result"
    }
   ],
   "source": [
    "icvsm['Hate_Speech'] = 0\n",
    "icvsm['Offensive'] = 0\n",
    "icvsm.rename(columns = {'tweets': 'Tweet'}, inplace = True)\n",
    "icvsm.loc[icvsm['majority label'] == 'abusive', 'Offensive'] = 1\n",
    "icvsm.drop('majority label', inplace = True, axis = 1)\n",
    "icvsm.head(12)"
   ]
  },
  {
   "cell_type": "markdown",
   "metadata": {
    "colab_type": "text",
    "id": "Mq1neqDUbEQO"
   },
   "source": [
    "# Waseem & Hovy Dataset"
   ]
  },
  {
   "cell_type": "code",
   "execution_count": 0,
   "metadata": {
    "colab": {
     "base_uri": "https://localhost:8080/",
     "height": 235
    },
    "colab_type": "code",
    "executionInfo": {
     "elapsed": 690,
     "status": "ok",
     "timestamp": 1578419841478,
     "user": {
      "displayName": "Fionn McConville",
      "photoUrl": "https://lh3.googleusercontent.com/a-/AAuE7mDQ4Te6RRh1B7ENukR6-4xoNAaV2ajfGgNpCD6y=s64",
      "userId": "01326935138765014160"
     },
     "user_tz": 0
    },
    "id": "JAzTk8aSVYe5",
    "outputId": "16a39fc9-d1f7-48eb-c3ca-03e88ce6ca5b"
   },
   "outputs": [
    {
     "name": "stdout",
     "output_type": "stream",
     "text": [
      "<class 'pandas.core.frame.DataFrame'>\n",
      "Int64Index: 13092 entries, 0 to 13093\n",
      "Data columns (total 3 columns):\n",
      "id       13092 non-null object\n",
      "label    13092 non-null object\n",
      "text     13092 non-null object\n",
      "dtypes: object(3)\n",
      "memory usage: 409.1+ KB\n",
      "None\n",
      "\n",
      "There are 5 different labels for how the tweets have been annotated:\n",
      "['racism' 'sexism' 'none' 'neither' 'both']\n"
     ]
    }
   ],
   "source": [
    "#Combined Waseem and Hovy datasets below\n",
    "path = os.path.join( DATA_DIR, 'Waseem_Hovy_2016.csv')\n",
    "\n",
    "ids = pd.read_csv(path, sep=',');\n",
    "ids.dropna(inplace = True)\n",
    "print(ids.info())\n",
    "print(\"\\nThere are 5 different labels for how the tweets have been annotated:\")\n",
    "print(ids['label'].unique())"
   ]
  },
  {
   "cell_type": "markdown",
   "metadata": {
    "colab_type": "text",
    "id": "UzcNBSbFVYe6"
   },
   "source": [
    "If a tweet has been labelled as racism, sexism or both - we annotate as hate speech and offensive. Otherwise we label as not hate speech; but we can't be sure if some of the tweets that have been labelled as none or neither aren't offensive - so we'll label that as ' - '"
   ]
  },
  {
   "cell_type": "code",
   "execution_count": 0,
   "metadata": {
    "colab": {
     "base_uri": "https://localhost:8080/",
     "height": 446
    },
    "colab_type": "code",
    "executionInfo": {
     "elapsed": 508,
     "status": "ok",
     "timestamp": 1578419845025,
     "user": {
      "displayName": "Fionn McConville",
      "photoUrl": "https://lh3.googleusercontent.com/a-/AAuE7mDQ4Te6RRh1B7ENukR6-4xoNAaV2ajfGgNpCD6y=s64",
      "userId": "01326935138765014160"
     },
     "user_tz": 0
    },
    "id": "pegjr9LRVYe6",
    "outputId": "3bbf08bb-4bd6-4ce6-d64e-70b553923155"
   },
   "outputs": [
    {
     "name": "stdout",
     "output_type": "stream",
     "text": [
      "Hate Speech Classification Summary:\n",
      "\n",
      "There are 3513 tweets labelled as hate speech and 9579 tweets labelled as not hate speech\n",
      "\n",
      "There are 9579 tweets that in the previous data were not labelled as hate speech.\n",
      "However we can't be sure they don't contain content that's offensive, \n",
      "hence they're labelled as ' - ' for that category\n"
     ]
    },
    {
     "data": {
      "text/html": [
       "<div>\n",
       "<style scoped>\n",
       "    .dataframe tbody tr th:only-of-type {\n",
       "        vertical-align: middle;\n",
       "    }\n",
       "\n",
       "    .dataframe tbody tr th {\n",
       "        vertical-align: top;\n",
       "    }\n",
       "\n",
       "    .dataframe thead th {\n",
       "        text-align: right;\n",
       "    }\n",
       "</style>\n",
       "<table border=\"1\" class=\"dataframe\">\n",
       "  <thead>\n",
       "    <tr style=\"text-align: right;\">\n",
       "      <th></th>\n",
       "      <th>id</th>\n",
       "      <th>Tweet</th>\n",
       "      <th>Hate_Speech</th>\n",
       "      <th>Offensive</th>\n",
       "    </tr>\n",
       "  </thead>\n",
       "  <tbody>\n",
       "    <tr>\n",
       "      <th>0</th>\n",
       "      <td>572334712804384768</td>\n",
       "      <td>of course you were born in serbia...you're as fucked as A Serbian Film #MKR</td>\n",
       "      <td>1</td>\n",
       "      <td>1</td>\n",
       "    </tr>\n",
       "    <tr>\n",
       "      <th>1</th>\n",
       "      <td>572332655397629952</td>\n",
       "      <td>These girls are the equivalent of the irritating Asian girls a couple years ago. Well done, 7. #MKR</td>\n",
       "      <td>1</td>\n",
       "      <td>1</td>\n",
       "    </tr>\n",
       "    <tr>\n",
       "      <th>2</th>\n",
       "      <td>575949086055997440</td>\n",
       "      <td>#MKR  Lost the plot - where's the big Texan with the elephant sized steaks that they all have for brekkie ?</td>\n",
       "      <td>1</td>\n",
       "      <td>1</td>\n",
       "    </tr>\n",
       "    <tr>\n",
       "      <th>3</th>\n",
       "      <td>575174115667017728</td>\n",
       "      <td>RT @PhxKen: SIR WINSTON CHURCHHILL: \"ISLAM IS A DANGEROUS IN A MAN AS RABIES IN A DOG\" http://t.co/kCXgKD70SK</td>\n",
       "      <td>1</td>\n",
       "      <td>1</td>\n",
       "    </tr>\n",
       "    <tr>\n",
       "      <th>4</th>\n",
       "      <td>569294066984202240</td>\n",
       "      <td>RT @TheRightWingM: Giuliani watched his city attacked &amp;amp; people jump to their deaths. He's entitled to say WTF he wants about the guy shield…</td>\n",
       "      <td>1</td>\n",
       "      <td>1</td>\n",
       "    </tr>\n",
       "  </tbody>\n",
       "</table>\n",
       "</div>"
      ],
      "text/plain": [
       "                   id  ... Offensive\n",
       "0  572334712804384768  ...  1       \n",
       "1  572332655397629952  ...  1       \n",
       "2  575949086055997440  ...  1       \n",
       "3  575174115667017728  ...  1       \n",
       "4  569294066984202240  ...  1       \n",
       "\n",
       "[5 rows x 4 columns]"
      ]
     },
     "execution_count": 58,
     "metadata": {
      "tags": []
     },
     "output_type": "execute_result"
    }
   ],
   "source": [
    "ids['Hate_Speech'] = 1\n",
    "ids['Offensive'] = 1\n",
    "\n",
    "ids.rename(columns = {'text': 'Tweet'}, inplace = True)\n",
    "\n",
    "ids.loc[ids['label'] == 'none', 'Hate_Speech'] = 0\n",
    "ids.loc[ids['label'] == 'none', 'Offensive'] = \"-\"\n",
    "\n",
    "ids.loc[ids['label'] == 'neither', 'Hate_Speech'] = 0\n",
    "ids.loc[ids['label'] == 'neither', 'Offensive'] = \"-\"\n",
    "\n",
    "ids.drop('label', inplace = True, axis = 1)\n",
    "ids.reset_index(drop = True, inplace = True)\n",
    "\n",
    "print(\"Hate Speech Classification Summary:\\n\" \\\n",
    "     \"\\nThere are\", ids['Hate_Speech'].value_counts()[1], \\\n",
    "      \"tweets labelled as hate speech and\", \\\n",
    "      ids['Hate_Speech'].value_counts()[0], \\\n",
    "      \"tweets labelled as not hate speech\" )\n",
    "\n",
    "print(\"\\nThere are\", ids['Offensive'].value_counts()['-'],\n",
    "     \"tweets that in the previous data were not labelled as hate speech.\" \\\n",
    "      \"\\nHowever we can't be sure they don't contain content that's offensive,\",\\\n",
    "     \"\\nhence they're labelled as ' - ' for that category\")\n",
    "\n",
    "\n",
    "ids.head(5)\n"
   ]
  },
  {
   "cell_type": "markdown",
   "metadata": {
    "colab_type": "text",
    "id": "5K3m1UzSVYe7"
   },
   "source": [
    "## Testing for possible duplicate tweets\n",
    "\n",
    "<b> Where tweet ID is available, we want to use it at the beginning to root out possible duplicate tweets which may have overlapped over the datasets. </b>\n",
    "    \n",
    "Removing duplicates via tweet ID should be more reliable, but after this we'll attempt to remove duplicate tweets via the text content nd see if it's a reliable method of removing duplicate entries.\n",
    "\n",
    "There are only two datasets that have an accompanying ID, the ICVSM dataset has IDs along with their label as another csv file in the directory.\n",
    "\n",
    "I'll test now to see if there's any overlap between the ICVSM_2018 tweets and the Waseem_And Hovy tweets\n"
   ]
  },
  {
   "cell_type": "code",
   "execution_count": 0,
   "metadata": {
    "colab": {
     "base_uri": "https://localhost:8080/",
     "height": 235
    },
    "colab_type": "code",
    "executionInfo": {
     "elapsed": 998,
     "status": "ok",
     "timestamp": 1578419849834,
     "user": {
      "displayName": "Fionn McConville",
      "photoUrl": "https://lh3.googleusercontent.com/a-/AAuE7mDQ4Te6RRh1B7ENukR6-4xoNAaV2ajfGgNpCD6y=s64",
      "userId": "01326935138765014160"
     },
     "user_tz": 0
    },
    "id": "ZEWqfoG5VYe8",
    "outputId": "f2190540-6c60-43f6-b09f-62d25cbbea73"
   },
   "outputs": [
    {
     "name": "stdout",
     "output_type": "stream",
     "text": [
      "\n",
      "There are 95031 tweets in this dataset\n"
     ]
    },
    {
     "data": {
      "text/html": [
       "<div>\n",
       "<style scoped>\n",
       "    .dataframe tbody tr th:only-of-type {\n",
       "        vertical-align: middle;\n",
       "    }\n",
       "\n",
       "    .dataframe tbody tr th {\n",
       "        vertical-align: top;\n",
       "    }\n",
       "\n",
       "    .dataframe thead th {\n",
       "        text-align: right;\n",
       "    }\n",
       "</style>\n",
       "<table border=\"1\" class=\"dataframe\">\n",
       "  <thead>\n",
       "    <tr style=\"text-align: right;\">\n",
       "      <th></th>\n",
       "      <th>id</th>\n",
       "      <th>majority label</th>\n",
       "    </tr>\n",
       "  </thead>\n",
       "  <tbody>\n",
       "    <tr>\n",
       "      <th>0</th>\n",
       "      <td>849667487180259329</td>\n",
       "      <td>abusive</td>\n",
       "    </tr>\n",
       "    <tr>\n",
       "      <th>1</th>\n",
       "      <td>850490912954351616</td>\n",
       "      <td>abusive</td>\n",
       "    </tr>\n",
       "    <tr>\n",
       "      <th>2</th>\n",
       "      <td>848791766853668864</td>\n",
       "      <td>abusive</td>\n",
       "    </tr>\n",
       "    <tr>\n",
       "      <th>3</th>\n",
       "      <td>848306464892604416</td>\n",
       "      <td>abusive</td>\n",
       "    </tr>\n",
       "    <tr>\n",
       "      <th>4</th>\n",
       "      <td>850010509969465344</td>\n",
       "      <td>normal</td>\n",
       "    </tr>\n",
       "  </tbody>\n",
       "</table>\n",
       "</div>"
      ],
      "text/plain": [
       "                   id majority label\n",
       "0  849667487180259329  abusive      \n",
       "1  850490912954351616  abusive      \n",
       "2  848791766853668864  abusive      \n",
       "3  848306464892604416  abusive      \n",
       "4  850010509969465344  normal       "
      ]
     },
     "execution_count": 59,
     "metadata": {
      "tags": []
     },
     "output_type": "execute_result"
    }
   ],
   "source": [
    "icvsm1 = os.path.join(DATA_DIR, 'ICVSM_2018_dataset/hatespeech_id_label.csv')\n",
    "icvsm1 = pd.read_csv(icvsm1, sep=',', names = \\\n",
    "                    [\"id\", \"majority label\" ], index_col = False);\n",
    "\n",
    "#Again dropping 'hateful' tweets as we won't be using them\n",
    "icvsm1.drop(icvsm1.loc[icvsm1['majority label']=='hateful'].index, \\\n",
    "            inplace=True)\n",
    "\n",
    "print(\"\\nThere are\", len(icvsm1.index), \"tweets in this dataset\")\n",
    "icvsm1.head()"
   ]
  },
  {
   "cell_type": "code",
   "execution_count": 0,
   "metadata": {
    "colab": {
     "base_uri": "https://localhost:8080/",
     "height": 72
    },
    "colab_type": "code",
    "executionInfo": {
     "elapsed": 577,
     "status": "ok",
     "timestamp": 1578419918094,
     "user": {
      "displayName": "Fionn McConville",
      "photoUrl": "https://lh3.googleusercontent.com/a-/AAuE7mDQ4Te6RRh1B7ENukR6-4xoNAaV2ajfGgNpCD6y=s64",
      "userId": "01326935138765014160"
     },
     "user_tz": 0
    },
    "id": "upNwuYbcVYfC",
    "outputId": "995e7d35-e1f3-40ac-856d-6e286659a5cf"
   },
   "outputs": [
    {
     "name": "stdout",
     "output_type": "stream",
     "text": [
      "There are 95031 tweets in the ICVSM dataset and 13092 tweets in the Waseem_Hovy dataset\n",
      "\n",
      "The end merge of datasets should have 108123 tweets in the dataset assuming no duplicates\n"
     ]
    }
   ],
   "source": [
    "print(\"There are\", len(icvsm1.index), \"tweets in the ICVSM dataset and\", \\\n",
    "      len(ids.index), \"tweets in the Waseem_Hovy dataset\")\n",
    "\n",
    "print(\"\\nThe end merge of datasets should have\", len(icvsm1.index) + len(ids.index),\\\n",
    "      \"tweets in the dataset assuming no duplicates\")"
   ]
  },
  {
   "cell_type": "code",
   "execution_count": 0,
   "metadata": {
    "colab": {
     "base_uri": "https://localhost:8080/",
     "height": 386
    },
    "colab_type": "code",
    "executionInfo": {
     "elapsed": 650,
     "status": "ok",
     "timestamp": 1578419948898,
     "user": {
      "displayName": "Fionn McConville",
      "photoUrl": "https://lh3.googleusercontent.com/a-/AAuE7mDQ4Te6RRh1B7ENukR6-4xoNAaV2ajfGgNpCD6y=s64",
      "userId": "01326935138765014160"
     },
     "user_tz": 0
    },
    "id": "_ot6j20fVYfD",
    "outputId": "5f50620b-4b40-4482-d025-2adc4e9a99f9"
   },
   "outputs": [
    {
     "name": "stdout",
     "output_type": "stream",
     "text": [
      "When using the duplicated method there are 330 duplicate ids identified, we'll obviously retain half of these because we'll keep the first instance of the duplicate tweet this will result in 165 tweets being dropped\n"
     ]
    },
    {
     "data": {
      "text/html": [
       "<div>\n",
       "<style scoped>\n",
       "    .dataframe tbody tr th:only-of-type {\n",
       "        vertical-align: middle;\n",
       "    }\n",
       "\n",
       "    .dataframe tbody tr th {\n",
       "        vertical-align: top;\n",
       "    }\n",
       "\n",
       "    .dataframe thead th {\n",
       "        text-align: right;\n",
       "    }\n",
       "</style>\n",
       "<table border=\"1\" class=\"dataframe\">\n",
       "  <thead>\n",
       "    <tr style=\"text-align: right;\">\n",
       "      <th></th>\n",
       "      <th>id</th>\n",
       "      <th>majority label</th>\n",
       "      <th>Tweet</th>\n",
       "      <th>Hate_Speech</th>\n",
       "      <th>Offensive</th>\n",
       "    </tr>\n",
       "  </thead>\n",
       "  <tbody>\n",
       "    <tr>\n",
       "      <th>9</th>\n",
       "      <td>849087242987593728</td>\n",
       "      <td>abusive</td>\n",
       "      <td>NaN</td>\n",
       "      <td>NaN</td>\n",
       "      <td>NaN</td>\n",
       "    </tr>\n",
       "    <tr>\n",
       "      <th>10</th>\n",
       "      <td>849087242987593728</td>\n",
       "      <td>abusive</td>\n",
       "      <td>NaN</td>\n",
       "      <td>NaN</td>\n",
       "      <td>NaN</td>\n",
       "    </tr>\n",
       "    <tr>\n",
       "      <th>13</th>\n",
       "      <td>849282894682050564</td>\n",
       "      <td>abusive</td>\n",
       "      <td>NaN</td>\n",
       "      <td>NaN</td>\n",
       "      <td>NaN</td>\n",
       "    </tr>\n",
       "    <tr>\n",
       "      <th>14</th>\n",
       "      <td>849282894682050564</td>\n",
       "      <td>abusive</td>\n",
       "      <td>NaN</td>\n",
       "      <td>NaN</td>\n",
       "      <td>NaN</td>\n",
       "    </tr>\n",
       "    <tr>\n",
       "      <th>36</th>\n",
       "      <td>849881409284182016</td>\n",
       "      <td>normal</td>\n",
       "      <td>NaN</td>\n",
       "      <td>NaN</td>\n",
       "      <td>NaN</td>\n",
       "    </tr>\n",
       "    <tr>\n",
       "      <th>37</th>\n",
       "      <td>849881409284182016</td>\n",
       "      <td>normal</td>\n",
       "      <td>NaN</td>\n",
       "      <td>NaN</td>\n",
       "      <td>NaN</td>\n",
       "    </tr>\n",
       "    <tr>\n",
       "      <th>46</th>\n",
       "      <td>848975292794318848</td>\n",
       "      <td>normal</td>\n",
       "      <td>NaN</td>\n",
       "      <td>NaN</td>\n",
       "      <td>NaN</td>\n",
       "    </tr>\n",
       "    <tr>\n",
       "      <th>47</th>\n",
       "      <td>848975292794318848</td>\n",
       "      <td>normal</td>\n",
       "      <td>NaN</td>\n",
       "      <td>NaN</td>\n",
       "      <td>NaN</td>\n",
       "    </tr>\n",
       "    <tr>\n",
       "      <th>52</th>\n",
       "      <td>850346419164553218</td>\n",
       "      <td>normal</td>\n",
       "      <td>NaN</td>\n",
       "      <td>NaN</td>\n",
       "      <td>NaN</td>\n",
       "    </tr>\n",
       "    <tr>\n",
       "      <th>53</th>\n",
       "      <td>850346419164553218</td>\n",
       "      <td>normal</td>\n",
       "      <td>NaN</td>\n",
       "      <td>NaN</td>\n",
       "      <td>NaN</td>\n",
       "    </tr>\n",
       "  </tbody>\n",
       "</table>\n",
       "</div>"
      ],
      "text/plain": [
       "                    id majority label Tweet  Hate_Speech Offensive\n",
       "9   849087242987593728  abusive        NaN  NaN           NaN     \n",
       "10  849087242987593728  abusive        NaN  NaN           NaN     \n",
       "13  849282894682050564  abusive        NaN  NaN           NaN     \n",
       "14  849282894682050564  abusive        NaN  NaN           NaN     \n",
       "36  849881409284182016  normal         NaN  NaN           NaN     \n",
       "37  849881409284182016  normal         NaN  NaN           NaN     \n",
       "46  848975292794318848  normal         NaN  NaN           NaN     \n",
       "47  848975292794318848  normal         NaN  NaN           NaN     \n",
       "52  850346419164553218  normal         NaN  NaN           NaN     \n",
       "53  850346419164553218  normal         NaN  NaN           NaN     "
      ]
     },
     "execution_count": 63,
     "metadata": {
      "tags": []
     },
     "output_type": "execute_result"
    }
   ],
   "source": [
    "#Make sure both id columns are of same type before merge\n",
    "icvsm1['id'] = icvsm1['id'].astype(int)\n",
    "ids['id'] = ids['id'].astype(int)\n",
    "ids.\n",
    "dt = pd.merge(icvsm1, ids,  how='outer', on = ['id'])\n",
    "duplicateRows = dt[dt.duplicated(subset = ['id'], keep = False)]\n",
    "print(\"When using the duplicated method there are\", \\\n",
    "      len(duplicateRows), \"duplicate ids identified, we'll obviously retain\",\\\n",
    "     \"half of these because we'll keep the first instance of the duplicate tweet\",\\\n",
    "     \"this will result in\", int(len(duplicateRows)/2), \"tweets being dropped\")\n",
    "duplicateRows.head(10)"
   ]
  },
  {
   "cell_type": "markdown",
   "metadata": {
    "colab_type": "text",
    "id": "6AWRbcLzVYfE"
   },
   "source": [
    "As shown above, identifying duplicate tweets via id is quite reliable as the ids above are identical. They're often entered in consecutive indexes in the database which leads me to believe it must have been human error in the large ICVSM 2017 database of 100,000 tweets.\n",
    "\n",
    "This isn't a huge amount of error when considering the overall size of the dataframe, however we do need to weed out these duplicates because they may give us inaccurate scores as we may perform cross-validation to evaluate model performance down the line "
   ]
  },
  {
   "cell_type": "code",
   "execution_count": 0,
   "metadata": {
    "colab": {
     "base_uri": "https://localhost:8080/",
     "height": 435
    },
    "colab_type": "code",
    "executionInfo": {
     "elapsed": 464,
     "status": "ok",
     "timestamp": 1578420293557,
     "user": {
      "displayName": "Fionn McConville",
      "photoUrl": "https://lh3.googleusercontent.com/a-/AAuE7mDQ4Te6RRh1B7ENukR6-4xoNAaV2ajfGgNpCD6y=s64",
      "userId": "01326935138765014160"
     },
     "user_tz": 0
    },
    "id": "9HNEiGHxVYfE",
    "outputId": "7ea3cc76-8187-4587-f0e0-60b3db410bdb"
   },
   "outputs": [
    {
     "name": "stdout",
     "output_type": "stream",
     "text": [
      "When using the drop_duplicates method there are 165 duplicate tweets\n",
      "\n",
      "<class 'pandas.core.frame.DataFrame'>\n",
      "Int64Index: 107958 entries, 0 to 108122\n",
      "Data columns (total 5 columns):\n",
      "id                107958 non-null int64\n",
      "majority label    94866 non-null object\n",
      "Tweet             13092 non-null object\n",
      "Hate_Speech       13092 non-null float64\n",
      "Offensive         13092 non-null object\n",
      "dtypes: float64(1), int64(1), object(3)\n",
      "memory usage: 4.9+ MB\n",
      "None\n"
     ]
    },
    {
     "data": {
      "text/html": [
       "<div>\n",
       "<style scoped>\n",
       "    .dataframe tbody tr th:only-of-type {\n",
       "        vertical-align: middle;\n",
       "    }\n",
       "\n",
       "    .dataframe tbody tr th {\n",
       "        vertical-align: top;\n",
       "    }\n",
       "\n",
       "    .dataframe thead th {\n",
       "        text-align: right;\n",
       "    }\n",
       "</style>\n",
       "<table border=\"1\" class=\"dataframe\">\n",
       "  <thead>\n",
       "    <tr style=\"text-align: right;\">\n",
       "      <th></th>\n",
       "      <th>id</th>\n",
       "      <th>majority label</th>\n",
       "      <th>Tweet</th>\n",
       "      <th>Hate_Speech</th>\n",
       "      <th>Offensive</th>\n",
       "    </tr>\n",
       "  </thead>\n",
       "  <tbody>\n",
       "    <tr>\n",
       "      <th>0</th>\n",
       "      <td>849667487180259329</td>\n",
       "      <td>abusive</td>\n",
       "      <td>NaN</td>\n",
       "      <td>NaN</td>\n",
       "      <td>NaN</td>\n",
       "    </tr>\n",
       "    <tr>\n",
       "      <th>1</th>\n",
       "      <td>850490912954351616</td>\n",
       "      <td>abusive</td>\n",
       "      <td>NaN</td>\n",
       "      <td>NaN</td>\n",
       "      <td>NaN</td>\n",
       "    </tr>\n",
       "    <tr>\n",
       "      <th>2</th>\n",
       "      <td>848791766853668864</td>\n",
       "      <td>abusive</td>\n",
       "      <td>NaN</td>\n",
       "      <td>NaN</td>\n",
       "      <td>NaN</td>\n",
       "    </tr>\n",
       "    <tr>\n",
       "      <th>3</th>\n",
       "      <td>848306464892604416</td>\n",
       "      <td>abusive</td>\n",
       "      <td>NaN</td>\n",
       "      <td>NaN</td>\n",
       "      <td>NaN</td>\n",
       "    </tr>\n",
       "    <tr>\n",
       "      <th>4</th>\n",
       "      <td>850010509969465344</td>\n",
       "      <td>normal</td>\n",
       "      <td>NaN</td>\n",
       "      <td>NaN</td>\n",
       "      <td>NaN</td>\n",
       "    </tr>\n",
       "  </tbody>\n",
       "</table>\n",
       "</div>"
      ],
      "text/plain": [
       "                   id majority label Tweet  Hate_Speech Offensive\n",
       "0  849667487180259329  abusive        NaN  NaN           NaN     \n",
       "1  850490912954351616  abusive        NaN  NaN           NaN     \n",
       "2  848791766853668864  abusive        NaN  NaN           NaN     \n",
       "3  848306464892604416  abusive        NaN  NaN           NaN     \n",
       "4  850010509969465344  normal         NaN  NaN           NaN     "
      ]
     },
     "execution_count": 65,
     "metadata": {
      "tags": []
     },
     "output_type": "execute_result"
    }
   ],
   "source": [
    "dt.drop_duplicates(subset= ['id'], keep = 'first', inplace = True)\n",
    "print(\"When using the drop_duplicates method there are\",\\\n",
    "(len(icvsm1.index) + len(ids.index) - len(dt.index)), \"duplicate tweets\\n\")\n",
    "\n",
    "print(dt.info())\n",
    "dt.head()"
   ]
  },
  {
   "cell_type": "markdown",
   "metadata": {
    "colab_type": "text",
    "id": "VQcAZ-JkVYfF"
   },
   "source": [
    "<b> Let's see if dropping duplicate entries via text content is a reliable method </b>"
   ]
  },
  {
   "cell_type": "code",
   "execution_count": 0,
   "metadata": {
    "colab": {
     "base_uri": "https://localhost:8080/",
     "height": 1000
    },
    "colab_type": "code",
    "executionInfo": {
     "elapsed": 1310,
     "status": "ok",
     "timestamp": 1578420933141,
     "user": {
      "displayName": "Fionn McConville",
      "photoUrl": "https://lh3.googleusercontent.com/a-/AAuE7mDQ4Te6RRh1B7ENukR6-4xoNAaV2ajfGgNpCD6y=s64",
      "userId": "01326935138765014160"
     },
     "user_tz": 0
    },
    "id": "3nHpxff4VYfG",
    "outputId": "ea1df3f7-e156-457f-9b5b-d3087be83aff"
   },
   "outputs": [
    {
     "name": "stdout",
     "output_type": "stream",
     "text": [
      "When using the duplicated method there are 8809 duplicate ids identified, we'll obviously retain half of these because we'll keep the first instance of the duplicate tweet this will result in 4404 tweets being dropped\n"
     ]
    },
    {
     "name": "stderr",
     "output_type": "stream",
     "text": [
      "/usr/local/lib/python3.6/dist-packages/pandas/core/frame.py:4117: SettingWithCopyWarning: \n",
      "A value is trying to be set on a copy of a slice from a DataFrame\n",
      "\n",
      "See the caveats in the documentation: http://pandas.pydata.org/pandas-docs/stable/user_guide/indexing.html#returning-a-view-versus-a-copy\n",
      "  errors=errors,\n"
     ]
    },
    {
     "data": {
      "text/html": [
       "<div>\n",
       "<style scoped>\n",
       "    .dataframe tbody tr th:only-of-type {\n",
       "        vertical-align: middle;\n",
       "    }\n",
       "\n",
       "    .dataframe tbody tr th {\n",
       "        vertical-align: top;\n",
       "    }\n",
       "\n",
       "    .dataframe thead th {\n",
       "        text-align: right;\n",
       "    }\n",
       "</style>\n",
       "<table border=\"1\" class=\"dataframe\">\n",
       "  <thead>\n",
       "    <tr style=\"text-align: right;\">\n",
       "      <th></th>\n",
       "      <th>Tweet</th>\n",
       "      <th>label</th>\n",
       "    </tr>\n",
       "  </thead>\n",
       "  <tbody>\n",
       "    <tr>\n",
       "      <th>1</th>\n",
       "      <td>RT @Papapishu: Man it would fucking rule if we had a party that was against perpetual warfare.</td>\n",
       "      <td>abusive</td>\n",
       "    </tr>\n",
       "    <tr>\n",
       "      <th>2</th>\n",
       "      <td>RT @Papapishu: Man it would fucking rule if we had a party that was against perpetual warfare.</td>\n",
       "      <td>abusive</td>\n",
       "    </tr>\n",
       "    <tr>\n",
       "      <th>3</th>\n",
       "      <td>RT @Papapishu: Man it would fucking rule if we had a party that was against perpetual warfare.</td>\n",
       "      <td>abusive</td>\n",
       "    </tr>\n",
       "    <tr>\n",
       "      <th>7</th>\n",
       "      <td>RT @Vitiligoprince: Hate Being sexually Frustrated Like I wanna Fuck But ion wanna Just fuck anybody</td>\n",
       "      <td>abusive</td>\n",
       "    </tr>\n",
       "    <tr>\n",
       "      <th>8</th>\n",
       "      <td>RT @Vitiligoprince: Hate Being sexually Frustrated Like I wanna Fuck But ion wanna Just fuck anybody</td>\n",
       "      <td>abusive</td>\n",
       "    </tr>\n",
       "    <tr>\n",
       "      <th>12</th>\n",
       "      <td>RT @LestuhGang_: If your fucking up &amp;amp; your homies dont tell you that your fucking up, those ain't your homies</td>\n",
       "      <td>abusive</td>\n",
       "    </tr>\n",
       "    <tr>\n",
       "      <th>13</th>\n",
       "      <td>RT @LestuhGang_: If your fucking up &amp;amp; your homies dont tell you that your fucking up, those ain't your homies</td>\n",
       "      <td>abusive</td>\n",
       "    </tr>\n",
       "    <tr>\n",
       "      <th>16</th>\n",
       "      <td>RT @ennoia3: That's one way he pulls you in RT@amysreedusxx norman fucking reedus just threw candy at me when will your fav ever https://t.…</td>\n",
       "      <td>abusive</td>\n",
       "    </tr>\n",
       "    <tr>\n",
       "      <th>17</th>\n",
       "      <td>RT @ennoia3: That's one way he pulls you in RT@amysreedusxx norman fucking reedus just threw candy at me when will your fav ever https://t.…</td>\n",
       "      <td>abusive</td>\n",
       "    </tr>\n",
       "    <tr>\n",
       "      <th>20</th>\n",
       "      <td>RT @EiramAydni: Im a nasty ass freak when I like you..</td>\n",
       "      <td>abusive</td>\n",
       "    </tr>\n",
       "    <tr>\n",
       "      <th>21</th>\n",
       "      <td>RT @EiramAydni: Im a nasty ass freak when I like you..</td>\n",
       "      <td>abusive</td>\n",
       "    </tr>\n",
       "    <tr>\n",
       "      <th>22</th>\n",
       "      <td>RT @EiramAydni: Im a nasty ass freak when I like you..</td>\n",
       "      <td>abusive</td>\n",
       "    </tr>\n",
       "    <tr>\n",
       "      <th>23</th>\n",
       "      <td>RT @EiramAydni: Im a nasty ass freak when I like you..</td>\n",
       "      <td>abusive</td>\n",
       "    </tr>\n",
       "    <tr>\n",
       "      <th>24</th>\n",
       "      <td>RT @EiramAydni: Im a nasty ass freak when I like you..</td>\n",
       "      <td>abusive</td>\n",
       "    </tr>\n",
       "    <tr>\n",
       "      <th>25</th>\n",
       "      <td>RT @EiramAydni: Im a nasty ass freak when I like you..</td>\n",
       "      <td>abusive</td>\n",
       "    </tr>\n",
       "    <tr>\n",
       "      <th>26</th>\n",
       "      <td>RT @EiramAydni: Im a nasty ass freak when I like you..</td>\n",
       "      <td>abusive</td>\n",
       "    </tr>\n",
       "    <tr>\n",
       "      <th>27</th>\n",
       "      <td>RT @EiramAydni: Im a nasty ass freak when I like you..</td>\n",
       "      <td>normal</td>\n",
       "    </tr>\n",
       "    <tr>\n",
       "      <th>28</th>\n",
       "      <td>RT @EiramAydni: Im a nasty ass freak when I like you..</td>\n",
       "      <td>abusive</td>\n",
       "    </tr>\n",
       "    <tr>\n",
       "      <th>29</th>\n",
       "      <td>RT @EiramAydni: Im a nasty ass freak when I like you..</td>\n",
       "      <td>abusive</td>\n",
       "    </tr>\n",
       "    <tr>\n",
       "      <th>30</th>\n",
       "      <td>RT @EiramAydni: Im a nasty ass freak when I like you..</td>\n",
       "      <td>abusive</td>\n",
       "    </tr>\n",
       "    <tr>\n",
       "      <th>31</th>\n",
       "      <td>RT @EiramAydni: Im a nasty ass freak when I like you..</td>\n",
       "      <td>abusive</td>\n",
       "    </tr>\n",
       "    <tr>\n",
       "      <th>32</th>\n",
       "      <td>RT @EiramAydni: Im a nasty ass freak when I like you..</td>\n",
       "      <td>abusive</td>\n",
       "    </tr>\n",
       "    <tr>\n",
       "      <th>33</th>\n",
       "      <td>RT @EiramAydni: Im a nasty ass freak when I like you..</td>\n",
       "      <td>abusive</td>\n",
       "    </tr>\n",
       "    <tr>\n",
       "      <th>34</th>\n",
       "      <td>RT @EiramAydni: Im a nasty ass freak when I like you..</td>\n",
       "      <td>abusive</td>\n",
       "    </tr>\n",
       "    <tr>\n",
       "      <th>35</th>\n",
       "      <td>RT @EiramAydni: Im a nasty ass freak when I like you..</td>\n",
       "      <td>abusive</td>\n",
       "    </tr>\n",
       "    <tr>\n",
       "      <th>36</th>\n",
       "      <td>RT @EiramAydni: Im a nasty ass freak when I like you..</td>\n",
       "      <td>abusive</td>\n",
       "    </tr>\n",
       "    <tr>\n",
       "      <th>37</th>\n",
       "      <td>RT @EiramAydni: Im a nasty ass freak when I like you..</td>\n",
       "      <td>abusive</td>\n",
       "    </tr>\n",
       "    <tr>\n",
       "      <th>38</th>\n",
       "      <td>RT @EiramAydni: Im a nasty ass freak when I like you..</td>\n",
       "      <td>abusive</td>\n",
       "    </tr>\n",
       "    <tr>\n",
       "      <th>39</th>\n",
       "      <td>RT @EiramAydni: Im a nasty ass freak when I like you..</td>\n",
       "      <td>abusive</td>\n",
       "    </tr>\n",
       "    <tr>\n",
       "      <th>40</th>\n",
       "      <td>RT @EiramAydni: Im a nasty ass freak when I like you..</td>\n",
       "      <td>abusive</td>\n",
       "    </tr>\n",
       "  </tbody>\n",
       "</table>\n",
       "</div>"
      ],
      "text/plain": [
       "                                                                                                                                           Tweet    label\n",
       "1   RT @Papapishu: Man it would fucking rule if we had a party that was against perpetual warfare.                                                abusive\n",
       "2   RT @Papapishu: Man it would fucking rule if we had a party that was against perpetual warfare.                                                abusive\n",
       "3   RT @Papapishu: Man it would fucking rule if we had a party that was against perpetual warfare.                                                abusive\n",
       "7   RT @Vitiligoprince: Hate Being sexually Frustrated Like I wanna Fuck But ion wanna Just fuck anybody                                          abusive\n",
       "8   RT @Vitiligoprince: Hate Being sexually Frustrated Like I wanna Fuck But ion wanna Just fuck anybody                                          abusive\n",
       "12  RT @LestuhGang_: If your fucking up &amp; your homies dont tell you that your fucking up, those ain't your homies                             abusive\n",
       "13  RT @LestuhGang_: If your fucking up &amp; your homies dont tell you that your fucking up, those ain't your homies                             abusive\n",
       "16  RT @ennoia3: That's one way he pulls you in RT@amysreedusxx norman fucking reedus just threw candy at me when will your fav ever https://t.…  abusive\n",
       "17  RT @ennoia3: That's one way he pulls you in RT@amysreedusxx norman fucking reedus just threw candy at me when will your fav ever https://t.…  abusive\n",
       "20  RT @EiramAydni: Im a nasty ass freak when I like you..                                                                                        abusive\n",
       "21  RT @EiramAydni: Im a nasty ass freak when I like you..                                                                                        abusive\n",
       "22  RT @EiramAydni: Im a nasty ass freak when I like you..                                                                                        abusive\n",
       "23  RT @EiramAydni: Im a nasty ass freak when I like you..                                                                                        abusive\n",
       "24  RT @EiramAydni: Im a nasty ass freak when I like you..                                                                                        abusive\n",
       "25  RT @EiramAydni: Im a nasty ass freak when I like you..                                                                                        abusive\n",
       "26  RT @EiramAydni: Im a nasty ass freak when I like you..                                                                                        abusive\n",
       "27  RT @EiramAydni: Im a nasty ass freak when I like you..                                                                                        normal \n",
       "28  RT @EiramAydni: Im a nasty ass freak when I like you..                                                                                        abusive\n",
       "29  RT @EiramAydni: Im a nasty ass freak when I like you..                                                                                        abusive\n",
       "30  RT @EiramAydni: Im a nasty ass freak when I like you..                                                                                        abusive\n",
       "31  RT @EiramAydni: Im a nasty ass freak when I like you..                                                                                        abusive\n",
       "32  RT @EiramAydni: Im a nasty ass freak when I like you..                                                                                        abusive\n",
       "33  RT @EiramAydni: Im a nasty ass freak when I like you..                                                                                        abusive\n",
       "34  RT @EiramAydni: Im a nasty ass freak when I like you..                                                                                        abusive\n",
       "35  RT @EiramAydni: Im a nasty ass freak when I like you..                                                                                        abusive\n",
       "36  RT @EiramAydni: Im a nasty ass freak when I like you..                                                                                        abusive\n",
       "37  RT @EiramAydni: Im a nasty ass freak when I like you..                                                                                        abusive\n",
       "38  RT @EiramAydni: Im a nasty ass freak when I like you..                                                                                        abusive\n",
       "39  RT @EiramAydni: Im a nasty ass freak when I like you..                                                                                        abusive\n",
       "40  RT @EiramAydni: Im a nasty ass freak when I like you..                                                                                        abusive"
      ]
     },
     "execution_count": 80,
     "metadata": {
      "tags": []
     },
     "output_type": "execute_result"
    }
   ],
   "source": [
    "icvsm1 = os.path.join(DATA_DIR, 'ICVSM_2018_dataset/hatespeech_text_label_vote.csv')\n",
    "icvsm1 = pd.read_csv(icvsm1, sep='\\t', names = \\\n",
    "                    [\"text\", \"label\" ], index_col = False);\n",
    "\n",
    "icvsm1.drop(icvsm1.loc[icvsm1['label']=='hateful'].index, inplace=True)\n",
    "icvsm1.rename({'text': 'Tweet'}, axis = 1, inplace =True)\n",
    "dt = pd.merge(icvsm1, ids,  how='outer', on = ['Tweet'])\n",
    "\n",
    "duplicateRows = dt[dt.duplicated(subset = ['Tweet'], keep = False)]\n",
    "\n",
    "print(\"When using the duplicated method there are\", \\\n",
    "      len(duplicateRows), \"duplicate ids identified, we'll obviously retain\",\\\n",
    "     \"half of these because we'll keep the first instance of the duplicate tweet\",\\\n",
    "     \"this will result in\", int(len(duplicateRows)/2), \"tweets being dropped\")\n",
    "pd.set_option('display.max_colwidth', -1)\n",
    "duplicateRows.drop(columns = {'id', 'Hate_Speech', 'Offensive'}, axis = 1,inplace = True)\n",
    "duplicateRows.head(30)"
   ]
  },
  {
   "cell_type": "code",
   "execution_count": 0,
   "metadata": {
    "colab": {
     "base_uri": "https://localhost:8080/",
     "height": 72
    },
    "colab_type": "code",
    "executionInfo": {
     "elapsed": 527,
     "status": "ok",
     "timestamp": 1578420948434,
     "user": {
      "displayName": "Fionn McConville",
      "photoUrl": "https://lh3.googleusercontent.com/a-/AAuE7mDQ4Te6RRh1B7ENukR6-4xoNAaV2ajfGgNpCD6y=s64",
      "userId": "01326935138765014160"
     },
     "user_tz": 0
    },
    "id": "WVsd833ZVYfI",
    "outputId": "b886d3e1-4141-4268-9bbd-3291fcd98e13"
   },
   "outputs": [
    {
     "name": "stdout",
     "output_type": "stream",
     "text": [
      "\n",
      "Overall, there are 101059 tweets in this dataset with 7066 duplicate tweets\n",
      "\n"
     ]
    }
   ],
   "source": [
    "dt.drop_duplicates(subset= ['Tweet'], keep = 'first', inplace = True)\n",
    "print(\"\\nOverall, there are\", len(dt.index), \"tweets in this dataset with\",\\\n",
    "     (len(icvsm1.index) + len(ids1.index) - len(dt.index)), \"duplicate tweets\\n\")\n",
    "\n"
   ]
  },
  {
   "cell_type": "markdown",
   "metadata": {
    "colab_type": "text",
    "id": "iOz24OT4VYfJ"
   },
   "source": [
    "There weren't 5005 duplicates as predicted but even more with 7064, this is likely because as we can see above there are some tweets duplicated more than once. These tweets likely weren't picked up by checking via id because they are likely from different individual sources, but they are retweets so they have the same text content.\n",
    "    \n",
    "We do NOT want duplicate text entries in our final set, as it will contaminate our validation set when we eventually do use cross-validation to evaluate the performance of our model.\n",
    "    \n",
    "Thus, we will drop duplicate tweets via dropping by text, it's also seemingly identified duplicates reliably which is a plus.... Below I'll inspect a little further just to verify it's accurate"
   ]
  },
  {
   "cell_type": "code",
   "execution_count": 0,
   "metadata": {
    "colab": {
     "base_uri": "https://localhost:8080/",
     "height": 1000
    },
    "colab_type": "code",
    "executionInfo": {
     "elapsed": 563,
     "status": "ok",
     "timestamp": 1578420996357,
     "user": {
      "displayName": "Fionn McConville",
      "photoUrl": "https://lh3.googleusercontent.com/a-/AAuE7mDQ4Te6RRh1B7ENukR6-4xoNAaV2ajfGgNpCD6y=s64",
      "userId": "01326935138765014160"
     },
     "user_tz": 0
    },
    "id": "j0UF33znVYfK",
    "outputId": "174bb34b-8fff-46c7-da8b-5e3c8edbcb3c"
   },
   "outputs": [
    {
     "data": {
      "text/html": [
       "<div>\n",
       "<style scoped>\n",
       "    .dataframe tbody tr th:only-of-type {\n",
       "        vertical-align: middle;\n",
       "    }\n",
       "\n",
       "    .dataframe tbody tr th {\n",
       "        vertical-align: top;\n",
       "    }\n",
       "\n",
       "    .dataframe thead th {\n",
       "        text-align: right;\n",
       "    }\n",
       "</style>\n",
       "<table border=\"1\" class=\"dataframe\">\n",
       "  <thead>\n",
       "    <tr style=\"text-align: right;\">\n",
       "      <th></th>\n",
       "      <th>Tweet</th>\n",
       "      <th>label</th>\n",
       "    </tr>\n",
       "  </thead>\n",
       "  <tbody>\n",
       "    <tr>\n",
       "      <th>1</th>\n",
       "      <td>RT @Papapishu: Man it would fucking rule if we had a party that was against perpetual warfare.</td>\n",
       "      <td>abusive</td>\n",
       "    </tr>\n",
       "    <tr>\n",
       "      <th>2</th>\n",
       "      <td>RT @Papapishu: Man it would fucking rule if we had a party that was against perpetual warfare.</td>\n",
       "      <td>abusive</td>\n",
       "    </tr>\n",
       "    <tr>\n",
       "      <th>3</th>\n",
       "      <td>RT @Papapishu: Man it would fucking rule if we had a party that was against perpetual warfare.</td>\n",
       "      <td>abusive</td>\n",
       "    </tr>\n",
       "    <tr>\n",
       "      <th>7</th>\n",
       "      <td>RT @Vitiligoprince: Hate Being sexually Frustrated Like I wanna Fuck But ion wanna Just fuck anybody</td>\n",
       "      <td>abusive</td>\n",
       "    </tr>\n",
       "    <tr>\n",
       "      <th>8</th>\n",
       "      <td>RT @Vitiligoprince: Hate Being sexually Frustrated Like I wanna Fuck But ion wanna Just fuck anybody</td>\n",
       "      <td>abusive</td>\n",
       "    </tr>\n",
       "    <tr>\n",
       "      <th>12</th>\n",
       "      <td>RT @LestuhGang_: If your fucking up &amp;amp; your homies dont tell you that your fucking up, those ain't your homies</td>\n",
       "      <td>abusive</td>\n",
       "    </tr>\n",
       "    <tr>\n",
       "      <th>13</th>\n",
       "      <td>RT @LestuhGang_: If your fucking up &amp;amp; your homies dont tell you that your fucking up, those ain't your homies</td>\n",
       "      <td>abusive</td>\n",
       "    </tr>\n",
       "    <tr>\n",
       "      <th>16</th>\n",
       "      <td>RT @ennoia3: That's one way he pulls you in RT@amysreedusxx norman fucking reedus just threw candy at me when will your fav ever https://t.…</td>\n",
       "      <td>abusive</td>\n",
       "    </tr>\n",
       "    <tr>\n",
       "      <th>17</th>\n",
       "      <td>RT @ennoia3: That's one way he pulls you in RT@amysreedusxx norman fucking reedus just threw candy at me when will your fav ever https://t.…</td>\n",
       "      <td>abusive</td>\n",
       "    </tr>\n",
       "    <tr>\n",
       "      <th>20</th>\n",
       "      <td>RT @EiramAydni: Im a nasty ass freak when I like you..</td>\n",
       "      <td>abusive</td>\n",
       "    </tr>\n",
       "    <tr>\n",
       "      <th>21</th>\n",
       "      <td>RT @EiramAydni: Im a nasty ass freak when I like you..</td>\n",
       "      <td>abusive</td>\n",
       "    </tr>\n",
       "    <tr>\n",
       "      <th>22</th>\n",
       "      <td>RT @EiramAydni: Im a nasty ass freak when I like you..</td>\n",
       "      <td>abusive</td>\n",
       "    </tr>\n",
       "    <tr>\n",
       "      <th>23</th>\n",
       "      <td>RT @EiramAydni: Im a nasty ass freak when I like you..</td>\n",
       "      <td>abusive</td>\n",
       "    </tr>\n",
       "    <tr>\n",
       "      <th>24</th>\n",
       "      <td>RT @EiramAydni: Im a nasty ass freak when I like you..</td>\n",
       "      <td>abusive</td>\n",
       "    </tr>\n",
       "    <tr>\n",
       "      <th>25</th>\n",
       "      <td>RT @EiramAydni: Im a nasty ass freak when I like you..</td>\n",
       "      <td>abusive</td>\n",
       "    </tr>\n",
       "    <tr>\n",
       "      <th>26</th>\n",
       "      <td>RT @EiramAydni: Im a nasty ass freak when I like you..</td>\n",
       "      <td>abusive</td>\n",
       "    </tr>\n",
       "    <tr>\n",
       "      <th>27</th>\n",
       "      <td>RT @EiramAydni: Im a nasty ass freak when I like you..</td>\n",
       "      <td>normal</td>\n",
       "    </tr>\n",
       "    <tr>\n",
       "      <th>28</th>\n",
       "      <td>RT @EiramAydni: Im a nasty ass freak when I like you..</td>\n",
       "      <td>abusive</td>\n",
       "    </tr>\n",
       "    <tr>\n",
       "      <th>29</th>\n",
       "      <td>RT @EiramAydni: Im a nasty ass freak when I like you..</td>\n",
       "      <td>abusive</td>\n",
       "    </tr>\n",
       "    <tr>\n",
       "      <th>30</th>\n",
       "      <td>RT @EiramAydni: Im a nasty ass freak when I like you..</td>\n",
       "      <td>abusive</td>\n",
       "    </tr>\n",
       "    <tr>\n",
       "      <th>31</th>\n",
       "      <td>RT @EiramAydni: Im a nasty ass freak when I like you..</td>\n",
       "      <td>abusive</td>\n",
       "    </tr>\n",
       "    <tr>\n",
       "      <th>32</th>\n",
       "      <td>RT @EiramAydni: Im a nasty ass freak when I like you..</td>\n",
       "      <td>abusive</td>\n",
       "    </tr>\n",
       "    <tr>\n",
       "      <th>33</th>\n",
       "      <td>RT @EiramAydni: Im a nasty ass freak when I like you..</td>\n",
       "      <td>abusive</td>\n",
       "    </tr>\n",
       "    <tr>\n",
       "      <th>34</th>\n",
       "      <td>RT @EiramAydni: Im a nasty ass freak when I like you..</td>\n",
       "      <td>abusive</td>\n",
       "    </tr>\n",
       "    <tr>\n",
       "      <th>35</th>\n",
       "      <td>RT @EiramAydni: Im a nasty ass freak when I like you..</td>\n",
       "      <td>abusive</td>\n",
       "    </tr>\n",
       "    <tr>\n",
       "      <th>36</th>\n",
       "      <td>RT @EiramAydni: Im a nasty ass freak when I like you..</td>\n",
       "      <td>abusive</td>\n",
       "    </tr>\n",
       "    <tr>\n",
       "      <th>37</th>\n",
       "      <td>RT @EiramAydni: Im a nasty ass freak when I like you..</td>\n",
       "      <td>abusive</td>\n",
       "    </tr>\n",
       "    <tr>\n",
       "      <th>38</th>\n",
       "      <td>RT @EiramAydni: Im a nasty ass freak when I like you..</td>\n",
       "      <td>abusive</td>\n",
       "    </tr>\n",
       "    <tr>\n",
       "      <th>39</th>\n",
       "      <td>RT @EiramAydni: Im a nasty ass freak when I like you..</td>\n",
       "      <td>abusive</td>\n",
       "    </tr>\n",
       "    <tr>\n",
       "      <th>40</th>\n",
       "      <td>RT @EiramAydni: Im a nasty ass freak when I like you..</td>\n",
       "      <td>abusive</td>\n",
       "    </tr>\n",
       "    <tr>\n",
       "      <th>41</th>\n",
       "      <td>RT @EiramAydni: Im a nasty ass freak when I like you..</td>\n",
       "      <td>abusive</td>\n",
       "    </tr>\n",
       "    <tr>\n",
       "      <th>42</th>\n",
       "      <td>RT @EiramAydni: Im a nasty ass freak when I like you..</td>\n",
       "      <td>abusive</td>\n",
       "    </tr>\n",
       "    <tr>\n",
       "      <th>43</th>\n",
       "      <td>RT @EiramAydni: Im a nasty ass freak when I like you..</td>\n",
       "      <td>abusive</td>\n",
       "    </tr>\n",
       "    <tr>\n",
       "      <th>44</th>\n",
       "      <td>RT @EiramAydni: Im a nasty ass freak when I like you..</td>\n",
       "      <td>abusive</td>\n",
       "    </tr>\n",
       "    <tr>\n",
       "      <th>54</th>\n",
       "      <td>4X DIY Birds Stencil Cutting Carbon Scrapbooking Card Diary Stamping Template FT https://t.co/GhSTgNHWxS https://t.co/onc8bySr62</td>\n",
       "      <td>spam</td>\n",
       "    </tr>\n",
       "    <tr>\n",
       "      <th>55</th>\n",
       "      <td>4X DIY Birds Stencil Cutting Carbon Scrapbooking Card Diary Stamping Template FT https://t.co/GhSTgNHWxS https://t.co/onc8bySr62</td>\n",
       "      <td>normal</td>\n",
       "    </tr>\n",
       "    <tr>\n",
       "      <th>66</th>\n",
       "      <td>RT @iamcodyengland: It's fucked up because I would do what others wouldn't do for me</td>\n",
       "      <td>abusive</td>\n",
       "    </tr>\n",
       "    <tr>\n",
       "      <th>67</th>\n",
       "      <td>RT @iamcodyengland: It's fucked up because I would do what others wouldn't do for me</td>\n",
       "      <td>abusive</td>\n",
       "    </tr>\n",
       "    <tr>\n",
       "      <th>68</th>\n",
       "      <td>RT @iamcodyengland: It's fucked up because I would do what others wouldn't do for me</td>\n",
       "      <td>abusive</td>\n",
       "    </tr>\n",
       "    <tr>\n",
       "      <th>69</th>\n",
       "      <td>RT @iamcodyengland: It's fucked up because I would do what others wouldn't do for me</td>\n",
       "      <td>abusive</td>\n",
       "    </tr>\n",
       "    <tr>\n",
       "      <th>70</th>\n",
       "      <td>RT @iamcodyengland: It's fucked up because I would do what others wouldn't do for me</td>\n",
       "      <td>abusive</td>\n",
       "    </tr>\n",
       "    <tr>\n",
       "      <th>71</th>\n",
       "      <td>RT @iamcodyengland: It's fucked up because I would do what others wouldn't do for me</td>\n",
       "      <td>abusive</td>\n",
       "    </tr>\n",
       "    <tr>\n",
       "      <th>72</th>\n",
       "      <td>RT @iamcodyengland: It's fucked up because I would do what others wouldn't do for me</td>\n",
       "      <td>abusive</td>\n",
       "    </tr>\n",
       "    <tr>\n",
       "      <th>73</th>\n",
       "      <td>RT @iamcodyengland: It's fucked up because I would do what others wouldn't do for me</td>\n",
       "      <td>abusive</td>\n",
       "    </tr>\n",
       "    <tr>\n",
       "      <th>74</th>\n",
       "      <td>RT @iamcodyengland: It's fucked up because I would do what others wouldn't do for me</td>\n",
       "      <td>abusive</td>\n",
       "    </tr>\n",
       "    <tr>\n",
       "      <th>75</th>\n",
       "      <td>RT @iamcodyengland: It's fucked up because I would do what others wouldn't do for me</td>\n",
       "      <td>abusive</td>\n",
       "    </tr>\n",
       "    <tr>\n",
       "      <th>88</th>\n",
       "      <td>RT @13ReasonsLife: this fucked me up https://t.co/WabclVn0z9</td>\n",
       "      <td>abusive</td>\n",
       "    </tr>\n",
       "    <tr>\n",
       "      <th>89</th>\n",
       "      <td>RT @13ReasonsLife: this fucked me up https://t.co/WabclVn0z9</td>\n",
       "      <td>abusive</td>\n",
       "    </tr>\n",
       "    <tr>\n",
       "      <th>90</th>\n",
       "      <td>RT @13ReasonsLife: this fucked me up https://t.co/WabclVn0z9</td>\n",
       "      <td>abusive</td>\n",
       "    </tr>\n",
       "    <tr>\n",
       "      <th>91</th>\n",
       "      <td>RT @13ReasonsLife: this fucked me up https://t.co/WabclVn0z9</td>\n",
       "      <td>abusive</td>\n",
       "    </tr>\n",
       "  </tbody>\n",
       "</table>\n",
       "</div>"
      ],
      "text/plain": [
       "                                                                                                                                           Tweet    label\n",
       "1   RT @Papapishu: Man it would fucking rule if we had a party that was against perpetual warfare.                                                abusive\n",
       "2   RT @Papapishu: Man it would fucking rule if we had a party that was against perpetual warfare.                                                abusive\n",
       "3   RT @Papapishu: Man it would fucking rule if we had a party that was against perpetual warfare.                                                abusive\n",
       "7   RT @Vitiligoprince: Hate Being sexually Frustrated Like I wanna Fuck But ion wanna Just fuck anybody                                          abusive\n",
       "8   RT @Vitiligoprince: Hate Being sexually Frustrated Like I wanna Fuck But ion wanna Just fuck anybody                                          abusive\n",
       "12  RT @LestuhGang_: If your fucking up &amp; your homies dont tell you that your fucking up, those ain't your homies                             abusive\n",
       "13  RT @LestuhGang_: If your fucking up &amp; your homies dont tell you that your fucking up, those ain't your homies                             abusive\n",
       "16  RT @ennoia3: That's one way he pulls you in RT@amysreedusxx norman fucking reedus just threw candy at me when will your fav ever https://t.…  abusive\n",
       "17  RT @ennoia3: That's one way he pulls you in RT@amysreedusxx norman fucking reedus just threw candy at me when will your fav ever https://t.…  abusive\n",
       "20  RT @EiramAydni: Im a nasty ass freak when I like you..                                                                                        abusive\n",
       "21  RT @EiramAydni: Im a nasty ass freak when I like you..                                                                                        abusive\n",
       "22  RT @EiramAydni: Im a nasty ass freak when I like you..                                                                                        abusive\n",
       "23  RT @EiramAydni: Im a nasty ass freak when I like you..                                                                                        abusive\n",
       "24  RT @EiramAydni: Im a nasty ass freak when I like you..                                                                                        abusive\n",
       "25  RT @EiramAydni: Im a nasty ass freak when I like you..                                                                                        abusive\n",
       "26  RT @EiramAydni: Im a nasty ass freak when I like you..                                                                                        abusive\n",
       "27  RT @EiramAydni: Im a nasty ass freak when I like you..                                                                                        normal \n",
       "28  RT @EiramAydni: Im a nasty ass freak when I like you..                                                                                        abusive\n",
       "29  RT @EiramAydni: Im a nasty ass freak when I like you..                                                                                        abusive\n",
       "30  RT @EiramAydni: Im a nasty ass freak when I like you..                                                                                        abusive\n",
       "31  RT @EiramAydni: Im a nasty ass freak when I like you..                                                                                        abusive\n",
       "32  RT @EiramAydni: Im a nasty ass freak when I like you..                                                                                        abusive\n",
       "33  RT @EiramAydni: Im a nasty ass freak when I like you..                                                                                        abusive\n",
       "34  RT @EiramAydni: Im a nasty ass freak when I like you..                                                                                        abusive\n",
       "35  RT @EiramAydni: Im a nasty ass freak when I like you..                                                                                        abusive\n",
       "36  RT @EiramAydni: Im a nasty ass freak when I like you..                                                                                        abusive\n",
       "37  RT @EiramAydni: Im a nasty ass freak when I like you..                                                                                        abusive\n",
       "38  RT @EiramAydni: Im a nasty ass freak when I like you..                                                                                        abusive\n",
       "39  RT @EiramAydni: Im a nasty ass freak when I like you..                                                                                        abusive\n",
       "40  RT @EiramAydni: Im a nasty ass freak when I like you..                                                                                        abusive\n",
       "41  RT @EiramAydni: Im a nasty ass freak when I like you..                                                                                        abusive\n",
       "42  RT @EiramAydni: Im a nasty ass freak when I like you..                                                                                        abusive\n",
       "43  RT @EiramAydni: Im a nasty ass freak when I like you..                                                                                        abusive\n",
       "44  RT @EiramAydni: Im a nasty ass freak when I like you..                                                                                        abusive\n",
       "54  4X DIY Birds Stencil Cutting Carbon Scrapbooking Card Diary Stamping Template FT https://t.co/GhSTgNHWxS https://t.co/onc8bySr62              spam   \n",
       "55  4X DIY Birds Stencil Cutting Carbon Scrapbooking Card Diary Stamping Template FT https://t.co/GhSTgNHWxS https://t.co/onc8bySr62              normal \n",
       "66  RT @iamcodyengland: It's fucked up because I would do what others wouldn't do for me                                                          abusive\n",
       "67  RT @iamcodyengland: It's fucked up because I would do what others wouldn't do for me                                                          abusive\n",
       "68  RT @iamcodyengland: It's fucked up because I would do what others wouldn't do for me                                                          abusive\n",
       "69  RT @iamcodyengland: It's fucked up because I would do what others wouldn't do for me                                                          abusive\n",
       "70  RT @iamcodyengland: It's fucked up because I would do what others wouldn't do for me                                                          abusive\n",
       "71  RT @iamcodyengland: It's fucked up because I would do what others wouldn't do for me                                                          abusive\n",
       "72  RT @iamcodyengland: It's fucked up because I would do what others wouldn't do for me                                                          abusive\n",
       "73  RT @iamcodyengland: It's fucked up because I would do what others wouldn't do for me                                                          abusive\n",
       "74  RT @iamcodyengland: It's fucked up because I would do what others wouldn't do for me                                                          abusive\n",
       "75  RT @iamcodyengland: It's fucked up because I would do what others wouldn't do for me                                                          abusive\n",
       "88  RT @13ReasonsLife: this fucked me up https://t.co/WabclVn0z9                                                                                  abusive\n",
       "89  RT @13ReasonsLife: this fucked me up https://t.co/WabclVn0z9                                                                                  abusive\n",
       "90  RT @13ReasonsLife: this fucked me up https://t.co/WabclVn0z9                                                                                  abusive\n",
       "91  RT @13ReasonsLife: this fucked me up https://t.co/WabclVn0z9                                                                                  abusive"
      ]
     },
     "execution_count": 83,
     "metadata": {
      "tags": []
     },
     "output_type": "execute_result"
    }
   ],
   "source": [
    "pd.set_option('display.max_colwidth', -1)\n",
    "duplicateRows.head(50)"
   ]
  },
  {
   "cell_type": "markdown",
   "metadata": {
    "colab_type": "text",
    "id": "3j42er9nVYfL"
   },
   "source": [
    "<b> I have a suspicion that most of the duplicate entries come from within the ICVSM database.</b>\n",
    "    \n",
    "I'll test this quickly below by calculating the amount of duplicates within the ICVSM database, and subtracting it from the overlap I <i> believed </i> was between the two datasets, when I was assuming there were no duplicates within the ICVSM dataset "
   ]
  },
  {
   "cell_type": "code",
   "execution_count": 0,
   "metadata": {
    "colab": {
     "base_uri": "https://localhost:8080/",
     "height": 35
    },
    "colab_type": "code",
    "executionInfo": {
     "elapsed": 518,
     "status": "ok",
     "timestamp": 1578421037931,
     "user": {
      "displayName": "Fionn McConville",
      "photoUrl": "https://lh3.googleusercontent.com/a-/AAuE7mDQ4Te6RRh1B7ENukR6-4xoNAaV2ajfGgNpCD6y=s64",
      "userId": "01326935138765014160"
     },
     "user_tz": 0
    },
    "id": "1yvnVuUgVYfL",
    "outputId": "5d705c68-b938-425b-ed60-56c15ff16185"
   },
   "outputs": [
    {
     "name": "stdout",
     "output_type": "stream",
     "text": [
      "The actual overlap between ICVSM 2018 and the Waseem & Hovy Database is 0\n"
     ]
    }
   ],
   "source": [
    "duplicateRows1 = icvsm1[icvsm1.duplicated(subset = ['Tweet'], keep = False)]\n",
    "\n",
    "difference = len(duplicateRows) - len(duplicateRows1)\n",
    "\n",
    "print(\"The actual overlap between ICVSM 2018 and the Waseem & Hovy Database is\",\\\n",
    "     difference)"
   ]
  },
  {
   "cell_type": "markdown",
   "metadata": {
    "colab_type": "text",
    "id": "DW6q9N7VVYfM"
   },
   "source": [
    "<b> Okay so all the duplicates were within the ICVSM dataset </b>"
   ]
  },
  {
   "cell_type": "markdown",
   "metadata": {
    "colab_type": "text",
    "id": "Qn-4ujf7VYfN"
   },
   "source": [
    "## Finally combining all of the data \n",
    "<i> All of the previous kernels in the section before the last one where you were testing for duplicates must be ran in order to get a cleaned, consistent version of each set</i>"
   ]
  },
  {
   "cell_type": "code",
   "execution_count": 0,
   "metadata": {
    "colab": {
     "base_uri": "https://localhost:8080/",
     "height": 414
    },
    "colab_type": "code",
    "executionInfo": {
     "elapsed": 564,
     "status": "ok",
     "timestamp": 1578421263832,
     "user": {
      "displayName": "Fionn McConville",
      "photoUrl": "https://lh3.googleusercontent.com/a-/AAuE7mDQ4Te6RRh1B7ENukR6-4xoNAaV2ajfGgNpCD6y=s64",
      "userId": "01326935138765014160"
     },
     "user_tz": 0
    },
    "id": "7QhBbsB4VYfN",
    "outputId": "65cdb7c2-f0cd-4edd-ada1-316908faa4d9"
   },
   "outputs": [
    {
     "name": "stdout",
     "output_type": "stream",
     "text": [
      "<class 'pandas.core.frame.DataFrame'>\n",
      "RangeIndex: 148006 entries, 0 to 148005\n",
      "Data columns (total 3 columns):\n",
      "Hate_Speech    148006 non-null int64\n",
      "Offensive      148006 non-null object\n",
      "Tweet          148006 non-null object\n",
      "dtypes: int64(1), object(2)\n",
      "memory usage: 3.4+ MB\n",
      "None\n"
     ]
    },
    {
     "data": {
      "text/html": [
       "<div>\n",
       "<style scoped>\n",
       "    .dataframe tbody tr th:only-of-type {\n",
       "        vertical-align: middle;\n",
       "    }\n",
       "\n",
       "    .dataframe tbody tr th {\n",
       "        vertical-align: top;\n",
       "    }\n",
       "\n",
       "    .dataframe thead th {\n",
       "        text-align: right;\n",
       "    }\n",
       "</style>\n",
       "<table border=\"1\" class=\"dataframe\">\n",
       "  <thead>\n",
       "    <tr style=\"text-align: right;\">\n",
       "      <th></th>\n",
       "      <th>Hate_Speech</th>\n",
       "      <th>Offensive</th>\n",
       "      <th>Tweet</th>\n",
       "    </tr>\n",
       "  </thead>\n",
       "  <tbody>\n",
       "    <tr>\n",
       "      <th>0</th>\n",
       "      <td>0</td>\n",
       "      <td>1</td>\n",
       "      <td>@USER She should ask a few native Americans what their take on this is.</td>\n",
       "    </tr>\n",
       "    <tr>\n",
       "      <th>1</th>\n",
       "      <td>0</td>\n",
       "      <td>1</td>\n",
       "      <td>@USER @USER Go home you’re drunk!!! @USER #MAGA #Trump2020 👊🇺🇸👊 URL</td>\n",
       "    </tr>\n",
       "    <tr>\n",
       "      <th>2</th>\n",
       "      <td>0</td>\n",
       "      <td>0</td>\n",
       "      <td>Amazon is investigating Chinese employees who are selling internal data to third-party sellers looking for an edge in the competitive marketplace. URL #Amazon #MAGA #KAG #CHINA #TCOT</td>\n",
       "    </tr>\n",
       "    <tr>\n",
       "      <th>3</th>\n",
       "      <td>0</td>\n",
       "      <td>1</td>\n",
       "      <td>@USER Someone should'veTaken\" this piece of shit to a volcano. 😂\"</td>\n",
       "    </tr>\n",
       "    <tr>\n",
       "      <th>4</th>\n",
       "      <td>0</td>\n",
       "      <td>0</td>\n",
       "      <td>@USER @USER Obama wanted liberals &amp;amp; illegals to move into red states</td>\n",
       "    </tr>\n",
       "  </tbody>\n",
       "</table>\n",
       "</div>"
      ],
      "text/plain": [
       "   Hate_Speech  ...                                                                                                                                                                                   Tweet\n",
       "0  0            ...  @USER She should ask a few native Americans what their take on this is.                                                                                                               \n",
       "1  0            ...  @USER @USER Go home you’re drunk!!! @USER #MAGA #Trump2020 👊🇺🇸👊 URL                                                                                                                   \n",
       "2  0            ...  Amazon is investigating Chinese employees who are selling internal data to third-party sellers looking for an edge in the competitive marketplace. URL #Amazon #MAGA #KAG #CHINA #TCOT\n",
       "3  0            ...  @USER Someone should'veTaken\" this piece of shit to a volcano. 😂\"                                                                                                                     \n",
       "4  0            ...  @USER @USER Obama wanted liberals &amp; illegals to move into red states                                                                                                              \n",
       "\n",
       "[5 rows x 3 columns]"
      ]
     },
     "execution_count": 95,
     "metadata": {
      "tags": []
     },
     "output_type": "execute_result"
    }
   ],
   "source": [
    "#Drop duplicates within the icvsm_2018 dataset first to get a fair approximation\n",
    "#of how many tweets are actually overlapped between all the datasets\n",
    "icvsm.drop_duplicates(subset= ['Tweet'], keep = 'first', inplace = True)\n",
    "\n",
    "pdlist = [offens, sometweets, semeval, icvsm, ids]\n",
    "final_df = pd.concat(pdlist, sort = True, axis = 0)\n",
    "final_df.drop(columns = ['id'], inplace = True, axis = 1)\n",
    "final_df.reset_index(drop = True, inplace = True)\n",
    "#final_df.drop_duplicates(subset= ['Tweet'], keep = 'first', inplace = True)\n",
    "print(final_df.info())\n",
    "final_df.head(5)"
   ]
  },
  {
   "cell_type": "code",
   "execution_count": 0,
   "metadata": {
    "colab": {
     "base_uri": "https://localhost:8080/",
     "height": 54
    },
    "colab_type": "code",
    "executionInfo": {
     "elapsed": 470,
     "status": "ok",
     "timestamp": 1578421343186,
     "user": {
      "displayName": "Fionn McConville",
      "photoUrl": "https://lh3.googleusercontent.com/a-/AAuE7mDQ4Te6RRh1B7ENukR6-4xoNAaV2ajfGgNpCD6y=s64",
      "userId": "01326935138765014160"
     },
     "user_tz": 0
    },
    "id": "N1EH4_2nVYfO",
    "outputId": "c13aafff-73a1-4326-9116-282a2980100c"
   },
   "outputs": [
    {
     "name": "stdout",
     "output_type": "stream",
     "text": [
      "The amount of tweets lost in the final dataframe by using the drop duplicates by text entry is\n",
      " 29 which is 0.02% of the original dataset\n"
     ]
    }
   ],
   "source": [
    "final_df1 = final_df.drop_duplicates(subset= ['Tweet'], keep = 'first')\n",
    "final_df1.reset_index(drop = True, inplace = True)\n",
    "diff = len(final_df.index) - len(final_df1.index)\n",
    "\n",
    "print(\"The amount of tweets lost in the final dataframe by using the drop duplicates by text entry is\\n\", \\\n",
    "      diff, \"which is {0:.2}%\".format(diff/len(final_df.index) * 100), \\\n",
    "      \"of the original dataset\")"
   ]
  },
  {
   "cell_type": "code",
   "execution_count": 0,
   "metadata": {
    "colab": {
     "base_uri": "https://localhost:8080/",
     "height": 199
    },
    "colab_type": "code",
    "executionInfo": {
     "elapsed": 583,
     "status": "ok",
     "timestamp": 1578421350663,
     "user": {
      "displayName": "Fionn McConville",
      "photoUrl": "https://lh3.googleusercontent.com/a-/AAuE7mDQ4Te6RRh1B7ENukR6-4xoNAaV2ajfGgNpCD6y=s64",
      "userId": "01326935138765014160"
     },
     "user_tz": 0
    },
    "id": "iVqPxBfZVYfP",
    "outputId": "46ffdc04-c709-4179-ae0d-51f1fff69a43"
   },
   "outputs": [
    {
     "name": "stdout",
     "output_type": "stream",
     "text": [
      "There are 147977 tweets in the final dataset\n",
      "\n",
      "<class 'pandas.core.frame.DataFrame'>\n",
      "RangeIndex: 147977 entries, 0 to 147976\n",
      "Data columns (total 3 columns):\n",
      "Hate_Speech    147977 non-null int64\n",
      "Offensive      147977 non-null object\n",
      "Tweet          147977 non-null object\n",
      "dtypes: int64(1), object(2)\n",
      "memory usage: 3.4+ MB\n"
     ]
    }
   ],
   "source": [
    "print( \"There are\", len(final_df1.index), \"tweets in the final dataset\\n\")\n",
    "final_df1.info()"
   ]
  },
  {
   "cell_type": "code",
   "execution_count": 0,
   "metadata": {
    "colab": {
     "base_uri": "https://localhost:8080/",
     "height": 199
    },
    "colab_type": "code",
    "executionInfo": {
     "elapsed": 3926,
     "status": "ok",
     "timestamp": 1578421919876,
     "user": {
      "displayName": "Fionn McConville",
      "photoUrl": "https://lh3.googleusercontent.com/a-/AAuE7mDQ4Te6RRh1B7ENukR6-4xoNAaV2ajfGgNpCD6y=s64",
      "userId": "01326935138765014160"
     },
     "user_tz": 0
    },
    "id": "jXxKVNGAVYfR",
    "outputId": "5d24e2bb-8757-43f8-fc84-0335e9c0b0a1"
   },
   "outputs": [
    {
     "name": "stdout",
     "output_type": "stream",
     "text": [
      "Hate Speech Column Labelling:\n",
      " 0    139946\n",
      "1    8031  \n",
      "Name: Hate_Speech, dtype: int64\n",
      "\n",
      "Offensive Column Labelling:\n",
      " 0    80127\n",
      "1    52483\n",
      "-    15367\n",
      "Name: Offensive, dtype: int64\n"
     ]
    }
   ],
   "source": [
    "final_df1.to_csv(os.path.join(DATA_DIR, 'final.csv'), sep = ',', encoding='utf-8', \\\n",
    "                 index = False, header = True)\n",
    "\n",
    "print(\"Hate Speech Column Labelling:\\n\", final_df1.Hate_Speech.value_counts())\n",
    "\n",
    "print(\"\\nOffensive Column Labelling:\\n\", final_df1.Offensive.value_counts())"
   ]
  }
 ],
 "metadata": {
  "accelerator": "GPU",
  "colab": {
   "collapsed_sections": [
    "EBG60vQdVYd8",
    "6oLEoTvKVYeT",
    "7l7cPt46VYeW",
    "Z5nZV--fVYed",
    "Mw49lB2ZVYef",
    "xexknIQhsgbj",
    "SSD7yEDSVYep",
    "MOef3TgNVYey",
    "4b5zsVOTVYe2",
    "5K3m1UzSVYe7",
    "Qn-4ujf7VYfN",
    "uS0e3H-qVYfU",
    "fG8yOZYJVYfZ",
    "vnKkVumQVYfe"
   ],
   "name": "CSC3002-Hate_Speech_Detection - Assembling and Cleaning the Fine-Tuning Da.ipynb",
   "provenance": []
  },
  "kernelspec": {
   "display_name": "Python 3",
   "language": "python",
   "name": "python3"
  },
  "language_info": {
   "codemirror_mode": {
    "name": "ipython",
    "version": 3
   },
   "file_extension": ".py",
   "mimetype": "text/x-python",
   "name": "python",
   "nbconvert_exporter": "python",
   "pygments_lexer": "ipython3",
   "version": "3.6.5"
  }
 },
 "nbformat": 4,
 "nbformat_minor": 1
}
>>>>>>> 7526bffceded67d216b787ddae38e11ea10d2631
