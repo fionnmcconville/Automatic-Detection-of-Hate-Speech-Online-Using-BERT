{
 "cells": [
  {
   "cell_type": "markdown",
   "metadata": {
    "colab_type": "text",
    "id": "aAVCDrFrYnIo"
   },
   "source": [
    "# Assembling and Inspecting Potential Data for my Hate Speech Detection Model\n",
    "This is the initial stage of my project where I will assemble as much hate speech data as possible to fine-tune the pre-trained BERT model so that it can accurately classify hate speech on twitter.\n",
    "\n",
    "I hope below I have demonstrated that I've taken great care in choosing what data I decide to train my model, as I've manually inspected the data sources online and decided for myself, (as well as having the informal help of my friends), whether a dataset has accurately annotated for hate speech or not based on the below definition. \n",
    "\n",
    "> <i>Hate Speech is commonly defined as any communication that disparages a person or a group on the basis of some characteristic such as race, colour, ethnicity, gender, sexual orientation, nationality, religion, or other characteristics.</i>\n",
    "\n",
    "\n",
    "I've been careful to do this because I didn't want to confuse my model by providing it with vastly differing interpretations of what constitutes hate speech.\n",
    "\n",
    "The need for accurate and reliable hate speech detection online is very important, many online have lamentated the over-zealous nature of social media companies curtailing free speech and punishing users for speech that is offensive - but not hate speech under common law. Therefore I've been cautious to try and limit false positive annotation in the data below carefully"
   ]
  },
  {
   "cell_type": "code",
   "execution_count": 2,
   "metadata": {
    "colab": {
     "base_uri": "https://localhost:8080/",
     "height": 401
    },
    "colab_type": "code",
    "executionInfo": {
     "elapsed": 5818,
     "status": "ok",
     "timestamp": 1578418272594,
     "user": {
      "displayName": "Fionn McConville",
      "photoUrl": "https://lh3.googleusercontent.com/a-/AAuE7mDQ4Te6RRh1B7ENukR6-4xoNAaV2ajfGgNpCD6y=s64",
      "userId": "01326935138765014160"
     },
     "user_tz": 0
    },
    "id": "rAprOhDQVYdi",
    "outputId": "bcbb19b9-3d62-4a7f-c05b-5ac24a34d417"
   },
   "outputs": [
    {
     "name": "stdout",
     "output_type": "stream",
     "text": [
      "Requirement already satisfied: gcsfs in c:\\users\\fionn\\anaconda3\\lib\\site-packages (0.6.0)\n",
      "Requirement already satisfied: fsspec>=0.6.0 in c:\\users\\fionn\\anaconda3\\lib\\site-packages (from gcsfs) (0.6.2)\n",
      "Requirement already satisfied: google-auth>=1.2 in c:\\users\\fionn\\anaconda3\\lib\\site-packages (from gcsfs) (1.10.0)\n",
      "Requirement already satisfied: requests in c:\\users\\fionn\\anaconda3\\lib\\site-packages (from gcsfs) (2.22.0)\n",
      "Requirement already satisfied: google-auth-oauthlib in c:\\users\\fionn\\anaconda3\\lib\\site-packages (from gcsfs) (0.4.1)\n",
      "Requirement already satisfied: decorator in c:\\users\\fionn\\anaconda3\\lib\\site-packages (from gcsfs) (4.4.1)\n",
      "Requirement already satisfied: setuptools>=40.3.0 in c:\\users\\fionn\\anaconda3\\lib\\site-packages (from google-auth>=1.2->gcsfs) (44.0.0.post20200106)\n",
      "Requirement already satisfied: six>=1.9.0 in c:\\users\\fionn\\anaconda3\\lib\\site-packages (from google-auth>=1.2->gcsfs) (1.12.0)\n",
      "Requirement already satisfied: rsa<4.1,>=3.1.4 in c:\\users\\fionn\\anaconda3\\lib\\site-packages (from google-auth>=1.2->gcsfs) (4.0)\n",
      "Requirement already satisfied: cachetools<5.0,>=2.0.0 in c:\\users\\fionn\\anaconda3\\lib\\site-packages (from google-auth>=1.2->gcsfs) (3.1.1)\n",
      "Requirement already satisfied: pyasn1-modules>=0.2.1 in c:\\users\\fionn\\anaconda3\\lib\\site-packages (from google-auth>=1.2->gcsfs) (0.2.7)\n",
      "Requirement already satisfied: idna<2.9,>=2.5 in c:\\users\\fionn\\anaconda3\\lib\\site-packages (from requests->gcsfs) (2.8)\n",
      "Requirement already satisfied: chardet<3.1.0,>=3.0.2 in c:\\users\\fionn\\anaconda3\\lib\\site-packages (from requests->gcsfs) (3.0.4)\n",
      "Requirement already satisfied: certifi>=2017.4.17 in c:\\users\\fionn\\anaconda3\\lib\\site-packages (from requests->gcsfs) (2019.11.28)\n",
      "Requirement already satisfied: urllib3!=1.25.0,!=1.25.1,<1.26,>=1.21.1 in c:\\users\\fionn\\anaconda3\\lib\\site-packages (from requests->gcsfs) (1.25.7)\n",
      "Requirement already satisfied: requests-oauthlib>=0.7.0 in c:\\users\\fionn\\anaconda3\\lib\\site-packages (from google-auth-oauthlib->gcsfs) (1.3.0)\n",
      "Requirement already satisfied: pyasn1>=0.1.3 in c:\\users\\fionn\\anaconda3\\lib\\site-packages (from rsa<4.1,>=3.1.4->google-auth>=1.2->gcsfs) (0.4.8)\n",
      "Requirement already satisfied: oauthlib>=3.0.0 in c:\\users\\fionn\\anaconda3\\lib\\site-packages (from requests-oauthlib>=0.7.0->google-auth-oauthlib->gcsfs) (3.1.0)\n",
      "Note: you may need to restart the kernel to use updated packages.\n"
     ]
    }
   ],
   "source": [
    "import pandas as pd\n",
    "import json\n",
    "import csv\n",
    "import tweepy\n",
    "import os\n",
    "import numpy as np\n",
    "#from google.colab import auth #if using colab\n",
    "%pip install gcsfs\n",
    "pd.set_option('display.max_colwidth', -1)\n"
   ]
  },
  {
   "cell_type": "markdown",
   "metadata": {
    "colab_type": "text",
    "id": "0MtvDI8rbEWh"
   },
   "source": [
    "I have stored all of my separate data sources in my google bucket for accessibiliity purposes - although I will provide the data in the github upload. \n",
    "\n",
    "An option to load datasets from local storage will also be available.\n",
    "\n",
    "<b>All data in this notebook is supervised</b>"
   ]
  },
  {
   "cell_type": "code",
   "execution_count": 4,
   "metadata": {
    "colab": {
     "base_uri": "https://localhost:8080/",
     "height": 126
    },
    "colab_type": "code",
    "executionInfo": {
     "elapsed": 40930,
     "status": "ok",
     "timestamp": 1578418315328,
     "user": {
      "displayName": "Fionn McConville",
      "photoUrl": "https://lh3.googleusercontent.com/a-/AAuE7mDQ4Te6RRh1B7ENukR6-4xoNAaV2ajfGgNpCD6y=s64",
      "userId": "01326935138765014160"
     },
     "user_tz": 0
    },
    "id": "0d3Gb2FhcpKU",
    "outputId": "40e8f188-5666-41ab-eda6-985dc25c15d3"
   },
   "outputs": [
    {
     "name": "stdout",
     "output_type": "stream",
     "text": [
      "If access has been granted, below will print [<Bucket: csc3002>] \n",
      "[<Bucket: csc3002>]\n"
     ]
    }
   ],
   "source": [
    "#STORAGE_TYPE = 'LOCAL'\n",
    "STORAGE_TYPE = 'REMOTE'\n",
    "if STORAGE_TYPE =='LOCAL':\n",
    "    DATA_DIR = '../Raw_Data/' #Local Storage\n",
    "else:\n",
    "    DATA_DIR = 'gs://csc3002/Raw_Data/' #Remote Storage\n",
    "    \n",
    "    #Below obtains access to GCS bucket\n",
    "    os.environ[\"GOOGLE_APPLICATION_CREDENTIALS\"]= \"C:/Users/fionn/Downloads/storageCreds.json\"\n",
    "    from google.cloud import storage\n",
    "    storage_client = storage.Client()\n",
    "    buckets = list(storage_client.list_buckets())\n",
    "    print(\"If access has been granted, below will print [<Bucket: csc3002>] \")\n",
    "    print(buckets) # Testing if access to GCS has been granted\n",
    "    "
   ]
  },
  {
   "cell_type": "markdown",
   "metadata": {
    "colab_type": "text",
    "id": "lxhr2-DfVYdl"
   },
   "source": [
    "## Loading in HatEval 2019 Data\n",
    "\n",
    "Below is a description of the initial SemEval training data this project will use. The targets of abuse in this dataset are immigrants and women.\n",
    "\n",
    "\n",
    "\n",
    "\n",
    "<b>HS - Hate Speech</b>\n",
    "\n",
    "This column indicates whether the content of the tweet is hate speech or not.\n",
    "\n",
    "`0` - Not Hate Speech\n",
    "\n",
    "`1` -  Hate Speech\n",
    "\n",
    "This is the only column we're interested in for this task as the other columns denote aggression and who the target of the tweet was (group or individual). These columns will be removed as they're irrelevant to my task\n",
    "\n",
    "\n",
    "\n",
    "<i>Ref: [Valerio Basile, Cristina Bosco, Elisabetta Fersini, Debora Nozza, Viviana .  Patti, Francisco Rangel, Paolo Rosso, and Manuela Sanguinetti. 2019. Semeval2019 task 5: Multilingual detection of hate speech against immigrants and women in twitter. In Proceedings of the 13th International Workshop on Semantic Evaluation (SemEval-2019). Association for Computational Linguistics.](https://www.aclweb.org/anthology/S19-2007.pdf \"\")</i>"
   ]
  },
  {
   "cell_type": "code",
   "execution_count": 305,
   "metadata": {
    "colab": {
     "base_uri": "https://localhost:8080/",
     "height": 181
    },
    "colab_type": "code",
    "executionInfo": {
     "elapsed": 1596,
     "status": "ok",
     "timestamp": 1578324909853,
     "user": {
      "displayName": "Fionn McConville",
      "photoUrl": "https://lh3.googleusercontent.com/a-/AAuE7mDQ4Te6RRh1B7ENukR6-4xoNAaV2ajfGgNpCD6y=s64",
      "userId": "01326935138765014160"
     },
     "user_tz": 0
    },
    "id": "d9uBJSrUVYdm",
    "outputId": "52ddbc4b-4a9a-4c15-bffb-4c7cacb632da"
   },
   "outputs": [
    {
     "name": "stdout",
     "output_type": "stream",
     "text": [
      "There are 5790 non hate speech tweets and 4210 hate speech tweets\n",
      "\n"
     ]
    },
    {
     "data": {
      "text/html": [
       "<div>\n",
       "<style scoped>\n",
       "    .dataframe tbody tr th:only-of-type {\n",
       "        vertical-align: middle;\n",
       "    }\n",
       "\n",
       "    .dataframe tbody tr th {\n",
       "        vertical-align: top;\n",
       "    }\n",
       "\n",
       "    .dataframe thead th {\n",
       "        text-align: right;\n",
       "    }\n",
       "</style>\n",
       "<table border=\"1\" class=\"dataframe\">\n",
       "  <thead>\n",
       "    <tr style=\"text-align: right;\">\n",
       "      <th></th>\n",
       "      <th>text</th>\n",
       "      <th>HS</th>\n",
       "    </tr>\n",
       "  </thead>\n",
       "  <tbody>\n",
       "    <tr>\n",
       "      <th>0</th>\n",
       "      <td>Hurray, saving us $$$ in so many ways @potus @realDonaldTrump #LockThemUp #BuildTheWall #EndDACA #BoycottNFL #BoycottNike</td>\n",
       "      <td>1</td>\n",
       "    </tr>\n",
       "    <tr>\n",
       "      <th>1</th>\n",
       "      <td>Why would young fighting age men be the vast majority of the ones escaping a war &amp;amp; not those who cannot fight like women, children, and the elderly?It's because the majority of the refugees are not actually refugees they are economic migrants trying to get into Europe.... https://t.co/Ks0SHbtYqn</td>\n",
       "      <td>1</td>\n",
       "    </tr>\n",
       "    <tr>\n",
       "      <th>2</th>\n",
       "      <td>@KamalaHarris Illegals Dump their Kids at the border like Road Kill and Refuse to Unite! They Hope they get Amnesty, Free Education and Welfare Illegal #FamilesBelongTogether in their Country not on the Taxpayer Dime Its a SCAM #NoDACA #NoAmnesty #SendThe</td>\n",
       "      <td>1</td>\n",
       "    </tr>\n",
       "    <tr>\n",
       "      <th>3</th>\n",
       "      <td>NY Times: 'Nearly All White' States Pose 'an Array of Problems' for Immigrants https://t.co/ACZKLhdMV9 https://t.co/CJAlSXCzR6</td>\n",
       "      <td>0</td>\n",
       "    </tr>\n",
       "    <tr>\n",
       "      <th>4</th>\n",
       "      <td>Orban in Brussels: European leaders are ignoring the will of the people, they do not want migrants https://t.co/NeYFyqvYlX</td>\n",
       "      <td>0</td>\n",
       "    </tr>\n",
       "    <tr>\n",
       "      <th>5</th>\n",
       "      <td>@KurtSchlichter LEGAL is. Not illegal. #BuildThatWall</td>\n",
       "      <td>1</td>\n",
       "    </tr>\n",
       "    <tr>\n",
       "      <th>6</th>\n",
       "      <td>@RitaPanahi @826Maureen @RealCandaceO Antifa are just a pack of druggie misfits that no one loves, being the violent thugs they are is their cry for attention and their hit of self importance.#JuvenileDelinquents</td>\n",
       "      <td>0</td>\n",
       "    </tr>\n",
       "    <tr>\n",
       "      <th>7</th>\n",
       "      <td>Ex-Teacher Pleads Not guilty To Rape Charges https://t.co/D2mGu3VT5G</td>\n",
       "      <td>0</td>\n",
       "    </tr>\n",
       "    <tr>\n",
       "      <th>8</th>\n",
       "      <td>still places on our Bengali (Sylheti) class! it's London's 2nd language! know anyone interested @SBSisters @refugeecouncil @DocsNotCops https://t.co/sOx6shjvMx</td>\n",
       "      <td>0</td>\n",
       "    </tr>\n",
       "    <tr>\n",
       "      <th>9</th>\n",
       "      <td>DFID Africa Regional Profile: July 2018 https://t.co/npfZCriW0w</td>\n",
       "      <td>0</td>\n",
       "    </tr>\n",
       "  </tbody>\n",
       "</table>\n",
       "</div>"
      ],
      "text/plain": [
       "                                                                                                                                                                                                                                                                                                           text  \\\n",
       "0  Hurray, saving us $$$ in so many ways @potus @realDonaldTrump #LockThemUp #BuildTheWall #EndDACA #BoycottNFL #BoycottNike                                                                                                                                                                                      \n",
       "1  Why would young fighting age men be the vast majority of the ones escaping a war &amp; not those who cannot fight like women, children, and the elderly?It's because the majority of the refugees are not actually refugees they are economic migrants trying to get into Europe.... https://t.co/Ks0SHbtYqn   \n",
       "2  @KamalaHarris Illegals Dump their Kids at the border like Road Kill and Refuse to Unite! They Hope they get Amnesty, Free Education and Welfare Illegal #FamilesBelongTogether in their Country not on the Taxpayer Dime Its a SCAM #NoDACA #NoAmnesty #SendThe                                                \n",
       "3  NY Times: 'Nearly All White' States Pose 'an Array of Problems' for Immigrants https://t.co/ACZKLhdMV9 https://t.co/CJAlSXCzR6                                                                                                                                                                                 \n",
       "4  Orban in Brussels: European leaders are ignoring the will of the people, they do not want migrants https://t.co/NeYFyqvYlX                                                                                                                                                                                     \n",
       "5  @KurtSchlichter LEGAL is. Not illegal. #BuildThatWall                                                                                                                                                                                                                                                          \n",
       "6  @RitaPanahi @826Maureen @RealCandaceO Antifa are just a pack of druggie misfits that no one loves, being the violent thugs they are is their cry for attention and their hit of self importance.#JuvenileDelinquents                                                                                           \n",
       "7  Ex-Teacher Pleads Not guilty To Rape Charges https://t.co/D2mGu3VT5G                                                                                                                                                                                                                                           \n",
       "8  still places on our Bengali (Sylheti) class! it's London's 2nd language! know anyone interested @SBSisters @refugeecouncil @DocsNotCops https://t.co/sOx6shjvMx                                                                                                                                                \n",
       "9  DFID Africa Regional Profile: July 2018 https://t.co/npfZCriW0w                                                                                                                                                                                                                                                \n",
       "\n",
       "   HS  \n",
       "0  1   \n",
       "1  1   \n",
       "2  1   \n",
       "3  0   \n",
       "4  0   \n",
       "5  1   \n",
       "6  0   \n",
       "7  0   \n",
       "8  0   \n",
       "9  0   "
      ]
     },
     "execution_count": 305,
     "metadata": {},
     "output_type": "execute_result"
    }
   ],
   "source": [
    "dev = pd.read_csv(os.path.join(DATA_DIR, 'hateval2019/hateval2019_en_dev.csv'), sep=',')\n",
    "train = pd.read_csv(os.path.join( DATA_DIR, 'hateval2019/hateval2019_en_train.csv'), sep=',')\n",
    "alldf = pd.concat([train, dev])\n",
    "alldf.drop(columns = {'TR', 'AG', 'id'}, axis = 1, inplace = True)\n",
    "alldf.reset_index(drop = True, inplace = True)\n",
    "count = alldf.HS.value_counts()\n",
    "print(\"There are {:d} non hate speech tweets and {:d} hate speech tweets\\n\".format(count[0], count[1]) )\n",
    "alldf.head(10)"
   ]
  },
  {
   "cell_type": "markdown",
   "metadata": {
    "colab_type": "text",
    "id": "GTwjSoIxhSKX"
   },
   "source": [
    "Above seems quite reliably annotated, I'm particularly happy that the authors of this data deemed to include terms that might trigger a false positive like `Rape` and `Immigrants` yet are included in a non hate speech context. Also some of the data is quite aggressive, such as against a group like antifa (see 6th entry) and aren't hate speech, which is an important distinction to learn."
   ]
  },
  {
   "cell_type": "markdown",
   "metadata": {},
   "source": [
    "### Cleaning and Saving Data\n",
    "\n",
    "As will be discussed later on in the notebook, I have elected to also have an `Offensive` column for my final dataset in case it is useful to my investigation later down the line\n",
    "\n",
    "\n",
    "We'll assume that all tweets that are labelled as hate speech are inherently offensive. Otherwise in this set we'll `Offensive` label to `-` as they're ambigious. This dilemma will be rare later on"
   ]
  },
  {
   "cell_type": "code",
   "execution_count": 306,
   "metadata": {},
   "outputs": [
    {
     "data": {
      "text/html": [
       "<div>\n",
       "<style scoped>\n",
       "    .dataframe tbody tr th:only-of-type {\n",
       "        vertical-align: middle;\n",
       "    }\n",
       "\n",
       "    .dataframe tbody tr th {\n",
       "        vertical-align: top;\n",
       "    }\n",
       "\n",
       "    .dataframe thead th {\n",
       "        text-align: right;\n",
       "    }\n",
       "</style>\n",
       "<table border=\"1\" class=\"dataframe\">\n",
       "  <thead>\n",
       "    <tr style=\"text-align: right;\">\n",
       "      <th></th>\n",
       "      <th>Tweet</th>\n",
       "      <th>Hate_Speech</th>\n",
       "      <th>Offensive</th>\n",
       "    </tr>\n",
       "  </thead>\n",
       "  <tbody>\n",
       "    <tr>\n",
       "      <th>0</th>\n",
       "      <td>Hurray, saving us $$$ in so many ways @potus @realDonaldTrump #LockThemUp #BuildTheWall #EndDACA #BoycottNFL #BoycottNike</td>\n",
       "      <td>1</td>\n",
       "      <td>1</td>\n",
       "    </tr>\n",
       "    <tr>\n",
       "      <th>1</th>\n",
       "      <td>Why would young fighting age men be the vast majority of the ones escaping a war &amp;amp; not those who cannot fight like women, children, and the elderly?It's because the majority of the refugees are not actually refugees they are economic migrants trying to get into Europe.... https://t.co/Ks0SHbtYqn</td>\n",
       "      <td>1</td>\n",
       "      <td>1</td>\n",
       "    </tr>\n",
       "    <tr>\n",
       "      <th>2</th>\n",
       "      <td>@KamalaHarris Illegals Dump their Kids at the border like Road Kill and Refuse to Unite! They Hope they get Amnesty, Free Education and Welfare Illegal #FamilesBelongTogether in their Country not on the Taxpayer Dime Its a SCAM #NoDACA #NoAmnesty #SendThe</td>\n",
       "      <td>1</td>\n",
       "      <td>1</td>\n",
       "    </tr>\n",
       "    <tr>\n",
       "      <th>3</th>\n",
       "      <td>NY Times: 'Nearly All White' States Pose 'an Array of Problems' for Immigrants https://t.co/ACZKLhdMV9 https://t.co/CJAlSXCzR6</td>\n",
       "      <td>0</td>\n",
       "      <td>-</td>\n",
       "    </tr>\n",
       "    <tr>\n",
       "      <th>4</th>\n",
       "      <td>Orban in Brussels: European leaders are ignoring the will of the people, they do not want migrants https://t.co/NeYFyqvYlX</td>\n",
       "      <td>0</td>\n",
       "      <td>-</td>\n",
       "    </tr>\n",
       "  </tbody>\n",
       "</table>\n",
       "</div>"
      ],
      "text/plain": [
       "                                                                                                                                                                                                                                                                                                          Tweet  \\\n",
       "0  Hurray, saving us $$$ in so many ways @potus @realDonaldTrump #LockThemUp #BuildTheWall #EndDACA #BoycottNFL #BoycottNike                                                                                                                                                                                      \n",
       "1  Why would young fighting age men be the vast majority of the ones escaping a war &amp; not those who cannot fight like women, children, and the elderly?It's because the majority of the refugees are not actually refugees they are economic migrants trying to get into Europe.... https://t.co/Ks0SHbtYqn   \n",
       "2  @KamalaHarris Illegals Dump their Kids at the border like Road Kill and Refuse to Unite! They Hope they get Amnesty, Free Education and Welfare Illegal #FamilesBelongTogether in their Country not on the Taxpayer Dime Its a SCAM #NoDACA #NoAmnesty #SendThe                                                \n",
       "3  NY Times: 'Nearly All White' States Pose 'an Array of Problems' for Immigrants https://t.co/ACZKLhdMV9 https://t.co/CJAlSXCzR6                                                                                                                                                                                 \n",
       "4  Orban in Brussels: European leaders are ignoring the will of the people, they do not want migrants https://t.co/NeYFyqvYlX                                                                                                                                                                                     \n",
       "\n",
       "   Hate_Speech Offensive  \n",
       "0  1            1         \n",
       "1  1            1         \n",
       "2  1            1         \n",
       "3  0            -         \n",
       "4  0            -         "
      ]
     },
     "execution_count": 306,
     "metadata": {},
     "output_type": "execute_result"
    }
   ],
   "source": [
    "alldf.rename(columns = {'text': 'Tweet', 'HS' : 'Hate_Speech'}, inplace = True)\n",
    "alldf['Offensive'] = '-'\n",
    "alldf.loc[alldf['Hate_Speech'] == 1, 'Offensive'] = 1\n",
    "alldf.head()"
   ]
  },
  {
   "cell_type": "code",
   "execution_count": 307,
   "metadata": {},
   "outputs": [
    {
     "name": "stdout",
     "output_type": "stream",
     "text": [
      "Breakdown for HatEval 2019 Data\n",
      "\n",
      "Hate Speech Column Labelling:\n",
      " 0    5790\n",
      "1    4210\n",
      "Name: Hate_Speech, dtype: int64\n",
      "\n",
      "Offensive Column Labelling:\n",
      " -    5790\n",
      "1    4210\n",
      "Name: Offensive, dtype: int64\n",
      "\n",
      "Where 1 is positive, 0 is negative and - is ambiguous\n"
     ]
    }
   ],
   "source": [
    "print(\"Breakdown for HatEval 2019 Data\")\n",
    "print(\"\\nHate Speech Column Labelling:\\n\", alldf.Hate_Speech.value_counts())\n",
    "print(\"\\nOffensive Column Labelling:\\n\", alldf.Offensive.value_counts())\n",
    "print(\"\\nWhere 1 is positive, 0 is negative and - is ambiguous\")\n",
    "alldf['Tweet'] = alldf['Tweet'].map(lambda x: x.encode('unicode-escape').decode('utf-8'))\n",
    "alldf.to_csv(os.path.join(DATA_DIR, 'cleaned/hateval.csv'), sep = ',', encoding='utf-8', \\\n",
    "                 index = False, header = True)"
   ]
  },
  {
   "cell_type": "markdown",
   "metadata": {
    "colab_type": "text",
    "id": "GtrWUOWjVYdu"
   },
   "source": [
    "## Loading in OffensEval 2019 Data\n",
    "\n",
    "This data is a bit more tricky but it'll be useful to try out and inspect if the data can be reliably used to fine tune our model. We must ask ourselves if the offensive language in this dataset can potentially equate to hate speech.\n",
    "\n",
    "\n",
    "The labels used in the annotation are explained as is in the README file of this dataset.\n",
    "\n",
    "(A) subtask_a: <b>Offensive language identification</b>\n",
    "\n",
    "- `(NOT) Not Offensive` - This post does not contain offense or profanity.\n",
    "- `(OFF) Offensive` - This post contains offensive language or a targeted (veiled or direct) offense\n",
    "\n",
    "In our annotation, we label a post as offensive (OFF) if it contains any form of non-acceptable language (profanity) or a targeted offense, which can be veiled or direct. \n",
    "\n",
    "(B) subtask_b: <b>Categorization of offense types</b>\n",
    "\n",
    "- `(TIN) Targeted Insult and Threats` - A post containing an insult or threat to an individual, a group, or others (see categories in sub-task C).\n",
    "- `(UNT) Untargeted` - A post containing non-targeted profanity and swearing.\n",
    "\n",
    "Posts containing general profanity are not targeted, but they contain non-acceptable language.\n",
    "\n",
    "(C) subtask_c: <b>Offense target identification</b>\n",
    "\n",
    "- `(IND) Individual` - The target of the offensive post is an individual: a famous person, a named individual or an unnamed person interacting in the conversation.\n",
    "- `(GRP) Group` - The target of the offensive post is a group of people considered as a unity due to the same ethnicity, gender or sexual orientation, political affiliation, religious belief, or something else.\n",
    "- `(OTH) Other` – The target of the offensive post does not belong to any of the previous two categories (e.g., an organization, a situation, an event, or an issue)\n",
    "\n",
    "So bearing all this in mind I believe that if we only get data from this set that has the `OFF` flag for level A, a `TIN` flag for level B and a `GRP` or `IND` flag for level 3, the data could potentially qualify as hate speech.\n",
    "\n",
    "\n",
    "A problem lies here though in that not all offensive targetting of groups may be considered hate speech. Targetting political affiliation such as `\"All Democrats are a bunch of mongrels #libtards\"`  would not be considered hate speech by the definition I'm basing my view of hate speech off of.\n",
    "\n",
    "<i>Ref: [Predicting the Type and Target of Offensive Posts in Social Media, Zampieri, Marcos and Malmasi, Shervin and Nakov, Preslav and Rosenthal, Sara and Farra, Noura and Kumar, Ritesh, Proceedings of NAACL, 2019]( https://www.aclweb.org/anthology/S19-2010.pdf, \"\")</i> \n"
   ]
  },
  {
   "cell_type": "code",
   "execution_count": 4,
   "metadata": {
    "colab": {
     "base_uri": "https://localhost:8080/",
     "height": 199
    },
    "colab_type": "code",
    "executionInfo": {
     "elapsed": 1388,
     "status": "ok",
     "timestamp": 1578325941831,
     "user": {
      "displayName": "Fionn McConville",
      "photoUrl": "https://lh3.googleusercontent.com/a-/AAuE7mDQ4Te6RRh1B7ENukR6-4xoNAaV2ajfGgNpCD6y=s64",
      "userId": "01326935138765014160"
     },
     "user_tz": 0
    },
    "id": "bPLTBqR8VYdu",
    "outputId": "81a32e48-4d1f-4dab-c693-caa07561c967"
   },
   "outputs": [
    {
     "name": "stdout",
     "output_type": "stream",
     "text": [
      "<class 'pandas.core.frame.DataFrame'>\n",
      "RangeIndex: 13240 entries, 0 to 13239\n",
      "Data columns (total 5 columns):\n",
      "id           13240 non-null int64\n",
      "tweet        13240 non-null object\n",
      "subtask_a    13240 non-null object\n",
      "subtask_b    4400 non-null object\n",
      "subtask_c    3876 non-null object\n",
      "dtypes: int64(1), object(4)\n",
      "memory usage: 517.3+ KB\n"
     ]
    }
   ],
   "source": [
    "offens = pd.read_csv(os.path.join(DATA_DIR, 'OLIDv1.0/olid-training-v1.0.tsv'), sep='\\t')\n",
    "offens.info()"
   ]
  },
  {
   "cell_type": "markdown",
   "metadata": {},
   "source": [
    "Getting all entries in the dataset which are labelled as `Offensive`, `Targeted Insult`, and the target may be a `Group` or `Individual`"
   ]
  },
  {
   "cell_type": "code",
   "execution_count": 5,
   "metadata": {
    "colab": {
     "base_uri": "https://localhost:8080/",
     "height": 199
    },
    "colab_type": "code",
    "executionInfo": {
     "elapsed": 527,
     "status": "ok",
     "timestamp": 1578325973477,
     "user": {
      "displayName": "Fionn McConville",
      "photoUrl": "https://lh3.googleusercontent.com/a-/AAuE7mDQ4Te6RRh1B7ENukR6-4xoNAaV2ajfGgNpCD6y=s64",
      "userId": "01326935138765014160"
     },
     "user_tz": 0
    },
    "id": "5jcA7vbfVYdy",
    "outputId": "af12127c-1aae-412f-fd2f-acd770c0c758"
   },
   "outputs": [
    {
     "name": "stdout",
     "output_type": "stream",
     "text": [
      "<class 'pandas.core.frame.DataFrame'>\n",
      "RangeIndex: 3481 entries, 0 to 3480\n",
      "Data columns (total 5 columns):\n",
      "id           3481 non-null int64\n",
      "tweet        3481 non-null object\n",
      "subtask_a    3481 non-null object\n",
      "subtask_b    3481 non-null object\n",
      "subtask_c    3481 non-null object\n",
      "dtypes: int64(1), object(4)\n",
      "memory usage: 136.1+ KB\n"
     ]
    }
   ],
   "source": [
    "offens1 = offens[offens[\"subtask_a\"] == 'OFF']\n",
    "offens1 = offens1[offens1[\"subtask_b\"] == 'TIN']\n",
    "offens1 = offens1[offens1[\"subtask_c\"] != 'OTH']\n",
    "offens1 = offens1.dropna()\n",
    "offens1.reset_index(drop = True, inplace = True)\n",
    "offens1.info()"
   ]
  },
  {
   "cell_type": "code",
   "execution_count": 6,
   "metadata": {
    "colab": {
     "base_uri": "https://localhost:8080/",
     "height": 336
    },
    "colab_type": "code",
    "executionInfo": {
     "elapsed": 522,
     "status": "ok",
     "timestamp": 1578325998182,
     "user": {
      "displayName": "Fionn McConville",
      "photoUrl": "https://lh3.googleusercontent.com/a-/AAuE7mDQ4Te6RRh1B7ENukR6-4xoNAaV2ajfGgNpCD6y=s64",
      "userId": "01326935138765014160"
     },
     "user_tz": 0
    },
    "id": "Kx_Srs-NVYdz",
    "outputId": "5a4ff47a-01e5-41b6-dfc0-021992e6c88c"
   },
   "outputs": [
    {
     "data": {
      "text/html": [
       "<div>\n",
       "<style scoped>\n",
       "    .dataframe tbody tr th:only-of-type {\n",
       "        vertical-align: middle;\n",
       "    }\n",
       "\n",
       "    .dataframe tbody tr th {\n",
       "        vertical-align: top;\n",
       "    }\n",
       "\n",
       "    .dataframe thead th {\n",
       "        text-align: right;\n",
       "    }\n",
       "</style>\n",
       "<table border=\"1\" class=\"dataframe\">\n",
       "  <thead>\n",
       "    <tr style=\"text-align: right;\">\n",
       "      <th></th>\n",
       "      <th>id</th>\n",
       "      <th>tweet</th>\n",
       "      <th>subtask_a</th>\n",
       "      <th>subtask_b</th>\n",
       "      <th>subtask_c</th>\n",
       "    </tr>\n",
       "  </thead>\n",
       "  <tbody>\n",
       "    <tr>\n",
       "      <th>0</th>\n",
       "      <td>90194</td>\n",
       "      <td>@USER @USER Go home you’re drunk!!! @USER #MAGA #Trump2020 👊🇺🇸👊 URL</td>\n",
       "      <td>OFF</td>\n",
       "      <td>TIN</td>\n",
       "      <td>IND</td>\n",
       "    </tr>\n",
       "    <tr>\n",
       "      <th>1</th>\n",
       "      <td>52415</td>\n",
       "      <td>@USER was literally just talking about this lol all mass shootings like that have been set ups. it’s propaganda used to divide us on major issues like gun control and terrorism</td>\n",
       "      <td>OFF</td>\n",
       "      <td>TIN</td>\n",
       "      <td>GRP</td>\n",
       "    </tr>\n",
       "    <tr>\n",
       "      <th>2</th>\n",
       "      <td>13384</td>\n",
       "      <td>@USER Canada doesn’t need another CUCK! We already have enough #LooneyLeft #Liberals f**king up our great country! #Qproofs #TrudeauMustGo</td>\n",
       "      <td>OFF</td>\n",
       "      <td>TIN</td>\n",
       "      <td>IND</td>\n",
       "    </tr>\n",
       "    <tr>\n",
       "      <th>3</th>\n",
       "      <td>28414</td>\n",
       "      <td>@USER you are a lying corrupt traitor!!! Nobody wants to hear anymore of your lies!!! #DeepStateCorruption URL</td>\n",
       "      <td>OFF</td>\n",
       "      <td>TIN</td>\n",
       "      <td>IND</td>\n",
       "    </tr>\n",
       "    <tr>\n",
       "      <th>4</th>\n",
       "      <td>56117</td>\n",
       "      <td>@USER @USER @USER @USER LOL!!!   Throwing the BULLSHIT Flag on such nonsense!!  #PutUpOrShutUp   #Kavanaugh   #MAGA   #CallTheVoteAlready URL</td>\n",
       "      <td>OFF</td>\n",
       "      <td>TIN</td>\n",
       "      <td>IND</td>\n",
       "    </tr>\n",
       "    <tr>\n",
       "      <th>5</th>\n",
       "      <td>12681</td>\n",
       "      <td>@USER @USER Kind of like when conservatives wanna associate everyone to their left as communist antifa members?</td>\n",
       "      <td>OFF</td>\n",
       "      <td>TIN</td>\n",
       "      <td>GRP</td>\n",
       "    </tr>\n",
       "    <tr>\n",
       "      <th>6</th>\n",
       "      <td>82904</td>\n",
       "      <td>@USER @USER Da fuck is going on people?   There's the men's room and the women's room  Pick one and stick w it 🤔</td>\n",
       "      <td>OFF</td>\n",
       "      <td>TIN</td>\n",
       "      <td>GRP</td>\n",
       "    </tr>\n",
       "    <tr>\n",
       "      <th>7</th>\n",
       "      <td>77665</td>\n",
       "      <td>@USER Tbh these days i just don't like people in general i just don't connect with people these days just a annoyance..</td>\n",
       "      <td>OFF</td>\n",
       "      <td>TIN</td>\n",
       "      <td>IND</td>\n",
       "    </tr>\n",
       "    <tr>\n",
       "      <th>8</th>\n",
       "      <td>12609</td>\n",
       "      <td>The only thing the Democrats have is lying and stalling to stop Trump from being #President.  What have they done for you lately. #Trump #Kavanaugh #MAGA #DEMSUCK</td>\n",
       "      <td>OFF</td>\n",
       "      <td>TIN</td>\n",
       "      <td>GRP</td>\n",
       "    </tr>\n",
       "    <tr>\n",
       "      <th>9</th>\n",
       "      <td>12108</td>\n",
       "      <td>@USER @USER @USER @USER @USER @USER @USER @USER @USER @USER @USER @USER @USER @USER @USER @USER @USER @USER @USER @USER @USER @USER @USER @USER @USER @USER @USER @USER @USER @USER @USER @USER @USER @USER @USER @USER @USER @USER @USER @USER @USER @USER @USER @USER @USER @USER @USER @USER @USER @USER You are not very smart are you? Why do you think Gen Flynn’s sentencing keeps being rescheduled? URL</td>\n",
       "      <td>OFF</td>\n",
       "      <td>TIN</td>\n",
       "      <td>IND</td>\n",
       "    </tr>\n",
       "    <tr>\n",
       "      <th>10</th>\n",
       "      <td>14726</td>\n",
       "      <td>@USER @USER @USER That's expected if you placate the violent leftists/terrorists. #KavanaughConfirmation #woke</td>\n",
       "      <td>OFF</td>\n",
       "      <td>TIN</td>\n",
       "      <td>GRP</td>\n",
       "    </tr>\n",
       "    <tr>\n",
       "      <th>11</th>\n",
       "      <td>84102</td>\n",
       "      <td>4 out of 10 British people are basically full-on racists. 4 out of 10 voters vote for the Conservatives. Coincidence!???!???</td>\n",
       "      <td>OFF</td>\n",
       "      <td>TIN</td>\n",
       "      <td>GRP</td>\n",
       "    </tr>\n",
       "    <tr>\n",
       "      <th>12</th>\n",
       "      <td>98992</td>\n",
       "      <td>@USER Fuck off</td>\n",
       "      <td>OFF</td>\n",
       "      <td>TIN</td>\n",
       "      <td>IND</td>\n",
       "    </tr>\n",
       "    <tr>\n",
       "      <th>13</th>\n",
       "      <td>75215</td>\n",
       "      <td>@USER @USER She is useless.  Attempts to do the right thing but never follows through.</td>\n",
       "      <td>OFF</td>\n",
       "      <td>TIN</td>\n",
       "      <td>IND</td>\n",
       "    </tr>\n",
       "    <tr>\n",
       "      <th>14</th>\n",
       "      <td>57013</td>\n",
       "      <td>@USER Grateful Trump doesn’t have a dog in the White House. He is a cruel man.</td>\n",
       "      <td>OFF</td>\n",
       "      <td>TIN</td>\n",
       "      <td>IND</td>\n",
       "    </tr>\n",
       "    <tr>\n",
       "      <th>15</th>\n",
       "      <td>74831</td>\n",
       "      <td>@USER Trump kicks dem butt - its so fun.</td>\n",
       "      <td>OFF</td>\n",
       "      <td>TIN</td>\n",
       "      <td>IND</td>\n",
       "    </tr>\n",
       "    <tr>\n",
       "      <th>16</th>\n",
       "      <td>53264</td>\n",
       "      <td>@USER @USER @USER He is dumb and dumber all in one president.  It's a two for one.</td>\n",
       "      <td>OFF</td>\n",
       "      <td>TIN</td>\n",
       "      <td>IND</td>\n",
       "    </tr>\n",
       "    <tr>\n",
       "      <th>17</th>\n",
       "      <td>84664</td>\n",
       "      <td>@USER And this from the clown that should be in prison?</td>\n",
       "      <td>OFF</td>\n",
       "      <td>TIN</td>\n",
       "      <td>IND</td>\n",
       "    </tr>\n",
       "    <tr>\n",
       "      <th>18</th>\n",
       "      <td>48995</td>\n",
       "      <td>@USER Thats because you are an old man.</td>\n",
       "      <td>OFF</td>\n",
       "      <td>TIN</td>\n",
       "      <td>IND</td>\n",
       "    </tr>\n",
       "    <tr>\n",
       "      <th>19</th>\n",
       "      <td>64429</td>\n",
       "      <td>@USER I mean it worked for gun control right? URL</td>\n",
       "      <td>OFF</td>\n",
       "      <td>TIN</td>\n",
       "      <td>GRP</td>\n",
       "    </tr>\n",
       "  </tbody>\n",
       "</table>\n",
       "</div>"
      ],
      "text/plain": [
       "       id  \\\n",
       "0   90194   \n",
       "1   52415   \n",
       "2   13384   \n",
       "3   28414   \n",
       "4   56117   \n",
       "5   12681   \n",
       "6   82904   \n",
       "7   77665   \n",
       "8   12609   \n",
       "9   12108   \n",
       "10  14726   \n",
       "11  84102   \n",
       "12  98992   \n",
       "13  75215   \n",
       "14  57013   \n",
       "15  74831   \n",
       "16  53264   \n",
       "17  84664   \n",
       "18  48995   \n",
       "19  64429   \n",
       "\n",
       "                                                                                                                                                                                                                                                                                                                                                                                                               tweet  \\\n",
       "0   @USER @USER Go home you’re drunk!!! @USER #MAGA #Trump2020 👊🇺🇸👊 URL                                                                                                                                                                                                                                                                                                                                                \n",
       "1   @USER was literally just talking about this lol all mass shootings like that have been set ups. it’s propaganda used to divide us on major issues like gun control and terrorism                                                                                                                                                                                                                                   \n",
       "2   @USER Canada doesn’t need another CUCK! We already have enough #LooneyLeft #Liberals f**king up our great country! #Qproofs #TrudeauMustGo                                                                                                                                                                                                                                                                         \n",
       "3   @USER you are a lying corrupt traitor!!! Nobody wants to hear anymore of your lies!!! #DeepStateCorruption URL                                                                                                                                                                                                                                                                                                     \n",
       "4   @USER @USER @USER @USER LOL!!!   Throwing the BULLSHIT Flag on such nonsense!!  #PutUpOrShutUp   #Kavanaugh   #MAGA   #CallTheVoteAlready URL                                                                                                                                                                                                                                                                      \n",
       "5   @USER @USER Kind of like when conservatives wanna associate everyone to their left as communist antifa members?                                                                                                                                                                                                                                                                                                    \n",
       "6   @USER @USER Da fuck is going on people?   There's the men's room and the women's room  Pick one and stick w it 🤔                                                                                                                                                                                                                                                                                                   \n",
       "7   @USER Tbh these days i just don't like people in general i just don't connect with people these days just a annoyance..                                                                                                                                                                                                                                                                                            \n",
       "8   The only thing the Democrats have is lying and stalling to stop Trump from being #President.  What have they done for you lately. #Trump #Kavanaugh #MAGA #DEMSUCK                                                                                                                                                                                                                                                 \n",
       "9   @USER @USER @USER @USER @USER @USER @USER @USER @USER @USER @USER @USER @USER @USER @USER @USER @USER @USER @USER @USER @USER @USER @USER @USER @USER @USER @USER @USER @USER @USER @USER @USER @USER @USER @USER @USER @USER @USER @USER @USER @USER @USER @USER @USER @USER @USER @USER @USER @USER @USER You are not very smart are you? Why do you think Gen Flynn’s sentencing keeps being rescheduled? URL   \n",
       "10  @USER @USER @USER That's expected if you placate the violent leftists/terrorists. #KavanaughConfirmation #woke                                                                                                                                                                                                                                                                                                     \n",
       "11  4 out of 10 British people are basically full-on racists. 4 out of 10 voters vote for the Conservatives. Coincidence!???!???                                                                                                                                                                                                                                                                                       \n",
       "12  @USER Fuck off                                                                                                                                                                                                                                                                                                                                                                                                     \n",
       "13  @USER @USER She is useless.  Attempts to do the right thing but never follows through.                                                                                                                                                                                                                                                                                                                             \n",
       "14  @USER Grateful Trump doesn’t have a dog in the White House. He is a cruel man.                                                                                                                                                                                                                                                                                                                                     \n",
       "15  @USER Trump kicks dem butt - its so fun.                                                                                                                                                                                                                                                                                                                                                                           \n",
       "16  @USER @USER @USER He is dumb and dumber all in one president.  It's a two for one.                                                                                                                                                                                                                                                                                                                                 \n",
       "17  @USER And this from the clown that should be in prison?                                                                                                                                                                                                                                                                                                                                                            \n",
       "18  @USER Thats because you are an old man.                                                                                                                                                                                                                                                                                                                                                                            \n",
       "19  @USER I mean it worked for gun control right? URL                                                                                                                                                                                                                                                                                                                                                                  \n",
       "\n",
       "   subtask_a subtask_b subtask_c  \n",
       "0   OFF       TIN       IND       \n",
       "1   OFF       TIN       GRP       \n",
       "2   OFF       TIN       IND       \n",
       "3   OFF       TIN       IND       \n",
       "4   OFF       TIN       IND       \n",
       "5   OFF       TIN       GRP       \n",
       "6   OFF       TIN       GRP       \n",
       "7   OFF       TIN       IND       \n",
       "8   OFF       TIN       GRP       \n",
       "9   OFF       TIN       IND       \n",
       "10  OFF       TIN       GRP       \n",
       "11  OFF       TIN       GRP       \n",
       "12  OFF       TIN       IND       \n",
       "13  OFF       TIN       IND       \n",
       "14  OFF       TIN       IND       \n",
       "15  OFF       TIN       IND       \n",
       "16  OFF       TIN       IND       \n",
       "17  OFF       TIN       IND       \n",
       "18  OFF       TIN       IND       \n",
       "19  OFF       TIN       GRP       "
      ]
     },
     "execution_count": 6,
     "metadata": {},
     "output_type": "execute_result"
    }
   ],
   "source": [
    "offens1.head(20)"
   ]
  },
  {
   "cell_type": "markdown",
   "metadata": {
    "colab_type": "text",
    "id": "4JBstIb5VYd2"
   },
   "source": [
    "These tweets - <i>however tasteless some may be</i>, would not be considered by most people to be hate speech. The other tweets in the previous hatEval dataset are much more clear instances of hate speech\n",
    "    \n",
    "We will exclude the tweets that satisfy these conditions:\n",
    "> <i>that the tweet is offensive, is targeted and is directed at an individual or group</i>\n",
    "    \n",
    "Because we don't want to risk contamination of the hate speech column.\n",
    "\n",
    "### Cleaning and Saving Data"
   ]
  },
  {
   "cell_type": "code",
   "execution_count": 275,
   "metadata": {},
   "outputs": [
    {
     "data": {
      "text/html": [
       "<div>\n",
       "<style scoped>\n",
       "    .dataframe tbody tr th:only-of-type {\n",
       "        vertical-align: middle;\n",
       "    }\n",
       "\n",
       "    .dataframe tbody tr th {\n",
       "        vertical-align: top;\n",
       "    }\n",
       "\n",
       "    .dataframe thead th {\n",
       "        text-align: right;\n",
       "    }\n",
       "</style>\n",
       "<table border=\"1\" class=\"dataframe\">\n",
       "  <thead>\n",
       "    <tr style=\"text-align: right;\">\n",
       "      <th></th>\n",
       "      <th>Tweet</th>\n",
       "      <th>Offensive</th>\n",
       "      <th>Hate_Speech</th>\n",
       "    </tr>\n",
       "  </thead>\n",
       "  <tbody>\n",
       "    <tr>\n",
       "      <th>0</th>\n",
       "      <td>@USER She should ask a few native Americans what their take on this is.</td>\n",
       "      <td>1</td>\n",
       "      <td>0</td>\n",
       "    </tr>\n",
       "    <tr>\n",
       "      <th>2</th>\n",
       "      <td>Amazon is investigating Chinese employees who are selling internal data to third-party sellers looking for an edge in the competitive marketplace. URL #Amazon #MAGA #KAG #CHINA #TCOT</td>\n",
       "      <td>0</td>\n",
       "      <td>0</td>\n",
       "    </tr>\n",
       "    <tr>\n",
       "      <th>3</th>\n",
       "      <td>@USER Someone should'veTaken\" this piece of shit to a volcano. 😂\"</td>\n",
       "      <td>1</td>\n",
       "      <td>0</td>\n",
       "    </tr>\n",
       "    <tr>\n",
       "      <th>4</th>\n",
       "      <td>@USER @USER Obama wanted liberals &amp;amp; illegals to move into red states</td>\n",
       "      <td>0</td>\n",
       "      <td>0</td>\n",
       "    </tr>\n",
       "    <tr>\n",
       "      <th>5</th>\n",
       "      <td>@USER Liberals are all Kookoo !!!</td>\n",
       "      <td>1</td>\n",
       "      <td>0</td>\n",
       "    </tr>\n",
       "  </tbody>\n",
       "</table>\n",
       "</div>"
      ],
      "text/plain": [
       "                                                                                                                                                                                    Tweet  \\\n",
       "0  @USER She should ask a few native Americans what their take on this is.                                                                                                                  \n",
       "2  Amazon is investigating Chinese employees who are selling internal data to third-party sellers looking for an edge in the competitive marketplace. URL #Amazon #MAGA #KAG #CHINA #TCOT   \n",
       "3  @USER Someone should'veTaken\" this piece of shit to a volcano. 😂\"                                                                                                                        \n",
       "4  @USER @USER Obama wanted liberals &amp; illegals to move into red states                                                                                                                 \n",
       "5  @USER Liberals are all Kookoo !!!                                                                                                                                                        \n",
       "\n",
       "   Offensive  Hate_Speech  \n",
       "0  1          0            \n",
       "2  0          0            \n",
       "3  1          0            \n",
       "4  0          0            \n",
       "5  1          0            "
      ]
     },
     "execution_count": 275,
     "metadata": {},
     "output_type": "execute_result"
    }
   ],
   "source": [
    "#Drop risky rows\n",
    "offens.drop(offens[(offens[\"subtask_a\"] == 'OFF') & \\\n",
    "                  (offens[\"subtask_b\"] == 'TIN') & \\\n",
    "                  (offens[\"subtask_c\"] != 'OTH')].index, inplace = True)\n",
    "\n",
    "offens.drop(columns = ['subtask_b', 'subtask_c', 'id'], inplace = True, axis = 1)\n",
    "offens.rename(columns = {'subtask_a':'Offensive', 'tweet': 'Tweet'}, inplace = True)\n",
    "offens['Hate_Speech'] = 0\n",
    "offens.loc[offens['Offensive'] == 'OFF', 'Offensive'] = 1\n",
    "offens.loc[offens['Offensive'] == 'NOT', 'Offensive'] = 0\n",
    "offens.head()"
   ]
  },
  {
   "cell_type": "code",
   "execution_count": 276,
   "metadata": {},
   "outputs": [
    {
     "name": "stdout",
     "output_type": "stream",
     "text": [
      "Breakdown for Offenseval 2019 Data\n",
      "\n",
      "Hate Speech Column Labelling:\n",
      " 0    9759\n",
      "Name: Hate_Speech, dtype: int64\n",
      "\n",
      "Offensive Column Labelling:\n",
      " 0    8840\n",
      "1    919 \n",
      "Name: Offensive, dtype: int64\n",
      "\n",
      "Where 1 is positive, 0 is negative and - is ambiguous\n"
     ]
    }
   ],
   "source": [
    "offens['Tweet'] = offens['Tweet'].map(lambda x: x.encode('unicode-escape').decode('utf-8'))\n",
    "\n",
    "offens.to_csv(os.path.join(DATA_DIR, 'cleaned/offens.csv'), sep = ',', encoding='utf-8', \\\n",
    "                 index = False, header = True)\n",
    "\n",
    "print(\"Breakdown for Offenseval 2019 Data\")\n",
    "print(\"\\nHate Speech Column Labelling:\\n\", offens.Hate_Speech.value_counts())\n",
    "print(\"\\nOffensive Column Labelling:\\n\", offens.Offensive.value_counts())\n",
    "print(\"\\nWhere 1 is positive, 0 is negative and - is ambiguous\")"
   ]
  },
  {
   "cell_type": "markdown",
   "metadata": {
    "colab_type": "text",
    "id": "zyDp677KVYd2"
   },
   "source": [
    "## ICVSM 2017 Hate Speech Dataset\n",
    "\n",
    "This dataset usefully has benign tweets, offensive language and hate speech. Having offensive language tweets that is not hate speech will be very useful to my model because I can imagine false postives with some models can arise when trying to distinguish between offensive language and hate speech - which are both often laced with profanity.\n",
    "\n",
    "\n",
    "### What the columns mean:\n",
    "\n",
    "* `Count` - Number of CrowdFlower users who coded each tweet (min is 3, sometimes more users coded a tweet when judgments were determined to be unreliable by CF).\n",
    "\n",
    "\n",
    "* `Hate_speech` - Number of CF users who judged the tweet to be hate speech.\n",
    "\n",
    "\n",
    "* `Offensive_language` - Number of CF users who judged the tweet to be offensive.\n",
    "\n",
    "\n",
    "* `Neither` - Number of CF users who judged the tweet to be neither offensive nor non-offensive.\n",
    "\n",
    "\n",
    "* `Class` -Class label for majority of CF users:\n",
    "\n",
    " 0. Hate Speech\n",
    "\n",
    " 1.  Offensive Language\n",
    " \n",
    " 2.  Neither\n",
    " \n",
    "<i>Ref: [Thomas Davidson, Dana Warmsley, Michael Macy and Ingmar Weber. 2017. Automated Hate Speech Detection and the Problem of Offensive Language. In Proceedings of the Eleventh International AAAI onference on Web and Social Media (ICWSM 2017), pages 512–515, Montreal.](https://arxiv.org/pdf/1703.04009.pdf \"\")</i>"
   ]
  },
  {
   "cell_type": "code",
   "execution_count": 5,
   "metadata": {
    "colab": {
     "base_uri": "https://localhost:8080/",
     "height": 235
    },
    "colab_type": "code",
    "executionInfo": {
     "elapsed": 1515,
     "status": "ok",
     "timestamp": 1578413057458,
     "user": {
      "displayName": "Fionn McConville",
      "photoUrl": "https://lh3.googleusercontent.com/a-/AAuE7mDQ4Te6RRh1B7ENukR6-4xoNAaV2ajfGgNpCD6y=s64",
      "userId": "01326935138765014160"
     },
     "user_tz": 0
    },
    "id": "R6C8ARpCVYd3",
    "outputId": "c50d9312-ac90-4b58-b2a5-b038cb1977e2"
   },
   "outputs": [
    {
     "name": "stdout",
     "output_type": "stream",
     "text": [
      "<class 'pandas.core.frame.DataFrame'>\n",
      "RangeIndex: 24783 entries, 0 to 24782\n",
      "Data columns (total 7 columns):\n",
      "Unnamed: 0            24783 non-null int64\n",
      "count                 24783 non-null int64\n",
      "hate_speech           24783 non-null int64\n",
      "offensive_language    24783 non-null int64\n",
      "neither               24783 non-null int64\n",
      "class                 24783 non-null int64\n",
      "tweet                 24783 non-null object\n",
      "dtypes: int64(6), object(1)\n",
      "memory usage: 1.3+ MB\n"
     ]
    }
   ],
   "source": [
    "sometweets = os.path.join(DATA_DIR, 'ICVSM_2017.csv')\n",
    "sometweets = pd.read_csv(sometweets, sep=',', encoding='utf-8')\n",
    "sometweets.info()"
   ]
  },
  {
   "cell_type": "markdown",
   "metadata": {
    "colab_type": "text",
    "id": "zT6FMyOjVYd4"
   },
   "source": [
    "Further refining tweet database and inspecting to see if the tweets qualify as hate speech"
   ]
  },
  {
   "cell_type": "code",
   "execution_count": 6,
   "metadata": {
    "colab": {
     "base_uri": "https://localhost:8080/",
     "height": 1000
    },
    "colab_type": "code",
    "executionInfo": {
     "elapsed": 518,
     "status": "ok",
     "timestamp": 1578413058484,
     "user": {
      "displayName": "Fionn McConville",
      "photoUrl": "https://lh3.googleusercontent.com/a-/AAuE7mDQ4Te6RRh1B7ENukR6-4xoNAaV2ajfGgNpCD6y=s64",
      "userId": "01326935138765014160"
     },
     "user_tz": 0
    },
    "id": "1xWlPTIOVYd5",
    "outputId": "60996307-ccd1-4f51-e0fe-8fb364bd14d5"
   },
   "outputs": [
    {
     "name": "stderr",
     "output_type": "stream",
     "text": [
      "C:\\Users\\fionn\\Anaconda3\\lib\\site-packages\\pandas\\core\\frame.py:4117: SettingWithCopyWarning: \n",
      "A value is trying to be set on a copy of a slice from a DataFrame\n",
      "\n",
      "See the caveats in the documentation: http://pandas.pydata.org/pandas-docs/stable/user_guide/indexing.html#returning-a-view-versus-a-copy\n",
      "  errors=errors,\n"
     ]
    },
    {
     "data": {
      "text/html": [
       "<div>\n",
       "<style scoped>\n",
       "    .dataframe tbody tr th:only-of-type {\n",
       "        vertical-align: middle;\n",
       "    }\n",
       "\n",
       "    .dataframe tbody tr th {\n",
       "        vertical-align: top;\n",
       "    }\n",
       "\n",
       "    .dataframe thead th {\n",
       "        text-align: right;\n",
       "    }\n",
       "</style>\n",
       "<table border=\"1\" class=\"dataframe\">\n",
       "  <thead>\n",
       "    <tr style=\"text-align: right;\">\n",
       "      <th></th>\n",
       "      <th>count</th>\n",
       "      <th>hate_speech</th>\n",
       "      <th>offensive_language</th>\n",
       "      <th>tweet</th>\n",
       "    </tr>\n",
       "  </thead>\n",
       "  <tbody>\n",
       "    <tr>\n",
       "      <th>0</th>\n",
       "      <td>3</td>\n",
       "      <td>2</td>\n",
       "      <td>1</td>\n",
       "      <td>\"@Blackman38Tide: @WhaleLookyHere @HowdyDowdy11 queer\" gaywad</td>\n",
       "    </tr>\n",
       "    <tr>\n",
       "      <th>1</th>\n",
       "      <td>3</td>\n",
       "      <td>3</td>\n",
       "      <td>0</td>\n",
       "      <td>\"@CB_Baby24: @white_thunduh alsarabsss\" hes a beaner smh you can tell hes a mexican</td>\n",
       "    </tr>\n",
       "    <tr>\n",
       "      <th>2</th>\n",
       "      <td>3</td>\n",
       "      <td>3</td>\n",
       "      <td>0</td>\n",
       "      <td>\"@DevilGrimz: @VigxRArts you're fucking gay, blacklisted hoe\" Holding out for #TehGodClan anyway http://t.co/xUCcwoetmn</td>\n",
       "    </tr>\n",
       "    <tr>\n",
       "      <th>3</th>\n",
       "      <td>3</td>\n",
       "      <td>3</td>\n",
       "      <td>0</td>\n",
       "      <td>\"@MarkRoundtreeJr: LMFAOOOO I HATE BLACK PEOPLE https://t.co/RNvD2nLCDR\" This is why there's black people and niggers</td>\n",
       "    </tr>\n",
       "    <tr>\n",
       "      <th>4</th>\n",
       "      <td>3</td>\n",
       "      <td>2</td>\n",
       "      <td>1</td>\n",
       "      <td>\"@NoChillPaz: \"At least I'm not a nigger\" http://t.co/RGJa7CfoiT\"\\n\\nLmfao</td>\n",
       "    </tr>\n",
       "    <tr>\n",
       "      <th>5</th>\n",
       "      <td>3</td>\n",
       "      <td>2</td>\n",
       "      <td>1</td>\n",
       "      <td>\"@NotoriousBM95: @_WhitePonyJr_ Ariza is a snake and a coward\" but at least he isn't a cripple like your hero Roach lmaoo</td>\n",
       "    </tr>\n",
       "    <tr>\n",
       "      <th>6</th>\n",
       "      <td>6</td>\n",
       "      <td>3</td>\n",
       "      <td>2</td>\n",
       "      <td>\"@RTNBA: Drakes new shoes that will be released by Nike/Jordan.... Yes, there's glitter on the shoes http://t.co/QCtPLxHEXM\" ....dudes a fag</td>\n",
       "    </tr>\n",
       "    <tr>\n",
       "      <th>7</th>\n",
       "      <td>3</td>\n",
       "      <td>2</td>\n",
       "      <td>1</td>\n",
       "      <td>\"@TheoMaxximus: #GerrysHalloweenParty http://t.co/3ycrSrnjHc\" Halloween was yesterday stupid nigger</td>\n",
       "    </tr>\n",
       "    <tr>\n",
       "      <th>8</th>\n",
       "      <td>3</td>\n",
       "      <td>2</td>\n",
       "      <td>1</td>\n",
       "      <td>\"@ashlingwilde: @ItsNotAdam is bored supposed to be cute, you faggot?\" Sometimes</td>\n",
       "    </tr>\n",
       "    <tr>\n",
       "      <th>9</th>\n",
       "      <td>3</td>\n",
       "      <td>2</td>\n",
       "      <td>1</td>\n",
       "      <td>\"@bigbootybishopp: @white_thunduh lassen cc , the coach wants me\" i feel it youll get more my nig no doubt</td>\n",
       "    </tr>\n",
       "    <tr>\n",
       "      <th>10</th>\n",
       "      <td>3</td>\n",
       "      <td>2</td>\n",
       "      <td>1</td>\n",
       "      <td>\"@jayswaggkillah: Jackies a retard #blondeproblems\" At least I can make a grilled cheese!</td>\n",
       "    </tr>\n",
       "    <tr>\n",
       "      <th>11</th>\n",
       "      <td>3</td>\n",
       "      <td>2</td>\n",
       "      <td>1</td>\n",
       "      <td>\"@jgabsss: Stacey Dash won &amp;#128166; http://t.co/PDLG46rjOL\" baddest bitch evaaaa</td>\n",
       "    </tr>\n",
       "    <tr>\n",
       "      <th>12</th>\n",
       "      <td>3</td>\n",
       "      <td>2</td>\n",
       "      <td>1</td>\n",
       "      <td>\"Don't worry about the nigga you see, worry about the nigga you DON'T see... Dat's da nigga fuckin yo bitch.\"</td>\n",
       "    </tr>\n",
       "    <tr>\n",
       "      <th>13</th>\n",
       "      <td>3</td>\n",
       "      <td>3</td>\n",
       "      <td>0</td>\n",
       "      <td>\"Hey go look at that video of the man that found the kidnapped girls in Ohio........what a nigger\" - #shitmybosssays</td>\n",
       "    </tr>\n",
       "    <tr>\n",
       "      <th>14</th>\n",
       "      <td>3</td>\n",
       "      <td>2</td>\n",
       "      <td>1</td>\n",
       "      <td>\"Let's kill cracker babies!\". WTF did I just hear???????? WOW.</td>\n",
       "    </tr>\n",
       "    <tr>\n",
       "      <th>15</th>\n",
       "      <td>3</td>\n",
       "      <td>2</td>\n",
       "      <td>1</td>\n",
       "      <td>\"My grandma used to call me a porch monkey all the time... Come to think of it she did refer to a broken bottle as a nigger knife\" &amp;#128563;</td>\n",
       "    </tr>\n",
       "    <tr>\n",
       "      <th>16</th>\n",
       "      <td>3</td>\n",
       "      <td>2</td>\n",
       "      <td>1</td>\n",
       "      <td>\"Nah its You @NoMeek_JustMilz: &amp;#128514;&amp;#128514;&amp;#128514;&amp;#128514; yo i thought some1 photoshopped my face on that faggot smmfh...i hate yall\" http://t.co/5e2fkQ3Q2T</td>\n",
       "    </tr>\n",
       "    <tr>\n",
       "      <th>17</th>\n",
       "      <td>3</td>\n",
       "      <td>3</td>\n",
       "      <td>0</td>\n",
       "      <td>\"Our people\". Now is the time for the Aryan race 2 stand up and say \"no more\". Before the mongerls turn the world into a ghetto slum. 1488</td>\n",
       "    </tr>\n",
       "    <tr>\n",
       "      <th>18</th>\n",
       "      <td>3</td>\n",
       "      <td>2</td>\n",
       "      <td>1</td>\n",
       "      <td>\"These sour apple bitter bitches, I'm not fuckin wit em\"</td>\n",
       "    </tr>\n",
       "    <tr>\n",
       "      <th>19</th>\n",
       "      <td>3</td>\n",
       "      <td>3</td>\n",
       "      <td>0</td>\n",
       "      <td>\"We hate niggers, we hate faggots and we hate spics\"-kkk rally</td>\n",
       "    </tr>\n",
       "  </tbody>\n",
       "</table>\n",
       "</div>"
      ],
      "text/plain": [
       "    count  hate_speech  offensive_language  \\\n",
       "0   3      2            1                    \n",
       "1   3      3            0                    \n",
       "2   3      3            0                    \n",
       "3   3      3            0                    \n",
       "4   3      2            1                    \n",
       "5   3      2            1                    \n",
       "6   6      3            2                    \n",
       "7   3      2            1                    \n",
       "8   3      2            1                    \n",
       "9   3      2            1                    \n",
       "10  3      2            1                    \n",
       "11  3      2            1                    \n",
       "12  3      2            1                    \n",
       "13  3      3            0                    \n",
       "14  3      2            1                    \n",
       "15  3      2            1                    \n",
       "16  3      2            1                    \n",
       "17  3      3            0                    \n",
       "18  3      2            1                    \n",
       "19  3      3            0                    \n",
       "\n",
       "                                                                                                                                                                     tweet  \n",
       "0   \"@Blackman38Tide: @WhaleLookyHere @HowdyDowdy11 queer\" gaywad                                                                                                           \n",
       "1   \"@CB_Baby24: @white_thunduh alsarabsss\" hes a beaner smh you can tell hes a mexican                                                                                     \n",
       "2   \"@DevilGrimz: @VigxRArts you're fucking gay, blacklisted hoe\" Holding out for #TehGodClan anyway http://t.co/xUCcwoetmn                                                 \n",
       "3   \"@MarkRoundtreeJr: LMFAOOOO I HATE BLACK PEOPLE https://t.co/RNvD2nLCDR\" This is why there's black people and niggers                                                   \n",
       "4   \"@NoChillPaz: \"At least I'm not a nigger\" http://t.co/RGJa7CfoiT\"\\n\\nLmfao                                                                                              \n",
       "5   \"@NotoriousBM95: @_WhitePonyJr_ Ariza is a snake and a coward\" but at least he isn't a cripple like your hero Roach lmaoo                                               \n",
       "6   \"@RTNBA: Drakes new shoes that will be released by Nike/Jordan.... Yes, there's glitter on the shoes http://t.co/QCtPLxHEXM\" ....dudes a fag                            \n",
       "7   \"@TheoMaxximus: #GerrysHalloweenParty http://t.co/3ycrSrnjHc\" Halloween was yesterday stupid nigger                                                                     \n",
       "8   \"@ashlingwilde: @ItsNotAdam is bored supposed to be cute, you faggot?\" Sometimes                                                                                        \n",
       "9   \"@bigbootybishopp: @white_thunduh lassen cc , the coach wants me\" i feel it youll get more my nig no doubt                                                              \n",
       "10  \"@jayswaggkillah: Jackies a retard #blondeproblems\" At least I can make a grilled cheese!                                                                               \n",
       "11  \"@jgabsss: Stacey Dash won &#128166; http://t.co/PDLG46rjOL\" baddest bitch evaaaa                                                                                       \n",
       "12  \"Don't worry about the nigga you see, worry about the nigga you DON'T see... Dat's da nigga fuckin yo bitch.\"                                                           \n",
       "13  \"Hey go look at that video of the man that found the kidnapped girls in Ohio........what a nigger\" - #shitmybosssays                                                    \n",
       "14  \"Let's kill cracker babies!\". WTF did I just hear???????? WOW.                                                                                                          \n",
       "15  \"My grandma used to call me a porch monkey all the time... Come to think of it she did refer to a broken bottle as a nigger knife\" &#128563;                            \n",
       "16  \"Nah its You @NoMeek_JustMilz: &#128514;&#128514;&#128514;&#128514; yo i thought some1 photoshopped my face on that faggot smmfh...i hate yall\" http://t.co/5e2fkQ3Q2T  \n",
       "17  \"Our people\". Now is the time for the Aryan race 2 stand up and say \"no more\". Before the mongerls turn the world into a ghetto slum. 1488                              \n",
       "18  \"These sour apple bitter bitches, I'm not fuckin wit em\"                                                                                                                \n",
       "19  \"We hate niggers, we hate faggots and we hate spics\"-kkk rally                                                                                                          "
      ]
     },
     "execution_count": 6,
     "metadata": {},
     "output_type": "execute_result"
    }
   ],
   "source": [
    "hatetweets = sometweets[sometweets[\"class\"] == 0]\n",
    "hatetweets.drop(columns = {'Unnamed: 0','neither', 'class' }, axis = 1, inplace = True)\n",
    "hatetweets.reset_index(drop = True, inplace = True)\n",
    "hatetweets.head(20)"
   ]
  },
  {
   "cell_type": "markdown",
   "metadata": {
    "colab_type": "text",
    "id": "g6IVXiEHpF2S"
   },
   "source": [
    "For the most part these tweets could be classified as hate speech, although I've noticed some again have offensive language and may contain hate speech terms but aren't clear cut. These tweets usually have 2 or less annotators agreeing it's hate speech.\n",
    "\n",
    "As I've said earlier, my goal of defining clear cut hate speech is paramount. So, at the expense of the volume of hate speech data, but with the benefit of clearer, more accurately defined dataset, I'll exclude tweets that have been annotated as hate speech by less than 3 CF users.\n",
    "\n",
    "Below we'll see what tweets have been agreed as hate speech by 3 or more CF users would qualify"
   ]
  },
  {
   "cell_type": "code",
   "execution_count": 183,
   "metadata": {
    "colab": {
     "base_uri": "https://localhost:8080/",
     "height": 455
    },
    "colab_type": "code",
    "executionInfo": {
     "elapsed": 510,
     "status": "ok",
     "timestamp": 1578413079395,
     "user": {
      "displayName": "Fionn McConville",
      "photoUrl": "https://lh3.googleusercontent.com/a-/AAuE7mDQ4Te6RRh1B7ENukR6-4xoNAaV2ajfGgNpCD6y=s64",
      "userId": "01326935138765014160"
     },
     "user_tz": 0
    },
    "id": "5QZVCH9lVYd6",
    "outputId": "664b572e-a02d-4147-cccf-6101f14bb0b1"
   },
   "outputs": [
    {
     "name": "stdout",
     "output_type": "stream",
     "text": [
      "There are 308 tweets in this database where 3 or more users agree it's hate speech\n",
      "\n"
     ]
    },
    {
     "data": {
      "text/html": [
       "<div>\n",
       "<style scoped>\n",
       "    .dataframe tbody tr th:only-of-type {\n",
       "        vertical-align: middle;\n",
       "    }\n",
       "\n",
       "    .dataframe tbody tr th {\n",
       "        vertical-align: top;\n",
       "    }\n",
       "\n",
       "    .dataframe thead th {\n",
       "        text-align: right;\n",
       "    }\n",
       "</style>\n",
       "<table border=\"1\" class=\"dataframe\">\n",
       "  <thead>\n",
       "    <tr style=\"text-align: right;\">\n",
       "      <th></th>\n",
       "      <th>count</th>\n",
       "      <th>hate_speech</th>\n",
       "      <th>offensive_language</th>\n",
       "      <th>tweet</th>\n",
       "    </tr>\n",
       "  </thead>\n",
       "  <tbody>\n",
       "    <tr>\n",
       "      <th>1</th>\n",
       "      <td>3</td>\n",
       "      <td>3</td>\n",
       "      <td>0</td>\n",
       "      <td>\"@CB_Baby24: @white_thunduh alsarabsss\" hes a beaner smh you can tell hes a mexican</td>\n",
       "    </tr>\n",
       "    <tr>\n",
       "      <th>2</th>\n",
       "      <td>3</td>\n",
       "      <td>3</td>\n",
       "      <td>0</td>\n",
       "      <td>\"@DevilGrimz: @VigxRArts you're fucking gay, blacklisted hoe\" Holding out for #TehGodClan anyway http://t.co/xUCcwoetmn</td>\n",
       "    </tr>\n",
       "    <tr>\n",
       "      <th>3</th>\n",
       "      <td>3</td>\n",
       "      <td>3</td>\n",
       "      <td>0</td>\n",
       "      <td>\"@MarkRoundtreeJr: LMFAOOOO I HATE BLACK PEOPLE https://t.co/RNvD2nLCDR\" This is why there's black people and niggers</td>\n",
       "    </tr>\n",
       "    <tr>\n",
       "      <th>6</th>\n",
       "      <td>6</td>\n",
       "      <td>3</td>\n",
       "      <td>2</td>\n",
       "      <td>\"@RTNBA: Drakes new shoes that will be released by Nike/Jordan.... Yes, there's glitter on the shoes http://t.co/QCtPLxHEXM\" ....dudes a fag</td>\n",
       "    </tr>\n",
       "    <tr>\n",
       "      <th>13</th>\n",
       "      <td>3</td>\n",
       "      <td>3</td>\n",
       "      <td>0</td>\n",
       "      <td>\"Hey go look at that video of the man that found the kidnapped girls in Ohio........what a nigger\" - #shitmybosssays</td>\n",
       "    </tr>\n",
       "    <tr>\n",
       "      <th>17</th>\n",
       "      <td>3</td>\n",
       "      <td>3</td>\n",
       "      <td>0</td>\n",
       "      <td>\"Our people\". Now is the time for the Aryan race 2 stand up and say \"no more\". Before the mongerls turn the world into a ghetto slum. 1488</td>\n",
       "    </tr>\n",
       "    <tr>\n",
       "      <th>19</th>\n",
       "      <td>3</td>\n",
       "      <td>3</td>\n",
       "      <td>0</td>\n",
       "      <td>\"We hate niggers, we hate faggots and we hate spics\"-kkk rally</td>\n",
       "    </tr>\n",
       "    <tr>\n",
       "      <th>22</th>\n",
       "      <td>3</td>\n",
       "      <td>3</td>\n",
       "      <td>0</td>\n",
       "      <td>\"Why people think gay marriage is okay is beyond me. Sorry I don't want my future son seeing 2 fags walking down the street holding hands an</td>\n",
       "    </tr>\n",
       "    <tr>\n",
       "      <th>30</th>\n",
       "      <td>3</td>\n",
       "      <td>3</td>\n",
       "      <td>0</td>\n",
       "      <td>#California is full of white trash</td>\n",
       "    </tr>\n",
       "    <tr>\n",
       "      <th>34</th>\n",
       "      <td>3</td>\n",
       "      <td>3</td>\n",
       "      <td>0</td>\n",
       "      <td>#Dutch people who live outside of #NewYorkCity are all white trash.</td>\n",
       "    </tr>\n",
       "    <tr>\n",
       "      <th>37</th>\n",
       "      <td>3</td>\n",
       "      <td>3</td>\n",
       "      <td>0</td>\n",
       "      <td>#Minnesota is full of white trash</td>\n",
       "    </tr>\n",
       "    <tr>\n",
       "      <th>42</th>\n",
       "      <td>3</td>\n",
       "      <td>3</td>\n",
       "      <td>0</td>\n",
       "      <td>#SouthCarolina is full of white trash</td>\n",
       "    </tr>\n",
       "    <tr>\n",
       "      <th>46</th>\n",
       "      <td>3</td>\n",
       "      <td>3</td>\n",
       "      <td>0</td>\n",
       "      <td>#VinitaHegwood can get a job at the naacp. Or as The AG. I hear they like \"diversity and tolerance\". As long as you ain't a cracker #tcot</td>\n",
       "    </tr>\n",
       "    <tr>\n",
       "      <th>50</th>\n",
       "      <td>3</td>\n",
       "      <td>3</td>\n",
       "      <td>0</td>\n",
       "      <td>#firefighter is a job for white trash</td>\n",
       "    </tr>\n",
       "    <tr>\n",
       "      <th>59</th>\n",
       "      <td>4</td>\n",
       "      <td>3</td>\n",
       "      <td>1</td>\n",
       "      <td>&amp;#8220;@AlexaDelsanter: This is awkward u fag @corleyhuff @vitchhhh http://t.co/HUDOhA6YQe&amp;#8221; wonder who's awesome tank that is &amp;#128522;</td>\n",
       "    </tr>\n",
       "    <tr>\n",
       "      <th>67</th>\n",
       "      <td>3</td>\n",
       "      <td>3</td>\n",
       "      <td>0</td>\n",
       "      <td>&amp;#8220;@Maxwell_Larsen: When you live this gay, you can't be afraid of two black dicks in your butt\" you fucking queer</td>\n",
       "    </tr>\n",
       "    <tr>\n",
       "      <th>73</th>\n",
       "      <td>3</td>\n",
       "      <td>3</td>\n",
       "      <td>0</td>\n",
       "      <td>&amp;#8220;@NoChillPaz: White kids favorite activities\\n1. Calling people \"niggers\" on Xbox\\n2.fucking their pet\\n3. Shooting up their school&amp;#8221;</td>\n",
       "    </tr>\n",
       "    <tr>\n",
       "      <th>81</th>\n",
       "      <td>3</td>\n",
       "      <td>3</td>\n",
       "      <td>0</td>\n",
       "      <td>&amp;#8220;@iamkrause: No need to thank me, killing niggers is it's own reward.&amp;#8221; \\n\\nDis my pal from our graduation when we was 26</td>\n",
       "    </tr>\n",
       "    <tr>\n",
       "      <th>85</th>\n",
       "      <td>3</td>\n",
       "      <td>3</td>\n",
       "      <td>0</td>\n",
       "      <td>&amp;#8220;@rocafella123 \"@waymoflydenu: If fleek in yo vocabulary you a faggot\"&amp;#8221;</td>\n",
       "    </tr>\n",
       "    <tr>\n",
       "      <th>89</th>\n",
       "      <td>3</td>\n",
       "      <td>3</td>\n",
       "      <td>0</td>\n",
       "      <td>&amp;#8220;@waymoflydenu Why yall think its ok to be faggots?&amp;#8221; and want us to be cool with them</td>\n",
       "    </tr>\n",
       "  </tbody>\n",
       "</table>\n",
       "</div>"
      ],
      "text/plain": [
       "    count  hate_speech  offensive_language  \\\n",
       "1   3      3            0                    \n",
       "2   3      3            0                    \n",
       "3   3      3            0                    \n",
       "6   6      3            2                    \n",
       "13  3      3            0                    \n",
       "17  3      3            0                    \n",
       "19  3      3            0                    \n",
       "22  3      3            0                    \n",
       "30  3      3            0                    \n",
       "34  3      3            0                    \n",
       "37  3      3            0                    \n",
       "42  3      3            0                    \n",
       "46  3      3            0                    \n",
       "50  3      3            0                    \n",
       "59  4      3            1                    \n",
       "67  3      3            0                    \n",
       "73  3      3            0                    \n",
       "81  3      3            0                    \n",
       "85  3      3            0                    \n",
       "89  3      3            0                    \n",
       "\n",
       "                                                                                                                                               tweet  \n",
       "1   \"@CB_Baby24: @white_thunduh alsarabsss\" hes a beaner smh you can tell hes a mexican                                                               \n",
       "2   \"@DevilGrimz: @VigxRArts you're fucking gay, blacklisted hoe\" Holding out for #TehGodClan anyway http://t.co/xUCcwoetmn                           \n",
       "3   \"@MarkRoundtreeJr: LMFAOOOO I HATE BLACK PEOPLE https://t.co/RNvD2nLCDR\" This is why there's black people and niggers                             \n",
       "6   \"@RTNBA: Drakes new shoes that will be released by Nike/Jordan.... Yes, there's glitter on the shoes http://t.co/QCtPLxHEXM\" ....dudes a fag      \n",
       "13  \"Hey go look at that video of the man that found the kidnapped girls in Ohio........what a nigger\" - #shitmybosssays                              \n",
       "17  \"Our people\". Now is the time for the Aryan race 2 stand up and say \"no more\". Before the mongerls turn the world into a ghetto slum. 1488        \n",
       "19  \"We hate niggers, we hate faggots and we hate spics\"-kkk rally                                                                                    \n",
       "22  \"Why people think gay marriage is okay is beyond me. Sorry I don't want my future son seeing 2 fags walking down the street holding hands an      \n",
       "30  #California is full of white trash                                                                                                                \n",
       "34  #Dutch people who live outside of #NewYorkCity are all white trash.                                                                               \n",
       "37  #Minnesota is full of white trash                                                                                                                 \n",
       "42  #SouthCarolina is full of white trash                                                                                                             \n",
       "46  #VinitaHegwood can get a job at the naacp. Or as The AG. I hear they like \"diversity and tolerance\". As long as you ain't a cracker #tcot         \n",
       "50  #firefighter is a job for white trash                                                                                                             \n",
       "59  &#8220;@AlexaDelsanter: This is awkward u fag @corleyhuff @vitchhhh http://t.co/HUDOhA6YQe&#8221; wonder who's awesome tank that is &#128522;     \n",
       "67  &#8220;@Maxwell_Larsen: When you live this gay, you can't be afraid of two black dicks in your butt\" you fucking queer                            \n",
       "73  &#8220;@NoChillPaz: White kids favorite activities\\n1. Calling people \"niggers\" on Xbox\\n2.fucking their pet\\n3. Shooting up their school&#8221;  \n",
       "81  &#8220;@iamkrause: No need to thank me, killing niggers is it's own reward.&#8221; \\n\\nDis my pal from our graduation when we was 26              \n",
       "85  &#8220;@rocafella123 \"@waymoflydenu: If fleek in yo vocabulary you a faggot\"&#8221;                                                               \n",
       "89  &#8220;@waymoflydenu Why yall think its ok to be faggots?&#8221; and want us to be cool with them                                                 "
      ]
     },
     "execution_count": 183,
     "metadata": {},
     "output_type": "execute_result"
    }
   ],
   "source": [
    "hatetweets1 = hatetweets[hatetweets['hate_speech'] > 2]\n",
    "print(\"There are\", len(hatetweets1.index), \"tweets in this database where 3 or more users agree it's hate speech\\n\")\n",
    "hatetweets1.head(20)"
   ]
  },
  {
   "cell_type": "markdown",
   "metadata": {
    "colab_type": "text",
    "id": "20X_orQVVYd8"
   },
   "source": [
    "These tweets, in my opinion, qualify as hate speech.\n",
    "\n",
    "### Cleaning and Saving Data"
   ]
  },
  {
   "cell_type": "code",
   "execution_count": 12,
   "metadata": {},
   "outputs": [
    {
     "name": "stdout",
     "output_type": "stream",
     "text": [
      "<class 'pandas.core.frame.DataFrame'>\n",
      "RangeIndex: 23661 entries, 0 to 23660\n",
      "Data columns (total 3 columns):\n",
      "Tweet          23661 non-null object\n",
      "Hate_Speech    23661 non-null int32\n",
      "Offensive      23661 non-null int32\n",
      "dtypes: int32(2), object(1)\n",
      "memory usage: 369.8+ KB\n"
     ]
    }
   ],
   "source": [
    "#Load data again\n",
    "sometweets = pd.read_csv(os.path.join(DATA_DIR, 'ICVSM_2017.csv'), sep=',', encoding='utf-8')\n",
    "\n",
    "#initialise cols to all 0's\n",
    "sometweets['Hate_Speech'] = 0\n",
    "sometweets['Offensive'] = 0\n",
    "\n",
    "sometweets.rename(columns = {'tweet': 'Tweet'}, inplace = True)\n",
    "\n",
    "#Class = 0 means that the entry has been classified as hate speech\n",
    "sometweets['Hate_Speech'] = np.where((sometweets['class'] == 0)\\\n",
    "                                     & (sometweets['hate_speech'] > 2), 1, 0)\n",
    "\n",
    "#Drop tweets that have been annotated as hate speech by 2 or less CF users\n",
    "sometweets.drop(sometweets[(sometweets[\"class\"] == 0) & \\\n",
    "                     (sometweets[\"hate_speech\"] < 3 )].index, inplace = True)\n",
    "\n",
    "#Class = 2 means that the entry has been classified as offensive language\n",
    "sometweets['Offensive'] = np.where((sometweets['class'] == 2), 0, 1)\n",
    "\n",
    "#Drop unnecessary columns\n",
    "sometweets.drop(columns = ['Unnamed: 0', 'count','offensive_language','neither',\\\n",
    "                           'class','hate_speech'], axis = 1, inplace = True)\n",
    "\n",
    "sometweets.reset_index(drop = True, inplace = True)\n",
    "sometweets.info()"
   ]
  },
  {
   "cell_type": "code",
   "execution_count": 13,
   "metadata": {},
   "outputs": [
    {
     "name": "stdout",
     "output_type": "stream",
     "text": [
      "Breakdown for ICVSM 2017 Data\n",
      "\n",
      "Hate Speech Column Labelling:\n",
      " 0    23353\n",
      "1    308  \n",
      "Name: Hate_Speech, dtype: int64\n",
      "\n",
      "Offensive Column Labelling:\n",
      " 1    19498\n",
      "0    4163 \n",
      "Name: Offensive, dtype: int64\n",
      "\n",
      "Where 1 is positive, 0 is negative and - is ambiguous\n"
     ]
    }
   ],
   "source": [
    "sometweets['Tweet'] = sometweets['Tweet'].map(lambda x: x.encode('unicode-escape').decode('utf-8'))\n",
    "\n",
    "sometweets.to_csv(os.path.join(DATA_DIR, 'cleaned/sometweets.csv'), sep = ',', encoding='utf-8', \\\n",
    "                 index = False, header = True)\n",
    "\n",
    "print(\"Breakdown for ICVSM 2017 Data\")\n",
    "print(\"\\nHate Speech Column Labelling:\\n\", sometweets.Hate_Speech.value_counts())\n",
    "print(\"\\nOffensive Column Labelling:\\n\", sometweets.Offensive.value_counts())\n",
    "print(\"\\nWhere 1 is positive, 0 is negative and - is ambiguous\")"
   ]
  },
  {
   "cell_type": "markdown",
   "metadata": {
    "colab_type": "text",
    "id": "EBG60vQdVYd8"
   },
   "source": [
    "## A New Database - ICVSM 2018 Abusive Behaviour Database\n",
    "\n",
    "In all, about 100,000 tweets. Labelled one of four categories: Normal, abusive, hateful and spam.\n",
    "\n",
    "The authors of this dataset clearly state that the entry `hateful` is meant to represent hate speech and they have instructed their annotators to label these tweets on that basis. The use a definition quite close to the one I am using to guide my report:\n",
    "\n",
    "><i>Language used to express hatred towards a targeted individual or group, or is  intended to be derogatory, to humiliate, or to insult the members of the group, on the basis of attributes such as race, religion, ethnic origin, sexual orientation, disability, or gender.\n",
    "\n",
    "Ref: [Antigoni-Maria Founta, Constantinos Djouvas, Despoina Chatzakou, Ilias Leontiadis, Jeremy Blackburn, Gianluca Stringhini, Athena Vakali, Michael\n",
    "Sirivianos, and Nicolas Kourtellis. 2018. Large scale crowdsourcing and characterization of twitter abusive behavior. AAAI](https://arxiv.org/pdf/1802.00393.pdf\"\")"
   ]
  },
  {
   "cell_type": "code",
   "execution_count": 8,
   "metadata": {
    "colab": {
     "base_uri": "https://localhost:8080/",
     "height": 163
    },
    "colab_type": "code",
    "executionInfo": {
     "elapsed": 3228,
     "status": "ok",
     "timestamp": 1578406884740,
     "user": {
      "displayName": "Fionn McConville",
      "photoUrl": "https://lh3.googleusercontent.com/a-/AAuE7mDQ4Te6RRh1B7ENukR6-4xoNAaV2ajfGgNpCD6y=s64",
      "userId": "01326935138765014160"
     },
     "user_tz": 0
    },
    "id": "T8DGZl8QVYd8",
    "outputId": "c8699d55-1f88-4897-e447-ae4c85ae0830"
   },
   "outputs": [
    {
     "name": "stdout",
     "output_type": "stream",
     "text": [
      "<class 'pandas.core.frame.DataFrame'>\n",
      "RangeIndex: 99996 entries, 0 to 99995\n",
      "Data columns (total 3 columns):\n",
      "tweets                     99996 non-null object\n",
      "majority label             99996 non-null object\n",
      "votes on majority label    99996 non-null int64\n",
      "dtypes: int64(1), object(2)\n",
      "memory usage: 2.3+ MB\n"
     ]
    }
   ],
   "source": [
    "icvsm = pd.read_csv( os.path.join(DATA_DIR, 'ICVSM_2018_dataset/hatespeech_text_label_vote.csv'), \\\n",
    "                    sep='\\t', names =[\"tweets\", \"majority label\", \"votes on majority label\"  ], encoding ='utf-8')\n",
    "icvsm.info()"
   ]
  },
  {
   "cell_type": "code",
   "execution_count": 9,
   "metadata": {
    "colab": {
     "base_uri": "https://localhost:8080/",
     "height": 555
    },
    "colab_type": "code",
    "executionInfo": {
     "elapsed": 807,
     "status": "ok",
     "timestamp": 1578406900237,
     "user": {
      "displayName": "Fionn McConville",
      "photoUrl": "https://lh3.googleusercontent.com/a-/AAuE7mDQ4Te6RRh1B7ENukR6-4xoNAaV2ajfGgNpCD6y=s64",
      "userId": "01326935138765014160"
     },
     "user_tz": 0
    },
    "id": "t9DAsJxDVYd-",
    "outputId": "ff0d95a5-227b-41af-ef8f-12d2d0092bb5"
   },
   "outputs": [
    {
     "data": {
      "text/html": [
       "<div>\n",
       "<style scoped>\n",
       "    .dataframe tbody tr th:only-of-type {\n",
       "        vertical-align: middle;\n",
       "    }\n",
       "\n",
       "    .dataframe tbody tr th {\n",
       "        vertical-align: top;\n",
       "    }\n",
       "\n",
       "    .dataframe thead th {\n",
       "        text-align: right;\n",
       "    }\n",
       "</style>\n",
       "<table border=\"1\" class=\"dataframe\">\n",
       "  <thead>\n",
       "    <tr style=\"text-align: right;\">\n",
       "      <th></th>\n",
       "      <th>tweets</th>\n",
       "      <th>majority label</th>\n",
       "      <th>votes on majority label</th>\n",
       "    </tr>\n",
       "  </thead>\n",
       "  <tbody>\n",
       "    <tr>\n",
       "      <th>0</th>\n",
       "      <td>Beats by Dr. Dre urBeats Wired In-Ear Headphones - White https://t.co/9tREpqfyW4 https://t.co/FCaWyWRbpE</td>\n",
       "      <td>spam</td>\n",
       "      <td>4</td>\n",
       "    </tr>\n",
       "    <tr>\n",
       "      <th>1</th>\n",
       "      <td>RT @Papapishu: Man it would fucking rule if we had a party that was against perpetual warfare.</td>\n",
       "      <td>abusive</td>\n",
       "      <td>4</td>\n",
       "    </tr>\n",
       "    <tr>\n",
       "      <th>2</th>\n",
       "      <td>It is time to draw close to Him &amp;#128591;&amp;#127995; Father, I draw near to you now and always ❤️ https://t.co/MVRBBX2aqJ</td>\n",
       "      <td>normal</td>\n",
       "      <td>4</td>\n",
       "    </tr>\n",
       "    <tr>\n",
       "      <th>3</th>\n",
       "      <td>if you notice me start to act different or distant.. it's bc i peeped something you did or i notice a difference in how you act &amp;amp; ian fw it.</td>\n",
       "      <td>normal</td>\n",
       "      <td>5</td>\n",
       "    </tr>\n",
       "    <tr>\n",
       "      <th>4</th>\n",
       "      <td>Forget unfollowers, I believe in growing. 7 new followers in the last day! Stats via https://t.co/bunPHQNXhj</td>\n",
       "      <td>normal</td>\n",
       "      <td>3</td>\n",
       "    </tr>\n",
       "  </tbody>\n",
       "</table>\n",
       "</div>"
      ],
      "text/plain": [
       "                                                                                                                                             tweets  \\\n",
       "0  Beats by Dr. Dre urBeats Wired In-Ear Headphones - White https://t.co/9tREpqfyW4 https://t.co/FCaWyWRbpE                                           \n",
       "1  RT @Papapishu: Man it would fucking rule if we had a party that was against perpetual warfare.                                                     \n",
       "2  It is time to draw close to Him &#128591;&#127995; Father, I draw near to you now and always ❤️ https://t.co/MVRBBX2aqJ                            \n",
       "3  if you notice me start to act different or distant.. it's bc i peeped something you did or i notice a difference in how you act &amp; ian fw it.   \n",
       "4  Forget unfollowers, I believe in growing. 7 new followers in the last day! Stats via https://t.co/bunPHQNXhj                                       \n",
       "\n",
       "  majority label  votes on majority label  \n",
       "0  spam           4                        \n",
       "1  abusive        4                        \n",
       "2  normal         4                        \n",
       "3  normal         5                        \n",
       "4  normal         3                        "
      ]
     },
     "execution_count": 9,
     "metadata": {},
     "output_type": "execute_result"
    }
   ],
   "source": [
    "icvsm.head()"
   ]
  },
  {
   "cell_type": "code",
   "execution_count": 10,
   "metadata": {
    "colab": {
     "base_uri": "https://localhost:8080/",
     "height": 976
    },
    "colab_type": "code",
    "executionInfo": {
     "elapsed": 492,
     "status": "ok",
     "timestamp": 1578406908442,
     "user": {
      "displayName": "Fionn McConville",
      "photoUrl": "https://lh3.googleusercontent.com/a-/AAuE7mDQ4Te6RRh1B7ENukR6-4xoNAaV2ajfGgNpCD6y=s64",
      "userId": "01326935138765014160"
     },
     "user_tz": 0
    },
    "id": "Hz5YTmV6VYd_",
    "outputId": "88d4fe2e-99e4-4e54-bcfd-b2c64b9274b6"
   },
   "outputs": [
    {
     "data": {
      "text/html": [
       "<div>\n",
       "<style scoped>\n",
       "    .dataframe tbody tr th:only-of-type {\n",
       "        vertical-align: middle;\n",
       "    }\n",
       "\n",
       "    .dataframe tbody tr th {\n",
       "        vertical-align: top;\n",
       "    }\n",
       "\n",
       "    .dataframe thead th {\n",
       "        text-align: right;\n",
       "    }\n",
       "</style>\n",
       "<table border=\"1\" class=\"dataframe\">\n",
       "  <thead>\n",
       "    <tr style=\"text-align: right;\">\n",
       "      <th></th>\n",
       "      <th>tweets</th>\n",
       "      <th>majority label</th>\n",
       "      <th>votes on majority label</th>\n",
       "    </tr>\n",
       "  </thead>\n",
       "  <tbody>\n",
       "    <tr>\n",
       "      <th>21</th>\n",
       "      <td>Bad day for #Kyrgyzstan. Suspect in St. Petersburg metro bombing identified as #Kyrgyz, opposition politician Japarov reportedly kills self.</td>\n",
       "      <td>hateful</td>\n",
       "      <td>2</td>\n",
       "    </tr>\n",
       "    <tr>\n",
       "      <th>34</th>\n",
       "      <td>I'm over the fucking moon we've cleared up the definition of an act of war. Now, about that slap on the wrist we just gave Syria.</td>\n",
       "      <td>hateful</td>\n",
       "      <td>3</td>\n",
       "    </tr>\n",
       "    <tr>\n",
       "      <th>37</th>\n",
       "      <td>RT @ynaoivw: nah bitch i hate u https://t.co/fHX8y7esMH</td>\n",
       "      <td>hateful</td>\n",
       "      <td>3</td>\n",
       "    </tr>\n",
       "    <tr>\n",
       "      <th>71</th>\n",
       "      <td>RT @WaysThingsWork: I fucking hate people &amp;#128514;&amp;#128514; https://t.co/Qz5gihmcQF</td>\n",
       "      <td>hateful</td>\n",
       "      <td>3</td>\n",
       "    </tr>\n",
       "    <tr>\n",
       "      <th>106</th>\n",
       "      <td>@VanJones68 You looked like a complete pathetic idiot tonight. How could you be so stupid Mr. Ghetto. My God you… https://t.co/eEpAih1GAj</td>\n",
       "      <td>hateful</td>\n",
       "      <td>3</td>\n",
       "    </tr>\n",
       "    <tr>\n",
       "      <th>147</th>\n",
       "      <td>RT @___DestinyJadai: Never argue with a bitch you can kill by just stepping out on your WORST day &amp;#128514; we both know why that bitch mad sis &amp;#129335;&amp;#127998;‍…</td>\n",
       "      <td>hateful</td>\n",
       "      <td>4</td>\n",
       "    </tr>\n",
       "    <tr>\n",
       "      <th>152</th>\n",
       "      <td>RT @Woodparkweirdo: hell yeah I VAPE V: hate A: women P E</td>\n",
       "      <td>hateful</td>\n",
       "      <td>3</td>\n",
       "    </tr>\n",
       "    <tr>\n",
       "      <th>194</th>\n",
       "      <td>I talked well to you all along. I do not feel like I'm answering you bad. Damn it!!</td>\n",
       "      <td>hateful</td>\n",
       "      <td>2</td>\n",
       "    </tr>\n",
       "    <tr>\n",
       "      <th>221</th>\n",
       "      <td>RT @Jedi_Pite_Bre: Which state allowed 800K illegal aliens to get a license? You guessed it right-the retarded state of California https://…</td>\n",
       "      <td>hateful</td>\n",
       "      <td>3</td>\n",
       "    </tr>\n",
       "    <tr>\n",
       "      <th>234</th>\n",
       "      <td>@domy1337 @MainGame6 this is polish hooker look man, come here and you'll meet them next to some forests on the road lmao</td>\n",
       "      <td>hateful</td>\n",
       "      <td>2</td>\n",
       "    </tr>\n",
       "    <tr>\n",
       "      <th>245</th>\n",
       "      <td>ADULT SIBLING ABUSE SURVIVORS are often gossiped about for being the family idiot, misfit, or crazy relative. https://t.co/F6SvXWrTFm</td>\n",
       "      <td>hateful</td>\n",
       "      <td>3</td>\n",
       "    </tr>\n",
       "    <tr>\n",
       "      <th>287</th>\n",
       "      <td>@TLDRJones @sahluwal @IvankaTrump Learn to spell before you comment...Ivanka is a major nusinesz woman with a world… https://t.co/BKWgAgFzsr</td>\n",
       "      <td>hateful</td>\n",
       "      <td>4</td>\n",
       "    </tr>\n",
       "    <tr>\n",
       "      <th>313</th>\n",
       "      <td>Just bought a bunch of Tupperware and grown up colt thinks it's great but little colt hates how much he's turning into his parents</td>\n",
       "      <td>hateful</td>\n",
       "      <td>2</td>\n",
       "    </tr>\n",
       "    <tr>\n",
       "      <th>318</th>\n",
       "      <td>@JayFoee_ just another dumbass bronco fan swear I hate this fanbase dawg &amp;#128557;</td>\n",
       "      <td>hateful</td>\n",
       "      <td>4</td>\n",
       "    </tr>\n",
       "    <tr>\n",
       "      <th>337</th>\n",
       "      <td>RT @iamwilliewill: This what happens when you separate yo self from niggas who don't eat they food cold. You FLOURISH... https://t.co/FzTIA…</td>\n",
       "      <td>hateful</td>\n",
       "      <td>3</td>\n",
       "    </tr>\n",
       "    <tr>\n",
       "      <th>350</th>\n",
       "      <td>@IronofMercy “Unlike you, I'm not a weakling and have a high Insanity resistance. No I'm lying, but I don't fight it.”</td>\n",
       "      <td>hateful</td>\n",
       "      <td>2</td>\n",
       "    </tr>\n",
       "    <tr>\n",
       "      <th>352</th>\n",
       "      <td>I don't give a fuck about NONE of y'all UGLY bitches at Riverdale lmfao get mad hoe</td>\n",
       "      <td>hateful</td>\n",
       "      <td>3</td>\n",
       "    </tr>\n",
       "    <tr>\n",
       "      <th>364</th>\n",
       "      <td>RT @ItsMeGrizz: Bad bitches don't take days off https://t.co/eazGi8KnNh</td>\n",
       "      <td>hateful</td>\n",
       "      <td>3</td>\n",
       "    </tr>\n",
       "    <tr>\n",
       "      <th>394</th>\n",
       "      <td>A kiosk woman tried to scam me to buy $200 skin cream. Lady, I worked at Lush...I know all the tricks.</td>\n",
       "      <td>hateful</td>\n",
       "      <td>2</td>\n",
       "    </tr>\n",
       "    <tr>\n",
       "      <th>400</th>\n",
       "      <td>@JuneGrayy @_BriaPlease @SchoolEm_Jonesy Stupid as fuck and mad cuz she couldn't read &amp;#128514;&amp;#128514;&amp;#128514;</td>\n",
       "      <td>hateful</td>\n",
       "      <td>5</td>\n",
       "    </tr>\n",
       "  </tbody>\n",
       "</table>\n",
       "</div>"
      ],
      "text/plain": [
       "                                                                                                                                                                   tweets  \\\n",
       "21   Bad day for #Kyrgyzstan. Suspect in St. Petersburg metro bombing identified as #Kyrgyz, opposition politician Japarov reportedly kills self.                           \n",
       "34   I'm over the fucking moon we've cleared up the definition of an act of war. Now, about that slap on the wrist we just gave Syria.                                      \n",
       "37   RT @ynaoivw: nah bitch i hate u https://t.co/fHX8y7esMH                                                                                                                \n",
       "71   RT @WaysThingsWork: I fucking hate people &#128514;&#128514; https://t.co/Qz5gihmcQF                                                                                   \n",
       "106  @VanJones68 You looked like a complete pathetic idiot tonight. How could you be so stupid Mr. Ghetto. My God you… https://t.co/eEpAih1GAj                              \n",
       "147  RT @___DestinyJadai: Never argue with a bitch you can kill by just stepping out on your WORST day &#128514; we both know why that bitch mad sis &#129335;&#127998;‍…   \n",
       "152  RT @Woodparkweirdo: hell yeah I VAPE V: hate A: women P E                                                                                                              \n",
       "194  I talked well to you all along. I do not feel like I'm answering you bad. Damn it!!                                                                                    \n",
       "221  RT @Jedi_Pite_Bre: Which state allowed 800K illegal aliens to get a license? You guessed it right-the retarded state of California https://…                           \n",
       "234  @domy1337 @MainGame6 this is polish hooker look man, come here and you'll meet them next to some forests on the road lmao                                              \n",
       "245  ADULT SIBLING ABUSE SURVIVORS are often gossiped about for being the family idiot, misfit, or crazy relative. https://t.co/F6SvXWrTFm                                  \n",
       "287  @TLDRJones @sahluwal @IvankaTrump Learn to spell before you comment...Ivanka is a major nusinesz woman with a world… https://t.co/BKWgAgFzsr                           \n",
       "313  Just bought a bunch of Tupperware and grown up colt thinks it's great but little colt hates how much he's turning into his parents                                     \n",
       "318  @JayFoee_ just another dumbass bronco fan swear I hate this fanbase dawg &#128557;                                                                                     \n",
       "337  RT @iamwilliewill: This what happens when you separate yo self from niggas who don't eat they food cold. You FLOURISH... https://t.co/FzTIA…                           \n",
       "350  @IronofMercy “Unlike you, I'm not a weakling and have a high Insanity resistance. No I'm lying, but I don't fight it.”                                                 \n",
       "352  I don't give a fuck about NONE of y'all UGLY bitches at Riverdale lmfao get mad hoe                                                                                    \n",
       "364  RT @ItsMeGrizz: Bad bitches don't take days off https://t.co/eazGi8KnNh                                                                                                \n",
       "394  A kiosk woman tried to scam me to buy $200 skin cream. Lady, I worked at Lush...I know all the tricks.                                                                 \n",
       "400  @JuneGrayy @_BriaPlease @SchoolEm_Jonesy Stupid as fuck and mad cuz she couldn't read &#128514;&#128514;&#128514;                                                      \n",
       "\n",
       "    majority label  votes on majority label  \n",
       "21   hateful        2                        \n",
       "34   hateful        3                        \n",
       "37   hateful        3                        \n",
       "71   hateful        3                        \n",
       "106  hateful        3                        \n",
       "147  hateful        4                        \n",
       "152  hateful        3                        \n",
       "194  hateful        2                        \n",
       "221  hateful        3                        \n",
       "234  hateful        2                        \n",
       "245  hateful        3                        \n",
       "287  hateful        4                        \n",
       "313  hateful        2                        \n",
       "318  hateful        4                        \n",
       "337  hateful        3                        \n",
       "350  hateful        2                        \n",
       "352  hateful        3                        \n",
       "364  hateful        3                        \n",
       "394  hateful        2                        \n",
       "400  hateful        5                        "
      ]
     },
     "execution_count": 10,
     "metadata": {},
     "output_type": "execute_result"
    }
   ],
   "source": [
    "hatefultweets = icvsm[icvsm[\"majority label\"] == \"hateful\" ]\n",
    "hatefultweets.head(20)"
   ]
  },
  {
   "cell_type": "markdown",
   "metadata": {
    "colab_type": "text",
    "id": "iKZW5-pKVYeB"
   },
   "source": [
    "   Most of the above tweets in my opinon, and among the opinions of an informal sampling I took (friends and family), do not definitively qualify as hate speech. Possibly a few of the annotators got confused and thought that the content had hateful intent rather than hate speech and thought they had to annotate to that definition.\n",
    "\n",
    "The only \"hateful\" defined tweets agreed by a majority of the simple sampling I took from the tweets above were:\n",
    "\n",
    "* tweet 106 - `@VanJones68 You looked like a complete pathetic idiot tonight. How could you be so stupid Mr. Ghetto. My God you…`\n",
    "\n",
    "\n",
    "* tweet 221 - `RT @Jedi_Pite_Bre: Which state allowed 800K illegal aliens to get a license? You guessed it right-the retarded state of California`\n",
    "\n",
    "To mitigate this, I'll further explore and see if the tweets, with high agreement among annotators that it contains hateful content, is a better suit to the hate speech definition."
   ]
  },
  {
   "cell_type": "code",
   "execution_count": 193,
   "metadata": {
    "colab": {
     "base_uri": "https://localhost:8080/",
     "height": 573
    },
    "colab_type": "code",
    "executionInfo": {
     "elapsed": 703,
     "status": "ok",
     "timestamp": 1578406943161,
     "user": {
      "displayName": "Fionn McConville",
      "photoUrl": "https://lh3.googleusercontent.com/a-/AAuE7mDQ4Te6RRh1B7ENukR6-4xoNAaV2ajfGgNpCD6y=s64",
      "userId": "01326935138765014160"
     },
     "user_tz": 0
    },
    "id": "uDCyWYp8VYeB",
    "outputId": "f573c24e-a158-4194-8ae7-7664c801dcc4"
   },
   "outputs": [
    {
     "data": {
      "text/html": [
       "<div>\n",
       "<style scoped>\n",
       "    .dataframe tbody tr th:only-of-type {\n",
       "        vertical-align: middle;\n",
       "    }\n",
       "\n",
       "    .dataframe tbody tr th {\n",
       "        vertical-align: top;\n",
       "    }\n",
       "\n",
       "    .dataframe thead th {\n",
       "        text-align: right;\n",
       "    }\n",
       "</style>\n",
       "<table border=\"1\" class=\"dataframe\">\n",
       "  <thead>\n",
       "    <tr style=\"text-align: right;\">\n",
       "      <th></th>\n",
       "      <th>tweets</th>\n",
       "      <th>majority label</th>\n",
       "      <th>votes on majority label</th>\n",
       "    </tr>\n",
       "  </thead>\n",
       "  <tbody>\n",
       "    <tr>\n",
       "      <th>10333</th>\n",
       "      <td>Hanging at UB on Friday, Unsacred headlines the metal showcase at Macrock on Saturday, then heading to Damaged City for Marked Men on Sunday</td>\n",
       "      <td>hateful</td>\n",
       "      <td>16</td>\n",
       "    </tr>\n",
       "    <tr>\n",
       "      <th>13919</th>\n",
       "      <td>This was a proportionate response by the United States. It is not designed to overthrow the Assad regime...… https://t.co/PqdEWMQrhy</td>\n",
       "      <td>hateful</td>\n",
       "      <td>18</td>\n",
       "    </tr>\n",
       "    <tr>\n",
       "      <th>15481</th>\n",
       "      <td>I had two exams and had to choose 1 or the other to study for and the 1 I didn't study for I passed with an 81 &amp;#127881;</td>\n",
       "      <td>hateful</td>\n",
       "      <td>8</td>\n",
       "    </tr>\n",
       "    <tr>\n",
       "      <th>22478</th>\n",
       "      <td>South Korean OF Kim makes Orioles opening day roster #BaltimoreOrioles #OriolesOpeningDay #Orioles #Orioles https://t.co/erAcYNSsUb</td>\n",
       "      <td>hateful</td>\n",
       "      <td>10</td>\n",
       "    </tr>\n",
       "    <tr>\n",
       "      <th>29915</th>\n",
       "      <td>Black people low budget cookouts have quarter legs for the old heads and bullshit hotdogs for the \"kids\" &amp;#128557;&amp;#128557;&amp;#128557;&amp;#128557;&amp;#128557;</td>\n",
       "      <td>hateful</td>\n",
       "      <td>14</td>\n",
       "    </tr>\n",
       "    <tr>\n",
       "      <th>33403</th>\n",
       "      <td>&amp;#128196; #WinterEvent2017 On the attraction of two perfectly conducting plat on-the-attraction-of-two-perfectly-conducting-plates.pdf</td>\n",
       "      <td>hateful</td>\n",
       "      <td>22</td>\n",
       "    </tr>\n",
       "    <tr>\n",
       "      <th>37228</th>\n",
       "      <td>#DickCavett asks Art Garfunkel who broke up Simon &amp;amp; Garfunkel. AG doesn't remember. I'm guessing suppression @decadesnetwork.</td>\n",
       "      <td>hateful</td>\n",
       "      <td>20</td>\n",
       "    </tr>\n",
       "    <tr>\n",
       "      <th>38192</th>\n",
       "      <td>Damn niggas was comparing this season to the farm which is really bad https://t.co/OVCBErCZDC</td>\n",
       "      <td>hateful</td>\n",
       "      <td>10</td>\n",
       "    </tr>\n",
       "    <tr>\n",
       "      <th>39529</th>\n",
       "      <td>RT @isabelaseraffim: insomnia ain't a joke bruh I'm really a fucking zombie at this point</td>\n",
       "      <td>hateful</td>\n",
       "      <td>20</td>\n",
       "    </tr>\n",
       "    <tr>\n",
       "      <th>43602</th>\n",
       "      <td>RT @iamwilliewill: This what happens when you separate yo self from niggas who don't eat they food cold. You FLOURISH... https://t.co/FzTIA…</td>\n",
       "      <td>hateful</td>\n",
       "      <td>15</td>\n",
       "    </tr>\n",
       "  </tbody>\n",
       "</table>\n",
       "</div>"
      ],
      "text/plain": [
       "                                                                                                                                                       tweets  \\\n",
       "10333  Hanging at UB on Friday, Unsacred headlines the metal showcase at Macrock on Saturday, then heading to Damaged City for Marked Men on Sunday             \n",
       "13919  This was a proportionate response by the United States. It is not designed to overthrow the Assad regime...… https://t.co/PqdEWMQrhy                     \n",
       "15481  I had two exams and had to choose 1 or the other to study for and the 1 I didn't study for I passed with an 81 &#127881;                                 \n",
       "22478  South Korean OF Kim makes Orioles opening day roster #BaltimoreOrioles #OriolesOpeningDay #Orioles #Orioles https://t.co/erAcYNSsUb                      \n",
       "29915  Black people low budget cookouts have quarter legs for the old heads and bullshit hotdogs for the \"kids\" &#128557;&#128557;&#128557;&#128557;&#128557;   \n",
       "33403  &#128196; #WinterEvent2017 On the attraction of two perfectly conducting plat on-the-attraction-of-two-perfectly-conducting-plates.pdf                   \n",
       "37228  #DickCavett asks Art Garfunkel who broke up Simon &amp; Garfunkel. AG doesn't remember. I'm guessing suppression @decadesnetwork.                        \n",
       "38192  Damn niggas was comparing this season to the farm which is really bad https://t.co/OVCBErCZDC                                                            \n",
       "39529  RT @isabelaseraffim: insomnia ain't a joke bruh I'm really a fucking zombie at this point                                                                \n",
       "43602  RT @iamwilliewill: This what happens when you separate yo self from niggas who don't eat they food cold. You FLOURISH... https://t.co/FzTIA…             \n",
       "\n",
       "      majority label  votes on majority label  \n",
       "10333  hateful        16                       \n",
       "13919  hateful        18                       \n",
       "15481  hateful        8                        \n",
       "22478  hateful        10                       \n",
       "29915  hateful        14                       \n",
       "33403  hateful        22                       \n",
       "37228  hateful        20                       \n",
       "38192  hateful        10                       \n",
       "39529  hateful        20                       \n",
       "43602  hateful        15                       "
      ]
     },
     "execution_count": 193,
     "metadata": {},
     "output_type": "execute_result"
    }
   ],
   "source": [
    "morehatefultweets = hatefultweets[hatefultweets[\"votes on majority label\"] > 7 ]\n",
    "morehatefultweets.head(10)"
   ]
  },
  {
   "cell_type": "markdown",
   "metadata": {
    "colab_type": "text",
    "id": "sG5Qw0N7VYeE"
   },
   "source": [
    "This does not seem to be much better. The tweets marked as hateful should be discarded from the final dataset because of the unreliability of annotators.\n",
    "\n",
    "<b>This will result in losing around 5000 tweets.</b>\n",
    "\n",
    "\n",
    "These tweets will be useful for the further-pretraining stage of my project, especially as there is an abundance of informal slang and abusive terms which is hard to come by on tweet datasets online. \n",
    "\n",
    "### Cleaning and Saving Data"
   ]
  },
  {
   "cell_type": "code",
   "execution_count": 196,
   "metadata": {
    "colab": {
     "base_uri": "https://localhost:8080/",
     "height": 108
    },
    "colab_type": "code",
    "executionInfo": {
     "elapsed": 561,
     "status": "ok",
     "timestamp": 1578407416975,
     "user": {
      "displayName": "Fionn McConville",
      "photoUrl": "https://lh3.googleusercontent.com/a-/AAuE7mDQ4Te6RRh1B7ENukR6-4xoNAaV2ajfGgNpCD6y=s64",
      "userId": "01326935138765014160"
     },
     "user_tz": 0
    },
    "id": "QmkBeC47VYeE",
    "outputId": "b63876fd-e3b8-4104-be8b-47393470a612"
   },
   "outputs": [
    {
     "name": "stdout",
     "output_type": "stream",
     "text": [
      "<class 'pandas.core.frame.DataFrame'>\n",
      "RangeIndex: 99996 entries, 0 to 99995\n",
      "Data columns (total 3 columns):\n",
      "Tweet          99996 non-null object\n",
      "Hate_Speech    99996 non-null int64\n",
      "Offensive      99996 non-null int64\n",
      "dtypes: int64(2), object(1)\n",
      "memory usage: 2.3+ MB\n"
     ]
    }
   ],
   "source": [
    "icvsm = pd.read_csv(os.path.join(DATA_DIR, 'ICVSM_2018_dataset/hatespeech_text_label_vote.csv'), sep='\\t', names = \\\n",
    "                    [\"tweets\", \"majority label\", \"votes on majority label\"  ], encoding ='utf-8')\n",
    "\n",
    "icvsm['Hate_Speech'] = 0\n",
    "icvsm['Offensive'] = 0\n",
    "icvsm.rename(columns = {'tweets': 'Tweet'}, inplace = True)\n",
    "icvsm.loc[icvsm['majority label'] == 'abusive', 'Offensive'] = 1\n",
    "icvsm.drop(['majority label', \"votes on majority label\"], inplace = True, axis = 1)\n",
    "icvsm.info()"
   ]
  },
  {
   "cell_type": "code",
   "execution_count": 197,
   "metadata": {},
   "outputs": [
    {
     "name": "stdout",
     "output_type": "stream",
     "text": [
      "Breakdown for ICVSM 2018 Data\n",
      "\n",
      "Hate Speech Column Labelling:\n",
      " 0    99996\n",
      "Name: Hate_Speech, dtype: int64\n",
      "\n",
      "Offensive Column Labelling:\n",
      " 0    72846\n",
      "1    27150\n",
      "Name: Offensive, dtype: int64\n",
      "\n",
      "Where 1 is positive, 0 is negative and - is ambiguous\n"
     ]
    }
   ],
   "source": [
    "icvsm['Tweet'] = icvsm['Tweet'].map(lambda x: x.encode('unicode-escape').decode('utf-8'))\n",
    "\n",
    "icvsm.to_csv(os.path.join(DATA_DIR, 'cleaned/icvsm.csv'), sep = ',', encoding='utf-8', \\\n",
    "                 index = False, header = True)\n",
    "\n",
    "print(\"Breakdown for ICVSM 2018 Data\")\n",
    "print(\"\\nHate Speech Column Labelling:\\n\", icvsm.Hate_Speech.value_counts())\n",
    "print(\"\\nOffensive Column Labelling:\\n\", icvsm.Offensive.value_counts())\n",
    "print(\"\\nWhere 1 is positive, 0 is negative and - is ambiguous\")"
   ]
  },
  {
   "cell_type": "markdown",
   "metadata": {
    "colab_type": "text",
    "id": "GLJ0rkcnVYeH"
   },
   "source": [
    "## Using Tweepy API to mine tweets via ID (Waseem and Hovy 2016)\n",
    "\n",
    "The authors collected tweets based on a set of hate-related terms and users, and manually annotated a subset of their dataset using an outside annotator for reviewing. The final dataset consists of almost 17k tweets, 12% of which are labeled as `racist`, 20% `sexist`, and the rest are considered `normal`.\n",
    "\n",
    "The tweets in this database are all through tweet IDs. So they must be collected through a twitter API. \n",
    "\n",
    "Ref: [Waseem, Zeerak, Hovy and Dirk, Hateful Symbols or Hateful People? Predictive Features for Hate Speech Detection on Twitter, June 2016](https://www.aclweb.org/anthology/N16-2013/ \"\")"
   ]
  },
  {
   "cell_type": "code",
   "execution_count": 48,
   "metadata": {
    "colab": {
     "base_uri": "https://localhost:8080/",
     "height": 198
    },
    "colab_type": "code",
    "executionInfo": {
     "elapsed": 812,
     "status": "ok",
     "timestamp": 1578419260455,
     "user": {
      "displayName": "Fionn McConville",
      "photoUrl": "https://lh3.googleusercontent.com/a-/AAuE7mDQ4Te6RRh1B7ENukR6-4xoNAaV2ajfGgNpCD6y=s64",
      "userId": "01326935138765014160"
     },
     "user_tz": 0
    },
    "id": "lTPlx0m1VYeH",
    "outputId": "69ea8124-c6d9-462c-d662-1445d0d94ff5"
   },
   "outputs": [
    {
     "data": {
      "text/html": [
       "<div>\n",
       "<style scoped>\n",
       "    .dataframe tbody tr th:only-of-type {\n",
       "        vertical-align: middle;\n",
       "    }\n",
       "\n",
       "    .dataframe tbody tr th {\n",
       "        vertical-align: top;\n",
       "    }\n",
       "\n",
       "    .dataframe thead th {\n",
       "        text-align: right;\n",
       "    }\n",
       "</style>\n",
       "<table border=\"1\" class=\"dataframe\">\n",
       "  <thead>\n",
       "    <tr style=\"text-align: right;\">\n",
       "      <th></th>\n",
       "      <th>id</th>\n",
       "      <th>label</th>\n",
       "    </tr>\n",
       "  </thead>\n",
       "  <tbody>\n",
       "    <tr>\n",
       "      <th>0</th>\n",
       "      <td>572342978255048705</td>\n",
       "      <td>racism</td>\n",
       "    </tr>\n",
       "    <tr>\n",
       "      <th>1</th>\n",
       "      <td>572341498827522049</td>\n",
       "      <td>racism</td>\n",
       "    </tr>\n",
       "    <tr>\n",
       "      <th>2</th>\n",
       "      <td>572340476503724032</td>\n",
       "      <td>racism</td>\n",
       "    </tr>\n",
       "    <tr>\n",
       "      <th>3</th>\n",
       "      <td>572334712804384768</td>\n",
       "      <td>racism</td>\n",
       "    </tr>\n",
       "    <tr>\n",
       "      <th>4</th>\n",
       "      <td>572332655397629952</td>\n",
       "      <td>racism</td>\n",
       "    </tr>\n",
       "  </tbody>\n",
       "</table>\n",
       "</div>"
      ],
      "text/plain": [
       "                   id   label\n",
       "0  572342978255048705  racism\n",
       "1  572341498827522049  racism\n",
       "2  572340476503724032  racism\n",
       "3  572334712804384768  racism\n",
       "4  572332655397629952  racism"
      ]
     },
     "execution_count": 48,
     "metadata": {},
     "output_type": "execute_result"
    }
   ],
   "source": [
    "path = r'https://raw.githubusercontent.com/ZeerakW/hatespeech/master/NAACL_SRW_2016.csv'\n",
    "\n",
    "ids = pd.read_csv(path, sep=',', names = ['id', 'label']);\n",
    "\n",
    "ids.head()"
   ]
  },
  {
   "cell_type": "markdown",
   "metadata": {
    "colab_type": "text",
    "id": "q3jAg55IblWk"
   },
   "source": [
    "If using anaconda notebook:"
   ]
  },
  {
   "cell_type": "code",
   "execution_count": 0,
   "metadata": {
    "colab": {},
    "colab_type": "code",
    "id": "hfLydSihVYeJ"
   },
   "outputs": [],
   "source": [
    "#conda install -c conda-forge tweepy"
   ]
  },
  {
   "cell_type": "markdown",
   "metadata": {
    "colab_type": "text",
    "id": "FBuePdITVYeL"
   },
   "source": [
    "Below is a tweepy method to obtain tweets via ID.\n"
   ]
  },
  {
   "cell_type": "code",
   "execution_count": 0,
   "metadata": {
    "colab": {},
    "colab_type": "code",
    "id": "GIUPR1lXVYeL"
   },
   "outputs": [],
   "source": [
    "def lookup_tweets(tweet_IDs, api):\n",
    "    full_tweets = []\n",
    "    tweet_count = len(tweet_IDs)\n",
    "    \n",
    "    try:\n",
    "        for i in range((tweet_count // 100) + 1):\n",
    "            # Catch the last group if it is less than 100 tweets\n",
    "            end_loc = min((i + 1) * 100, tweet_count)\n",
    "            full_tweets.extend(\n",
    "                api.statuses_lookup(id_=tweet_IDs[i * 100:end_loc])\n",
    "            )\n",
    "        return full_tweets\n",
    "    except tweepy.TweepError:\n",
    "        print('Something went wrong, quitting...')"
   ]
  },
  {
   "cell_type": "markdown",
   "metadata": {
    "colab_type": "text",
    "id": "9hs29YrNVYeM"
   },
   "source": [
    "Open a previously created json file with twitter api credentials and also set `wait_on_rate_limit = True`, so as not to exceed wait limits as Twitter API only allows you to extract 100 tweets at a time"
   ]
  },
  {
   "cell_type": "code",
   "execution_count": 200,
   "metadata": {
    "colab": {
     "base_uri": "https://localhost:8080/",
     "height": 128
    },
    "colab_type": "code",
    "executionInfo": {
     "elapsed": 18118,
     "status": "ok",
     "timestamp": 1578419286583,
     "user": {
      "displayName": "Fionn McConville",
      "photoUrl": "https://lh3.googleusercontent.com/a-/AAuE7mDQ4Te6RRh1B7ENukR6-4xoNAaV2ajfGgNpCD6y=s64",
      "userId": "01326935138765014160"
     },
     "user_tz": 0
    },
    "id": "Ip9CjWqbVYeN",
    "outputId": "b61a57ea-9a71-44a9-a807-3fe8e15918a8"
   },
   "outputs": [],
   "source": [
    "# Load twitter API credentials from json file from local file storage\n",
    "with open('C://Users/fionn/Downloads/twitter_credentials.json', \"r\") as f:\n",
    "    creds = json.load(f)\n",
    "\n",
    "\n",
    "auth = tweepy.OAuthHandler(creds['CONSUMER_KEY'], creds['CONSUMER_SECRET'])\n",
    "auth.set_access_token(creds['ACCESS_TOKEN'], creds['ACCESS_SECRET'])\n",
    "\n",
    "api = tweepy.API(auth, wait_on_rate_limit=True, wait_on_rate_limit_notify=True)"
   ]
  },
  {
   "cell_type": "markdown",
   "metadata": {
    "colab_type": "text",
    "id": "t1_o1WtVVYeO"
   },
   "source": [
    "Run below kernel to load tweets via ID - May take a while"
   ]
  },
  {
   "cell_type": "code",
   "execution_count": 0,
   "metadata": {
    "colab": {},
    "colab_type": "code",
    "id": "pM9Y44YAVYeP"
   },
   "outputs": [],
   "source": [
    "good_tweet_ids = list(ids['id']) #Create a list of tweet ids to look up \n",
    "results = lookup_tweets(good_tweet_ids, api) #apply function"
   ]
  },
  {
   "cell_type": "markdown",
   "metadata": {
    "colab_type": "text",
    "id": "2pjpQ0VMVYeQ"
   },
   "source": [
    "Then wrangle the data into one dataframe"
   ]
  },
  {
   "cell_type": "code",
   "execution_count": 0,
   "metadata": {
    "colab": {
     "base_uri": "https://localhost:8080/",
     "height": 400
    },
    "colab_type": "code",
    "executionInfo": {
     "elapsed": 5958,
     "status": "ok",
     "timestamp": 1578419406787,
     "user": {
      "displayName": "Fionn McConville",
      "photoUrl": "https://lh3.googleusercontent.com/a-/AAuE7mDQ4Te6RRh1B7ENukR6-4xoNAaV2ajfGgNpCD6y=s64",
      "userId": "01326935138765014160"
     },
     "user_tz": 0
    },
    "id": "InhA77dIVYeQ",
    "outputId": "3bb1fa7f-df61-4a3f-a636-48fea4e3cfd2"
   },
   "outputs": [
    {
     "data": {
      "text/html": [
       "<div>\n",
       "<style scoped>\n",
       "    .dataframe tbody tr th:only-of-type {\n",
       "        vertical-align: middle;\n",
       "    }\n",
       "\n",
       "    .dataframe tbody tr th {\n",
       "        vertical-align: top;\n",
       "    }\n",
       "\n",
       "    .dataframe thead th {\n",
       "        text-align: right;\n",
       "    }\n",
       "</style>\n",
       "<table border=\"1\" class=\"dataframe\">\n",
       "  <thead>\n",
       "    <tr style=\"text-align: right;\">\n",
       "      <th></th>\n",
       "      <th>id</th>\n",
       "      <th>label</th>\n",
       "      <th>text</th>\n",
       "    </tr>\n",
       "  </thead>\n",
       "  <tbody>\n",
       "    <tr>\n",
       "      <th>0</th>\n",
       "      <td>572342978255048705</td>\n",
       "      <td>racism</td>\n",
       "      <td>So Drasko just said he was impressed the girls cooked half a chicken.. They cooked a whole one  #MKR</td>\n",
       "    </tr>\n",
       "    <tr>\n",
       "      <th>2</th>\n",
       "      <td>572341498827522049</td>\n",
       "      <td>racism</td>\n",
       "      <td>Drasko they didn't cook half a bird you idiot #mkr</td>\n",
       "    </tr>\n",
       "    <tr>\n",
       "      <th>4</th>\n",
       "      <td>572340476503724032</td>\n",
       "      <td>racism</td>\n",
       "      <td>Hopefully someone cooks Drasko in the next ep of #MKR</td>\n",
       "    </tr>\n",
       "    <tr>\n",
       "      <th>6</th>\n",
       "      <td>572334712804384768</td>\n",
       "      <td>racism</td>\n",
       "      <td>of course you were born in serbia...you're as fucked as A Serbian Film #MKR</td>\n",
       "    </tr>\n",
       "    <tr>\n",
       "      <th>7</th>\n",
       "      <td>572332655397629952</td>\n",
       "      <td>racism</td>\n",
       "      <td>These girls are the equivalent of the irritating Asian girls a couple years ago. Well done, 7. #MKR</td>\n",
       "    </tr>\n",
       "    <tr>\n",
       "      <th>8</th>\n",
       "      <td>575949086055997440</td>\n",
       "      <td>racism</td>\n",
       "      <td>#MKR  Lost the plot - where's the big Texan with the elephant sized steaks that they all have for brekkie ?</td>\n",
       "    </tr>\n",
       "    <tr>\n",
       "      <th>10</th>\n",
       "      <td>551659627872415744</td>\n",
       "      <td>racism</td>\n",
       "      <td>NaN</td>\n",
       "    </tr>\n",
       "    <tr>\n",
       "      <th>11</th>\n",
       "      <td>551763146877452288</td>\n",
       "      <td>racism</td>\n",
       "      <td>NaN</td>\n",
       "    </tr>\n",
       "    <tr>\n",
       "      <th>12</th>\n",
       "      <td>551768543277355009</td>\n",
       "      <td>racism</td>\n",
       "      <td>NaN</td>\n",
       "    </tr>\n",
       "    <tr>\n",
       "      <th>13</th>\n",
       "      <td>551769061055811584</td>\n",
       "      <td>racism</td>\n",
       "      <td>NaN</td>\n",
       "    </tr>\n",
       "  </tbody>\n",
       "</table>\n",
       "</div>"
      ],
      "text/plain": [
       "                    id  ...                                                                                                         text\n",
       "0   572342978255048705  ...  So Drasko just said he was impressed the girls cooked half a chicken.. They cooked a whole one  #MKR       \n",
       "2   572341498827522049  ...  Drasko they didn't cook half a bird you idiot #mkr                                                         \n",
       "4   572340476503724032  ...  Hopefully someone cooks Drasko in the next ep of #MKR                                                      \n",
       "6   572334712804384768  ...  of course you were born in serbia...you're as fucked as A Serbian Film #MKR                                \n",
       "7   572332655397629952  ...  These girls are the equivalent of the irritating Asian girls a couple years ago. Well done, 7. #MKR        \n",
       "8   575949086055997440  ...  #MKR  Lost the plot - where's the big Texan with the elephant sized steaks that they all have for brekkie ?\n",
       "10  551659627872415744  ...  NaN                                                                                                        \n",
       "11  551763146877452288  ...  NaN                                                                                                        \n",
       "12  551768543277355009  ...  NaN                                                                                                        \n",
       "13  551769061055811584  ...  NaN                                                                                                        \n",
       "\n",
       "[10 rows x 3 columns]"
      ]
     },
     "execution_count": 39,
     "metadata": {
      "tags": []
     },
     "output_type": "execute_result"
    }
   ],
   "source": [
    "temp = json.dumps([status._json for status in results]) #create JSON\n",
    "newdf = pd.read_json(temp, orient='records')\n",
    "full = ids.merge(newdf,  how='left', on = 'id')\n",
    "tweetSet = full[['id', 'label', 'text']]\n",
    "tweetSet = tweetSet.drop_duplicates(subset = 'id')\n",
    "pd.set_option('display.max_colwidth', -1)\n",
    "tweetSet.head(10)"
   ]
  },
  {
   "cell_type": "code",
   "execution_count": 0,
   "metadata": {
    "colab": {
     "base_uri": "https://localhost:8080/",
     "height": 217
    },
    "colab_type": "code",
    "executionInfo": {
     "elapsed": 530,
     "status": "ok",
     "timestamp": 1578419437775,
     "user": {
      "displayName": "Fionn McConville",
      "photoUrl": "https://lh3.googleusercontent.com/a-/AAuE7mDQ4Te6RRh1B7ENukR6-4xoNAaV2ajfGgNpCD6y=s64",
      "userId": "01326935138765014160"
     },
     "user_tz": 0
    },
    "id": "VSYpG3_YVYeS",
    "outputId": "98d5c54c-62d4-4748-eb90-99e81ba36d09"
   },
   "outputs": [
    {
     "name": "stdout",
     "output_type": "stream",
     "text": [
      "<class 'pandas.core.frame.DataFrame'>\n",
      "Int64Index: 16849 entries, 0 to 16994\n",
      "Data columns (total 3 columns):\n",
      "id       16849 non-null int64\n",
      "label    16849 non-null object\n",
      "text     10821 non-null object\n",
      "dtypes: int64(1), object(2)\n",
      "memory usage: 526.5+ KB\n",
      "None\n",
      " \n",
      "Amount of tweet IDs not returning tweets -  6028\n"
     ]
    }
   ],
   "source": [
    "print(tweetSet.info())\n",
    "dups = len(tweetSet) - tweetSet['text'].count()\n",
    "print(\" \\nAmount of tweet IDs not returning tweets - \", dups)"
   ]
  },
  {
   "cell_type": "markdown",
   "metadata": {
    "colab_type": "text",
    "id": "6oLEoTvKVYeT"
   },
   "source": [
    "### Suspended Accounts:\n",
    "\n",
    "Although from our original dataset with tweet IDs we have 16,849 tweets total, we only retrieve 10821 tweets with our function as of writing. This is because in many cases the twitter accounts associated with these tweets have been suspended from twitter.\n",
    "    \n",
    "As we can see above, some tweet IDs have retrieved NaN for the tweet text because of this\n",
    "\n",
    "Demonstrated below is an attempt to retrieve one of these tweets."
   ]
  },
  {
   "cell_type": "code",
   "execution_count": 201,
   "metadata": {
    "colab": {
     "base_uri": "https://localhost:8080/",
     "height": 35
    },
    "colab_type": "code",
    "executionInfo": {
     "elapsed": 546,
     "status": "ok",
     "timestamp": 1578419443829,
     "user": {
      "displayName": "Fionn McConville",
      "photoUrl": "https://lh3.googleusercontent.com/a-/AAuE7mDQ4Te6RRh1B7ENukR6-4xoNAaV2ajfGgNpCD6y=s64",
      "userId": "01326935138765014160"
     },
     "user_tz": 0
    },
    "id": "R-G2nEkDVYeU",
    "outputId": "6f8939cf-b76c-4991-b711-74831475ae93"
   },
   "outputs": [
    {
     "name": "stdout",
     "output_type": "stream",
     "text": [
      "[{'code': 63, 'message': 'User has been suspended.'}]\n"
     ]
    }
   ],
   "source": [
    "try:\n",
    "    tweet = api.get_status(551763146877452288) # Index 11 in above tweetSet dataset\n",
    "except tweepy.TweepError as err:\n",
    "    if err.api_code == 63:\n",
    "        print(err.reason)\n",
    "    else:\n",
    "        print(tweet.text)"
   ]
  },
  {
   "cell_type": "code",
   "execution_count": 0,
   "metadata": {
    "colab": {
     "base_uri": "https://localhost:8080/",
     "height": 976
    },
    "colab_type": "code",
    "executionInfo": {
     "elapsed": 499,
     "status": "ok",
     "timestamp": 1578419447746,
     "user": {
      "displayName": "Fionn McConville",
      "photoUrl": "https://lh3.googleusercontent.com/a-/AAuE7mDQ4Te6RRh1B7ENukR6-4xoNAaV2ajfGgNpCD6y=s64",
      "userId": "01326935138765014160"
     },
     "user_tz": 0
    },
    "id": "MPosIYx9VYeV",
    "outputId": "95367771-a8cd-4d74-d68d-4e82d29000b1"
   },
   "outputs": [
    {
     "data": {
      "text/html": [
       "<div>\n",
       "<style scoped>\n",
       "    .dataframe tbody tr th:only-of-type {\n",
       "        vertical-align: middle;\n",
       "    }\n",
       "\n",
       "    .dataframe tbody tr th {\n",
       "        vertical-align: top;\n",
       "    }\n",
       "\n",
       "    .dataframe thead th {\n",
       "        text-align: right;\n",
       "    }\n",
       "</style>\n",
       "<table border=\"1\" class=\"dataframe\">\n",
       "  <thead>\n",
       "    <tr style=\"text-align: right;\">\n",
       "      <th></th>\n",
       "      <th>id</th>\n",
       "      <th>label</th>\n",
       "      <th>text</th>\n",
       "    </tr>\n",
       "  </thead>\n",
       "  <tbody>\n",
       "    <tr>\n",
       "      <th>0</th>\n",
       "      <td>572342978255048705</td>\n",
       "      <td>racism</td>\n",
       "      <td>So Drasko just said he was impressed the girls cooked half a chicken.. They cooked a whole one  #MKR</td>\n",
       "    </tr>\n",
       "    <tr>\n",
       "      <th>2</th>\n",
       "      <td>572341498827522049</td>\n",
       "      <td>racism</td>\n",
       "      <td>Drasko they didn't cook half a bird you idiot #mkr</td>\n",
       "    </tr>\n",
       "    <tr>\n",
       "      <th>4</th>\n",
       "      <td>572340476503724032</td>\n",
       "      <td>racism</td>\n",
       "      <td>Hopefully someone cooks Drasko in the next ep of #MKR</td>\n",
       "    </tr>\n",
       "    <tr>\n",
       "      <th>6</th>\n",
       "      <td>572334712804384768</td>\n",
       "      <td>racism</td>\n",
       "      <td>of course you were born in serbia...you're as fucked as A Serbian Film #MKR</td>\n",
       "    </tr>\n",
       "    <tr>\n",
       "      <th>7</th>\n",
       "      <td>572332655397629952</td>\n",
       "      <td>racism</td>\n",
       "      <td>These girls are the equivalent of the irritating Asian girls a couple years ago. Well done, 7. #MKR</td>\n",
       "    </tr>\n",
       "    <tr>\n",
       "      <th>8</th>\n",
       "      <td>575949086055997440</td>\n",
       "      <td>racism</td>\n",
       "      <td>#MKR  Lost the plot - where's the big Texan with the elephant sized steaks that they all have for brekkie ?</td>\n",
       "    </tr>\n",
       "    <tr>\n",
       "      <th>491</th>\n",
       "      <td>575174115667017728</td>\n",
       "      <td>racism</td>\n",
       "      <td>RT @PhxKen: SIR WINSTON CHURCHHILL: \"ISLAM IS A DANGEROUS IN A MAN AS RABIES IN A DOG\" http://t.co/kCXgKD70SK</td>\n",
       "    </tr>\n",
       "    <tr>\n",
       "      <th>1266</th>\n",
       "      <td>569294066984202240</td>\n",
       "      <td>racism</td>\n",
       "      <td>RT @TheRightWingM: Giuliani watched his city attacked &amp;amp; people jump to their deaths. He's entitled to say WTF he wants about the guy shield…</td>\n",
       "    </tr>\n",
       "    <tr>\n",
       "      <th>1942</th>\n",
       "      <td>446460991396917248</td>\n",
       "      <td>racism</td>\n",
       "      <td>RT @YesYoureRacist: At least you're only a tiny bit racist RT @AnMo95: I'm not racist, but my dick is!</td>\n",
       "    </tr>\n",
       "    <tr>\n",
       "      <th>1943</th>\n",
       "      <td>489938636956135424</td>\n",
       "      <td>racism</td>\n",
       "      <td>@MisfitInChains @oldgfatherclock @venereveritas13 SANTA JUST *IS* WHITE</td>\n",
       "    </tr>\n",
       "    <tr>\n",
       "      <th>1944</th>\n",
       "      <td>502315096052596736</td>\n",
       "      <td>racism</td>\n",
       "      <td>RT @Dreamdefenders: Eric Holder from #ferguson: \"I understand that mistrust. I am the Attorney General, but I am also a Black Man\" http://t…</td>\n",
       "    </tr>\n",
       "    <tr>\n",
       "      <th>1945</th>\n",
       "      <td>502508643204755456</td>\n",
       "      <td>racism</td>\n",
       "      <td>RT @AntonioFrench: I spent the morning at the Board of Elections getting maps/data to start registering every black person in #Ferguson. ht…</td>\n",
       "    </tr>\n",
       "    <tr>\n",
       "      <th>1946</th>\n",
       "      <td>537442614534864896</td>\n",
       "      <td>racism</td>\n",
       "      <td>RT @harikondabolu: In his #Ferguson testimony, Darren Wilson said he thought \"it looks like a demon\" before he shot Mike Brown. Ironic word…</td>\n",
       "    </tr>\n",
       "    <tr>\n",
       "      <th>1947</th>\n",
       "      <td>538130705382129664</td>\n",
       "      <td>racism</td>\n",
       "      <td>\"He can't be a server at our restaurant, that beard makes him look like a terrorist.\" Everyone laughs. #fuckthanksgiving</td>\n",
       "    </tr>\n",
       "    <tr>\n",
       "      <th>1948</th>\n",
       "      <td>574589943982379008</td>\n",
       "      <td>racism</td>\n",
       "      <td>@GarrettaBrown85 @5Candrew Why do people even talk about white privilege when the majority of food stamp recipients are white people!!</td>\n",
       "    </tr>\n",
       "    <tr>\n",
       "      <th>1973</th>\n",
       "      <td>576395841440641024</td>\n",
       "      <td>racism</td>\n",
       "      <td>RT @ThePatriot143: Bet👉3 'Race Pimps' enjoyed watching #Ferguson protesters being interviewed on @seanhannity show as much as I did. http:/…</td>\n",
       "    </tr>\n",
       "    <tr>\n",
       "      <th>1974</th>\n",
       "      <td>572346080911736832</td>\n",
       "      <td>sexism</td>\n",
       "      <td>These two are revolting #MKR #MKR2015</td>\n",
       "    </tr>\n",
       "    <tr>\n",
       "      <th>1976</th>\n",
       "      <td>572348198062170112</td>\n",
       "      <td>sexism</td>\n",
       "      <td>#katieandnikki stop calling yourselves pretty and hot..you're not and saying it a million times doesn't make you either...STFU #MKR</td>\n",
       "    </tr>\n",
       "    <tr>\n",
       "      <th>1978</th>\n",
       "      <td>572319306387599360</td>\n",
       "      <td>sexism</td>\n",
       "      <td>The menus look like they were made by a 5 year old little girl...in this case just the mental age of a 5 year old girl I guess #MKR</td>\n",
       "    </tr>\n",
       "    <tr>\n",
       "      <th>1979</th>\n",
       "      <td>572347842456522752</td>\n",
       "      <td>sexism</td>\n",
       "      <td>Wish these blondes were in that How To Get Away With Murder show....#MKR</td>\n",
       "    </tr>\n",
       "  </tbody>\n",
       "</table>\n",
       "</div>"
      ],
      "text/plain": [
       "                      id  ...                                                                                                                                              text\n",
       "0     572342978255048705  ...  So Drasko just said he was impressed the girls cooked half a chicken.. They cooked a whole one  #MKR                                            \n",
       "2     572341498827522049  ...  Drasko they didn't cook half a bird you idiot #mkr                                                                                              \n",
       "4     572340476503724032  ...  Hopefully someone cooks Drasko in the next ep of #MKR                                                                                           \n",
       "6     572334712804384768  ...  of course you were born in serbia...you're as fucked as A Serbian Film #MKR                                                                     \n",
       "7     572332655397629952  ...  These girls are the equivalent of the irritating Asian girls a couple years ago. Well done, 7. #MKR                                             \n",
       "8     575949086055997440  ...  #MKR  Lost the plot - where's the big Texan with the elephant sized steaks that they all have for brekkie ?                                     \n",
       "491   575174115667017728  ...  RT @PhxKen: SIR WINSTON CHURCHHILL: \"ISLAM IS A DANGEROUS IN A MAN AS RABIES IN A DOG\" http://t.co/kCXgKD70SK                                   \n",
       "1266  569294066984202240  ...  RT @TheRightWingM: Giuliani watched his city attacked &amp; people jump to their deaths. He's entitled to say WTF he wants about the guy shield…\n",
       "1942  446460991396917248  ...  RT @YesYoureRacist: At least you're only a tiny bit racist RT @AnMo95: I'm not racist, but my dick is!                                          \n",
       "1943  489938636956135424  ...  @MisfitInChains @oldgfatherclock @venereveritas13 SANTA JUST *IS* WHITE                                                                         \n",
       "1944  502315096052596736  ...  RT @Dreamdefenders: Eric Holder from #ferguson: \"I understand that mistrust. I am the Attorney General, but I am also a Black Man\" http://t…    \n",
       "1945  502508643204755456  ...  RT @AntonioFrench: I spent the morning at the Board of Elections getting maps/data to start registering every black person in #Ferguson. ht…    \n",
       "1946  537442614534864896  ...  RT @harikondabolu: In his #Ferguson testimony, Darren Wilson said he thought \"it looks like a demon\" before he shot Mike Brown. Ironic word…    \n",
       "1947  538130705382129664  ...  \"He can't be a server at our restaurant, that beard makes him look like a terrorist.\" Everyone laughs. #fuckthanksgiving                        \n",
       "1948  574589943982379008  ...  @GarrettaBrown85 @5Candrew Why do people even talk about white privilege when the majority of food stamp recipients are white people!!          \n",
       "1973  576395841440641024  ...  RT @ThePatriot143: Bet👉3 'Race Pimps' enjoyed watching #Ferguson protesters being interviewed on @seanhannity show as much as I did. http:/…    \n",
       "1974  572346080911736832  ...  These two are revolting #MKR #MKR2015                                                                                                           \n",
       "1976  572348198062170112  ...  #katieandnikki stop calling yourselves pretty and hot..you're not and saying it a million times doesn't make you either...STFU #MKR             \n",
       "1978  572319306387599360  ...  The menus look like they were made by a 5 year old little girl...in this case just the mental age of a 5 year old girl I guess #MKR             \n",
       "1979  572347842456522752  ...  Wish these blondes were in that How To Get Away With Murder show....#MKR                                                                        \n",
       "\n",
       "[20 rows x 3 columns]"
      ]
     },
     "execution_count": 43,
     "metadata": {
      "tags": []
     },
     "output_type": "execute_result"
    }
   ],
   "source": [
    "#Dropping rows where tweet I'd failed to obtain associated tweet text\n",
    "tweetSet.dropna(inplace=True) \n",
    "\n",
    "#Manually inspecting tweets\n",
    "tweetSet.head(20)"
   ]
  },
  {
   "cell_type": "markdown",
   "metadata": {
    "colab_type": "text",
    "id": "cxhvOQ2cVYeW"
   },
   "source": [
    "Undoubtedly there are some hate speech tweets in this dataset `\"RT @PhxKen: SIR WINSTON CHURCHHILL: \"ISLAM IS A DANGEROUS IN A MAN AS RABIES IN A DOG\" http://t.co/kCXgKD70SK\".`\n",
    "\n",
    "However a lot of the other tweets depend on the context of the individual they are targeting at the time - the tweets talking about #mkr - ( a show called my kitchen rules in australia) is deemed sexist or racist at times only because of the subject they are talking about. `\"#katieandnikki stop calling yourselves pretty and hot..you're not and saying it a million times doesn't make you either...STFU #MKR` - even then is this truly sexist?\n",
    "\n",
    "It's difficult to ascertain this without researching the context and perhaps the text alone isn't a good enough inidicator of hate speech.\n",
    "\n",
    "Some tweets are just mentioning racism or talking about it without being actually racist in intent `\"RT @Dreamdefenders: Eric Holder from #ferguson: \"I understand that mistrust. I am the Attorney General, but I am also a Black Man\"`\n",
    "\n",
    "There are deep politcal complexities in some of the tweets above such as other tweets about ferguson and also 9/11. It's difficult to justify using this dataset so these tweets will not be classified as hate speech"
   ]
  },
  {
   "cell_type": "markdown",
   "metadata": {
    "colab_type": "text",
    "id": "7l7cPt46VYeW"
   },
   "source": [
    "## Data from annotator reliability study - uses much of the Waseem & Hovy dataset directly above but has some extra data\n",
    "\n",
    "The below data is from a study where the partcipants aimed to examine how reliable amateur annotators were compared to experts in annotating hate speech. They used a lot of data from the above Waseem and Hovy 2016 dataset, (there is an overlap of 2,876 tweets).\n",
    "    \n",
    "I only retrieved the opinions of the <b>expert annotators</b>, as in the paper of the study itself they claim that the amateur annotators are unreliable. Yet, the tweets here are annotated much like the previous Waseem and Hovy dataset so the \"racism\" and \"sexism\" tweets won't be used.\n",
    "\n",
    "Ref: [Waseem, Zeerak, Are You a Racist or Am I Seeing Things? Annotator Influence on Hate Speech Detection on Twitter, November 2016](http://aclweb.org/anthology/W16-5618\"\")"
   ]
  },
  {
   "cell_type": "code",
   "execution_count": 0,
   "metadata": {
    "colab": {
     "base_uri": "https://localhost:8080/",
     "height": 198
    },
    "colab_type": "code",
    "executionInfo": {
     "elapsed": 695,
     "status": "ok",
     "timestamp": 1578419493540,
     "user": {
      "displayName": "Fionn McConville",
      "photoUrl": "https://lh3.googleusercontent.com/a-/AAuE7mDQ4Te6RRh1B7ENukR6-4xoNAaV2ajfGgNpCD6y=s64",
      "userId": "01326935138765014160"
     },
     "user_tz": 0
    },
    "id": "g8wMKA10VYeX",
    "outputId": "0492257c-37b9-45b7-9a07-af72e4a62938"
   },
   "outputs": [
    {
     "data": {
      "text/html": [
       "<div>\n",
       "<style scoped>\n",
       "    .dataframe tbody tr th:only-of-type {\n",
       "        vertical-align: middle;\n",
       "    }\n",
       "\n",
       "    .dataframe tbody tr th {\n",
       "        vertical-align: top;\n",
       "    }\n",
       "\n",
       "    .dataframe thead th {\n",
       "        text-align: right;\n",
       "    }\n",
       "</style>\n",
       "<table border=\"1\" class=\"dataframe\">\n",
       "  <thead>\n",
       "    <tr style=\"text-align: right;\">\n",
       "      <th></th>\n",
       "      <th>TweetID</th>\n",
       "      <th>Expert</th>\n",
       "    </tr>\n",
       "  </thead>\n",
       "  <tbody>\n",
       "    <tr>\n",
       "      <th>0</th>\n",
       "      <td>597576902212063232</td>\n",
       "      <td>neither</td>\n",
       "    </tr>\n",
       "    <tr>\n",
       "      <th>1</th>\n",
       "      <td>565586175864610817</td>\n",
       "      <td>neither</td>\n",
       "    </tr>\n",
       "    <tr>\n",
       "      <th>2</th>\n",
       "      <td>563881580209246209</td>\n",
       "      <td>neither</td>\n",
       "    </tr>\n",
       "    <tr>\n",
       "      <th>3</th>\n",
       "      <td>595380689534656512</td>\n",
       "      <td>neither</td>\n",
       "    </tr>\n",
       "    <tr>\n",
       "      <th>4</th>\n",
       "      <td>563757610327748608</td>\n",
       "      <td>neither</td>\n",
       "    </tr>\n",
       "  </tbody>\n",
       "</table>\n",
       "</div>"
      ],
      "text/plain": [
       "              TweetID   Expert\n",
       "0  597576902212063232  neither\n",
       "1  565586175864610817  neither\n",
       "2  563881580209246209  neither\n",
       "3  595380689534656512  neither\n",
       "4  563757610327748608  neither"
      ]
     },
     "execution_count": 45,
     "metadata": {
      "tags": []
     },
     "output_type": "execute_result"
    }
   ],
   "source": [
    "path = r'https://raw.githubusercontent.com/ZeerakW/hatespeech/master/NLP%2BCSS_2016.csv'\n",
    "\n",
    "ids = pd.read_csv(path, sep='\\t', usecols = [\"TweetID\", \"Expert\"], index_col=False);\n",
    "\n",
    "ids.head()"
   ]
  },
  {
   "cell_type": "code",
   "execution_count": 0,
   "metadata": {
    "colab": {
     "base_uri": "https://localhost:8080/",
     "height": 145
    },
    "colab_type": "code",
    "executionInfo": {
     "elapsed": 454,
     "status": "ok",
     "timestamp": 1578419499317,
     "user": {
      "displayName": "Fionn McConville",
      "photoUrl": "https://lh3.googleusercontent.com/a-/AAuE7mDQ4Te6RRh1B7ENukR6-4xoNAaV2ajfGgNpCD6y=s64",
      "userId": "01326935138765014160"
     },
     "user_tz": 0
    },
    "id": "Pdym7NsbVYeY",
    "outputId": "b231b45a-4d9f-4bc5-d342-9248942cf134"
   },
   "outputs": [
    {
     "name": "stdout",
     "output_type": "stream",
     "text": [
      "<class 'pandas.core.frame.DataFrame'>\n",
      "RangeIndex: 6909 entries, 0 to 6908\n",
      "Data columns (total 2 columns):\n",
      "id       6909 non-null int64\n",
      "label    6909 non-null object\n",
      "dtypes: int64(1), object(1)\n",
      "memory usage: 108.1+ KB\n"
     ]
    }
   ],
   "source": [
    "ids.rename(columns = {'TweetID':'id'}, inplace = True)\n",
    "ids.rename(columns = {'Expert': 'label'}, inplace = True)\n",
    "ids.info()"
   ]
  },
  {
   "cell_type": "code",
   "execution_count": 0,
   "metadata": {
    "colab": {},
    "colab_type": "code",
    "id": "dVorzODjVYeZ"
   },
   "outputs": [],
   "source": [
    "good_tweet_ids = list(ids['id']) #Create a list of tweet ids to look up \n",
    "results = lookup_tweets(good_tweet_ids, api) #apply function"
   ]
  },
  {
   "cell_type": "code",
   "execution_count": 0,
   "metadata": {
    "colab": {},
    "colab_type": "code",
    "id": "zMGw8Ox3VYea"
   },
   "outputs": [],
   "source": [
    "temp = json.dumps([status._json for status in results]) #create JSON\n",
    "newdf = pd.read_json(temp, orient='records')\n",
    "full = ids.merge(newdf,  how='left', on = 'id')"
   ]
  },
  {
   "cell_type": "code",
   "execution_count": 0,
   "metadata": {
    "colab": {
     "base_uri": "https://localhost:8080/",
     "height": 417
    },
    "colab_type": "code",
    "executionInfo": {
     "elapsed": 505,
     "status": "ok",
     "timestamp": 1578419566106,
     "user": {
      "displayName": "Fionn McConville",
      "photoUrl": "https://lh3.googleusercontent.com/a-/AAuE7mDQ4Te6RRh1B7ENukR6-4xoNAaV2ajfGgNpCD6y=s64",
      "userId": "01326935138765014160"
     },
     "user_tz": 0
    },
    "id": "APWPoQbrVYec",
    "outputId": "f61be84c-5c62-4d69-e10e-5478487adac2"
   },
   "outputs": [
    {
     "data": {
      "text/html": [
       "<div>\n",
       "<style scoped>\n",
       "    .dataframe tbody tr th:only-of-type {\n",
       "        vertical-align: middle;\n",
       "    }\n",
       "\n",
       "    .dataframe tbody tr th {\n",
       "        vertical-align: top;\n",
       "    }\n",
       "\n",
       "    .dataframe thead th {\n",
       "        text-align: right;\n",
       "    }\n",
       "</style>\n",
       "<table border=\"1\" class=\"dataframe\">\n",
       "  <thead>\n",
       "    <tr style=\"text-align: right;\">\n",
       "      <th></th>\n",
       "      <th>id</th>\n",
       "      <th>label</th>\n",
       "      <th>text</th>\n",
       "    </tr>\n",
       "  </thead>\n",
       "  <tbody>\n",
       "    <tr>\n",
       "      <th>0</th>\n",
       "      <td>597576902212063232</td>\n",
       "      <td>neither</td>\n",
       "      <td>Cisco had to deal with a fat cash payout to the FSF *and* allow an external party to do constant reviews of their FOSS license compliancy.</td>\n",
       "    </tr>\n",
       "    <tr>\n",
       "      <th>1</th>\n",
       "      <td>565586175864610817</td>\n",
       "      <td>neither</td>\n",
       "      <td>@MadamPlumpette I'm decent at editing, no worries ^.^</td>\n",
       "    </tr>\n",
       "    <tr>\n",
       "      <th>2</th>\n",
       "      <td>563881580209246209</td>\n",
       "      <td>neither</td>\n",
       "      <td>@girlziplocked will read. gotta go afk for a bit - still bringing stuff in from car after week long road trip.</td>\n",
       "    </tr>\n",
       "    <tr>\n",
       "      <th>3</th>\n",
       "      <td>595380689534656512</td>\n",
       "      <td>neither</td>\n",
       "      <td>guys. show me the data. show me your github. tell me your story. show me something that makes me think you're not a bag of useless opinions.</td>\n",
       "    </tr>\n",
       "    <tr>\n",
       "      <th>4</th>\n",
       "      <td>563757610327748608</td>\n",
       "      <td>neither</td>\n",
       "      <td>@tpw_rules nothings broken. I was just driving througg a lot of water.</td>\n",
       "    </tr>\n",
       "    <tr>\n",
       "      <th>5</th>\n",
       "      <td>563082741370339330</td>\n",
       "      <td>neither</td>\n",
       "      <td>ur face is classified as a utility by the FCC.</td>\n",
       "    </tr>\n",
       "    <tr>\n",
       "      <th>6</th>\n",
       "      <td>596962098845851648</td>\n",
       "      <td>neither</td>\n",
       "      <td>@lysandraws yay! Absolutely. I'm not gone until November :)</td>\n",
       "    </tr>\n",
       "    <tr>\n",
       "      <th>7</th>\n",
       "      <td>563874350038675457</td>\n",
       "      <td>neither</td>\n",
       "      <td>RT @kashiichan: \"It really feels like the @twitter DM can be the hand-on-the-knee of social communication.\" http://t.co/7mFseL5zfE #stopwad…</td>\n",
       "    </tr>\n",
       "    <tr>\n",
       "      <th>8</th>\n",
       "      <td>597240424873394176</td>\n",
       "      <td>neither</td>\n",
       "      <td>@SirenSailor rtfm. http://t.co/jaMXHikl3u</td>\n",
       "    </tr>\n",
       "    <tr>\n",
       "      <th>10</th>\n",
       "      <td>595306172833353728</td>\n",
       "      <td>neither</td>\n",
       "      <td>@Popehat who wouldn't?</td>\n",
       "    </tr>\n",
       "  </tbody>\n",
       "</table>\n",
       "</div>"
      ],
      "text/plain": [
       "                    id  ...                                                                                                                                          text\n",
       "0   597576902212063232  ...  Cisco had to deal with a fat cash payout to the FSF *and* allow an external party to do constant reviews of their FOSS license compliancy.  \n",
       "1   565586175864610817  ...  @MadamPlumpette I'm decent at editing, no worries ^.^                                                                                       \n",
       "2   563881580209246209  ...  @girlziplocked will read. gotta go afk for a bit - still bringing stuff in from car after week long road trip.                              \n",
       "3   595380689534656512  ...  guys. show me the data. show me your github. tell me your story. show me something that makes me think you're not a bag of useless opinions.\n",
       "4   563757610327748608  ...  @tpw_rules nothings broken. I was just driving througg a lot of water.                                                                      \n",
       "5   563082741370339330  ...  ur face is classified as a utility by the FCC.                                                                                              \n",
       "6   596962098845851648  ...  @lysandraws yay! Absolutely. I'm not gone until November :)                                                                                 \n",
       "7   563874350038675457  ...  RT @kashiichan: \"It really feels like the @twitter DM can be the hand-on-the-knee of social communication.\" http://t.co/7mFseL5zfE #stopwad…\n",
       "8   597240424873394176  ...  @SirenSailor rtfm. http://t.co/jaMXHikl3u                                                                                                   \n",
       "10  595306172833353728  ...  @Popehat who wouldn't?                                                                                                                      \n",
       "\n",
       "[10 rows x 3 columns]"
      ]
     },
     "execution_count": 49,
     "metadata": {
      "tags": []
     },
     "output_type": "execute_result"
    }
   ],
   "source": [
    "tweetSet1 = full[['id', 'label', 'text']]\n",
    "tweetSet1 = tweetSet1.drop_duplicates(subset = 'id')\n",
    "pd.set_option('display.max_colwidth', -1)\n",
    "dups1 = len(tweetSet1) - tweetSet1['text'].count()\n",
    "tweetSet1.dropna(inplace=True)\n",
    "tweetSet1.head(10)"
   ]
  },
  {
   "cell_type": "markdown",
   "metadata": {
    "colab_type": "text",
    "id": "Z5nZV--fVYed"
   },
   "source": [
    "<b>Data content of both datasets after dropping null rows:</b>"
   ]
  },
  {
   "cell_type": "code",
   "execution_count": 0,
   "metadata": {
    "colab": {
     "base_uri": "https://localhost:8080/",
     "height": 54
    },
    "colab_type": "code",
    "executionInfo": {
     "elapsed": 529,
     "status": "ok",
     "timestamp": 1578419595325,
     "user": {
      "displayName": "Fionn McConville",
      "photoUrl": "https://lh3.googleusercontent.com/a-/AAuE7mDQ4Te6RRh1B7ENukR6-4xoNAaV2ajfGgNpCD6y=s64",
      "userId": "01326935138765014160"
     },
     "user_tz": 0
    },
    "id": "zjCmxQ0aVYed",
    "outputId": "62825bd7-1bd2-430f-9c0a-30b104c1014f"
   },
   "outputs": [
    {
     "name": "stdout",
     "output_type": "stream",
     "text": [
      "There are 10821 tweets in the first dataframe with 6028 duplicates\n",
      "And 6221 tweets in the second dataframe with 688 duplicates\n"
     ]
    }
   ],
   "source": [
    "print(\"There are\", len(tweetSet.index), \"tweets in the first dataframe with\",\\\n",
    "      dups, \"duplicates\")\n",
    "\n",
    "print(\"And\", len(tweetSet1.index), \"tweets in the second dataframe with\",\\\n",
    "     dups1, \"duplicates\")"
   ]
  },
  {
   "cell_type": "markdown",
   "metadata": {
    "colab_type": "text",
    "id": "Mw49lB2ZVYef"
   },
   "source": [
    "### Combining the two datasets \n",
    "\n",
    "Hopefully with the merge function I'll be able to reliably combine the two datasets and have no duplicates in the final result. As stated above there is supposed to be an overlap of 2,786 tweets so this final set of data should be 16,907 + 6,909 - 2,786 - 5983 - 669 = 14,378 in the overall combined set."
   ]
  },
  {
   "cell_type": "code",
   "execution_count": 0,
   "metadata": {
    "colab": {
     "base_uri": "https://localhost:8080/",
     "height": 163
    },
    "colab_type": "code",
    "executionInfo": {
     "elapsed": 470,
     "status": "ok",
     "timestamp": 1578419603235,
     "user": {
      "displayName": "Fionn McConville",
      "photoUrl": "https://lh3.googleusercontent.com/a-/AAuE7mDQ4Te6RRh1B7ENukR6-4xoNAaV2ajfGgNpCD6y=s64",
      "userId": "01326935138765014160"
     },
     "user_tz": 0
    },
    "id": "86gKFfveVYef",
    "outputId": "e668a7ad-9f7d-4b3d-fd76-e04f8048c563"
   },
   "outputs": [
    {
     "name": "stdout",
     "output_type": "stream",
     "text": [
      "<class 'pandas.core.frame.DataFrame'>\n",
      "Int64Index: 13092 entries, 3 to 16966\n",
      "Data columns (total 3 columns):\n",
      "id       13092 non-null int64\n",
      "label    13092 non-null object\n",
      "text     13092 non-null object\n",
      "dtypes: int64(1), object(2)\n",
      "memory usage: 409.1+ KB\n"
     ]
    }
   ],
   "source": [
    "fullSet = pd.merge(tweetSet, tweetSet1,  how='outer', on = ['id', 'text', 'label'])\n",
    "fullSet.drop_duplicates(subset= ['id'], keep = 'last', inplace = True)\n",
    "\n",
    "#Itermittent save of combined data\n",
    "fullSet.to_csv(os.path.join(DATA_DIR, 'Waseem_Hovy_2016.csv'), sep = ',', \\\n",
    "               encoding='utf-8', index = False, header = True)\n",
    "fullSet.info()"
   ]
  },
  {
   "cell_type": "markdown",
   "metadata": {
    "colab_type": "text",
    "id": "nAE4MfmbVYeh"
   },
   "source": [
    "Not the exact number of tweets we were seeking, but it's likely this is because when that datset was first collected, all of those tweets were available to be retrieved - wheras now they can't be because the accounts they belong to are suspended."
   ]
  },
  {
   "cell_type": "markdown",
   "metadata": {},
   "source": [
    "### Cleaning and Saving the Dataset"
   ]
  },
  {
   "cell_type": "markdown",
   "metadata": {},
   "source": [
    "If a tweet has been labelled as `racism`, `sexism` or `both` - we'll remove these as they have been demonstrated to be unreliably annotated.\n",
    "\n",
    "The rest of the dataset will be labelled as `not hate speech`; but we can't be sure if some of the tweets that have been labelled as `none` or `neither` aren't offensive - so we'll label that as `-`."
   ]
  },
  {
   "cell_type": "code",
   "execution_count": 213,
   "metadata": {},
   "outputs": [
    {
     "name": "stdout",
     "output_type": "stream",
     "text": [
      "\n",
      "There are 5 different labels for how the tweets have been annotated:\n",
      "['racism' 'sexism' 'none' 'neither' 'both'] \n",
      "\n"
     ]
    }
   ],
   "source": [
    "fullset = pd.read_csv( os.path.join( DATA_DIR, 'Waseem_Hovy_2016.csv'),sep=',')\n",
    "\n",
    "fullset.dropna(inplace = True)\n",
    "print(\"\\nThere are 5 different labels for how the tweets have been annotated:\")\n",
    "print(fullset['label'].unique(),'\\n')\n",
    "\n",
    "fullset['Hate_Speech'] = 0\n",
    "fullset['Offensive'] = '-'\n",
    "\n",
    "fullset.rename(columns = {'text': 'Tweet'}, inplace = True)\n",
    "\n",
    "fullset.drop(fullset[(fullset[\"label\"] == 'racism') | \\\n",
    "                     (fullset[\"label\"] == 'sexism') | \\\n",
    "                  (fullset[\"label\"] == 'both')].index, inplace = True)\n",
    "\n",
    "fullset.drop(['label', 'id'], inplace = True, axis = 1)\n",
    "fullset.reset_index(drop = True, inplace = True)"
   ]
  },
  {
   "cell_type": "code",
   "execution_count": 214,
   "metadata": {
    "colab": {
     "base_uri": "https://localhost:8080/",
     "height": 181
    },
    "colab_type": "code",
    "executionInfo": {
     "elapsed": 2185,
     "status": "ok",
     "timestamp": 1578419666726,
     "user": {
      "displayName": "Fionn McConville",
      "photoUrl": "https://lh3.googleusercontent.com/a-/AAuE7mDQ4Te6RRh1B7ENukR6-4xoNAaV2ajfGgNpCD6y=s64",
      "userId": "01326935138765014160"
     },
     "user_tz": 0
    },
    "id": "l59JggpOVYeh",
    "outputId": "eb747f1e-62fe-4243-c3ee-eb463d7c75dd"
   },
   "outputs": [
    {
     "name": "stdout",
     "output_type": "stream",
     "text": [
      "Breakdown for Wassem & Hovy 2016 Data\n",
      "\n",
      "Hate Speech Column Labelling:\n",
      " 0    9579\n",
      "Name: Hate_Speech, dtype: int64\n",
      "\n",
      "Offensive Column Labelling:\n",
      " -    9579\n",
      "Name: Offensive, dtype: int64\n",
      "\n",
      "Where 1 is positive, 0 is negative and - is ambiguous\n"
     ]
    }
   ],
   "source": [
    "fullset['Tweet'] = fullset['Tweet'].map(lambda x: x.encode('unicode-escape').decode('utf-8'))\n",
    "\n",
    "fullset.to_csv(os.path.join(DATA_DIR, 'cleaned/Waseem_Hovy.csv'), sep = ',', encoding='utf-8', \\\n",
    "                 index = False, header = True)\n",
    "\n",
    "print(\"Breakdown for Wassem & Hovy 2016 Data\")\n",
    "print(\"\\nHate Speech Column Labelling:\\n\", fullset.Hate_Speech.value_counts())\n",
    "print(\"\\nOffensive Column Labelling:\\n\", fullset.Offensive.value_counts())\n",
    "print(\"\\nWhere 1 is positive, 0 is negative and - is ambiguous\")"
   ]
  },
  {
   "cell_type": "markdown",
   "metadata": {
    "colab_type": "text",
    "id": "5K3m1UzSVYe7"
   },
   "source": [
    "## Testing for possible duplicate tweets\n",
    "\n",
    "<b> Where tweet ID is available, we want to use it at the beginning to root out possible duplicate tweets which may have overlapped over the datasets. </b>\n",
    "    \n",
    "Removing duplicates via tweet ID should be more reliable, but after this we'll attempt to remove duplicate tweets via the text content and see if it's a reliable method of removing duplicate entries.\n",
    "\n",
    "There are only two datasets that have an accompanying ID, the ICVSM dataset has IDs along with their label as another csv file in the directory.\n",
    "\n",
    "I'll test now to see if there's any overlap between the ICVSM_2018 tweets and the Waseem_And Hovy tweets - which are the only two datasets with accompanying tweet IDs\n"
   ]
  },
  {
   "cell_type": "code",
   "execution_count": 242,
   "metadata": {
    "colab": {
     "base_uri": "https://localhost:8080/",
     "height": 235
    },
    "colab_type": "code",
    "executionInfo": {
     "elapsed": 998,
     "status": "ok",
     "timestamp": 1578419849834,
     "user": {
      "displayName": "Fionn McConville",
      "photoUrl": "https://lh3.googleusercontent.com/a-/AAuE7mDQ4Te6RRh1B7ENukR6-4xoNAaV2ajfGgNpCD6y=s64",
      "userId": "01326935138765014160"
     },
     "user_tz": 0
    },
    "id": "ZEWqfoG5VYe8",
    "outputId": "f2190540-6c60-43f6-b09f-62d25cbbea73"
   },
   "outputs": [
    {
     "name": "stdout",
     "output_type": "stream",
     "text": [
      "\n",
      "There are 99996 tweets in this dataset\n"
     ]
    },
    {
     "data": {
      "text/html": [
       "<div>\n",
       "<style scoped>\n",
       "    .dataframe tbody tr th:only-of-type {\n",
       "        vertical-align: middle;\n",
       "    }\n",
       "\n",
       "    .dataframe tbody tr th {\n",
       "        vertical-align: top;\n",
       "    }\n",
       "\n",
       "    .dataframe thead th {\n",
       "        text-align: right;\n",
       "    }\n",
       "</style>\n",
       "<table border=\"1\" class=\"dataframe\">\n",
       "  <thead>\n",
       "    <tr style=\"text-align: right;\">\n",
       "      <th></th>\n",
       "      <th>id</th>\n",
       "      <th>label</th>\n",
       "    </tr>\n",
       "  </thead>\n",
       "  <tbody>\n",
       "    <tr>\n",
       "      <th>0</th>\n",
       "      <td>849667487180259329</td>\n",
       "      <td>abusive</td>\n",
       "    </tr>\n",
       "    <tr>\n",
       "      <th>1</th>\n",
       "      <td>850490912954351616</td>\n",
       "      <td>abusive</td>\n",
       "    </tr>\n",
       "    <tr>\n",
       "      <th>2</th>\n",
       "      <td>848791766853668864</td>\n",
       "      <td>abusive</td>\n",
       "    </tr>\n",
       "    <tr>\n",
       "      <th>3</th>\n",
       "      <td>848306464892604416</td>\n",
       "      <td>abusive</td>\n",
       "    </tr>\n",
       "    <tr>\n",
       "      <th>4</th>\n",
       "      <td>850010509969465344</td>\n",
       "      <td>normal</td>\n",
       "    </tr>\n",
       "  </tbody>\n",
       "</table>\n",
       "</div>"
      ],
      "text/plain": [
       "                   id    label\n",
       "0  849667487180259329  abusive\n",
       "1  850490912954351616  abusive\n",
       "2  848791766853668864  abusive\n",
       "3  848306464892604416  abusive\n",
       "4  850010509969465344  normal "
      ]
     },
     "execution_count": 242,
     "metadata": {},
     "output_type": "execute_result"
    }
   ],
   "source": [
    "icvsm1 = pd.read_csv(os.path.join(DATA_DIR, 'ICVSM_2018_dataset/hatespeech_id_label.csv') \\\n",
    "                     , sep=',', names = ['id', 'label'], index_col = False)\n",
    "\n",
    "print(\"\\nThere are\", len(icvsm1.index), \"tweets in this dataset\")\n",
    "icvsm1.head()"
   ]
  },
  {
   "cell_type": "code",
   "execution_count": 243,
   "metadata": {
    "colab": {
     "base_uri": "https://localhost:8080/",
     "height": 72
    },
    "colab_type": "code",
    "executionInfo": {
     "elapsed": 577,
     "status": "ok",
     "timestamp": 1578419918094,
     "user": {
      "displayName": "Fionn McConville",
      "photoUrl": "https://lh3.googleusercontent.com/a-/AAuE7mDQ4Te6RRh1B7ENukR6-4xoNAaV2ajfGgNpCD6y=s64",
      "userId": "01326935138765014160"
     },
     "user_tz": 0
    },
    "id": "upNwuYbcVYfC",
    "outputId": "995e7d35-e1f3-40ac-856d-6e286659a5cf"
   },
   "outputs": [
    {
     "name": "stdout",
     "output_type": "stream",
     "text": [
      "There are 99996 tweets in the ICVSM dataset and 13092 tweets in the Waseem_Hovy dataset\n",
      "\n",
      "The end merge of datasets should have 113088 tweets in the dataset assuming no duplicates\n"
     ]
    }
   ],
   "source": [
    "print(\"There are\", len(icvsm1.index), \"tweets in the ICVSM dataset and\", \\\n",
    "      len(ids.index), \"tweets in the Waseem_Hovy dataset\")\n",
    "\n",
    "print(\"\\nThe end merge of datasets should have\", len(icvsm1.index) + len(ids.index),\\\n",
    "      \"tweets in the dataset assuming no duplicates\")\n"
   ]
  },
  {
   "cell_type": "code",
   "execution_count": 245,
   "metadata": {
    "colab": {
     "base_uri": "https://localhost:8080/",
     "height": 386
    },
    "colab_type": "code",
    "executionInfo": {
     "elapsed": 650,
     "status": "ok",
     "timestamp": 1578419948898,
     "user": {
      "displayName": "Fionn McConville",
      "photoUrl": "https://lh3.googleusercontent.com/a-/AAuE7mDQ4Te6RRh1B7ENukR6-4xoNAaV2ajfGgNpCD6y=s64",
      "userId": "01326935138765014160"
     },
     "user_tz": 0
    },
    "id": "_ot6j20fVYfD",
    "outputId": "5f50620b-4b40-4482-d025-2adc4e9a99f9"
   },
   "outputs": [
    {
     "name": "stdout",
     "output_type": "stream",
     "text": [
      "When using the duplicated method there are 394 duplicate ids identified.\n",
      "we'll obviously retain half of these because we'll keep the first instance of the duplicate tweet this will result in 197 tweets being dropped\n"
     ]
    },
    {
     "data": {
      "text/html": [
       "<div>\n",
       "<style scoped>\n",
       "    .dataframe tbody tr th:only-of-type {\n",
       "        vertical-align: middle;\n",
       "    }\n",
       "\n",
       "    .dataframe tbody tr th {\n",
       "        vertical-align: top;\n",
       "    }\n",
       "\n",
       "    .dataframe thead th {\n",
       "        text-align: right;\n",
       "    }\n",
       "</style>\n",
       "<table border=\"1\" class=\"dataframe\">\n",
       "  <thead>\n",
       "    <tr style=\"text-align: right;\">\n",
       "      <th></th>\n",
       "      <th>id</th>\n",
       "      <th>label</th>\n",
       "    </tr>\n",
       "  </thead>\n",
       "  <tbody>\n",
       "    <tr>\n",
       "      <th>10</th>\n",
       "      <td>849087242987593728</td>\n",
       "      <td>abusive</td>\n",
       "    </tr>\n",
       "    <tr>\n",
       "      <th>11</th>\n",
       "      <td>849087242987593728</td>\n",
       "      <td>abusive</td>\n",
       "    </tr>\n",
       "    <tr>\n",
       "      <th>17</th>\n",
       "      <td>849282894682050564</td>\n",
       "      <td>abusive</td>\n",
       "    </tr>\n",
       "    <tr>\n",
       "      <th>18</th>\n",
       "      <td>849282894682050564</td>\n",
       "      <td>abusive</td>\n",
       "    </tr>\n",
       "    <tr>\n",
       "      <th>42</th>\n",
       "      <td>849881409284182016</td>\n",
       "      <td>normal</td>\n",
       "    </tr>\n",
       "    <tr>\n",
       "      <th>43</th>\n",
       "      <td>849881409284182016</td>\n",
       "      <td>normal</td>\n",
       "    </tr>\n",
       "    <tr>\n",
       "      <th>50</th>\n",
       "      <td>848600351381098496</td>\n",
       "      <td>hateful</td>\n",
       "    </tr>\n",
       "    <tr>\n",
       "      <th>51</th>\n",
       "      <td>848600351381098496</td>\n",
       "      <td>hateful</td>\n",
       "    </tr>\n",
       "    <tr>\n",
       "      <th>55</th>\n",
       "      <td>848975292794318848</td>\n",
       "      <td>normal</td>\n",
       "    </tr>\n",
       "    <tr>\n",
       "      <th>56</th>\n",
       "      <td>848975292794318848</td>\n",
       "      <td>normal</td>\n",
       "    </tr>\n",
       "  </tbody>\n",
       "</table>\n",
       "</div>"
      ],
      "text/plain": [
       "                    id    label\n",
       "10  849087242987593728  abusive\n",
       "11  849087242987593728  abusive\n",
       "17  849282894682050564  abusive\n",
       "18  849282894682050564  abusive\n",
       "42  849881409284182016  normal \n",
       "43  849881409284182016  normal \n",
       "50  848600351381098496  hateful\n",
       "51  848600351381098496  hateful\n",
       "55  848975292794318848  normal \n",
       "56  848975292794318848  normal "
      ]
     },
     "execution_count": 245,
     "metadata": {},
     "output_type": "execute_result"
    }
   ],
   "source": [
    "ids = pd.read_csv(os.path.join( DATA_DIR, 'Waseem_Hovy_2016.csv'), sep=',')\n",
    "ids.dropna(inplace = True)\n",
    "#Make sure both id columns are of same type before merge\n",
    "icvsm1['id'] = icvsm1['id'].astype('int64')\n",
    "ids['id'] = ids['id'].astype('int64')\n",
    "ids1 =ids.drop(['text'], axis = 1)\n",
    "\n",
    "dt = pd.merge(icvsm1, ids1,  how='outer', on = ['id', 'label'])\n",
    "duplicateRows = dt[dt.duplicated(subset = ['id'], keep = False)]\n",
    "\n",
    "print(\"When using the duplicated method there are\", \\\n",
    "      len(duplicateRows), \"duplicate ids identified.\")\n",
    "\n",
    "print(\"we'll obviously retain half of these because we'll keep the first instance of the duplicate tweet\",\\\n",
    "     \"this will result in\", int(len(duplicateRows)/2), \"tweets being dropped\")\n",
    "\n",
    "duplicateRows.head(10)"
   ]
  },
  {
   "cell_type": "markdown",
   "metadata": {
    "colab_type": "text",
    "id": "6AWRbcLzVYfE"
   },
   "source": [
    "As shown above, identifying duplicate tweets via id is quite reliable as the ids above are identical. They're often entered in consecutive indexes in the database which leads me to believe it must have been human error in the large ICVSM 2017 database of 100,000 tweets.\n",
    "\n",
    "This isn't a huge amount of error when considering the overall size of the dataframe, however we do need to weed out these duplicates because they may give us inaccurate scores as we may perform cross-validation to evaluate model performance down the line "
   ]
  },
  {
   "cell_type": "code",
   "execution_count": 246,
   "metadata": {
    "colab": {
     "base_uri": "https://localhost:8080/",
     "height": 435
    },
    "colab_type": "code",
    "executionInfo": {
     "elapsed": 464,
     "status": "ok",
     "timestamp": 1578420293557,
     "user": {
      "displayName": "Fionn McConville",
      "photoUrl": "https://lh3.googleusercontent.com/a-/AAuE7mDQ4Te6RRh1B7ENukR6-4xoNAaV2ajfGgNpCD6y=s64",
      "userId": "01326935138765014160"
     },
     "user_tz": 0
    },
    "id": "9HNEiGHxVYfE",
    "outputId": "7ea3cc76-8187-4587-f0e0-60b3db410bdb"
   },
   "outputs": [
    {
     "name": "stdout",
     "output_type": "stream",
     "text": [
      "When using the drop_duplicates method there are 197 duplicate tweets\n",
      "\n",
      "<class 'pandas.core.frame.DataFrame'>\n",
      "Int64Index: 112891 entries, 0 to 113087\n",
      "Data columns (total 2 columns):\n",
      "id       112891 non-null int64\n",
      "label    112891 non-null object\n",
      "dtypes: int64(1), object(1)\n",
      "memory usage: 2.6+ MB\n",
      "None\n"
     ]
    },
    {
     "data": {
      "text/html": [
       "<div>\n",
       "<style scoped>\n",
       "    .dataframe tbody tr th:only-of-type {\n",
       "        vertical-align: middle;\n",
       "    }\n",
       "\n",
       "    .dataframe tbody tr th {\n",
       "        vertical-align: top;\n",
       "    }\n",
       "\n",
       "    .dataframe thead th {\n",
       "        text-align: right;\n",
       "    }\n",
       "</style>\n",
       "<table border=\"1\" class=\"dataframe\">\n",
       "  <thead>\n",
       "    <tr style=\"text-align: right;\">\n",
       "      <th></th>\n",
       "      <th>id</th>\n",
       "      <th>label</th>\n",
       "    </tr>\n",
       "  </thead>\n",
       "  <tbody>\n",
       "    <tr>\n",
       "      <th>0</th>\n",
       "      <td>849667487180259329</td>\n",
       "      <td>abusive</td>\n",
       "    </tr>\n",
       "    <tr>\n",
       "      <th>1</th>\n",
       "      <td>850490912954351616</td>\n",
       "      <td>abusive</td>\n",
       "    </tr>\n",
       "    <tr>\n",
       "      <th>2</th>\n",
       "      <td>848791766853668864</td>\n",
       "      <td>abusive</td>\n",
       "    </tr>\n",
       "    <tr>\n",
       "      <th>3</th>\n",
       "      <td>848306464892604416</td>\n",
       "      <td>abusive</td>\n",
       "    </tr>\n",
       "    <tr>\n",
       "      <th>4</th>\n",
       "      <td>850010509969465344</td>\n",
       "      <td>normal</td>\n",
       "    </tr>\n",
       "  </tbody>\n",
       "</table>\n",
       "</div>"
      ],
      "text/plain": [
       "                   id    label\n",
       "0  849667487180259329  abusive\n",
       "1  850490912954351616  abusive\n",
       "2  848791766853668864  abusive\n",
       "3  848306464892604416  abusive\n",
       "4  850010509969465344  normal "
      ]
     },
     "execution_count": 246,
     "metadata": {},
     "output_type": "execute_result"
    }
   ],
   "source": [
    "dt.drop_duplicates(subset= ['id'], keep = 'first', inplace = True)\n",
    "print(\"When using the drop_duplicates method there are\",\\\n",
    "(len(icvsm1.index) + len(ids.index) - len(dt.index)), \"duplicate tweets\\n\")\n",
    "\n",
    "print(dt.info())\n",
    "dt.head()"
   ]
  },
  {
   "cell_type": "markdown",
   "metadata": {
    "colab_type": "text",
    "id": "VQcAZ-JkVYfF"
   },
   "source": [
    "<b> Let's see if dropping duplicate entries via text content is a reliable method </b>"
   ]
  },
  {
   "cell_type": "code",
   "execution_count": 255,
   "metadata": {
    "colab": {
     "base_uri": "https://localhost:8080/",
     "height": 1000
    },
    "colab_type": "code",
    "executionInfo": {
     "elapsed": 1310,
     "status": "ok",
     "timestamp": 1578420933141,
     "user": {
      "displayName": "Fionn McConville",
      "photoUrl": "https://lh3.googleusercontent.com/a-/AAuE7mDQ4Te6RRh1B7ENukR6-4xoNAaV2ajfGgNpCD6y=s64",
      "userId": "01326935138765014160"
     },
     "user_tz": 0
    },
    "id": "3nHpxff4VYfG",
    "outputId": "ea1df3f7-e156-457f-9b5b-d3087be83aff"
   },
   "outputs": [
    {
     "name": "stdout",
     "output_type": "stream",
     "text": [
      "When using the duplicated method there are 8809 duplicate tweets identified.\n",
      "\n",
      "We'll retain half of these because we'll keep the first instance of the duplicate tweet this will result in 4404 tweets being dropped\n"
     ]
    },
    {
     "data": {
      "text/html": [
       "<div>\n",
       "<style scoped>\n",
       "    .dataframe tbody tr th:only-of-type {\n",
       "        vertical-align: middle;\n",
       "    }\n",
       "\n",
       "    .dataframe tbody tr th {\n",
       "        vertical-align: top;\n",
       "    }\n",
       "\n",
       "    .dataframe thead th {\n",
       "        text-align: right;\n",
       "    }\n",
       "</style>\n",
       "<table border=\"1\" class=\"dataframe\">\n",
       "  <thead>\n",
       "    <tr style=\"text-align: right;\">\n",
       "      <th></th>\n",
       "      <th>text</th>\n",
       "      <th>label</th>\n",
       "    </tr>\n",
       "  </thead>\n",
       "  <tbody>\n",
       "    <tr>\n",
       "      <th>1</th>\n",
       "      <td>RT @Papapishu: Man it would fucking rule if we had a party that was against perpetual warfare.</td>\n",
       "      <td>abusive</td>\n",
       "    </tr>\n",
       "    <tr>\n",
       "      <th>2</th>\n",
       "      <td>RT @Papapishu: Man it would fucking rule if we had a party that was against perpetual warfare.</td>\n",
       "      <td>abusive</td>\n",
       "    </tr>\n",
       "    <tr>\n",
       "      <th>3</th>\n",
       "      <td>RT @Papapishu: Man it would fucking rule if we had a party that was against perpetual warfare.</td>\n",
       "      <td>abusive</td>\n",
       "    </tr>\n",
       "    <tr>\n",
       "      <th>7</th>\n",
       "      <td>RT @Vitiligoprince: Hate Being sexually Frustrated Like I wanna Fuck But ion wanna Just fuck anybody</td>\n",
       "      <td>abusive</td>\n",
       "    </tr>\n",
       "    <tr>\n",
       "      <th>8</th>\n",
       "      <td>RT @Vitiligoprince: Hate Being sexually Frustrated Like I wanna Fuck But ion wanna Just fuck anybody</td>\n",
       "      <td>abusive</td>\n",
       "    </tr>\n",
       "    <tr>\n",
       "      <th>12</th>\n",
       "      <td>RT @LestuhGang_: If your fucking up &amp;amp; your homies dont tell you that your fucking up, those ain't your homies</td>\n",
       "      <td>abusive</td>\n",
       "    </tr>\n",
       "    <tr>\n",
       "      <th>13</th>\n",
       "      <td>RT @LestuhGang_: If your fucking up &amp;amp; your homies dont tell you that your fucking up, those ain't your homies</td>\n",
       "      <td>abusive</td>\n",
       "    </tr>\n",
       "    <tr>\n",
       "      <th>16</th>\n",
       "      <td>RT @ennoia3: That's one way he pulls you in RT@amysreedusxx norman fucking reedus just threw candy at me when will your fav ever https://t.…</td>\n",
       "      <td>abusive</td>\n",
       "    </tr>\n",
       "    <tr>\n",
       "      <th>17</th>\n",
       "      <td>RT @ennoia3: That's one way he pulls you in RT@amysreedusxx norman fucking reedus just threw candy at me when will your fav ever https://t.…</td>\n",
       "      <td>abusive</td>\n",
       "    </tr>\n",
       "    <tr>\n",
       "      <th>20</th>\n",
       "      <td>RT @EiramAydni: Im a nasty ass freak when I like you..</td>\n",
       "      <td>abusive</td>\n",
       "    </tr>\n",
       "    <tr>\n",
       "      <th>21</th>\n",
       "      <td>RT @EiramAydni: Im a nasty ass freak when I like you..</td>\n",
       "      <td>abusive</td>\n",
       "    </tr>\n",
       "    <tr>\n",
       "      <th>22</th>\n",
       "      <td>RT @EiramAydni: Im a nasty ass freak when I like you..</td>\n",
       "      <td>abusive</td>\n",
       "    </tr>\n",
       "    <tr>\n",
       "      <th>23</th>\n",
       "      <td>RT @EiramAydni: Im a nasty ass freak when I like you..</td>\n",
       "      <td>abusive</td>\n",
       "    </tr>\n",
       "    <tr>\n",
       "      <th>24</th>\n",
       "      <td>RT @EiramAydni: Im a nasty ass freak when I like you..</td>\n",
       "      <td>abusive</td>\n",
       "    </tr>\n",
       "    <tr>\n",
       "      <th>25</th>\n",
       "      <td>RT @EiramAydni: Im a nasty ass freak when I like you..</td>\n",
       "      <td>abusive</td>\n",
       "    </tr>\n",
       "    <tr>\n",
       "      <th>26</th>\n",
       "      <td>RT @EiramAydni: Im a nasty ass freak when I like you..</td>\n",
       "      <td>abusive</td>\n",
       "    </tr>\n",
       "    <tr>\n",
       "      <th>27</th>\n",
       "      <td>RT @EiramAydni: Im a nasty ass freak when I like you..</td>\n",
       "      <td>abusive</td>\n",
       "    </tr>\n",
       "    <tr>\n",
       "      <th>28</th>\n",
       "      <td>RT @EiramAydni: Im a nasty ass freak when I like you..</td>\n",
       "      <td>abusive</td>\n",
       "    </tr>\n",
       "    <tr>\n",
       "      <th>29</th>\n",
       "      <td>RT @EiramAydni: Im a nasty ass freak when I like you..</td>\n",
       "      <td>abusive</td>\n",
       "    </tr>\n",
       "    <tr>\n",
       "      <th>30</th>\n",
       "      <td>RT @EiramAydni: Im a nasty ass freak when I like you..</td>\n",
       "      <td>abusive</td>\n",
       "    </tr>\n",
       "    <tr>\n",
       "      <th>31</th>\n",
       "      <td>RT @EiramAydni: Im a nasty ass freak when I like you..</td>\n",
       "      <td>abusive</td>\n",
       "    </tr>\n",
       "    <tr>\n",
       "      <th>32</th>\n",
       "      <td>RT @EiramAydni: Im a nasty ass freak when I like you..</td>\n",
       "      <td>abusive</td>\n",
       "    </tr>\n",
       "    <tr>\n",
       "      <th>33</th>\n",
       "      <td>RT @EiramAydni: Im a nasty ass freak when I like you..</td>\n",
       "      <td>abusive</td>\n",
       "    </tr>\n",
       "    <tr>\n",
       "      <th>34</th>\n",
       "      <td>RT @EiramAydni: Im a nasty ass freak when I like you..</td>\n",
       "      <td>abusive</td>\n",
       "    </tr>\n",
       "    <tr>\n",
       "      <th>35</th>\n",
       "      <td>RT @EiramAydni: Im a nasty ass freak when I like you..</td>\n",
       "      <td>abusive</td>\n",
       "    </tr>\n",
       "    <tr>\n",
       "      <th>36</th>\n",
       "      <td>RT @EiramAydni: Im a nasty ass freak when I like you..</td>\n",
       "      <td>abusive</td>\n",
       "    </tr>\n",
       "    <tr>\n",
       "      <th>37</th>\n",
       "      <td>RT @EiramAydni: Im a nasty ass freak when I like you..</td>\n",
       "      <td>abusive</td>\n",
       "    </tr>\n",
       "    <tr>\n",
       "      <th>38</th>\n",
       "      <td>RT @EiramAydni: Im a nasty ass freak when I like you..</td>\n",
       "      <td>abusive</td>\n",
       "    </tr>\n",
       "    <tr>\n",
       "      <th>39</th>\n",
       "      <td>RT @EiramAydni: Im a nasty ass freak when I like you..</td>\n",
       "      <td>abusive</td>\n",
       "    </tr>\n",
       "    <tr>\n",
       "      <th>40</th>\n",
       "      <td>RT @EiramAydni: Im a nasty ass freak when I like you..</td>\n",
       "      <td>abusive</td>\n",
       "    </tr>\n",
       "  </tbody>\n",
       "</table>\n",
       "</div>"
      ],
      "text/plain": [
       "                                                                                                                                            text  \\\n",
       "1   RT @Papapishu: Man it would fucking rule if we had a party that was against perpetual warfare.                                                 \n",
       "2   RT @Papapishu: Man it would fucking rule if we had a party that was against perpetual warfare.                                                 \n",
       "3   RT @Papapishu: Man it would fucking rule if we had a party that was against perpetual warfare.                                                 \n",
       "7   RT @Vitiligoprince: Hate Being sexually Frustrated Like I wanna Fuck But ion wanna Just fuck anybody                                           \n",
       "8   RT @Vitiligoprince: Hate Being sexually Frustrated Like I wanna Fuck But ion wanna Just fuck anybody                                           \n",
       "12  RT @LestuhGang_: If your fucking up &amp; your homies dont tell you that your fucking up, those ain't your homies                              \n",
       "13  RT @LestuhGang_: If your fucking up &amp; your homies dont tell you that your fucking up, those ain't your homies                              \n",
       "16  RT @ennoia3: That's one way he pulls you in RT@amysreedusxx norman fucking reedus just threw candy at me when will your fav ever https://t.…   \n",
       "17  RT @ennoia3: That's one way he pulls you in RT@amysreedusxx norman fucking reedus just threw candy at me when will your fav ever https://t.…   \n",
       "20  RT @EiramAydni: Im a nasty ass freak when I like you..                                                                                         \n",
       "21  RT @EiramAydni: Im a nasty ass freak when I like you..                                                                                         \n",
       "22  RT @EiramAydni: Im a nasty ass freak when I like you..                                                                                         \n",
       "23  RT @EiramAydni: Im a nasty ass freak when I like you..                                                                                         \n",
       "24  RT @EiramAydni: Im a nasty ass freak when I like you..                                                                                         \n",
       "25  RT @EiramAydni: Im a nasty ass freak when I like you..                                                                                         \n",
       "26  RT @EiramAydni: Im a nasty ass freak when I like you..                                                                                         \n",
       "27  RT @EiramAydni: Im a nasty ass freak when I like you..                                                                                         \n",
       "28  RT @EiramAydni: Im a nasty ass freak when I like you..                                                                                         \n",
       "29  RT @EiramAydni: Im a nasty ass freak when I like you..                                                                                         \n",
       "30  RT @EiramAydni: Im a nasty ass freak when I like you..                                                                                         \n",
       "31  RT @EiramAydni: Im a nasty ass freak when I like you..                                                                                         \n",
       "32  RT @EiramAydni: Im a nasty ass freak when I like you..                                                                                         \n",
       "33  RT @EiramAydni: Im a nasty ass freak when I like you..                                                                                         \n",
       "34  RT @EiramAydni: Im a nasty ass freak when I like you..                                                                                         \n",
       "35  RT @EiramAydni: Im a nasty ass freak when I like you..                                                                                         \n",
       "36  RT @EiramAydni: Im a nasty ass freak when I like you..                                                                                         \n",
       "37  RT @EiramAydni: Im a nasty ass freak when I like you..                                                                                         \n",
       "38  RT @EiramAydni: Im a nasty ass freak when I like you..                                                                                         \n",
       "39  RT @EiramAydni: Im a nasty ass freak when I like you..                                                                                         \n",
       "40  RT @EiramAydni: Im a nasty ass freak when I like you..                                                                                         \n",
       "\n",
       "      label  \n",
       "1   abusive  \n",
       "2   abusive  \n",
       "3   abusive  \n",
       "7   abusive  \n",
       "8   abusive  \n",
       "12  abusive  \n",
       "13  abusive  \n",
       "16  abusive  \n",
       "17  abusive  \n",
       "20  abusive  \n",
       "21  abusive  \n",
       "22  abusive  \n",
       "23  abusive  \n",
       "24  abusive  \n",
       "25  abusive  \n",
       "26  abusive  \n",
       "27  abusive  \n",
       "28  abusive  \n",
       "29  abusive  \n",
       "30  abusive  \n",
       "31  abusive  \n",
       "32  abusive  \n",
       "33  abusive  \n",
       "34  abusive  \n",
       "35  abusive  \n",
       "36  abusive  \n",
       "37  abusive  \n",
       "38  abusive  \n",
       "39  abusive  \n",
       "40  abusive  "
      ]
     },
     "execution_count": 255,
     "metadata": {},
     "output_type": "execute_result"
    }
   ],
   "source": [
    "icvsm1 = os.path.join(DATA_DIR, 'ICVSM_2018_dataset/hatespeech_text_label_vote.csv')\n",
    "icvsm1 = pd.read_csv(icvsm1, sep='\\t', names = \\\n",
    "                    [\"text\", \"label\" ], index_col = False);\n",
    "\n",
    "icvsm1.drop(icvsm1.loc[icvsm1['label']=='hateful'].index, inplace=True)\n",
    "\n",
    "dt = pd.merge(icvsm1, ids,  how='outer', on = ['text', 'label'])\n",
    "\n",
    "duplicateRows = dt[dt.duplicated(subset = ['text'], keep = False)]\n",
    "\n",
    "print(\"When using the duplicated method there are\", \\\n",
    "      len(duplicateRows), \"duplicate tweets identified.\")\n",
    "\n",
    "print(\"\\nWe'll retain half of these because we'll keep the first instance of the duplicate tweet\",\\\n",
    "     \"this will result in\", int(len(duplicateRows)/2), \"tweets being dropped\")\n",
    "duplicateRows.drop(['id'], axis = 1, inplace = True)\n",
    "duplicateRows.head(30)"
   ]
  },
  {
   "cell_type": "markdown",
   "metadata": {
    "colab_type": "text",
    "id": "iOz24OT4VYfJ"
   },
   "source": [
    "There are quite a lot of identical tweets through retweets `RT` that aren't picked up by dropping via tweet ids. These tweets come from different sources - thus different tweet IDs\n",
    "    \n",
    "We do NOT want duplicate text entries in our final set, as it will contaminate our validation set when we eventually do use cross-validation to evaluate the performance of our model.\n",
    "    \n",
    "Thus, we will drop duplicate tweets via dropping by text, it's also seemingly identified duplicates reliably which is a plus."
   ]
  },
  {
   "cell_type": "markdown",
   "metadata": {
    "colab_type": "text",
    "id": "3j42er9nVYfL"
   },
   "source": [
    "<b> I have a suspicion that most of the duplicate entries come from within the ICVSM database.</b>\n",
    "    \n",
    "I'll test this quickly below by calculating the amount of duplicates within the ICVSM database, and subtracting it from the overlap I <i> believed </i> was between the two datasets, when I was assuming there were no duplicates within the ICVSM dataset "
   ]
  },
  {
   "cell_type": "code",
   "execution_count": 261,
   "metadata": {
    "colab": {
     "base_uri": "https://localhost:8080/",
     "height": 35
    },
    "colab_type": "code",
    "executionInfo": {
     "elapsed": 518,
     "status": "ok",
     "timestamp": 1578421037931,
     "user": {
      "displayName": "Fionn McConville",
      "photoUrl": "https://lh3.googleusercontent.com/a-/AAuE7mDQ4Te6RRh1B7ENukR6-4xoNAaV2ajfGgNpCD6y=s64",
      "userId": "01326935138765014160"
     },
     "user_tz": 0
    },
    "id": "1yvnVuUgVYfL",
    "outputId": "5d705c68-b938-425b-ed60-56c15ff16185"
   },
   "outputs": [
    {
     "name": "stdout",
     "output_type": "stream",
     "text": [
      "The actual overlap between ICVSM 2018 and the Waseem & Hovy Database is 0\n"
     ]
    }
   ],
   "source": [
    "duplicateRows1 = icvsm1[icvsm1.duplicated(subset = ['text'], keep = False)]\n",
    "\n",
    "difference = len(duplicateRows) - len(duplicateRows1)\n",
    "\n",
    "print(\"The actual overlap between ICVSM 2018 and the Waseem & Hovy Database is\",\\\n",
    "     difference)"
   ]
  },
  {
   "cell_type": "markdown",
   "metadata": {
    "colab_type": "text",
    "id": "DW6q9N7VVYfM"
   },
   "source": [
    "<b> Okay so all the duplicates were within the ICVSM dataset </b>"
   ]
  },
  {
   "cell_type": "markdown",
   "metadata": {},
   "source": [
    "## Finally combining all of the data \n",
    "\n",
    "This combined dataset will certainly be used in further pre-training, however it remains to be seen whether it is used in the final hate speech classifier.\n",
    "\n",
    "This notebook has demonstrated that each hate speech dataset online has their own interpretations of what qualifies as hate speech, depending on who is annotating the dataset. \n",
    "\n",
    "Thus assessing the performance of an automatic classifier by training and testing on this combined dataset may not be fair, seeing as how it's difficult for a human to distinguish a consistent pattern, never mind a machine. \n",
    "\n",
    "A discernable pattern may be much more identifyable <i>within</i> datasets. Therefore I'll assess the performance of my classifier that way"
   ]
  },
  {
   "cell_type": "code",
   "execution_count": 14,
   "metadata": {
    "colab": {
     "base_uri": "https://localhost:8080/",
     "height": 414
    },
    "colab_type": "code",
    "executionInfo": {
     "elapsed": 564,
     "status": "ok",
     "timestamp": 1578421263832,
     "user": {
      "displayName": "Fionn McConville",
      "photoUrl": "https://lh3.googleusercontent.com/a-/AAuE7mDQ4Te6RRh1B7ENukR6-4xoNAaV2ajfGgNpCD6y=s64",
      "userId": "01326935138765014160"
     },
     "user_tz": 0
    },
    "id": "7QhBbsB4VYfN",
    "outputId": "65cdb7c2-f0cd-4edd-ada1-316908faa4d9"
   },
   "outputs": [
    {
     "name": "stdout",
     "output_type": "stream",
     "text": [
      "<class 'pandas.core.frame.DataFrame'>\n",
      "RangeIndex: 152995 entries, 0 to 152994\n",
      "Data columns (total 3 columns):\n",
      "Hate_Speech    152995 non-null int64\n",
      "Offensive      152995 non-null object\n",
      "Tweet          152995 non-null object\n",
      "dtypes: int64(1), object(2)\n",
      "memory usage: 3.5+ MB\n",
      "None\n"
     ]
    },
    {
     "data": {
      "text/html": [
       "<div>\n",
       "<style scoped>\n",
       "    .dataframe tbody tr th:only-of-type {\n",
       "        vertical-align: middle;\n",
       "    }\n",
       "\n",
       "    .dataframe tbody tr th {\n",
       "        vertical-align: top;\n",
       "    }\n",
       "\n",
       "    .dataframe thead th {\n",
       "        text-align: right;\n",
       "    }\n",
       "</style>\n",
       "<table border=\"1\" class=\"dataframe\">\n",
       "  <thead>\n",
       "    <tr style=\"text-align: right;\">\n",
       "      <th></th>\n",
       "      <th>Hate_Speech</th>\n",
       "      <th>Offensive</th>\n",
       "      <th>Tweet</th>\n",
       "    </tr>\n",
       "  </thead>\n",
       "  <tbody>\n",
       "    <tr>\n",
       "      <th>0</th>\n",
       "      <td>0</td>\n",
       "      <td>1</td>\n",
       "      <td>@USER She should ask a few native Americans what their take on this is.</td>\n",
       "    </tr>\n",
       "    <tr>\n",
       "      <th>1</th>\n",
       "      <td>0</td>\n",
       "      <td>0</td>\n",
       "      <td>Amazon is investigating Chinese employees who are selling internal data to third-party sellers looking for an edge in the competitive marketplace. URL #Amazon #MAGA #KAG #CHINA #TCOT</td>\n",
       "    </tr>\n",
       "    <tr>\n",
       "      <th>2</th>\n",
       "      <td>0</td>\n",
       "      <td>1</td>\n",
       "      <td>@USER Someone should'veTaken\" this piece of shit to a volcano. \\U0001f602\"</td>\n",
       "    </tr>\n",
       "    <tr>\n",
       "      <th>3</th>\n",
       "      <td>0</td>\n",
       "      <td>0</td>\n",
       "      <td>@USER @USER Obama wanted liberals &amp;amp; illegals to move into red states</td>\n",
       "    </tr>\n",
       "    <tr>\n",
       "      <th>4</th>\n",
       "      <td>0</td>\n",
       "      <td>1</td>\n",
       "      <td>@USER Liberals are all Kookoo !!!</td>\n",
       "    </tr>\n",
       "  </tbody>\n",
       "</table>\n",
       "</div>"
      ],
      "text/plain": [
       "   Hate_Speech Offensive  \\\n",
       "0  0            1          \n",
       "1  0            0          \n",
       "2  0            1          \n",
       "3  0            0          \n",
       "4  0            1          \n",
       "\n",
       "                                                                                                                                                                                    Tweet  \n",
       "0  @USER She should ask a few native Americans what their take on this is.                                                                                                                 \n",
       "1  Amazon is investigating Chinese employees who are selling internal data to third-party sellers looking for an edge in the competitive marketplace. URL #Amazon #MAGA #KAG #CHINA #TCOT  \n",
       "2  @USER Someone should'veTaken\" this piece of shit to a volcano. \\U0001f602\"                                                                                                              \n",
       "3  @USER @USER Obama wanted liberals &amp; illegals to move into red states                                                                                                                \n",
       "4  @USER Liberals are all Kookoo !!!                                                                                                                                                       "
      ]
     },
     "execution_count": 14,
     "metadata": {},
     "output_type": "execute_result"
    }
   ],
   "source": [
    "alldf = pd.read_csv(os.path.join(DATA_DIR, 'cleaned/hateval.csv'), \\\n",
    "                    sep = ',', encoding='ISO-8859-1')\n",
    "\n",
    "offens = pd.read_csv(os.path.join(DATA_DIR, 'cleaned/offens.csv'), \\\n",
    "                    sep = ',', encoding='ISO-8859-1')\n",
    "\n",
    "sometweets = pd.read_csv(os.path.join(DATA_DIR, 'cleaned/sometweets.csv'), \\\n",
    "                    sep = ',', encoding='ISO-8859-1')\n",
    "\n",
    "icvsm = pd.read_csv(os.path.join(DATA_DIR, 'cleaned/icvsm.csv'), \\\n",
    "                    sep = ',', encoding='ISO-8859-1')\n",
    "\n",
    "fullset = pd.read_csv(os.path.join( DATA_DIR, 'cleaned/Waseem_Hovy.csv'), \\\n",
    "                    sep = ',', encoding='ISO-8859-1')\n",
    "\n",
    "\n",
    "final_df = pd.concat([offens, sometweets, alldf, icvsm, fullset], sort = True, axis = 0)\n",
    "final_df.reset_index(drop = True, inplace = True)\n",
    "print(final_df.info())\n",
    "final_df.head(5)"
   ]
  },
  {
   "cell_type": "code",
   "execution_count": 15,
   "metadata": {
    "colab": {
     "base_uri": "https://localhost:8080/",
     "height": 54
    },
    "colab_type": "code",
    "executionInfo": {
     "elapsed": 470,
     "status": "ok",
     "timestamp": 1578421343186,
     "user": {
      "displayName": "Fionn McConville",
      "photoUrl": "https://lh3.googleusercontent.com/a-/AAuE7mDQ4Te6RRh1B7ENukR6-4xoNAaV2ajfGgNpCD6y=s64",
      "userId": "01326935138765014160"
     },
     "user_tz": 0
    },
    "id": "N1EH4_2nVYfO",
    "outputId": "c13aafff-73a1-4326-9116-282a2980100c"
   },
   "outputs": [
    {
     "name": "stdout",
     "output_type": "stream",
     "text": [
      "The amount of tweets lost in the final dataframe by using the drop duplicates by text entry is 8070 which is 5.3% of the original dataset\n"
     ]
    }
   ],
   "source": [
    "final_df1 = final_df.drop_duplicates(subset= ['Tweet'], keep = 'first')\n",
    "final_df1.reset_index(drop = True, inplace = True)\n",
    "diff = len(final_df.index) - len(final_df1.index)\n",
    "\n",
    "print(\"The amount of tweets lost in the final dataframe by using the drop duplicates by text entry is\", \\\n",
    "      diff, \"which is {0:.2}%\".format(diff/len(final_df.index) * 100),  \"of the original dataset\")"
   ]
  },
  {
   "cell_type": "markdown",
   "metadata": {},
   "source": [
    "Most of these duplicate tweets are likely from the ICVSM 2018 dataset"
   ]
  },
  {
   "cell_type": "code",
   "execution_count": 16,
   "metadata": {
    "colab": {
     "base_uri": "https://localhost:8080/",
     "height": 199
    },
    "colab_type": "code",
    "executionInfo": {
     "elapsed": 583,
     "status": "ok",
     "timestamp": 1578421350663,
     "user": {
      "displayName": "Fionn McConville",
      "photoUrl": "https://lh3.googleusercontent.com/a-/AAuE7mDQ4Te6RRh1B7ENukR6-4xoNAaV2ajfGgNpCD6y=s64",
      "userId": "01326935138765014160"
     },
     "user_tz": 0
    },
    "id": "iVqPxBfZVYfP",
    "outputId": "46ffdc04-c709-4179-ae0d-51f1fff69a43"
   },
   "outputs": [
    {
     "name": "stdout",
     "output_type": "stream",
     "text": [
      "There are 144925 tweets in the final dataset\n",
      "\n",
      "<class 'pandas.core.frame.DataFrame'>\n",
      "RangeIndex: 144925 entries, 0 to 144924\n",
      "Data columns (total 3 columns):\n",
      "Hate_Speech    144925 non-null int64\n",
      "Offensive      144925 non-null object\n",
      "Tweet          144925 non-null object\n",
      "dtypes: int64(1), object(2)\n",
      "memory usage: 3.3+ MB\n"
     ]
    }
   ],
   "source": [
    "print( \"There are\", len(final_df1.index), \"tweets in the final dataset\\n\")\n",
    "final_df1.info()"
   ]
  },
  {
   "cell_type": "code",
   "execution_count": 312,
   "metadata": {
    "colab": {
     "base_uri": "https://localhost:8080/",
     "height": 199
    },
    "colab_type": "code",
    "executionInfo": {
     "elapsed": 3926,
     "status": "ok",
     "timestamp": 1578421919876,
     "user": {
      "displayName": "Fionn McConville",
      "photoUrl": "https://lh3.googleusercontent.com/a-/AAuE7mDQ4Te6RRh1B7ENukR6-4xoNAaV2ajfGgNpCD6y=s64",
      "userId": "01326935138765014160"
     },
     "user_tz": 0
    },
    "id": "jXxKVNGAVYfR",
    "outputId": "5d24e2bb-8757-43f8-fc84-0335e9c0b0a1"
   },
   "outputs": [
    {
     "name": "stderr",
     "output_type": "stream",
     "text": [
      "C:\\Users\\fionn\\Anaconda3\\lib\\site-packages\\ipykernel_launcher.py:1: SettingWithCopyWarning: \n",
      "A value is trying to be set on a copy of a slice from a DataFrame.\n",
      "Try using .loc[row_indexer,col_indexer] = value instead\n",
      "\n",
      "See the caveats in the documentation: http://pandas.pydata.org/pandas-docs/stable/user_guide/indexing.html#returning-a-view-versus-a-copy\n",
      "  \"\"\"Entry point for launching an IPython kernel.\n"
     ]
    },
    {
     "name": "stdout",
     "output_type": "stream",
     "text": [
      "Hate Speech Column Labelling:\n",
      " 0    141529\n",
      "1    4518  \n",
      "Name: Hate_Speech, dtype: int64\n",
      "\n",
      "Offensive Column Labelling:\n",
      " 0    84228\n",
      "1    46450\n",
      "-    15369\n",
      "Name: Offensive, dtype: int64\n"
     ]
    }
   ],
   "source": [
    "final_df1['Tweet'] = final_df1['Tweet'].map(lambda x: x.encode('unicode-escape').decode('utf-8'))\n",
    "final_df1.Offensive = final_df1.Offensive.astype(str)\n",
    "final_df1.to_csv(os.path.join(DATA_DIR, 'final.csv'), sep = ',', encoding='utf-8', \\\n",
    "                 index = False, header = True)\n",
    "\n",
    "print(\"Hate Speech Column Labelling:\\n\", final_df1.Hate_Speech.value_counts())\n",
    "\n",
    "print(\"\\nOffensive Column Labelling:\\n\", final_df1.Offensive.value_counts())"
   ]
  },
  {
   "cell_type": "markdown",
   "metadata": {},
   "source": [
    "## AnalyticsVidhya Dataset - Online Hate Speech Competition\n",
    "\n",
    "Below I'll inspect the dataset for the AnalyticsVidhya hate speech competition and see whether it should be added to my combined set and if it's hate speech data qualifies.\n",
    "\n",
    "[Competition Link](https://datahack.analyticsvidhya.com/contest/practice-problem-twitter-sentiment-analysis/# \"\") \n",
    "\n",
    "Leaderboard name: `fionn49`"
   ]
  },
  {
   "cell_type": "code",
   "execution_count": 314,
   "metadata": {},
   "outputs": [
    {
     "name": "stdout",
     "output_type": "stream",
     "text": [
      "There are 29720 non hate speech tweets and 2242 hate speech tweets\n",
      "\n"
     ]
    },
    {
     "data": {
      "text/html": [
       "<div>\n",
       "<style scoped>\n",
       "    .dataframe tbody tr th:only-of-type {\n",
       "        vertical-align: middle;\n",
       "    }\n",
       "\n",
       "    .dataframe tbody tr th {\n",
       "        vertical-align: top;\n",
       "    }\n",
       "\n",
       "    .dataframe thead th {\n",
       "        text-align: right;\n",
       "    }\n",
       "</style>\n",
       "<table border=\"1\" class=\"dataframe\">\n",
       "  <thead>\n",
       "    <tr style=\"text-align: right;\">\n",
       "      <th></th>\n",
       "      <th>id</th>\n",
       "      <th>label</th>\n",
       "      <th>tweet</th>\n",
       "    </tr>\n",
       "  </thead>\n",
       "  <tbody>\n",
       "    <tr>\n",
       "      <th>0</th>\n",
       "      <td>1</td>\n",
       "      <td>0</td>\n",
       "      <td>@user when a father is dysfunctional and is so selfish he drags his kids into his dysfunction.   #run</td>\n",
       "    </tr>\n",
       "    <tr>\n",
       "      <th>1</th>\n",
       "      <td>2</td>\n",
       "      <td>0</td>\n",
       "      <td>@user @user thanks for #lyft credit i can't use cause they don't offer wheelchair vans in pdx.    #disapointed #getthanked</td>\n",
       "    </tr>\n",
       "    <tr>\n",
       "      <th>2</th>\n",
       "      <td>3</td>\n",
       "      <td>0</td>\n",
       "      <td>bihday your majesty</td>\n",
       "    </tr>\n",
       "    <tr>\n",
       "      <th>3</th>\n",
       "      <td>4</td>\n",
       "      <td>0</td>\n",
       "      <td>#model   i love u take with u all the time in urÃ°ÂÂÂ±!!! Ã°ÂÂÂÃ°ÂÂÂÃ°ÂÂÂÃ°ÂÂÂ",
       "Ã°ÂÂÂ¦Ã°ÂÂÂ¦Ã°ÂÂÂ¦</td>\n",
       "    </tr>\n",
       "    <tr>\n",
       "      <th>4</th>\n",
       "      <td>5</td>\n",
       "      <td>0</td>\n",
       "      <td>factsguide: society now    #motivation</td>\n",
       "    </tr>\n",
       "  </tbody>\n",
       "</table>\n",
       "</div>"
      ],
      "text/plain": [
       "   id  label  \\\n",
       "0  1   0       \n",
       "1  2   0       \n",
       "2  3   0       \n",
       "3  4   0       \n",
       "4  5   0       \n",
       "\n",
       "                                                                                                                        tweet  \n",
       "0   @user when a father is dysfunctional and is so selfish he drags his kids into his dysfunction.   #run                      \n",
       "1  @user @user thanks for #lyft credit i can't use cause they don't offer wheelchair vans in pdx.    #disapointed #getthanked  \n",
       "2    bihday your majesty                                                                                                       \n",
       "3  #model   i love u take with u all the time in urÃ°ÂÂÂ±!!! Ã°ÂÂÂÃ°ÂÂÂÃ°ÂÂÂÃ°ÂÂÂ\n",
       "Ã°ÂÂÂ¦Ã°ÂÂÂ¦Ã°ÂÂÂ¦        \n",
       "4   factsguide: society now    #motivation                                                                                     "
      ]
     },
     "execution_count": 314,
     "metadata": {},
     "output_type": "execute_result"
    }
   ],
   "source": [
    "df = pd.read_csv('gs://csc3002/trial/train_E6oV3lV.csv', sep = ',', encoding='ISO-8859-1')\n",
    "count = df.label.value_counts()\n",
    "print(\"There are {:d} non hate speech tweets and {:d} hate speech tweets\\n\".format(count[0], count[1]) )\n",
    "df.head()"
   ]
  },
  {
   "cell_type": "code",
   "execution_count": 315,
   "metadata": {},
   "outputs": [
    {
     "data": {
      "text/html": [
       "<div>\n",
       "<style scoped>\n",
       "    .dataframe tbody tr th:only-of-type {\n",
       "        vertical-align: middle;\n",
       "    }\n",
       "\n",
       "    .dataframe tbody tr th {\n",
       "        vertical-align: top;\n",
       "    }\n",
       "\n",
       "    .dataframe thead th {\n",
       "        text-align: right;\n",
       "    }\n",
       "</style>\n",
       "<table border=\"1\" class=\"dataframe\">\n",
       "  <thead>\n",
       "    <tr style=\"text-align: right;\">\n",
       "      <th></th>\n",
       "      <th>label</th>\n",
       "      <th>tweet</th>\n",
       "    </tr>\n",
       "  </thead>\n",
       "  <tbody>\n",
       "    <tr>\n",
       "      <th>0</th>\n",
       "      <td>1</td>\n",
       "      <td>@user #cnn calls #michigan middle school 'build the wall' chant '' #tcot</td>\n",
       "    </tr>\n",
       "    <tr>\n",
       "      <th>1</th>\n",
       "      <td>1</td>\n",
       "      <td>no comment!  in #australia   #opkillingbay #seashepherd #helpcovedolphins #thecove  #helpcovedolphins</td>\n",
       "    </tr>\n",
       "    <tr>\n",
       "      <th>2</th>\n",
       "      <td>1</td>\n",
       "      <td>retweet if you agree!</td>\n",
       "    </tr>\n",
       "    <tr>\n",
       "      <th>3</th>\n",
       "      <td>1</td>\n",
       "      <td>@user @user lumpy says i am a . prove it lumpy.</td>\n",
       "    </tr>\n",
       "    <tr>\n",
       "      <th>4</th>\n",
       "      <td>1</td>\n",
       "      <td>it's unbelievable that in the 21st century we'd need something like this. again. #neverump  #xenophobia</td>\n",
       "    </tr>\n",
       "    <tr>\n",
       "      <th>5</th>\n",
       "      <td>1</td>\n",
       "      <td>@user lets fight against  #love #peace</td>\n",
       "    </tr>\n",
       "    <tr>\n",
       "      <th>6</th>\n",
       "      <td>1</td>\n",
       "      <td>Ã°ÂÂÂ©the white establishment can't have blk folx running around loving themselves and promoting our greatness</td>\n",
       "    </tr>\n",
       "    <tr>\n",
       "      <th>7</th>\n",
       "      <td>1</td>\n",
       "      <td>@user hey, white people: you can call people 'white' by @user  #race  #identity #medÃ¢ÂÂ¦</td>\n",
       "    </tr>\n",
       "    <tr>\n",
       "      <th>8</th>\n",
       "      <td>1</td>\n",
       "      <td>how the #altright uses  &amp;amp; insecurity to lure men into #whitesupremacy</td>\n",
       "    </tr>\n",
       "    <tr>\n",
       "      <th>9</th>\n",
       "      <td>1</td>\n",
       "      <td>@user i'm not interested in a #linguistics that doesn't address #race &amp;amp; . racism is about #power. #raciolinguistics bringsÃ¢ÂÂ¦</td>\n",
       "    </tr>\n",
       "    <tr>\n",
       "      <th>10</th>\n",
       "      <td>1</td>\n",
       "      <td>@user why not @user mocked obama for being black.  @user @user @user @user #brexit</td>\n",
       "    </tr>\n",
       "    <tr>\n",
       "      <th>11</th>\n",
       "      <td>1</td>\n",
       "      <td>#people aren't protesting #trump because a #republican won-they do so because trump has fuhered  &amp;amp;Ã¢ÂÂ¦</td>\n",
       "    </tr>\n",
       "    <tr>\n",
       "      <th>12</th>\n",
       "      <td>1</td>\n",
       "      <td>yes it's  when you call #michelleobama a gorilla because racists have long thought of black people as no betÃ¢ÂÂ¦</td>\n",
       "    </tr>\n",
       "    <tr>\n",
       "      <th>13</th>\n",
       "      <td>1</td>\n",
       "      <td>as the smaller hands show, barry probably lied about  being why his #knicks game sucked more than his #golfÃ¢ÂÂ¦</td>\n",
       "    </tr>\n",
       "    <tr>\n",
       "      <th>14</th>\n",
       "      <td>1</td>\n",
       "      <td>@user @user you point one finger @user millions are pointed right back at you,  #jewishsupremacist</td>\n",
       "    </tr>\n",
       "    <tr>\n",
       "      <th>15</th>\n",
       "      <td>1</td>\n",
       "      <td>you might be a libtard if... #libtard  #sjw #liberal #politics</td>\n",
       "    </tr>\n",
       "    <tr>\n",
       "      <th>16</th>\n",
       "      <td>1</td>\n",
       "      <td>@user take out the #trash america...  - i voted against #hate - i voted against  - i voted against  - i votÃ¢ÂÂ¦</td>\n",
       "    </tr>\n",
       "    <tr>\n",
       "      <th>17</th>\n",
       "      <td>1</td>\n",
       "      <td>if you hold open a door for a woman because she's a woman and not because it's a nice thing to do, that's . don't even try to deny it</td>\n",
       "    </tr>\n",
       "    <tr>\n",
       "      <th>18</th>\n",
       "      <td>1</td>\n",
       "      <td>@user this man ran for governor of ny, the state with the biggest african-american population    #Ã¢ÂÂ¦</td>\n",
       "    </tr>\n",
       "    <tr>\n",
       "      <th>19</th>\n",
       "      <td>1</td>\n",
       "      <td>#stereotyping #prejudice  offer no #hope or solutions but create the same old repetitive #hate #conflictÃ¢ÂÂ¦</td>\n",
       "    </tr>\n",
       "    <tr>\n",
       "      <th>20</th>\n",
       "      <td>1</td>\n",
       "      <td>how many#pols passed by how many times and said nothing?   #bluelivesmatter #draintheswamp  #ferguson</td>\n",
       "    </tr>\n",
       "    <tr>\n",
       "      <th>21</th>\n",
       "      <td>1</td>\n",
       "      <td>7 horribly  ads from #2016 that made us cringe</td>\n",
       "    </tr>\n",
       "    <tr>\n",
       "      <th>22</th>\n",
       "      <td>1</td>\n",
       "      <td>@user \"the dying of the light\"  village green/townÃÂ²  #antisemitism #hocoschools #columbiamd #hocomd</td>\n",
       "    </tr>\n",
       "    <tr>\n",
       "      <th>23</th>\n",
       "      <td>1</td>\n",
       "      <td>@user you never answered me about your statement on the #nazi's over #hatred,  &amp;amp; #bigotry being found wÃ¢ÂÂ¦</td>\n",
       "    </tr>\n",
       "    <tr>\n",
       "      <th>24</th>\n",
       "      <td>1</td>\n",
       "      <td>you might be a libtard if... #libtard  #sjw #liberal #politics</td>\n",
       "    </tr>\n",
       "  </tbody>\n",
       "</table>\n",
       "</div>"
      ],
      "text/plain": [
       "    label  \\\n",
       "0   1       \n",
       "1   1       \n",
       "2   1       \n",
       "3   1       \n",
       "4   1       \n",
       "5   1       \n",
       "6   1       \n",
       "7   1       \n",
       "8   1       \n",
       "9   1       \n",
       "10  1       \n",
       "11  1       \n",
       "12  1       \n",
       "13  1       \n",
       "14  1       \n",
       "15  1       \n",
       "16  1       \n",
       "17  1       \n",
       "18  1       \n",
       "19  1       \n",
       "20  1       \n",
       "21  1       \n",
       "22  1       \n",
       "23  1       \n",
       "24  1       \n",
       "\n",
       "                                                                                                                                    tweet  \n",
       "0   @user #cnn calls #michigan middle school 'build the wall' chant '' #tcot                                                               \n",
       "1   no comment!  in #australia   #opkillingbay #seashepherd #helpcovedolphins #thecove  #helpcovedolphins                                  \n",
       "2   retweet if you agree!                                                                                                                  \n",
       "3   @user @user lumpy says i am a . prove it lumpy.                                                                                        \n",
       "4   it's unbelievable that in the 21st century we'd need something like this. again. #neverump  #xenophobia                                \n",
       "5   @user lets fight against  #love #peace                                                                                                 \n",
       "6   Ã°ÂÂÂ©the white establishment can't have blk folx running around loving themselves and promoting our greatness                       \n",
       "7   @user hey, white people: you can call people 'white' by @user  #race  #identity #medÃ¢ÂÂ¦                                             \n",
       "8   how the #altright uses  &amp; insecurity to lure men into #whitesupremacy                                                              \n",
       "9   @user i'm not interested in a #linguistics that doesn't address #race &amp; . racism is about #power. #raciolinguistics bringsÃ¢ÂÂ¦   \n",
       "10  @user why not @user mocked obama for being black.  @user @user @user @user #brexit                                                     \n",
       "11  #people aren't protesting #trump because a #republican won-they do so because trump has fuhered  &amp;Ã¢ÂÂ¦                           \n",
       "12  yes it's  when you call #michelleobama a gorilla because racists have long thought of black people as no betÃ¢ÂÂ¦                     \n",
       "13  as the smaller hands show, barry probably lied about  being why his #knicks game sucked more than his #golfÃ¢ÂÂ¦                      \n",
       "14  @user @user you point one finger @user millions are pointed right back at you,  #jewishsupremacist                                     \n",
       "15  you might be a libtard if... #libtard  #sjw #liberal #politics                                                                         \n",
       "16  @user take out the #trash america...  - i voted against #hate - i voted against  - i voted against  - i votÃ¢ÂÂ¦                      \n",
       "17  if you hold open a door for a woman because she's a woman and not because it's a nice thing to do, that's . don't even try to deny it  \n",
       "18  @user this man ran for governor of ny, the state with the biggest african-american population    #Ã¢ÂÂ¦                               \n",
       "19  #stereotyping #prejudice  offer no #hope or solutions but create the same old repetitive #hate #conflictÃ¢ÂÂ¦                         \n",
       "20  how many#pols passed by how many times and said nothing?   #bluelivesmatter #draintheswamp  #ferguson                                  \n",
       "21  7 horribly  ads from #2016 that made us cringe                                                                                         \n",
       "22  @user \"the dying of the light\"  village green/townÃÂ²  #antisemitism #hocoschools #columbiamd #hocomd                                 \n",
       "23  @user you never answered me about your statement on the #nazi's over #hatred,  &amp; #bigotry being found wÃ¢ÂÂ¦                      \n",
       "24  you might be a libtard if... #libtard  #sjw #liberal #politics                                                                         "
      ]
     },
     "execution_count": 315,
     "metadata": {},
     "output_type": "execute_result"
    }
   ],
   "source": [
    "hatedf = df[df[\"label\"] == 1]\n",
    "hatedf.drop(columns = ['id'], axis = 1, inplace = True)\n",
    "hatedf.reset_index(drop = True, inplace = True)\n",
    "hatedf.head(25)"
   ]
  },
  {
   "cell_type": "markdown",
   "metadata": {},
   "source": [
    "This seems to be the most inaccurately annotated dataset so far. Not only are these tweets not hate speech, but often these sentences are grammatically incoherent. \n",
    "\n",
    "Therefore these tweets will not be merged with the combined datasets as they certainly aren't hate speech, nor do we need more benign tweets for our classifier - if we do elect to train and test on the cobined set - as the combined set is imbalanced enough.\n",
    "\n",
    "I'll still train my classifier on these tweets however within the dataset as it's part of a competition and I'd like to compare my classifier performance to other people's."
   ]
  },
  {
   "cell_type": "markdown",
   "metadata": {},
   "source": [
    "# Summary\n",
    "\n",
    "* The only two datasets that were found to have reliably annotated hate speech were HatEval 2019 - `4210 hate tweets` and ICVSM 2017 - `308 hate tweets`\n",
    "\n",
    "\n",
    "* This notebook shows there is an inconsistency between datasets as to what constitutes hate speech, therefore using hate speech from different datasets to train a model may actually harm performance as there could be contradictory tweets which would confuse the model. Training and testing within datasets is therefore the solution\n",
    "\n",
    "\n",
    "* The final combined dataset has ~3.1% tweets annotated as hate speech and ~32% tweets annotated as offensive."
   ]
  },
  {
   "cell_type": "code",
   "execution_count": null,
   "metadata": {},
   "outputs": [],
   "source": []
  }
 ],
 "metadata": {
  "accelerator": "GPU",
  "colab": {
   "collapsed_sections": [
    "EBG60vQdVYd8",
    "6oLEoTvKVYeT",
    "7l7cPt46VYeW",
    "Z5nZV--fVYed",
    "Mw49lB2ZVYef",
    "xexknIQhsgbj",
    "SSD7yEDSVYep",
    "MOef3TgNVYey",
    "4b5zsVOTVYe2",
    "5K3m1UzSVYe7",
    "Qn-4ujf7VYfN",
    "uS0e3H-qVYfU",
    "fG8yOZYJVYfZ",
    "vnKkVumQVYfe"
   ],
   "name": "CSC3002-Hate_Speech_Detection - Assembling and Cleaning the Fine-Tuning Da.ipynb",
   "provenance": []
  },
  "kernelspec": {
   "display_name": "Python 3",
   "language": "python",
   "name": "python3"
  },
  "language_info": {
   "codemirror_mode": {
    "name": "ipython",
    "version": 3
   },
   "file_extension": ".py",
   "mimetype": "text/x-python",
   "name": "python",
   "nbconvert_exporter": "python",
   "pygments_lexer": "ipython3",
   "version": "3.6.5"
  }
 },
 "nbformat": 4,
 "nbformat_minor": 1
}
